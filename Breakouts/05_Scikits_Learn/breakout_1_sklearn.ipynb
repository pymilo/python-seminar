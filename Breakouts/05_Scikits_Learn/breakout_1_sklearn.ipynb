{
 "cells": [
  {
   "cell_type": "markdown",
   "metadata": {},
   "source": [
    "## Breakout 1: AY250 Spring 2018 - Python for Data Science - Machine Learning ##\n",
    "\n",
    "<img src=\"http://l1.yimg.com/bt/api/res/1.2/VRpMGylj..sbchEH8mKCmg--/YXBwaWQ9eW5ld3M7Zmk9ZmlsbDtoPTQyMTtweG9mZj01MDtweW9mZj0wO3E9ODU7dz03NDk-/http://media.zenfs.com/en_us/News/ap_webfeeds/6ebbfa2b3ecb56203e0f6a706700c38e.jpg\" width=80%>\n",
    "\n",
    "You're going to help Team USA win the <a href=\"http://www.thedailysail.com/inshore/13/65151/1/looking-ahead-to-the-35th-americas-cup\">next America's cup</a> by making a predictive model to determine the resistance of a boat given it's geometry and speed. This is usually only measureable with advanced simulations but we can get <a href=\"http://archive.ics.uci.edu/ml/datasets/Yacht+Hydrodynamics\">7-dimensional data to build a model</a> and then determine this value for arbitary new boat design:\n",
    "\n",
    "<ul>\n",
    "<li> *Prediction of residuary resistance of sailing yachts at the initial design stage is of a great value for evaluating the ship's performance and for estimating the required propulsive power. Essential inputs include the basic hull dimensions and the boat velocity.  The Delft data set comprises 308 full-scale experiments, which were performed at the Delft Ship Hydromechanics Laboratory for that purpose. These experiments include 22 different hull forms...*\n",
    "</ul>\n"
   ]
  },
  {
   "cell_type": "markdown",
   "metadata": {},
   "source": [
    "Variations concern hull geometry coefficients and the Froude number: \n",
    "\n",
    "1. Longitudinal position of the center of buoyancy. \n",
    "2. Prismatic coefficient. \n",
    "3. Length-displacement ratio. \n",
    "4. Beam-draught ratio. \n",
    "5. Length-beam ratio. \n",
    "6. Froude number. \n",
    "\n",
    "The measured variable is the residuary resistance per unit weight of displacement: \n",
    "\n",
    "7. Residuary resistance per unit weight of displacement, adimensional. "
   ]
  },
  {
   "cell_type": "code",
   "execution_count": 1,
   "metadata": {},
   "outputs": [],
   "source": [
    "import requests\n",
    "from io import StringIO\n",
    "dat_file = requests.get(\"http://archive.ics.uci.edu/ml/machine-learning-databases/00243/yacht_hydrodynamics.data\")\n",
    "data = StringIO(dat_file.text)"
   ]
  },
  {
   "cell_type": "code",
   "execution_count": 2,
   "metadata": {},
   "outputs": [],
   "source": [
    "%matplotlib inline\n",
    "import matplotlib.pyplot as plt\n",
    "import numpy as np\n",
    "\n",
    "d = np.loadtxt(data)\n",
    "np.random.shuffle(d)  # shuffle the instances since it appears to be ordered"
   ]
  },
  {
   "cell_type": "markdown",
   "metadata": {},
   "source": [
    "a. Chunk the data into the variable you are going to predict (and call that vector Y). Split into a training set with 90% of the complete data and 10% testing set. Be sure to scale the feature data."
   ]
  },
  {
   "cell_type": "code",
   "execution_count": null,
   "metadata": {},
   "outputs": [],
   "source": []
  },
  {
   "cell_type": "markdown",
   "metadata": {},
   "source": [
    "b. Learn/fit a kNN model with k=5"
   ]
  },
  {
   "cell_type": "code",
   "execution_count": null,
   "metadata": {
    "collapsed": true
   },
   "outputs": [],
   "source": []
  },
  {
   "cell_type": "markdown",
   "metadata": {},
   "source": [
    "c. Determine the mean_squared error of the result"
   ]
  },
  {
   "cell_type": "code",
   "execution_count": null,
   "metadata": {
    "collapsed": true
   },
   "outputs": [],
   "source": []
  },
  {
   "cell_type": "markdown",
   "metadata": {},
   "source": [
    "d. What MSE would we expect from (naively) guessing the mean of the training data?"
   ]
  },
  {
   "cell_type": "code",
   "execution_count": null,
   "metadata": {
    "collapsed": true
   },
   "outputs": [],
   "source": []
  },
  {
   "cell_type": "markdown",
   "metadata": {},
   "source": [
    "e. If time, try to be a RandomForestRegressor model. How did you do?"
   ]
  },
  {
   "cell_type": "code",
   "execution_count": null,
   "metadata": {
    "collapsed": true
   },
   "outputs": [],
   "source": []
  },
  {
   "cell_type": "markdown",
   "metadata": {},
   "source": [
    "(c) J. Bloom (UC Berkeley) 2013--2016"
   ]
  },
  {
   "cell_type": "code",
   "execution_count": null,
   "metadata": {},
   "outputs": [],
   "source": []
  }
 ],
 "metadata": {
  "kernelspec": {
   "display_name": "Python 3",
   "language": "python",
   "name": "python3"
  },
  "language_info": {
   "codemirror_mode": {
    "name": "ipython",
    "version": 3
   },
   "file_extension": ".py",
   "mimetype": "text/x-python",
   "name": "python",
   "nbconvert_exporter": "python",
   "pygments_lexer": "ipython3",
   "version": "3.6.3"
  }
 },
 "nbformat": 4,
 "nbformat_minor": 1
}
