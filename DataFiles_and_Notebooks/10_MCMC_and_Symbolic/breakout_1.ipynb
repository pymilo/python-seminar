{
 "cells": [
  {
   "cell_type": "markdown",
   "metadata": {},
   "source": [
    "## Bayesian Programming - Breakout\n",
    "\n",
    "**Python for Data Science (J. Bloom, UC Berkeley, 2018)**"
   ]
  },
  {
   "cell_type": "markdown",
   "metadata": {},
   "source": [
    "Let's look at what our belief about the probability of getting a hot padrón pepper is as we eat.\n",
    "\n",
    "<img width=\"50%\" src=\"https://upload.wikimedia.org/wikipedia/commons/f/fa/Pimientos_de_padron_amb_sal_maldon.jpg\">\n",
    "\n",
    "*Os pementos de Padrón, uns pican e outros non* (\"Padrón peppers, some are hot, some are not\") -- [Wikipedia](https://en.wikipedia.org/wiki/Padr%C3%B3n_peppers)"
   ]
  },
  {
   "cell_type": "markdown",
   "metadata": {},
   "source": [
    "0) Here's some generated pepper-eating data (just execute the cell). The number 1 means hot, 0 means normal."
   ]
  },
  {
   "cell_type": "code",
   "execution_count": null,
   "metadata": {},
   "outputs": [],
   "source": [
    "import numpy as np\n",
    "from scipy import stats\n",
    "import matplotlib.pyplot as plt\n",
    "%matplotlib inline\n",
    "import seaborn as sns\n",
    "sns.set_context(\"poster\")\n",
    "\n",
    "#p_hot_true = NOT TELLING YOU!\n",
    "#rnd = np.random.RandomState(100)\n",
    "#pepper_sample  = rnd.binomial(n=1, p=p_hot_true, size=(50,))\n",
    "\n",
    "pepper_sample = np.array([0, 0, 0, 1, 0, 0, 0, 1, 0, 0, 1, 0, 0, 0, 0, 1, 1, 0, 1, 0, 0, 1, 1,\n",
    "       0, 0, 0, 0, 0, 1, 0, 0, 0, 0, 0, 0, 1, 1, 0, 1, 0, 0, 0, 0, 0, 0, 0,\n",
    "       1, 0, 0, 1])"
   ]
  },
  {
   "cell_type": "markdown",
   "metadata": {},
   "source": [
    "1) Pick a reasonable (non-informative) prior for $\\theta =$\"typical hot fraction\""
   ]
  },
  {
   "cell_type": "code",
   "execution_count": null,
   "metadata": {},
   "outputs": [],
   "source": [
    "x_theta = np.linspace(0, 1, 101)\n",
    "\n",
    "alpha_0 = \n",
    "beta_0 = \n",
    "\n",
    "def prior(alpha=alpha_0, beta=beta_0):\n",
    "    p_theta = stats.beta(alpha, beta).pdf(x_theta)\n",
    "    return p_theta"
   ]
  },
  {
   "cell_type": "code",
   "execution_count": null,
   "metadata": {},
   "outputs": [],
   "source": [
    "ax, = plt.plot(x_theta, prior())\n",
    "plt.xlabel(r\"$\\theta$\")\n",
    "plt.ylabel(r\"$p(\\theta)$\")"
   ]
  },
  {
   "cell_type": "markdown",
   "metadata": {},
   "source": [
    "2) What does the posterior look like after 0, 1, 5, 10, 25, 50 samples?"
   ]
  },
  {
   "cell_type": "code",
   "execution_count": null,
   "metadata": {},
   "outputs": [],
   "source": [
    "n_samples = [0, 1, 5, 10, 25, 50]"
   ]
  },
  {
   "cell_type": "code",
   "execution_count": null,
   "metadata": {},
   "outputs": [],
   "source": [
    "for n in n_samples:\n",
    "    f = plt.figure()\n",
    "    \n",
    "    ## FIXME \n",
    "    p_theta = \n",
    "    \n",
    "    ax, = plt.plot(x_theta, p_theta)\n",
    "    plt.xlabel(r\"$\\theta$\")\n",
    "    plt.ylabel(r\"$p(\\theta)$\")\n",
    "    plt.title(f\"N_samples={n}\")"
   ]
  },
  {
   "cell_type": "markdown",
   "metadata": {},
   "source": [
    "3) You can get the median and the 68% confidence region using `.median` and `.interval(0.68)` methods of the Beta function. What are the median expecations for the different sample sizes and their intervals? Does the confidence consistently contain the \"correct\" answer?"
   ]
  },
  {
   "cell_type": "code",
   "execution_count": null,
   "metadata": {},
   "outputs": [],
   "source": [
    "for n in n_samples:\n",
    "    \n",
    "    #FIXME\n",
    "    print(f\"N({n}) median={median:0.2} interval(0.68)=[{interval[0]:0.3}, {interval[1]:0.3}]\")"
   ]
  },
  {
   "cell_type": "code",
   "execution_count": null,
   "metadata": {},
   "outputs": [],
   "source": []
  }
 ],
 "metadata": {
  "kernelspec": {
   "display_name": "Python 3",
   "language": "python",
   "name": "python3"
  },
  "language_info": {
   "codemirror_mode": {
    "name": "ipython",
    "version": 3
   },
   "file_extension": ".py",
   "mimetype": "text/x-python",
   "name": "python",
   "nbconvert_exporter": "python",
   "pygments_lexer": "ipython3",
   "version": "3.6.4"
  }
 },
 "nbformat": 4,
 "nbformat_minor": 2
}
