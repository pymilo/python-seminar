{
 "cells": [
  {
   "cell_type": "code",
   "execution_count": 1,
   "metadata": {},
   "outputs": [],
   "source": [
    "import twil  # this has Josh's secret keys there, \n",
    "             # as well as his phone numbers"
   ]
  },
  {
   "cell_type": "code",
   "execution_count": 3,
   "metadata": {},
   "outputs": [
    {
     "name": "stdout",
     "output_type": "stream",
     "text": [
      "Collecting twilio\n",
      "  Downloading twilio-6.10.3-py2.py3-none-any.whl (780kB)\n",
      "\u001b[K    100% |████████████████████████████████| 788kB 1.5MB/s eta 0:00:01\n",
      "\u001b[?25hRequirement already satisfied: pysocks; python_version >= \"3.0\" in /Users/jbloom/anaconda3/lib/python3.6/site-packages (from twilio)\n",
      "Requirement already satisfied: PyJWT>=1.4.2 in /Users/jbloom/anaconda3/lib/python3.6/site-packages (from twilio)\n",
      "Requirement already satisfied: six in /Users/jbloom/anaconda3/lib/python3.6/site-packages (from twilio)\n",
      "Requirement already satisfied: pytz in /Users/jbloom/anaconda3/lib/python3.6/site-packages (from twilio)\n",
      "Requirement already satisfied: requests>=2.0.0; python_version >= \"3.0\" in /Users/jbloom/anaconda3/lib/python3.6/site-packages (from twilio)\n",
      "Requirement already satisfied: chardet<3.1.0,>=3.0.2 in /Users/jbloom/anaconda3/lib/python3.6/site-packages (from requests>=2.0.0; python_version >= \"3.0\"->twilio)\n",
      "Requirement already satisfied: idna<2.7,>=2.5 in /Users/jbloom/anaconda3/lib/python3.6/site-packages (from requests>=2.0.0; python_version >= \"3.0\"->twilio)\n",
      "Requirement already satisfied: urllib3<1.23,>=1.21.1 in /Users/jbloom/anaconda3/lib/python3.6/site-packages (from requests>=2.0.0; python_version >= \"3.0\"->twilio)\n",
      "Requirement already satisfied: certifi>=2017.4.17 in /Users/jbloom/anaconda3/lib/python3.6/site-packages (from requests>=2.0.0; python_version >= \"3.0\"->twilio)\n",
      "Installing collected packages: twilio\n",
      "Successfully installed twilio-6.10.3\n"
     ]
    }
   ],
   "source": [
    "!pip install twilio"
   ]
  },
  {
   "cell_type": "code",
   "execution_count": 2,
   "metadata": {},
   "outputs": [],
   "source": [
    "from twilio.rest import Client\n",
    "\n",
    "account = twil.SID\n",
    "token = twil.TOKEN\n",
    "client = Client(account, token)\n",
    "\n",
    "message = \\\n",
    "   client.messages.create(to=\"+15102298163\", from_=twil.TWILNUM,\n",
    "                          body=\"You've won a $1M --\" +\n",
    "                                   \"please give me your bank account # \"+\n",
    "                                   \"and I'll give it to you.\")"
   ]
  },
  {
   "cell_type": "code",
   "execution_count": 3,
   "metadata": {},
   "outputs": [
    {
     "name": "stdout",
     "output_type": "stream",
     "text": [
      "queued\n"
     ]
    }
   ],
   "source": [
    "print(message.status)"
   ]
  },
  {
   "cell_type": "code",
   "execution_count": 5,
   "metadata": {},
   "outputs": [],
   "source": [
    "from twilio.rest import Client\n",
    "\n",
    "# To find these visit https://www.twilio.com/user/account\n",
    "ACCOUNT_SID = twil.SID\n",
    "AUTH_TOKEN = twil.TOKEN\n",
    "\n",
    "client = Client(ACCOUNT_SID, AUTH_TOKEN)\n",
    "call = client.calls.create(to=twil.JOSHNUM, from_=twil.TWILNUM,\n",
    "                           url=\"http://twimlets.com/holdmusic?Bucket=com.twilio.music.ambient\")"
   ]
  },
  {
   "cell_type": "code",
   "execution_count": 6,
   "metadata": {},
   "outputs": [
    {
     "name": "stdout",
     "output_type": "stream",
     "text": [
      "queued\n"
     ]
    }
   ],
   "source": [
    "print(call.status)"
   ]
  },
  {
   "cell_type": "code",
   "execution_count": null,
   "metadata": {
    "collapsed": true
   },
   "outputs": [],
   "source": []
  }
 ],
 "metadata": {
  "kernelspec": {
   "display_name": "Python 3",
   "language": "python",
   "name": "python3"
  },
  "language_info": {
   "codemirror_mode": {
    "name": "ipython",
    "version": 3
   },
   "file_extension": ".py",
   "mimetype": "text/x-python",
   "name": "python",
   "nbconvert_exporter": "python",
   "pygments_lexer": "ipython3",
   "version": "3.6.3"
  }
 },
 "nbformat": 4,
 "nbformat_minor": 1
}
