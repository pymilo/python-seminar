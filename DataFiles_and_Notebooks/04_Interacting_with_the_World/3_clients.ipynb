{
 "cells": [
  {
   "cell_type": "markdown",
   "metadata": {},
   "source": [
    "# TCP Socket Client"
   ]
  },
  {
   "cell_type": "code",
   "execution_count": 15,
   "metadata": {
    "collapsed": false
   },
   "outputs": [
    {
     "name": "stdout",
     "output_type": "stream",
     "text": [
      "Server says: b\"b'How do you do?'\"\n"
     ]
    }
   ],
   "source": [
    "import socket, sys\n",
    "s = socket.socket(socket.AF_INET, socket.SOCK_STREAM) \n",
    "host, port = \"\", 5109 # empty host string = localhost\n",
    "s.connect((host, port))\n",
    "cmd = b\"hello\" # if making a command line script, use sys.argv[1]\n",
    "s.send(cmd) # send command\n",
    "data = s.recv(100) # read up to 100 bytes\n",
    "print(\"Server says:\", str(data).encode(\"UTF-8\"))\n",
    "s.close()"
   ]
  },
  {
   "cell_type": "code",
   "execution_count": null,
   "metadata": {
    "collapsed": false
   },
   "outputs": [],
   "source": [
    "import socket, sys\n",
    "s = socket.socket(socket.AF_INET, socket.SOCK_STREAM) \n",
    "host, port = \"\", 5002 # empty host string = localhost\n",
    "s.connect((host, port))\n",
    "cmd = \"time\" # if making a command line script, use sys.argv[1]\n",
    "s.send(cmd) # send command\n",
    "data = s.recv(100) # read up to 100 bytes\n",
    "print(\"Server says:\", data)\n",
    "s.close()"
   ]
  },
  {
   "cell_type": "markdown",
   "metadata": {},
   "source": [
    "# XMLRPC Client"
   ]
  },
  {
   "cell_type": "code",
   "execution_count": 16,
   "metadata": {
    "collapsed": false
   },
   "outputs": [
    {
     "name": "stdout",
     "output_type": "stream",
     "text": [
      "Available methods from server:\n",
      "\taddition\n",
      "\tsubtraction\n",
      "\tsystem.listMethods\n",
      "\tsystem.methodHelp\n",
      "\tsystem.methodSignature\n",
      "\tsystem.multicall\n",
      "Result: -3\n",
      "Result: 5\n"
     ]
    }
   ],
   "source": [
    "import sys\n",
    "\n",
    "try:\n",
    "    from xmlrpc.client import ServerProxy\n",
    "except:\n",
    "    # Python 2.7\n",
    "    from xmlrpclib import ServerProxy\n",
    "\n",
    "host, port = \"\", 5022\n",
    "server = ServerProxy(\"http://%s:%d\" % (host, port))\n",
    "available_methods = server.system.listMethods()\n",
    "print(\"Available methods from server:\")\n",
    "for method in available_methods:\n",
    "    print(\"\\t\" + method)\n",
    "result = server.subtraction(1, 4)\n",
    "print(\"Result:\", result)\n",
    "result = server.addition(1, 4)\n",
    "print(\"Result:\", result)"
   ]
  },
  {
   "cell_type": "code",
   "execution_count": 17,
   "metadata": {
    "collapsed": false
   },
   "outputs": [
    {
     "name": "stdout",
     "output_type": "stream",
     "text": [
      "16.5\n"
     ]
    }
   ],
   "source": [
    "result = server.addition(12, 4.5)\n",
    "print(result)"
   ]
  },
  {
   "cell_type": "code",
   "execution_count": null,
   "metadata": {
    "collapsed": false
   },
   "outputs": [],
   "source": []
  }
 ],
 "metadata": {
  "kernelspec": {
   "display_name": "Python 3",
   "language": "python",
   "name": "python3"
  },
  "language_info": {
   "codemirror_mode": {
    "name": "ipython",
    "version": 3
   },
   "file_extension": ".py",
   "mimetype": "text/x-python",
   "name": "python",
   "nbconvert_exporter": "python",
   "pygments_lexer": "ipython3",
   "version": "3.5.2"
  }
 },
 "nbformat": 4,
 "nbformat_minor": 0
}
