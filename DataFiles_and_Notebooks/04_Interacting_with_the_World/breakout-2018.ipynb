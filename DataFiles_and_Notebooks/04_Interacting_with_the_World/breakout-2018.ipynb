{
 "cells": [
  {
   "cell_type": "markdown",
   "metadata": {},
   "source": [
    "# Breakout: Track the Cryptocurrency market"
   ]
  },
  {
   "cell_type": "markdown",
   "metadata": {},
   "source": [
    "1) grab and parse HTML from Coinmarketcap.com for the past two years for the value of Bitcoin.\n",
    "\n",
    "https://coinmarketcap.com/currencies/bitcoin/historical-data/?start=20160211&end=20180211\n",
    "\n",
    "If you have time, you can play with other coins, e.g., `ethereum`"
   ]
  },
  {
   "cell_type": "code",
   "execution_count": null,
   "metadata": {
    "collapsed": true
   },
   "outputs": [],
   "source": []
  },
  {
   "cell_type": "markdown",
   "metadata": {},
   "source": [
    "2) Parse the data into a useable Python \n",
    "   data structure (hint: look for tables), storing the coin open,close,volumes numbers and dates\n",
    "\n",
    "```python\n",
    "   page.find(table).find_all('tr')\n",
    "```"
   ]
  },
  {
   "cell_type": "code",
   "execution_count": null,
   "metadata": {},
   "outputs": [],
   "source": []
  },
  {
   "cell_type": "markdown",
   "metadata": {},
   "source": [
    "3) Plot the data."
   ]
  },
  {
   "cell_type": "code",
   "execution_count": null,
   "metadata": {},
   "outputs": [],
   "source": [
    "%matplotlib notebook"
   ]
  },
  {
   "cell_type": "markdown",
   "metadata": {},
   "source": [
    "4) Use pandas `rolling_mean` to overplot the 200-day moving average."
   ]
  },
  {
   "cell_type": "code",
   "execution_count": null,
   "metadata": {},
   "outputs": [],
   "source": []
  },
  {
   "cell_type": "markdown",
   "metadata": {},
   "source": [
    "5) When did the bitcoin value cross the 200-day moving average?"
   ]
  },
  {
   "cell_type": "markdown",
   "metadata": {
    "collapsed": true
   },
   "source": []
  }
 ],
 "metadata": {
  "kernelspec": {
   "display_name": "Python 3",
   "language": "python",
   "name": "python3"
  },
  "language_info": {
   "codemirror_mode": {
    "name": "ipython",
    "version": 3
   },
   "file_extension": ".py",
   "mimetype": "text/x-python",
   "name": "python",
   "nbconvert_exporter": "python",
   "pygments_lexer": "ipython3",
   "version": "3.6.3"
  }
 },
 "nbformat": 4,
 "nbformat_minor": 1
}
