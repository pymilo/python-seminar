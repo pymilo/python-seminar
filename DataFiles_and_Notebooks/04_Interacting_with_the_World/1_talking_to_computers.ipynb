{
 "cells": [
  {
   "cell_type": "markdown",
   "metadata": {},
   "source": [
    "<img src=\"https://www.evernote.com/l/AUXIi328hU9Im7vbcG4SauyAkY-8L11rdU8B/image.png\">\n",
    "Python Seminar (AY250) UC Berkeley"
   ]
  },
  {
   "cell_type": "code",
   "execution_count": 9,
   "metadata": {},
   "outputs": [
    {
     "data": {
      "text/html": [
       "<style>\n",
       "\n",
       ".rendered_html\n",
       "{\n",
       "  color: #2C5494;\n",
       "  font-family: Ubuntu;\n",
       "  font-size: 140%;\n",
       "  line-height: 1.1;\n",
       "  margin: 0.5em 0;\n",
       "  }\n",
       "\n",
       ".talk_title\n",
       "{\n",
       "  color: #498AF3;\n",
       "  font-size: 250%;\n",
       "  font-weight:bold;\n",
       "  line-height: 1.2; \n",
       "  margin: 10px 50px 10px;\n",
       "  }\n",
       "\n",
       ".subtitle\n",
       "{\n",
       "  color: #386BBC;\n",
       "  font-size: 180%;\n",
       "  font-weight:bold;\n",
       "  line-height: 1.2; \n",
       "  margin: 20px 50px 20px;\n",
       "  }\n",
       "\n",
       ".slide-header, p.slide-header\n",
       "{\n",
       "  color: #498AF3;\n",
       "  font-size: 200%;\n",
       "  font-weight:bold;\n",
       "  margin: 0px 20px 10px;\n",
       "  page-break-before: always;\n",
       "  text-align: center;\n",
       "  }\n",
       "\n",
       ".rendered_html h1\n",
       "{\n",
       "  color: #498AF3;\n",
       "  line-height: 1.2; \n",
       "  margin: 0.15em 0em 0.5em;\n",
       "  page-break-before: always;\n",
       "  text-align: center;\n",
       "  }\n",
       "\n",
       "\n",
       ".rendered_html h2\n",
       "{ \n",
       "  color: #386BBC;\n",
       "  line-height: 1.2;\n",
       "  margin: 1.1em 0em 0.5em;\n",
       "  }\n",
       "\n",
       ".rendered_html h3\n",
       "{ \n",
       "  font-size: 100%;\n",
       "  line-height: 1.2;\n",
       "  margin: 1.1em 0em 0.5em;\n",
       "  }\n",
       "\n",
       ".rendered_html li\n",
       "{\n",
       "  line-height: 1.8;\n",
       "  }\n",
       "\n",
       ".input_prompt, .CodeMirror-lines, .output_area\n",
       "{\n",
       "  font-family: Consolas;\n",
       "  font-size: 120%;\n",
       "  }\n",
       "\n",
       ".gap-above\n",
       "{\n",
       "  padding-top: 200px;\n",
       "  }\n",
       "\n",
       ".gap01\n",
       "{\n",
       "  padding-top: 10px;\n",
       "  }\n",
       "\n",
       ".gap05\n",
       "{\n",
       "  padding-top: 50px;\n",
       "  }\n",
       "\n",
       ".gap1\n",
       "{\n",
       "  padding-top: 100px;\n",
       "  }\n",
       "\n",
       ".gap2\n",
       "{\n",
       "  padding-top: 200px;\n",
       "  }\n",
       "\n",
       ".gap3\n",
       "{\n",
       "  padding-top: 300px;\n",
       "  }\n",
       "\n",
       ".emph\n",
       "{\n",
       "  color: #386BBC;\n",
       "  }\n",
       "\n",
       ".warn\n",
       "{\n",
       "  color: red;\n",
       "  }\n",
       "\n",
       ".center\n",
       "{\n",
       "  text-align: center;\n",
       "  }\n",
       "\n",
       ".nb_link\n",
       "{\n",
       "    padding-bottom: 0.5em;\n",
       "}\n",
       "\n",
       "</style>"
      ],
      "text/plain": [
       "<IPython.core.display.HTML object>"
      ]
     },
     "metadata": {},
     "output_type": "display_data"
    }
   ],
   "source": [
    "%run ../00_AdvancedPythonConcepts/talktools.py"
   ]
  },
  {
   "cell_type": "markdown",
   "metadata": {},
   "source": [
    "## Outline\n",
    "\n",
    "\n",
    "1. Websites and webservers\n",
    "\n",
    "   - `urllib`, `ftplib`, `httplib`, `httplib2`, `requests`\n",
    "   - Parsing with `html5lib`, `BeautifulSoup4`\n",
    "       - `conda install beautifulsoup4`\n",
    "   - JSON\n",
    "\n",
    "2. Transmission Control Protocol (TCP)\n",
    "\n",
    "   - `socket`\n",
    "    \n",
    "3. Breakout Exercise\n",
    "\n",
    "   - Focus on automating website access\n",
    "\n",
    "4. Remote Procedure Call\n",
    "\n",
    "  - `SimpleXMLRPCServer`, `xmlrpclib`"
   ]
  },
  {
   "cell_type": "markdown",
   "metadata": {},
   "source": [
    "## Network Communication Overview\n",
    "\n",
    "- TCP/IP sockets: Most all network communication, also UDP  \n",
    "- TCP (Transmission Control Protocol): exchange data reliably between two network hosts\n",
    "- IP (Internet Protocol): handles addressing & routing messages across one or more networks\n",
    "\n",
    "<hr>\n",
    "<img src=\"http://flylib.com/books/3/475/1/html/2/images/0131777203/graphics/14fig02.gif\">\n",
    "<hr>\n",
    "<img src=\"http://i.cloud.opensystemsmedia.com/i__srcbc84f1fa314969f2dc009b8711c679ce_paraf0d99c20bd457d46a92c72841873c47.jpeg\">\n",
    "<hr>\n",
    "<img src=\"https://microchip.wdfiles.com/local--files/tcpip:tcp-ip-five-layer-model/layer_terminology.JPG\">"
   ]
  },
  {
   "cell_type": "markdown",
   "metadata": {},
   "source": [
    "# Accessing a Web address (URL)\n",
    "\n",
    "<quote>Why? Who would ever want to easily automate URL (Uniform Resource Locator) retrieval and form submission in a scripting language?\n",
    "</quote>\n",
    "\n",
    " - Data mining (we’ll do this in the breakout)\n",
    " - Submitting information to another system\n",
    " - Accessing remote compute resources (“webservices”)\n",
    " - Get microservices"
   ]
  },
  {
   "cell_type": "markdown",
   "metadata": {},
   "source": [
    "`urllib` provides tools & functions for high-level, but less modern, interactions. It's suited for complex interactions, supporting basic and digest authentication, redirections, cookies, and more:\n",
    "\n",
    " - `urllib.request` for opening and reading URLs\n",
    " - `urllib.error` containing the exceptions raised by urllib.request\n",
    " - `urllib.parse` for parsing URLs\n",
    " - `urllib.robotparser` for parsing robots.txt files\n",
    "\n",
    "\n",
    " \n",
    "Note: `urllib.request.urlopen` function always returns an object which can work as a context manager\n",
    "\n",
    "See https://docs.python.org/3/library/urllib.request.html#module-urllib.request"
   ]
  },
  {
   "cell_type": "markdown",
   "metadata": {},
   "source": [
    "# Super simple webpage access"
   ]
  },
  {
   "cell_type": "code",
   "execution_count": null,
   "metadata": {
    "collapsed": true
   },
   "outputs": [],
   "source": [
    "from __future__ import absolute_import, division, print_function"
   ]
  },
  {
   "cell_type": "code",
   "execution_count": null,
   "metadata": {},
   "outputs": [],
   "source": [
    "# URL = Uniform Resource Locator\n",
    "try:\n",
    "    # For Python 3.0 and later\n",
    "    from urllib.request import urlopen\n",
    "except ImportError:\n",
    "    # Fall back to Python 2's urllib2\n",
    "    from urllib2 import urlopen\n",
    "    \n",
    "# Brain maps data \"Explore the Brain like never before\"\n",
    "url = \"http://brainmaps.org/\"  \n",
    "response = urlopen(url)  # response is a file-like object\n",
    "html_data = response.read()\n",
    "response.close()  # close response as you would a normal file\n",
    "print(html_data[:300])"
   ]
  },
  {
   "cell_type": "markdown",
   "metadata": {},
   "source": [
    "Small aside: if you have HTML data that you want to render, you can use `webbrowser` module\n",
    "\n",
    "see http://docs.python.org/library/webbrowser.html"
   ]
  },
  {
   "cell_type": "code",
   "execution_count": null,
   "metadata": {},
   "outputs": [],
   "source": [
    "import webbrowser\n",
    "open(\"/tmp/tmp.html\",\"w\").write(html_data.decode(\"UTF-8\"))\n",
    "webbrowser.open(\"file:///tmp/tmp.html\")"
   ]
  },
  {
   "cell_type": "markdown",
   "metadata": {},
   "source": [
    "# HTTP Overview\n",
    "\n",
    "Hypertext Transfer Protocol\n",
    "\n",
    "- HTTP takes place along TCP/IP sockets (typically port 80)\n",
    "- HTTP is used to transmit resources\n",
    "    - resources can be files, query results, server side script output\n",
    "\n",
    "<img src=\"http://www.oreilly.com/openbook/webclient/wcp_0302.gif\">\n",
    "\n",
    "Communication initiated by Client opening connection & sending request message to Server.  Server then returns a response message containing the resource that was requested. After delivering the response the Server closes the connection.\n",
    "\n",
    "The two most used request methods are **GET** and **POST**"
   ]
  },
  {
   "cell_type": "markdown",
   "metadata": {},
   "source": [
    "# Scripting an HTTP GET request"
   ]
  },
  {
   "cell_type": "code",
   "execution_count": null,
   "metadata": {},
   "outputs": [],
   "source": [
    "try:\n",
    "    from urllib.parse import urlencode\n",
    "except:\n",
    "    from urllib import urlencode\n",
    "\n",
    "\n",
    "# create a dictionary to store the GET data\n",
    "get_info = {\"term\": \"Joshua S. Bloom\", \"page\": \"1\"} \n",
    "\n",
    "# encode the data in proper URL format\n",
    "url_values = urlencode(get_info) \n",
    "print(url_values)"
   ]
  },
  {
   "cell_type": "code",
   "execution_count": null,
   "metadata": {
    "collapsed": true
   },
   "outputs": [],
   "source": [
    "url = \"https://www.ncbi.nlm.nih.gov/pubmed/\"\n",
    "\n",
    "# open the url as before\n",
    "# https://www.ncbi.nlm.nih.gov/pubmed/?term=Joshua+S.+Bloom\n",
    "# alternatively: urlopen(url + \"?\" + url_values.encode(\"utf-8\"))\n",
    "response = urlopen(url,data=url_values.encode(\"utf-8\")) \n",
    "html = response.read()\n",
    "response.close()"
   ]
  },
  {
   "cell_type": "code",
   "execution_count": null,
   "metadata": {},
   "outputs": [],
   "source": [
    "len(html)"
   ]
  },
  {
   "cell_type": "code",
   "execution_count": null,
   "metadata": {},
   "outputs": [],
   "source": [
    "html[html.find(b\"gold rush\")-100:html.find(b\"gold rush\")+200]"
   ]
  },
  {
   "cell_type": "markdown",
   "metadata": {},
   "source": [
    "\n",
    "   - **GET** default method for retrieving resources. Form data is encoded in the URL. GET should be used when the form processing is “idempotent” - when it has no side effects. GET is basically just for retrieving data (static files).\n",
    "\n",
    "   - **POST** places form data in the message body. It is more appropriate for wider range of processes, e.g., storing/updating data, ordering or sending a product, and sending email."
   ]
  },
  {
   "cell_type": "markdown",
   "metadata": {},
   "source": [
    "# Scripting an HTTP POST request"
   ]
  },
  {
   "cell_type": "code",
   "execution_count": null,
   "metadata": {},
   "outputs": [],
   "source": [
    "data = {}\n",
    "data[\"author\"] = \"Sagan, Carl\"\n",
    "params = urlencode(data).encode(\"UTF-8\")  # same urlencode method\n",
    "url = \"http://adsabs.harvard.edu/cgi-bin/nph-abs_connect\"\n",
    "response = urlopen(url, params)\n",
    "\n",
    "# POST request is indicated by including the params in urlopen\n",
    "html = response.read()\n",
    "response.close()\n",
    "print(html[16474:19000])"
   ]
  },
  {
   "cell_type": "markdown",
   "metadata": {},
   "source": [
    "## Basic Authentication\n",
    "\n",
    "```python\n",
    "from urllib.request import HTTPBasicAuthHandler, build_opener, install_opener, urlopen\n",
    "auth_handler = HTTPBasicAuthHandler()\n",
    "auth_handler.add_password(\"realm\", \"example.com\", \n",
    "       \"username\", \"password\")\n",
    "opener = build_opener(auth_handler)\n",
    "\n",
    "# ...install it globally so it can be used with urlopen.\n",
    "install_opener(opener)\n",
    "urlopen('http://www.example.com/login.html')\n",
    "```\n",
    "\n",
    "Browsers handle this by popping up a dialog box requesting you to “Enter user name and password for “realm” at http://example.com”.\n",
    "\n",
    "## Form based Authentication\n",
    "\n",
    "```python\n",
    "from urllib.request import HTTPBasicAuthHandler, build_opener, install_opener, urlopen, HTTPCookieProcessor\n",
    "from urllib.parse import urlencode\n",
    "opener = build_opener(HTTPCookieProcessor())\n",
    "params = urlencode(dict(username=\"uname\", password=\"pswd\"))\n",
    "response = opener.open(\"http://example.com/login/\", params)\n",
    "data = response.read()\n",
    "response.close()\n",
    "response = opener.open(\"http://example.com/my/protected/page.html\")\n",
    "data = response.read()\n",
    "response.close()\n",
    "```\n",
    "\n",
    "Login information is stored in a cookie and included in subsequent requests. The opener is used to POST to the login form and the protected page.\n",
    "\n",
    "See also:\n",
    "  - *Scrapy*:  \"framework for extracting the data you need from websites\" (https://scrapy.org/)\n",
    "  \n",
    "  - *MechanicalSoup*: A Python library for automating interaction with websites (https://mechanicalsoup.readthedocs.io/en/stable/)"
   ]
  },
  {
   "cell_type": "markdown",
   "metadata": {},
   "source": [
    "## Requests\n",
    "\n",
    "Most modern web interactions are complicated. `requests` is your friend\n",
    "\n",
    "\n",
    "```python\n",
    "requests.get('https://api.github.com/user',\n",
    "              auth=('user', 'pass'))\n",
    "```\n",
    "streaming, keep-alive, etc.\n",
    "\n",
    "http://docs.python-requests.org/en/latest/user/advanced/"
   ]
  },
  {
   "cell_type": "markdown",
   "metadata": {},
   "source": [
    "# Access an FTP server"
   ]
  },
  {
   "cell_type": "code",
   "execution_count": null,
   "metadata": {},
   "outputs": [],
   "source": [
    "import ftplib\n",
    "ftp = ftplib.FTP(\"ftp.ee.lbl.gov\")\n",
    "ftp.login()"
   ]
  },
  {
   "cell_type": "code",
   "execution_count": null,
   "metadata": {},
   "outputs": [],
   "source": [
    "ftp.cwd(\"talks\")"
   ]
  },
  {
   "cell_type": "code",
   "execution_count": null,
   "metadata": {},
   "outputs": [],
   "source": [
    "ftp.dir()"
   ]
  },
  {
   "cell_type": "code",
   "execution_count": null,
   "metadata": {},
   "outputs": [],
   "source": [
    "ftp.retrbinary('RETR vj-webflame.pdf', \n",
    "               open('vj-webflame.pdf', 'wb').write)"
   ]
  },
  {
   "cell_type": "code",
   "execution_count": null,
   "metadata": {
    "collapsed": true
   },
   "outputs": [],
   "source": [
    "!open vj-webflame.pdf"
   ]
  },
  {
   "cell_type": "markdown",
   "metadata": {},
   "source": [
    "# HTML Overview\n",
    "\n",
    " - HyperText Markup Language\n",
    " - The code in which webpages are written\n",
    " - Consists of tags surrounded by angled brackets, < and >\n",
    " - An HTML document has a hierarchy enforced by the ordering and nesting of tags\n",
    " - It can be thought of like a tree with branches\n",
    " \n",
    " Examples at \n",
    "http://www.w3schools.com/html/html_examples.asp\n",
    "http://www.sheldonbrown.com/web_sample1.html\n",
    "\n",
    "<img src=\"https://qph.ec.quoracdn.net/main-qimg-fcfebff81e40dfadcd7d03d4b897aac3\"> Image: from Quora at [this link](https://www.quora.com/Can-anyone-post-a-code-that-catches-the-essence-of-the-relationship-between-html-and-javascript). The actual HTML would look like this:\n",
    "\n",
    "```html\n",
    "<!DOCTYPE html>\n",
    "<html>\n",
    "<head>\n",
    "<title>A simple HTML Document</title>\n",
    "</head>\n",
    "<body>\n",
    "<h1>This is a Heading</h1>\n",
    "<p>This is a paragraph</p>\n",
    "</body>\n",
    "</html>\n",
    "```\n",
    "\n",
    "Let's take a look at a page: http://vizier.u-strasbg.fr/viz-bin/VizieR-3?-source=I/337/gaia"
   ]
  },
  {
   "cell_type": "markdown",
   "metadata": {},
   "source": [
    "## html5lib"
   ]
  },
  {
   "cell_type": "code",
   "execution_count": null,
   "metadata": {
    "collapsed": true
   },
   "outputs": [],
   "source": [
    "import html5lib\n",
    "response = urlopen(\"http://words.bighugelabs.com/\")\n",
    "html = response.read()\n",
    "doc = html5lib.parse(html)"
   ]
  },
  {
   "cell_type": "markdown",
   "metadata": {},
   "source": [
    "- doc is now a tree in “simpletree” format. \n",
    "- html5lib also supports minidom, ElementTree, lxml, and BeautifulSoup tree formats.\n",
    "- lxml, in particular, is good for creating well-formed html and xml."
   ]
  },
  {
   "cell_type": "markdown",
   "metadata": {},
   "source": [
    "# Parsing HTML with BeautifulSoup\n",
    "\n",
    "Beautiful Soup parses a (possibly invalid) XML or HTML document into a tree representation. It provides methods and Pythonic idioms that make it easy to navigate, search, and modify the tree.\n",
    "\n",
    "\n",
    "See: http://www.crummy.com/software/BeautifulSoup/bs4/doc/"
   ]
  },
  {
   "cell_type": "code",
   "execution_count": null,
   "metadata": {},
   "outputs": [],
   "source": [
    "try:\n",
    "    # For Python 3.0 and later\n",
    "    from urllib.request import urlopen\n",
    "except ImportError:\n",
    "    # Fall back to Python 2's urllib2\n",
    "    from urllib2 import urlopen\n",
    "    \n",
    "response = urlopen(\"http://words.bighugelabs.com/\")\n",
    "html = response.read()\n",
    "response.close()\n",
    "\n",
    "# pip install beautifulsoup4\n",
    "b\n",
    "forms"
   ]
  },
  {
   "cell_type": "code",
   "execution_count": null,
   "metadata": {},
   "outputs": [],
   "source": [
    "print(html)"
   ]
  },
  {
   "cell_type": "code",
   "execution_count": null,
   "metadata": {},
   "outputs": [],
   "source": [
    "links = soup.findAll(\"form\")\n",
    "for link in links:\n",
    "    print(link)"
   ]
  },
  {
   "cell_type": "markdown",
   "metadata": {},
   "source": [
    "Let's load up a whole bunch of baby names, by combining scripted webpage access with BeautifulSoup:"
   ]
  },
  {
   "cell_type": "code",
   "execution_count": null,
   "metadata": {
    "collapsed": true
   },
   "outputs": [],
   "source": [
    "from bs4 import BeautifulSoup\n",
    "url = \"http://nameberry.com/search/boys_names/J\"\n",
    "response = urlopen(url)\n",
    "html = response.read()\n",
    "response.close()\n",
    "soup = BeautifulSoup(html,\"html.parser\")"
   ]
  },
  {
   "cell_type": "code",
   "execution_count": null,
   "metadata": {},
   "outputs": [],
   "source": [
    "items = soup.findAll(\"li\", class_=\"name_in_list\")\n",
    "print(items)"
   ]
  },
  {
   "cell_type": "code",
   "execution_count": null,
   "metadata": {},
   "outputs": [],
   "source": [
    "items[35].a.get_text()"
   ]
  },
  {
   "cell_type": "code",
   "execution_count": null,
   "metadata": {
    "collapsed": true
   },
   "outputs": [],
   "source": [
    "import string\n",
    "\n",
    "letters = \"qwertyuioplkjhgfdsazxcvbnm\"\n",
    "boy_names = []\n",
    "for n in string.ascii_uppercase[:26]:\n",
    "    url = \"http://nameberry.com/search/boys_names/\" + n\n",
    "    response = urlopen(url)\n",
    "    html = response.read()\n",
    "    response.close()\n",
    "    soup = BeautifulSoup(html,\"html.parser\")\n",
    "    items = soup.findAll(\"li\", class_=\"name_in_list\")\n",
    "    for item in items:\n",
    "        if len(item.findAll(\"a\")) == 1:\n",
    "            boy_names.append(item.a.get_text())"
   ]
  },
  {
   "cell_type": "code",
   "execution_count": null,
   "metadata": {},
   "outputs": [],
   "source": [
    "print(boy_names)"
   ]
  },
  {
   "cell_type": "code",
   "execution_count": null,
   "metadata": {},
   "outputs": [],
   "source": [
    "boy_names.sort()\n",
    "print(str(len(boy_names)) + \" names from \" + \\\n",
    "       boy_names[0] + \" to \" + boy_names[-1] + \".\")"
   ]
  },
  {
   "cell_type": "markdown",
   "metadata": {},
   "source": [
    "To demonstrate we downloaded and parsed all the names, and to have a little fun, let's make up an official-sounding name for a childish Congressman."
   ]
  },
  {
   "cell_type": "code",
   "execution_count": null,
   "metadata": {},
   "outputs": [],
   "source": [
    "import random\n",
    "proper_person_name = \"\"\n",
    "for n in range(3):\n",
    "    proper_person_name += random.choice(boy_names) + \" \"\n",
    "proper_person_name = \"Congressman \" + proper_person_name[:-1] + \" XVI\" + \" PhD\"\n",
    "print(proper_person_name)"
   ]
  },
  {
   "cell_type": "markdown",
   "metadata": {},
   "source": [
    "# JSON\n",
    "\n",
    "JSON is a light-weight data interchange format. \n",
    "\n",
    "Some web service APIs can output in JSON and the json  Python module facilitates parsing.\n",
    "\n",
    "www.json.org/"
   ]
  },
  {
   "cell_type": "code",
   "execution_count": null,
   "metadata": {},
   "outputs": [],
   "source": [
    "import json\n",
    "import joshkey\n",
    "base_domain = \"http://words.bighugelabs.com/\"\n",
    "\n",
    "api_key =  joshkey.API # get your own damn key!\n",
    "word = \"hacker\"\n",
    "\n",
    "url = base_domain + \"api/2/\" + api_key + \"/\" + word + \"/json\"\n",
    "print(url)\n",
    "\n",
    "result = json.loads(urlopen(url).read().decode(\"UTF-8\")) # a dictionary!\n",
    "\n",
    "print(result)"
   ]
  },
  {
   "cell_type": "code",
   "execution_count": null,
   "metadata": {},
   "outputs": [],
   "source": [
    "type(result)"
   ]
  },
  {
   "cell_type": "code",
   "execution_count": null,
   "metadata": {},
   "outputs": [],
   "source": [
    "import pprint\n",
    "pprint.pprint(result)"
   ]
  },
  {
   "cell_type": "markdown",
   "metadata": {},
   "source": [
    "A more fleshed-out example code, prints the output more cleanly."
   ]
  },
  {
   "cell_type": "code",
   "execution_count": null,
   "metadata": {},
   "outputs": [],
   "source": [
    "import sys\n",
    "base_domain = \"http://words.bighugelabs.com/\"\n",
    "word = \"key\"\n",
    "print(\"Retrieving thesaurus entry for \\\"\" + word + \"\\\".\")\n",
    "url = base_domain + \"api/2/\" + api_key + \"/\" + word + \"/json\"\n",
    "try:\n",
    "    result = json.loads(urlopen(url).read().decode(\"UTF-8\")) # a dictionary!\n",
    "except:\n",
    "    print(\"Error - word probably not in thesaurus.\")\n",
    "    #sys.exit()\n",
    "for part_of_speech in result:\n",
    "    print(\"-\"*50)\n",
    "    print(\"These are the \" + part_of_speech + \" entries:\")\n",
    "    for key in [\"syn\", \"ant\", \"rel\"]:\n",
    "        try:\n",
    "            for synonym in result[part_of_speech][key]:\n",
    "                print(key + \" - \" + synonym)\n",
    "        except:\n",
    "            continue"
   ]
  },
  {
   "cell_type": "code",
   "execution_count": null,
   "metadata": {
    "collapsed": true
   },
   "outputs": [],
   "source": []
  }
 ],
 "metadata": {
  "kernelspec": {
   "display_name": "Python 3",
   "language": "python",
   "name": "python3"
  },
  "language_info": {
   "codemirror_mode": {
    "name": "ipython",
    "version": 3
   },
   "file_extension": ".py",
   "mimetype": "text/x-python",
   "name": "python",
   "nbconvert_exporter": "python",
   "pygments_lexer": "ipython3",
   "version": "3.6.3"
  }
 },
 "nbformat": 4,
 "nbformat_minor": 1
}
