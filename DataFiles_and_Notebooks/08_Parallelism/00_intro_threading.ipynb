{
 "cells": [
  {
   "cell_type": "code",
   "execution_count": 2,
   "metadata": {
    "collapsed": false
   },
   "outputs": [
    {
     "data": {
      "text/html": [
       "<style>\n",
       "\n",
       ".rendered_html\n",
       "{\n",
       "  color: #2C5494;\n",
       "  font-family: Ubuntu;\n",
       "  font-size: 140%;\n",
       "  line-height: 1.1;\n",
       "  margin: 0.5em 0;\n",
       "  }\n",
       "\n",
       ".talk_title\n",
       "{\n",
       "  color: #498AF3;\n",
       "  font-size: 250%;\n",
       "  font-weight:bold;\n",
       "  line-height: 1.2; \n",
       "  margin: 10px 50px 10px;\n",
       "  }\n",
       "\n",
       ".subtitle\n",
       "{\n",
       "  color: #386BBC;\n",
       "  font-size: 180%;\n",
       "  font-weight:bold;\n",
       "  line-height: 1.2; \n",
       "  margin: 20px 50px 20px;\n",
       "  }\n",
       "\n",
       ".slide-header, p.slide-header\n",
       "{\n",
       "  color: #498AF3;\n",
       "  font-size: 200%;\n",
       "  font-weight:bold;\n",
       "  margin: 0px 20px 10px;\n",
       "  page-break-before: always;\n",
       "  text-align: center;\n",
       "  }\n",
       "\n",
       ".rendered_html h1\n",
       "{\n",
       "  color: #498AF3;\n",
       "  line-height: 1.2; \n",
       "  margin: 0.15em 0em 0.5em;\n",
       "  page-break-before: always;\n",
       "  text-align: center;\n",
       "  }\n",
       "\n",
       "\n",
       ".rendered_html h2\n",
       "{ \n",
       "  color: #386BBC;\n",
       "  line-height: 1.2;\n",
       "  margin: 1.1em 0em 0.5em;\n",
       "  }\n",
       "\n",
       ".rendered_html h3\n",
       "{ \n",
       "  font-size: 100%;\n",
       "  line-height: 1.2;\n",
       "  margin: 1.1em 0em 0.5em;\n",
       "  }\n",
       "\n",
       ".rendered_html li\n",
       "{\n",
       "  line-height: 1.8;\n",
       "  }\n",
       "\n",
       ".input_prompt, .CodeMirror-lines, .output_area\n",
       "{\n",
       "  font-family: Consolas;\n",
       "  font-size: 120%;\n",
       "  }\n",
       "\n",
       ".gap-above\n",
       "{\n",
       "  padding-top: 200px;\n",
       "  }\n",
       "\n",
       ".gap01\n",
       "{\n",
       "  padding-top: 10px;\n",
       "  }\n",
       "\n",
       ".gap05\n",
       "{\n",
       "  padding-top: 50px;\n",
       "  }\n",
       "\n",
       ".gap1\n",
       "{\n",
       "  padding-top: 100px;\n",
       "  }\n",
       "\n",
       ".gap2\n",
       "{\n",
       "  padding-top: 200px;\n",
       "  }\n",
       "\n",
       ".gap3\n",
       "{\n",
       "  padding-top: 300px;\n",
       "  }\n",
       "\n",
       ".emph\n",
       "{\n",
       "  color: #386BBC;\n",
       "  }\n",
       "\n",
       ".warn\n",
       "{\n",
       "  color: red;\n",
       "  }\n",
       "\n",
       ".center\n",
       "{\n",
       "  text-align: center;\n",
       "  }\n",
       "\n",
       ".nb_link\n",
       "{\n",
       "    padding-bottom: 0.5em;\n",
       "}\n",
       "\n",
       "</style>"
      ],
      "text/plain": [
       "<IPython.core.display.HTML object>"
      ]
     },
     "metadata": {},
     "output_type": "display_data"
    }
   ],
   "source": [
    "%run ../00_AdvancedPythonConcepts/talktools.py"
   ]
  },
  {
   "cell_type": "markdown",
   "metadata": {},
   "source": [
    "# Parallelism\n",
    "\n",
    "Python Computing for Data Science (AY250)"
   ]
  },
  {
   "cell_type": "markdown",
   "metadata": {},
   "source": [
    "## Outline for Today\n",
    "\n",
    "- Motivation\n",
    "\n",
    "- Single-machine\n",
    "    - threading\n",
    "    - multiprocessing\n",
    "    - joblib\n",
    "    - dask\n",
    "- Multi-machine\n",
    "    - ipython cluster"
   ]
  },
  {
   "cell_type": "markdown",
   "metadata": {},
   "source": [
    "## Motivation\n",
    "\n",
    "Generally, the goal of your computing task is to finish as quickly as possible. The **speed of your processor** at executing instructions and the **speed at which data can be read from disk and from RAM** are major contributors to the execution time. Obviously the **choice of algorithm(s)** is critical too. Choosing an $N \\log N$ algorithm over a $N^2$ one that gets the same answer is almost always preferred for any sizeable $N$."
   ]
  },
  {
   "cell_type": "markdown",
   "metadata": {},
   "source": [
    "### Types of Bottlenecks\n",
    "\n",
    "If you think of your run-time program as stream of data and computation on data, it should be clear that **bottlenecks are inevitable**. Your job (as you begin optimize for execution time) is to understand where those bottlenecks are and to use the tools we have in Python to minimize those. (Ultimately, it's a never-ending whack-a-mole).\n",
    "\n",
    "#### I/O Bound\n",
    "\n",
    "*\"a condition in which the time it takes to complete a computation is determined principally by the period spent waiting for input/output operations to be completed.\"* -- wikipedia\n",
    "\n",
    "This can be because we're waiting for a response from an external source (e.g. loading a webpage) or because data needs to be moved around on your bus and we're waiting for it to show up in the right place to compute on. If you have very fast CPUs, you're more likely to be I/O bound.\n",
    "\n",
    "#### CPU Bound\n",
    "\n",
    "*\"when the time for it to complete a task is determined principally by the speed of the central processor: processor utilization is high, perhaps at 100% usage for many seconds or minutes.\"* -- wikipedia\n",
    "\n",
    "If you're doing  algorithmic computations where the amount if input data is small and the amount of output data is also small (e.g. fournier transform) you'll typically be CPU bound. Slowed CPUs lead to more CPU bound bottlenecks. If you have a lot of data (\"big\") you're moving data around from disk, RAM, cache and you're likely I/O bound.\n",
    "\n",
    "#### (Memory Bound)\n",
    "\n",
    "\"time to complete a given computational problem is decided primarily by the amount of memory required to hold data\" - wikipedia.\n",
    "\n",
    "<img src=\"https://www.evernote.com/l/AUUzntxvU9BHWJMZSH_CL3S7YRUjThJTrPEB/image.png\">\n",
    "\n",
    "Source: http://www.slideshare.net/ManojitNandi/parallel-programming-in-python-speeding-up-your-analysis"
   ]
  },
  {
   "cell_type": "markdown",
   "metadata": {},
   "source": [
    "# Processes & Threads\n",
    "\n",
    "Each Python interpreter runs in a `process,` containing the program code, stack, and its current activity. "
   ]
  },
  {
   "cell_type": "code",
   "execution_count": 3,
   "metadata": {
    "collapsed": false
   },
   "outputs": [
    {
     "data": {
      "text/plain": [
       "1288"
      ]
     },
     "execution_count": 3,
     "metadata": {},
     "output_type": "execute_result"
    }
   ],
   "source": [
    "import os\n",
    "os.getpid()"
   ]
  },
  {
   "cell_type": "markdown",
   "metadata": {},
   "source": [
    "Within a process one can create a set of `threads` which share everything with the process in which they were spawned (memory, data, state). But, most generally, they are little programs (with their own stack) that execute `concurrently` (independent of each other). Since they share things like memory, it requires the programmer to \"lock\" everything that might conflict. The way we make many threads in Python is using the `threading` module.\n",
    "\n",
    "<div class=\"alert alert-info\">The Global Interpreter Lock (GIL) in Python stops threads from truly happening in parallel. That is, the interpreter can only operate one thread at a time. This is an impliementation detail of how CPython was programmed. Many things you use push threads down into the C-layer and \"avoid the GIL\". </div>\n",
    "\n",
    "You can also make many processes, which are copies of the original parent process (memory, data, state) and act independently of each other. To share data between them you have to explicitly do that within each process. The Pythonic way we do multiprocessing (creation of new processes, communication between processes) is with `multiprocessing`."
   ]
  },
  {
   "cell_type": "markdown",
   "metadata": {},
   "source": [
    "The goal of computing with `threading` and `multiprocessing` is to not wait around: the CPU should not be idle if it doesn't have too. AND since we almost always have multiple cores, we should be able to let the work we want to do happen in parallel over those cores."
   ]
  },
  {
   "cell_type": "markdown",
   "metadata": {},
   "source": [
    "### Threading\n",
    "\n",
    "`threading.Thread(target=f, args=(...))` is the basic way to use function `f` with arguments in a thread.\n",
    "\n",
    "`.start()`: Calls the `.run()` of a thread object. This method will raise a `RuntimeError` if called more than once on the same thread object."
   ]
  },
  {
   "cell_type": "code",
   "execution_count": 23,
   "metadata": {
    "collapsed": false
   },
   "outputs": [
    {
     "name": "stdout",
     "output_type": "stream",
     "text": [
      "Worker: 0\n",
      "Worker: 1\n",
      "Worker: 2\n",
      "Worker: 3\n",
      "Worker: 4\n"
     ]
    },
    {
     "data": {
      "text/plain": [
       "[<Thread(Thread-51, stopped 123145330724864)>,\n",
       " <Thread(Thread-52, stopped 123145330724864)>,\n",
       " <Thread(Thread-53, stopped 123145330724864)>,\n",
       " <Thread(Thread-54, stopped 123145330724864)>,\n",
       " <Thread(Thread-55, stopped 123145330724864)>]"
      ]
     },
     "execution_count": 23,
     "metadata": {},
     "output_type": "execute_result"
    }
   ],
   "source": [
    "import threading\n",
    "\n",
    "def worker(num):\n",
    "    \"\"\"thread worker function\"\"\"\n",
    "    print('Worker: %s' % num)\n",
    "    return\n",
    "\n",
    "threads = []\n",
    "for i in range(5):\n",
    "    t = threading.Thread(target=worker, args=(i,))\n",
    "    threads.append(t)\n",
    "    t.start()\n",
    "threads"
   ]
  },
  {
   "cell_type": "code",
   "execution_count": 24,
   "metadata": {
    "collapsed": false
   },
   "outputs": [
    {
     "name": "stdout",
     "output_type": "stream",
     "text": [
      "Worker: 0\n",
      "Worker: 1\n",
      "Worker: 2\n",
      "Worker: 3\n",
      "Worker: 4\n",
      "CPU times: user 1.46 ms, sys: 1.38 ms, total: 2.84 ms\n",
      "Wall time: 3.65 ms\n"
     ]
    }
   ],
   "source": [
    "%%time\n",
    "threads = []\n",
    "for i in range(5):\n",
    "    t = threading.Thread(target=worker, args=(i,))\n",
    "    threads.append(t)\n",
    "    t.start()"
   ]
  },
  {
   "cell_type": "markdown",
   "metadata": {},
   "source": [
    "Despite the GIL, threads wont get in each other's way if they are idle."
   ]
  },
  {
   "cell_type": "code",
   "execution_count": 9,
   "metadata": {
    "collapsed": true
   },
   "outputs": [],
   "source": [
    "import IPython"
   ]
  },
  {
   "cell_type": "code",
   "execution_count": 10,
   "metadata": {
    "collapsed": false
   },
   "outputs": [
    {
     "data": {
      "text/plain": [
       "'5.1.0'"
      ]
     },
     "execution_count": 10,
     "metadata": {},
     "output_type": "execute_result"
    }
   ],
   "source": [
    "IPython.__version__"
   ]
  },
  {
   "cell_type": "code",
   "execution_count": 28,
   "metadata": {
    "collapsed": false
   },
   "outputs": [
    {
     "name": "stderr",
     "output_type": "stream",
     "text": [
      "(Thread-67) worker: 0 sleeping for 4 s, name: Thread-67\n",
      "(Thread-68) worker: 1 sleeping for 2 s, name: Thread-68\n",
      "(Thread-69) worker: 2 sleeping for 1 s, name: Thread-69\n",
      "(Thread-70) worker: 3 sleeping for 5 s, name: Thread-70\n",
      "(Thread-71) worker: 4 sleeping for 3 s, name: Thread-71\n",
      "(Thread-69) done\n",
      "(Thread-68) done\n",
      "(Thread-71) done\n",
      "(Thread-67) done\n",
      "(Thread-70) done\n"
     ]
    }
   ],
   "source": [
    "#%%time\n",
    "import logging\n",
    "import random\n",
    "import time\n",
    "\n",
    "root = logging.getLogger()\n",
    "root.handlers = []\n",
    "logging.basicConfig(level=logging.DEBUG,\n",
    "                    format='(%(threadName)-9s) %(message)s',)\n",
    "\n",
    "import threading\n",
    "\n",
    "def worker(num):\n",
    "    \"\"\"thread worker function\"\"\"\n",
    "    \n",
    "    sleep_time = random.randint(1,5)\n",
    "    logging.debug('worker: {0} sleeping for {1} s, name: {2}'\n",
    "                   .format(num,sleep_time,threading.current_thread().getName()))\n",
    "    time.sleep(sleep_time)\n",
    "    logging.debug('done')\n",
    "    return\n",
    "\n",
    "threads = []\n",
    "for i in range(5):\n",
    "    t = threading.Thread(target=worker, args=(i,))\n",
    "    threads.append(t)\n",
    "    t.start()"
   ]
  },
  {
   "cell_type": "markdown",
   "metadata": {},
   "source": [
    "`.join()`"
   ]
  },
  {
   "cell_type": "code",
   "execution_count": 15,
   "metadata": {
    "collapsed": false
   },
   "outputs": [
    {
     "data": {
      "text/plain": [
       "False"
      ]
     },
     "execution_count": 15,
     "metadata": {},
     "output_type": "execute_result"
    }
   ],
   "source": [
    "t.is_alive()"
   ]
  },
  {
   "cell_type": "code",
   "execution_count": 18,
   "metadata": {
    "collapsed": false
   },
   "outputs": [
    {
     "name": "stderr",
     "output_type": "stream",
     "text": [
      "(Thread-41) worker: 0 sleeping for 4 s, name: Thread-41\n",
      "(Thread-41) done\n",
      "(Thread-42) worker: 1 sleeping for 5 s, name: Thread-42\n",
      "(Thread-42) done\n"
     ]
    },
    {
     "name": "stdout",
     "output_type": "stream",
     "text": [
      "CPU times: user 6.36 ms, sys: 2.94 ms, total: 9.3 ms\n",
      "Wall time: 9.01 s\n"
     ]
    }
   ],
   "source": [
    "%%time\n",
    "# not very parallel ... \n",
    "threads = []\n",
    "for i in range(2):\n",
    "    t = threading.Thread(target=worker, args=(i,))\n",
    "    threads.append(t)\n",
    "    t.start()\n",
    "    t.join() # this waits for the thread to finish"
   ]
  },
  {
   "cell_type": "code",
   "execution_count": 29,
   "metadata": {
    "collapsed": false
   },
   "outputs": [
    {
     "name": "stdout",
     "output_type": "stream",
     "text": [
      "waiting around a bit, then starting threads\n"
     ]
    },
    {
     "name": "stderr",
     "output_type": "stream",
     "text": [
      "(Thread-72) worker: 0 sleeping for 5 s, name: Thread-72\n",
      "(Thread-73) worker: 1 sleeping for 2 s, name: Thread-73\n",
      "(Thread-73) done\n",
      "(Thread-72) done\n"
     ]
    },
    {
     "name": "stdout",
     "output_type": "stream",
     "text": [
      "I'm really done with all the threads.\n",
      "CPU times: user 6.36 ms, sys: 2.53 ms, total: 8.9 ms\n",
      "Wall time: 5.01 s\n"
     ]
    }
   ],
   "source": [
    "%%time\n",
    "threads = []\n",
    "for i in range(2):\n",
    "    t = threading.Thread(target=worker, args=(i,))\n",
    "    threads.append(t)\n",
    "\n",
    "print(\"waiting around a bit, then starting threads\",flush=True)\n",
    "# time.sleep(2)\n",
    "\n",
    "# dont have to start a thread immediately after creating them\n",
    "for t in threads:\n",
    "    t.start() \n",
    "\n",
    "for t in threads:\n",
    "    t.join() # this waits for the thread to finish\n",
    "\n",
    "print(\"I'm really done with all the threads.\")"
   ]
  },
  {
   "cell_type": "markdown",
   "metadata": {},
   "source": [
    "A few things:\n",
    "\n",
    "- `logging` is \"thread-safe\" -- so different threads can write to the log file without causing issues\n",
    "- you can always get a handle to the current thread with `threading.current_thread()`"
   ]
  },
  {
   "cell_type": "markdown",
   "metadata": {},
   "source": [
    "You can delay the start of the execution of a thread with `Timer`\n",
    "\n",
    "```python\n",
    "threading.Timer(interval, function, args=None, kwargs=None)\n",
    "```"
   ]
  },
  {
   "cell_type": "code",
   "execution_count": 31,
   "metadata": {
    "collapsed": false
   },
   "outputs": [
    {
     "name": "stderr",
     "output_type": "stream",
     "text": [
      "(MainThread) starting Thread-76 with delay 5\n",
      "(MainThread) starting Thread-77 with delay 3\n",
      "(Thread-77) worker: 1 sleeping for 5 s, name: Thread-77\n",
      "(Thread-76) worker: 0 sleeping for 4 s, name: Thread-76\n",
      "(Thread-77) done\n",
      "(Thread-76) done\n"
     ]
    }
   ],
   "source": [
    "threads = []\n",
    "for i in range(2):\n",
    "    r = random.randint(1,5)\n",
    "    t = threading.Timer(r, worker, args=(i,))\n",
    "    threads.append(t)\n",
    "    logging.debug(\"starting {0} with delay {1}\"\n",
    "                  .format(t.getName(),r))\n",
    "    threads[-1].start()"
   ]
  },
  {
   "cell_type": "markdown",
   "metadata": {},
   "source": [
    "You can share variables (safely) between threads with a `queue`:"
   ]
  },
  {
   "cell_type": "code",
   "execution_count": 34,
   "metadata": {
    "collapsed": false
   },
   "outputs": [
    {
     "name": "stderr",
     "output_type": "stream",
     "text": [
      "(Thread-80) worker: 0 sleeping for 3 s, name: Thread-80\n",
      "(Thread-81) worker: 1 sleeping for 1 s, name: Thread-81\n",
      "(Thread-81) initiated q = 1\n",
      "(Thread-81) done\n",
      "(Thread-80) var 1\n",
      "(Thread-80) added 3 to the q\n",
      "(Thread-80) done\n"
     ]
    }
   ],
   "source": [
    "from queue import Queue\n",
    "\n",
    "q = Queue()\n",
    "\n",
    "def worker2(num):\n",
    "    sleep_time = random.randint(1,5)\n",
    "    \n",
    "    logging.debug('worker: {0} sleeping for {1} s, name: {2}'\n",
    "                   .format(num,sleep_time,threading.current_thread().getName()))\n",
    "    time.sleep(sleep_time)\n",
    "\n",
    "    if q.empty():\n",
    "        q.put(sleep_time)\n",
    "        logging.debug(\"initiated q = {0}\".format(sleep_time))\n",
    "    else:\n",
    "        var = q.get()\n",
    "        logging.debug(\"var {0}\".format(var))\n",
    "        q.put(sleep_time + var)\n",
    "        logging.debug(\"added {0} to the q\".format(sleep_time))\n",
    "        \n",
    "    logging.debug('done')\n",
    "    return\n",
    "\n",
    "threads = []\n",
    "for i in range(2):\n",
    "    t = threading.Thread(target=worker2, args=(i,))\n",
    "    threads.append(t)\n",
    "    t.start()"
   ]
  },
  {
   "cell_type": "code",
   "execution_count": 35,
   "metadata": {
    "collapsed": false
   },
   "outputs": [
    {
     "data": {
      "text/plain": [
       "4"
      ]
     },
     "execution_count": 35,
     "metadata": {},
     "output_type": "execute_result"
    }
   ],
   "source": [
    "q.get()"
   ]
  },
  {
   "cell_type": "markdown",
   "metadata": {},
   "source": [
    "Threads can also signal each other with `Event` and can thresholds for the numbers of finished threads can be created with `Barrier`. There are low-level primiatives (pushed to the UNIX \\_pthreads level) called `locks` and `semaphores` that we'll not bother with here."
   ]
  },
  {
   "cell_type": "markdown",
   "metadata": {},
   "source": [
    "Threading can be done with objects. You can subclass `threading.Thread` and create your own threads that know how to run."
   ]
  },
  {
   "cell_type": "code",
   "execution_count": 37,
   "metadata": {
    "collapsed": false
   },
   "outputs": [
    {
     "data": {
      "text/plain": [
       "['PING google.com (216.58.192.14): 56 data bytes\\n',\n",
       " '\\n',\n",
       " '--- google.com ping statistics ---\\n',\n",
       " '2 packets transmitted, 2 packets received, 0.0% packet loss\\n',\n",
       " 'round-trip min/avg/max/stddev = 3.812/3.827/3.841/0.014 ms\\n']"
      ]
     },
     "execution_count": 37,
     "metadata": {},
     "output_type": "execute_result"
    }
   ],
   "source": [
    "os.popen(\"ping -q -c2 google.com\",\"r\").readlines()"
   ]
  },
  {
   "cell_type": "code",
   "execution_count": 45,
   "metadata": {
    "collapsed": false
   },
   "outputs": [
    {
     "name": "stdout",
     "output_type": "stream",
     "text": [
      "Status of google.com is alive\n",
      "Status of slashdot.com is alive\n",
      "Status of berkeley.edu is alive\n",
      "Status of google.org is alive\n"
     ]
    }
   ],
   "source": [
    "# adapted from http://www.python-course.eu/threads.php\n",
    "import os, re, threading\n",
    "\n",
    "# mac\n",
    "received_packages = re.compile(r\"(\\d).*received\")\n",
    "\n",
    "\n",
    "class ip_check(threading.Thread):\n",
    "  \n",
    "    def __init__ (self,ip):\n",
    "      threading.Thread.__init__(self)\n",
    "      self.ip = ip\n",
    "      self.__successful_pings = -1\n",
    "   \n",
    "    def run(self):\n",
    "      ping_out = os.popen(\"ping -q -c2 \"+self.ip,\"r\")\n",
    "      while True:\n",
    "        lines = ping_out.readlines()\n",
    "        if not lines or len(lines) < 3: \n",
    "            break\n",
    "        n_received = re.findall(received_packages,lines[3])\n",
    "        if n_received:\n",
    "           self.__successful_pings = int(n_received[0])\n",
    "        \n",
    "    def status(self):\n",
    "      if self.__successful_pings == 0:\n",
    "         return \"has no response\"\n",
    "      elif self.__successful_pings == 1:\n",
    "         return \"is alive, but 50 % package loss\"\n",
    "      elif self.__successful_pings == 2:\n",
    "         return \"is alive\"\n",
    "      else:\n",
    "         return \"not reachable\"\n",
    "\n",
    "check_results = []\n",
    "for ip in [\"google.com\",\"slashdot.com\",\"berkeley.edu\",\"google.org\"]:\n",
    "   current = ip_check(ip)\n",
    "   check_results.append(current)\n",
    "   current.start()\n",
    "\n",
    "for el in check_results:\n",
    "   el.join()\n",
    "   print(\"Status of\", el.ip,el.status())"
   ]
  },
  {
   "cell_type": "markdown",
   "metadata": {},
   "source": [
    "### Breakout\n",
    "\n",
    "Using threading, grab the titles of random 10 wikipedia webpages using https://en.wikipedia.org/wiki/Special:Random. Count the total number of characters returned over all 10 pages."
   ]
  },
  {
   "cell_type": "code",
   "execution_count": null,
   "metadata": {
    "collapsed": true
   },
   "outputs": [],
   "source": []
  },
  {
   "cell_type": "markdown",
   "metadata": {},
   "source": [
    "Aside: for asynchronous I/O tasks you might consider using an event loop. Use the built in `asyncio` and, for gathering webpages, use `aiohttp` (http://aiohttp.readthedocs.io/en/stable/)."
   ]
  },
  {
   "cell_type": "code",
   "execution_count": null,
   "metadata": {
    "collapsed": false,
    "scrolled": true
   },
   "outputs": [],
   "source": [
    "!pip install aiohttp"
   ]
  },
  {
   "cell_type": "code",
   "execution_count": null,
   "metadata": {
    "collapsed": false
   },
   "outputs": [],
   "source": [
    "import asyncio\n",
    "from aiohttp import ClientSession\n",
    "from bs4 import BeautifulSoup\n",
    "\n",
    "async def fetch(url, session):\n",
    "    async with session.get(url) as response:\n",
    "        return await response.read()\n",
    "\n",
    "async def run(loop,  r):\n",
    "    url = \"https://en.wikipedia.org/wiki/Special:Random\"\n",
    "    tasks = []\n",
    "\n",
    "    # Fetch all responses within one Client session,\n",
    "    # keep connection alive for all requests.\n",
    "    async with ClientSession() as session:\n",
    "        for i in range(r):\n",
    "            task = asyncio.ensure_future(fetch(url, session))\n",
    "            tasks.append(task)\n",
    "\n",
    "        responses = await asyncio.gather(*tasks)\n",
    "        # you now have all response bodies in this variable\n",
    "    \n",
    "    for resp in responses:\n",
    "        print(\"title=\",BeautifulSoup(resp, 'html.parser')\n",
    "              .title.string.split(\"- Wikipedia\")[0],\"len=\",len(resp))\n",
    "\n",
    "loop = asyncio.get_event_loop()\n",
    "future = asyncio.ensure_future(run(loop, 4))\n",
    "loop.run_until_complete(future)"
   ]
  },
  {
   "cell_type": "code",
   "execution_count": null,
   "metadata": {
    "collapsed": true
   },
   "outputs": [],
   "source": []
  }
 ],
 "metadata": {
  "kernelspec": {
   "display_name": "Python 3",
   "language": "python",
   "name": "python3"
  },
  "language_info": {
   "codemirror_mode": {
    "name": "ipython",
    "version": 3
   },
   "file_extension": ".py",
   "mimetype": "text/x-python",
   "name": "python",
   "nbconvert_exporter": "python",
   "pygments_lexer": "ipython3",
   "version": "3.5.2"
  }
 },
 "nbformat": 4,
 "nbformat_minor": 0
}
