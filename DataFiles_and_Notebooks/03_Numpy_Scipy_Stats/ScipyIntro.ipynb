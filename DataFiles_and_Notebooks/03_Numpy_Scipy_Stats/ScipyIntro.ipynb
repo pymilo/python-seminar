{
 "cells": [
  {
   "cell_type": "code",
   "execution_count": null,
   "metadata": {},
   "outputs": [],
   "source": [
    "%run ../00_AdvancedPythonConcepts/talktools.py"
   ]
  },
  {
   "cell_type": "markdown",
   "metadata": {},
   "source": [
    "# A brief introduction to SciPy"
   ]
  },
  {
   "cell_type": "markdown",
   "metadata": {},
   "source": [
    "Scipy is a collection of packages, these typically need to be imported separately:\n",
    "\n",
    "     cluster                      : Vector Quantization / Kmeans\n",
    "     fftpack                      : Discrete Fourier Transform algorithms\n",
    "     integrate                    : Integration routines\n",
    "     interpolate                  : Interpolation Tools\n",
    "     io                           : Data input and output\n",
    "     lib                          : Python wrappers to external libraries\n",
    "     lib.blas                     : Wrappers to BLAS library\n",
    "     lib.lapack                   : Wrappers to LAPACK library\n",
    "     linalg                       : Linear algebra routines\n",
    "     misc                         : Various utilities that don't have another home.\n",
    "     ndimage                      : n-dimensional image package\n",
    "     odr                          : Orthogonal Distance Regression\n",
    "     optimize                     : Optimization Tools\n",
    "     signal                       : Signal Processing Tools\n",
    "     sparse                       : Sparse Matrices\n",
    "     sparse.linalg                : Sparse Linear Algebra\n",
    "     sparse.linalg.dsolve         : Linear Solvers\n",
    "     sparse.linalg.dsolve.umfpack : :Interface to the UMFPACK library:\n",
    "     sparse.linalg.eigen          : Sparse Eigenvalue Solvers\n",
    "     sparse.linalg.eigen.arpack   : Eigenvalue solver using iterative methods.\n",
    "     sparse.linalg.eigen.lobpcg   : Locally Optimal Block Preconditioned\n",
    "                                      Conjugate Gradient Method (LOBPCG)     \n",
    "     spatial                      : Spatial data structures and algorithms\n",
    "     special                      : Airy Functions\n",
    "     stats                        : Statistical Functions\n",
    "     stats.mstats                 : Statistical functions for masked arrays\n",
    "     weave                        : C/C++ integration"
   ]
  },
  {
   "cell_type": "markdown",
   "metadata": {},
   "source": [
    "## Vectorizing for speed\n",
    "\n",
    "This is silly:"
   ]
  },
  {
   "cell_type": "code",
   "execution_count": null,
   "metadata": {},
   "outputs": [],
   "source": [
    "from __future__ import absolute_import, division, print_function\n",
    "import numpy as np\n",
    "\n",
    "def dumb_myfun(a, b):\n",
    "    return np.array([a[i] if a[i] < b else 2*b for i in range(len(a))])"
   ]
  },
  {
   "cell_type": "code",
   "execution_count": null,
   "metadata": {},
   "outputs": [],
   "source": [
    "x = np.arange(1.e6)/1.e6\n",
    "x"
   ]
  },
  {
   "cell_type": "code",
   "execution_count": null,
   "metadata": {},
   "outputs": [],
   "source": [
    "%timeit dumb_myfun(x, 0.5)"
   ]
  },
  {
   "cell_type": "markdown",
   "metadata": {},
   "source": [
    "We can use `scipy.vectorize`, which is similar to `map` but operates fast on numpy arrays:"
   ]
  },
  {
   "cell_type": "code",
   "execution_count": null,
   "metadata": {},
   "outputs": [],
   "source": [
    "import scipy as sp\n",
    "myfun = lambda a,b: a if a < b else 2*b\n",
    "vec_myfun = sp.vectorize(myfun)\n",
    "vec_myfun"
   ]
  },
  {
   "cell_type": "code",
   "execution_count": null,
   "metadata": {},
   "outputs": [],
   "source": [
    "%timeit vec_myfun(x, 0.5)"
   ]
  },
  {
   "cell_type": "markdown",
   "metadata": {},
   "source": [
    "Let's not forget `numexpr` we saw earlier today:"
   ]
  },
  {
   "cell_type": "code",
   "execution_count": null,
   "metadata": {},
   "outputs": [],
   "source": [
    "import numexpr as ne\n",
    "b = 0.5\n",
    "%timeit ne.evaluate(\"where(x < %f, x, %f)\" % (b, b*2))"
   ]
  },
  {
   "cell_type": "markdown",
   "metadata": {},
   "source": [
    "# Scipy constants"
   ]
  },
  {
   "cell_type": "markdown",
   "metadata": {},
   "source": [
    "`scipy.constants` is a convenient compilation of the [2014 CODATA constants](http://physics.nist.gov/cuu/Constants/index.html)."
   ]
  },
  {
   "cell_type": "code",
   "execution_count": null,
   "metadata": {},
   "outputs": [],
   "source": [
    "from scipy import constants as cons\n",
    "print(cons.milli, cons.eV, cons.c)"
   ]
  },
  {
   "cell_type": "code",
   "execution_count": null,
   "metadata": {},
   "outputs": [],
   "source": [
    "cons.physical_constants"
   ]
  },
  {
   "cell_type": "code",
   "execution_count": null,
   "metadata": {},
   "outputs": [],
   "source": [
    "len(cons.physical_constants)"
   ]
  },
  {
   "cell_type": "markdown",
   "metadata": {},
   "source": [
    "We can even search it like a little database:"
   ]
  },
  {
   "cell_type": "code",
   "execution_count": null,
   "metadata": {},
   "outputs": [],
   "source": [
    "cons.find('Newton')"
   ]
  },
  {
   "cell_type": "code",
   "execution_count": null,
   "metadata": {},
   "outputs": [],
   "source": [
    "G = cons.value('Newtonian constant of gravitation')\n",
    "G_u = cons.unit('Newtonian constant of gravitation')\n",
    "G_e = cons.precision('Newtonian constant of gravitation')\n",
    "print('G = ', G, '±', G_e*G, G_u)"
   ]
  },
  {
   "cell_type": "markdown",
   "metadata": {},
   "source": [
    "It also provides some handy unit conversions:"
   ]
  },
  {
   "cell_type": "code",
   "execution_count": null,
   "metadata": {},
   "outputs": [],
   "source": [
    "print('32 F in K:', cons.F2K(32))\n",
    "print('32 F in C:', cons.F2C(32))"
   ]
  },
  {
   "cell_type": "markdown",
   "metadata": {},
   "source": [
    "# Interpolation"
   ]
  },
  {
   "cell_type": "code",
   "execution_count": null,
   "metadata": {
    "collapsed": true
   },
   "outputs": [],
   "source": [
    "from scipy.interpolate import interp1d, UnivariateSpline\n",
    "from scipy import constants as cons"
   ]
  },
  {
   "cell_type": "code",
   "execution_count": null,
   "metadata": {},
   "outputs": [],
   "source": [
    "# set up some fake data, listing locations versus time\n",
    "rng = np.random.RandomState(42)\n",
    "\n",
    "M = 5.98e24  # mass and radius of Earth\n",
    "R = 6.38e6\n",
    "accel = cons.G*M/R**2  # Earth's grav acceleration\n",
    "times = np.arange(0,10,0.5)  # seconds\n",
    "locations = 0.5*accel*times**2 + 50*np.random.random(len(times))\n",
    "\n",
    "# now interpolate onto a much finer grid, using both iterp1d and UnivariateSpline\n",
    "i_times = np.arange(0.5,9,0.1)\n",
    "# list of interpolated values of location at i_times\n",
    "i_locs = interp1d(times, locations, kind=\"cubic\")\n",
    "s = UnivariateSpline(times, locations) # a function that will return interpolated values"
   ]
  },
  {
   "cell_type": "code",
   "execution_count": null,
   "metadata": {},
   "outputs": [],
   "source": [
    "%matplotlib inline\n",
    "import matplotlib.pylab as plt"
   ]
  },
  {
   "cell_type": "code",
   "execution_count": null,
   "metadata": {},
   "outputs": [],
   "source": [
    "# plot up several different views of this example\n",
    "plt.figure(figsize=(8,8))\n",
    "plt.errorbar(times, locations, yerr=50/2.35, linestyle='None', marker=\".\", label='data')\n",
    "plt.plot(i_times, s(i_times), c=\"g\", lw=10, alpha=0.3, label='UnivariateSpline')\n",
    "plt.plot(i_times, i_locs(i_times), c=\"black\", lw=1, alpha=0.9, label='interp1d')\n",
    "plt.ylabel('locations',fontsize=15)\n",
    "plt.xlabel('times (s)',fontsize=15)\n",
    "plt.legend(loc='best');"
   ]
  },
  {
   "cell_type": "markdown",
   "metadata": {},
   "source": [
    "## Numerical Integration"
   ]
  },
  {
   "cell_type": "code",
   "execution_count": null,
   "metadata": {},
   "outputs": [],
   "source": [
    "from scipy.integrate import quad\n",
    "val, err =quad( lambda x: np.sin(x) , 0 , np.pi, full_output=False)\n",
    "print(val, err)"
   ]
  },
  {
   "cell_type": "code",
   "execution_count": null,
   "metadata": {},
   "outputs": [],
   "source": [
    "from scipy.integrate import ode\n",
    "ode?"
   ]
  },
  {
   "cell_type": "markdown",
   "metadata": {},
   "source": [
    "## Special functions"
   ]
  },
  {
   "cell_type": "code",
   "execution_count": null,
   "metadata": {},
   "outputs": [],
   "source": [
    "from scipy import special\n",
    "special?"
   ]
  },
  {
   "cell_type": "code",
   "execution_count": null,
   "metadata": {},
   "outputs": [],
   "source": [
    "from scipy.special import betainc\n",
    "betainc(10, 10, 0.2)"
   ]
  },
  {
   "cell_type": "markdown",
   "metadata": {},
   "source": [
    "## Polynomial Fitting"
   ]
  },
  {
   "cell_type": "markdown",
   "metadata": {},
   "source": [
    "Basic (least squares) polynomial fitting can be performed using the polyfit routine. More complicated fitting tasks require scipy."
   ]
  },
  {
   "cell_type": "code",
   "execution_count": null,
   "metadata": {},
   "outputs": [],
   "source": [
    "x = np.array([0.0, 1.0, 2.0, 3.0, 4.0, 5.0])\n",
    "y = np.array([0.0, 0.8, 0.9, 0.1, -0.8, -1.0])\n",
    "\n",
    "f, ax = plt.subplots()\n",
    "ax.plot(x, y, 'o', label='data');\n",
    "ax.legend();"
   ]
  },
  {
   "cell_type": "markdown",
   "metadata": {},
   "source": [
    "Let's fit this data with a cubic polynomial"
   ]
  },
  {
   "cell_type": "code",
   "execution_count": null,
   "metadata": {},
   "outputs": [],
   "source": [
    "z = np.polyfit(x, y, 3)\n",
    "p = np.poly1d(z)\n",
    "ax.plot(x, p(x), '-', lw=2, label='$p_3(x)$')\n",
    "ax.set_ylim(-2, 2)\n",
    "ax.legend()\n",
    "f"
   ]
  },
  {
   "cell_type": "markdown",
   "metadata": {},
   "source": [
    "And now let' try to fit it with a degree *30* one:"
   ]
  },
  {
   "cell_type": "code",
   "execution_count": null,
   "metadata": {},
   "outputs": [],
   "source": [
    "p30 = np.poly1d(np.polyfit(x, y, 30))\n",
    "xp = np.linspace(-2, 6, 100)\n",
    "ax.plot(xp, p30(xp), '--', lw=2, label='$p_{30}(x)$')\n",
    "ax.legend(fontsize=15)\n",
    "f"
   ]
  },
  {
   "cell_type": "markdown",
   "metadata": {},
   "source": [
    "## Optimization"
   ]
  },
  {
   "cell_type": "markdown",
   "metadata": {},
   "source": [
    "A simple Least Squares Fitting example. Note that in practice, you may want to choose `fmin` which provides finer control than `leastsq`.  But for simple cases `leastsq` is sufficient: "
   ]
  },
  {
   "cell_type": "code",
   "execution_count": null,
   "metadata": {},
   "outputs": [],
   "source": [
    "from scipy.optimize import leastsq\n",
    "from numpy import sin, cos, pi, sqrt\n",
    "\n",
    "# Define a simple signal model\n",
    "def model(par):\n",
    "    p = 1.0 # constant frequency\n",
    "    return par[0] + par[1]*sin(2*pi*t/p) + par[2]*cos(2*pi*t/p)\n",
    "\n",
    "# Create some data with this model\n",
    "par = [0.1, 1.5, 2]\n",
    "t = np.linspace(0, pi, 300)\n",
    "y = model(par)\n",
    "\n",
    "# Add a bit of gaussian noise\n",
    "dy = 0.5*np.random.rand(y.shape[0])\n",
    "y += dy\n",
    "\n",
    "# Define the residual function we minimize, simply the squared error\n",
    "def resid(par):\n",
    "    return (model(par)-y)**2\n",
    "\n",
    "# And call leastsq for the fit (note that it returns a tuple whose first\n",
    "# element is the parameter fit, what we actually want):\n",
    "rez = leastsq(resid, [y.mean(), 1, 1] )[0]\n",
    "\n",
    "print('Exact parameters: ', par)\n",
    "print('Fitted parameters:', rez)"
   ]
  },
  {
   "cell_type": "markdown",
   "metadata": {},
   "source": [
    "A quick visual verification:"
   ]
  },
  {
   "cell_type": "code",
   "execution_count": null,
   "metadata": {},
   "outputs": [],
   "source": [
    "plt.plot(t, y, label='data')\n",
    "plt.plot(t, model(rez), label='model')\n",
    "plt.legend();"
   ]
  },
  {
   "cell_type": "code",
   "execution_count": null,
   "metadata": {},
   "outputs": [],
   "source": []
  }
 ],
 "metadata": {
  "kernelspec": {
   "display_name": "Python 3",
   "language": "python",
   "name": "python3"
  },
  "language_info": {
   "codemirror_mode": {
    "name": "ipython",
    "version": 3
   },
   "file_extension": ".py",
   "mimetype": "text/x-python",
   "name": "python",
   "nbconvert_exporter": "python",
   "pygments_lexer": "ipython3",
   "version": "3.6.3"
  }
 },
 "nbformat": 4,
 "nbformat_minor": 1
}
