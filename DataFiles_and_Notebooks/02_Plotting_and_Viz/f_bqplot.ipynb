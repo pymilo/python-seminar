{
 "cells": [
  {
   "cell_type": "code",
   "execution_count": 17,
   "metadata": {},
   "outputs": [
    {
     "data": {
      "text/html": [
       "<style>\n",
       "\n",
       ".rendered_html\n",
       "{\n",
       "  color: #2C5494;\n",
       "  font-family: Ubuntu;\n",
       "  font-size: 140%;\n",
       "  line-height: 1.1;\n",
       "  margin: 0.5em 0;\n",
       "  }\n",
       "\n",
       ".talk_title\n",
       "{\n",
       "  color: #498AF3;\n",
       "  font-size: 250%;\n",
       "  font-weight:bold;\n",
       "  line-height: 1.2; \n",
       "  margin: 10px 50px 10px;\n",
       "  }\n",
       "\n",
       ".subtitle\n",
       "{\n",
       "  color: #386BBC;\n",
       "  font-size: 180%;\n",
       "  font-weight:bold;\n",
       "  line-height: 1.2; \n",
       "  margin: 20px 50px 20px;\n",
       "  }\n",
       "\n",
       ".slide-header, p.slide-header\n",
       "{\n",
       "  color: #498AF3;\n",
       "  font-size: 200%;\n",
       "  font-weight:bold;\n",
       "  margin: 0px 20px 10px;\n",
       "  page-break-before: always;\n",
       "  text-align: center;\n",
       "  }\n",
       "\n",
       ".rendered_html h1\n",
       "{\n",
       "  color: #498AF3;\n",
       "  line-height: 1.2; \n",
       "  margin: 0.15em 0em 0.5em;\n",
       "  page-break-before: always;\n",
       "  text-align: center;\n",
       "  }\n",
       "\n",
       "\n",
       ".rendered_html h2\n",
       "{ \n",
       "  color: #386BBC;\n",
       "  line-height: 1.2;\n",
       "  margin: 1.1em 0em 0.5em;\n",
       "  }\n",
       "\n",
       ".rendered_html h3\n",
       "{ \n",
       "  font-size: 100%;\n",
       "  line-height: 1.2;\n",
       "  margin: 1.1em 0em 0.5em;\n",
       "  }\n",
       "\n",
       ".rendered_html li\n",
       "{\n",
       "  line-height: 1.8;\n",
       "  }\n",
       "\n",
       ".input_prompt, .CodeMirror-lines, .output_area\n",
       "{\n",
       "  font-family: Consolas;\n",
       "  font-size: 120%;\n",
       "  }\n",
       "\n",
       ".gap-above\n",
       "{\n",
       "  padding-top: 200px;\n",
       "  }\n",
       "\n",
       ".gap01\n",
       "{\n",
       "  padding-top: 10px;\n",
       "  }\n",
       "\n",
       ".gap05\n",
       "{\n",
       "  padding-top: 50px;\n",
       "  }\n",
       "\n",
       ".gap1\n",
       "{\n",
       "  padding-top: 100px;\n",
       "  }\n",
       "\n",
       ".gap2\n",
       "{\n",
       "  padding-top: 200px;\n",
       "  }\n",
       "\n",
       ".gap3\n",
       "{\n",
       "  padding-top: 300px;\n",
       "  }\n",
       "\n",
       ".emph\n",
       "{\n",
       "  color: #386BBC;\n",
       "  }\n",
       "\n",
       ".warn\n",
       "{\n",
       "  color: red;\n",
       "  }\n",
       "\n",
       ".center\n",
       "{\n",
       "  text-align: center;\n",
       "  }\n",
       "\n",
       ".nb_link\n",
       "{\n",
       "    padding-bottom: 0.5em;\n",
       "}\n",
       "\n",
       "</style>"
      ],
      "text/plain": [
       "<IPython.core.display.HTML object>"
      ]
     },
     "metadata": {},
     "output_type": "display_data"
    }
   ],
   "source": [
    "%run ../00_AdvancedPythonConcepts/talktools.py"
   ]
  },
  {
   "cell_type": "markdown",
   "metadata": {},
   "source": [
    "# bqplot \n",
    "\n",
    "\"bqplot is a Grammar of Graphics-based interactive plotting framework for the Jupyter notebook... In bqplot, every single attribute of the plot is an interactive widget. This allows the user to integrate any plot with IPython widgets to create a complex and feature rich GUI from just a few simple lines of Python code.\"\n",
    "\n",
    "<img src=\"https://github.com/bloomberg/bqplot/raw/master/bqplot-screencast.gif\">\n",
    "\n",
    "https://github.com/bloomberg/bqplot/blob/master/examples/Applications/Wealth%20of%20Nations.ipynb\n"
   ]
  },
  {
   "cell_type": "code",
   "execution_count": null,
   "metadata": {},
   "outputs": [],
   "source": [
    "from __future__ import print_function\n",
    "from bqplot import pyplot as plt\n",
    "from bqplot import topo_load\n",
    "from bqplot.interacts import panzoom\n",
    "import numpy as np\n",
    "import pandas as pd\n",
    "import datetime as dt"
   ]
  },
  {
   "cell_type": "code",
   "execution_count": null,
   "metadata": {
    "collapsed": true
   },
   "outputs": [],
   "source": [
    "# initializing data to be plotted\n",
    "np.random.seed(0)\n",
    "size = 100\n",
    "y_data = np.cumsum(np.random.randn(size) * 100.0)\n",
    "y_data_2 = np.cumsum(np.random.randn(size))\n",
    "y_data_3 = np.cumsum(np.random.randn(size) * 100.)\n",
    "\n",
    "x = np.linspace(0.0, 10.0, size)\n",
    "price_data = pd.DataFrame(np.cumsum(np.random.randn(150, 2).dot([[0.5, 0.8], [0.8, 1.0]]), axis=0) + 100,\n",
    "                          columns=['Security 1', 'Security 2'],\n",
    "                          index=pd.date_range(start='01-01-2007', periods=150))\n",
    "\n",
    "symbol = 'Security 1'\n",
    "dates_all = price_data.index.values\n",
    "final_prices = price_data[symbol].values.flatten()\n",
    "price_data.index.names = ['date']"
   ]
  },
  {
   "cell_type": "code",
   "execution_count": null,
   "metadata": {},
   "outputs": [],
   "source": [
    "plt.figure()\n",
    "plt.plot(dates_all, final_prices)\n",
    "plt.show()"
   ]
  },
  {
   "cell_type": "code",
   "execution_count": null,
   "metadata": {},
   "outputs": [],
   "source": [
    "plt.figure()\n",
    "plt.geo(map_data='WorldMap')\n",
    "plt.show()"
   ]
  },
  {
   "cell_type": "markdown",
   "metadata": {},
   "source": [
    "## in-browser interactions (with a network)\n",
    "https://github.com/bloomberg/bqplot/blob/master/examples/Applications/Mobile%20Patent%20Suits.ipynb"
   ]
  },
  {
   "cell_type": "code",
   "execution_count": null,
   "metadata": {
    "collapsed": true
   },
   "outputs": [],
   "source": [
    "from itertools import chain\n",
    "\n",
    "from bqplot import OrdinalColorScale, Figure, Graph\n",
    "from ipywidgets import Layout"
   ]
  },
  {
   "cell_type": "code",
   "execution_count": null,
   "metadata": {
    "collapsed": true
   },
   "outputs": [],
   "source": [
    "# mobile patent suits - http://bl.ocks.org/mbostock/1153292\n",
    "suits = [\n",
    "    {'source': 'Microsoft', 'target': 'Amazon', 'type': 'licensing'},\n",
    "    {'source': 'Microsoft', 'target': 'HTC', 'type': 'licensing'},\n",
    "    {'source': 'Samsung', 'target': 'Apple', 'type': 'suit'},\n",
    "    {'source': 'Motorola', 'target': 'Apple', 'type': 'suit'},\n",
    "    {'source': 'Nokia', 'target': 'Apple', 'type': 'resolved'},\n",
    "    {'source': 'HTC', 'target': 'Apple', 'type': 'suit'},\n",
    "    {'source': 'Kodak', 'target': 'Apple', 'type': 'suit'},\n",
    "    {'source': 'Microsoft', 'target': 'Barnes & Noble', 'type': 'suit'},\n",
    "    {'source': 'Microsoft', 'target': 'Foxconn', 'type': 'suit'},\n",
    "    {'source': 'Oracle', 'target': 'Google', 'type': 'suit'},\n",
    "    {'source': 'Apple', 'target': 'HTC', 'type': 'suit'},\n",
    "    {'source': 'Microsoft', 'target': 'Inventec', 'type': 'suit'},\n",
    "    {'source': 'Samsung', 'target': 'Kodak', 'type': 'resolved'},\n",
    "    {'source': 'LG', 'target': 'Kodak', 'type': 'resolved'},\n",
    "    {'source': 'RIM', 'target': 'Kodak', 'type': 'suit'},\n",
    "    {'source': 'Sony', 'target': 'LG', 'type': 'suit'},\n",
    "    {'source': 'Kodak', 'target': 'LG', 'type': 'resolved'},\n",
    "    {'source': 'Apple', 'target': 'Nokia', 'type': 'resolved'},\n",
    "    {'source': 'Qualcomm', 'target': 'Nokia', 'type': 'resolved'},\n",
    "    {'source': 'Apple', 'target': 'Motorola', 'type': 'suit'},\n",
    "    {'source': 'Microsoft', 'target': 'Motorola', 'type': 'suit'},\n",
    "    {'source': 'Motorola', 'target': 'Microsoft', 'type': 'suit'},\n",
    "    {'source': 'Huawei', 'target': 'ZTE', 'type': 'suit'},\n",
    "    {'source': 'Ericsson', 'target': 'ZTE', 'type': 'suit'},\n",
    "    {'source': 'Kodak', 'target': 'Samsung', 'type': 'resolved'},\n",
    "    {'source': 'Apple', 'target': 'Samsung', 'type': 'suit'},\n",
    "    {'source': 'Kodak', 'target': 'RIM', 'type': 'suit'},\n",
    "    {'source': 'Nokia', 'target': 'Qualcomm', 'type': 'suit'},\n",
    "]"
   ]
  },
  {
   "cell_type": "code",
   "execution_count": null,
   "metadata": {},
   "outputs": [],
   "source": [
    "# transform data into nodes and links\n",
    "nodes = list(set(chain(*((suit['source'], suit['target']) for suit in suits))))\n",
    "\n",
    "# set custom node attrs\n",
    "node_data = [{'label': node, 'shape_attrs': {'r': 6}, 'label_display': 'outside'} for node in nodes]\n",
    "# for links, source and target should be indices into the nodes list\n",
    "nodes_index_map = {node: i for i, node in enumerate(nodes)}\n",
    "link_data = [{'source': nodes_index_map[s['source']], \n",
    "              'target': nodes_index_map[s['target']], \n",
    "              'value': s['type']} for s in suits]\n",
    "\n",
    "# encode suit type with link color\n",
    "link_color_scale = OrdinalColorScale(domain=['licensing', 'suit', 'resolved'], \n",
    "                                     colors=['limegreen', 'dodgerblue', 'orangered'])\n",
    "graph = Graph(node_data=node_data, link_data=link_data, link_type='arc', \n",
    "              scales={'link_color': link_color_scale}, colors=['gray'], \n",
    "              directed=True, link_distance=100, charge=-600)\n",
    "Figure(marks=[graph], layout=Layout(height='900px', width='1000px'), title='Mobile Patent Suits')"
   ]
  },
  {
   "cell_type": "code",
   "execution_count": null,
   "metadata": {
    "collapsed": true
   },
   "outputs": [],
   "source": []
  }
 ],
 "metadata": {
  "kernelspec": {
   "display_name": "Python 3",
   "language": "python",
   "name": "python3"
  },
  "language_info": {
   "codemirror_mode": {
    "name": "ipython",
    "version": 3
   },
   "file_extension": ".py",
   "mimetype": "text/x-python",
   "name": "python",
   "nbconvert_exporter": "python",
   "pygments_lexer": "ipython3",
   "version": "3.6.3"
  }
 },
 "nbformat": 4,
 "nbformat_minor": 2
}
