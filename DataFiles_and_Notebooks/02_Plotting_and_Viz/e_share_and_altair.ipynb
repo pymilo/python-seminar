{
 "cells": [
  {
   "cell_type": "markdown",
   "metadata": {},
   "source": [
    "## Sharing plots\n",
    "\n",
    "You could obviously share plots via code/notebooks. But what if you want versioning, interactivity, etc. with others? What if you want to change a plot (e.g. the data) but have the results get embedded directly in other people's web page?\n",
    "\n",
    "\"**Plotly** provides online graphing, analytics, and statistics tools for individuals and collaboration, as well as scientific graphing libraries for Python, R, MATLAB, Perl, Julia, Arduino, and REST.\"\n"
   ]
  },
  {
   "cell_type": "code",
   "execution_count": null,
   "metadata": {},
   "outputs": [],
   "source": [
    "import plotly.plotly as py      # Every function in this module will communicate with an external plotly server\n",
    "py.plot({                      # use `py.iplot` inside the ipython notebook\n",
    "\"data\": [{\n",
    "    \"x\": [1, 2, 3],\n",
    "    \"y\": [4, 2, 5]\n",
    "}],\n",
    "\"layout\": {\n",
    "    \"title\": \"hello world\"\n",
    "}\n",
    "}, filename='hello world',      # name of the file as saved in your plotly account\n",
    "sharing='public')            # 'public' | 'private' | 'secret': Learn more: https://plot.ly/python/privacy"
   ]
  },
  {
   "cell_type": "markdown",
   "metadata": {},
   "source": [
    "Can work with plot.ly plots offline too"
   ]
  },
  {
   "cell_type": "code",
   "execution_count": null,
   "metadata": {},
   "outputs": [],
   "source": [
    "import plotly\n",
    "print(plotly.__version__)            # version 1.9.4 required\n",
    "plotly.offline.init_notebook_mode() # run at the start of every notebook\n",
    "plotly.offline.iplot({\n",
    "\"data\": [{\n",
    "    \"x\": [1, 2, 3, 3, 23, 1, 6],\n",
    "    \"y\": [4, 2, 5, 6, -1, 4, 8]\n",
    "}],\n",
    "\"layout\": {\n",
    "    \"title\": \"hello world\"\n",
    "}\n",
    "})"
   ]
  },
  {
   "cell_type": "code",
   "execution_count": null,
   "metadata": {
    "collapsed": true
   },
   "outputs": [],
   "source": [
    "%matplotlib inline\n",
    "import matplotlib.pyplot as plt\n",
    "import plotly.tools as tls\n",
    "import numpy as np\n",
    "\n",
    "mpl_fig = plt.figure()\n",
    "\n",
    "ax = mpl_fig.add_subplot(111)\n",
    "\n",
    "ax.plot(np.linspace(0,3,100), np.sin(np.linspace(0,3,100)))\n",
    "\n",
    "plotly_fig = tls.mpl_to_plotly(mpl_fig)\n",
    "\n",
    "unique_url = py.plot(plotly_fig)"
   ]
  },
  {
   "cell_type": "markdown",
   "metadata": {},
   "source": [
    "# Altair & the D3 / Vega “stack”\n",
    "\n",
    "<img src=\"https://blotcdn.com/e392358822/image-cache/1468463949358/stack.png\">\n",
    "\n",
    "Figure from: https://blog.ericmarty.com/the-d3-/-vega-stack\n",
    "\n",
    "*Vega-Lite*: https://www.youtube.com/watch?v=9uaHRWj04D4\n",
    "\n",
    "\"Altair’s core functionality is to produce Vega-Lite JSON specifications, which specify mappings between data and graphical markings.\"\n",
    "\n",
    "https://altair-viz.github.io/gallery/index.html"
   ]
  },
  {
   "cell_type": "code",
   "execution_count": null,
   "metadata": {},
   "outputs": [],
   "source": [
    "from altair import tutorial\n",
    "tutorial()"
   ]
  },
  {
   "cell_type": "code",
   "execution_count": null,
   "metadata": {},
   "outputs": [],
   "source": [
    "from altair import datasets, Chart\n",
    "\n",
    "data = datasets.load_dataset('cars')\n",
    "\n",
    "c = Chart(data).mark_circle().encode(\n",
    "    x='Horsepower',\n",
    "    y='Miles_per_Gallon',\n",
    "    color='Origin',\n",
    ")\n",
    "\n",
    "c"
   ]
  },
  {
   "cell_type": "markdown",
   "metadata": {
    "collapsed": true
   },
   "source": [
    "# PdVega: Interactive Vega-Lite Plots for Pandas\n",
    "\n",
    "\"pdvega is a library that allows you to quickly create interactive Vega-Lite plots from Pandas dataframes, using an API that is nearly identical to Pandas’ built-in plotting API, and designed for easy use within the Jupyter notebook.\"\n",
    "\n",
    "https://jakevdp.github.io/pdvega/\n",
    "\n",
    "```\n",
    "pip install pdvega\n",
    "```\n",
    "\n",
    "https://github.com/jakevdp/pdvega/blob/master/examples/pdvega_example.ipynb"
   ]
  },
  {
   "cell_type": "code",
   "execution_count": null,
   "metadata": {},
   "outputs": [],
   "source": [
    "import pandas as pd\n",
    "import numpy as np\n",
    "data = pd.DataFrame({'x': np.random.randn(200),\n",
    "                     'y': np.random.randn(200)})\n",
    "\n",
    "import pdvega  # adds vgplot attribute to pandas\n",
    "data.vgplot.scatter('x', 'y')"
   ]
  },
  {
   "cell_type": "code",
   "execution_count": null,
   "metadata": {
    "collapsed": true
   },
   "outputs": [],
   "source": []
  }
 ],
 "metadata": {
  "kernelspec": {
   "display_name": "Python 3",
   "language": "python",
   "name": "python3"
  },
  "language_info": {
   "codemirror_mode": {
    "name": "ipython",
    "version": 3
   },
   "file_extension": ".py",
   "mimetype": "text/x-python",
   "name": "python",
   "nbconvert_exporter": "python",
   "pygments_lexer": "ipython3",
   "version": "3.6.3"
  }
 },
 "nbformat": 4,
 "nbformat_minor": 1
}
