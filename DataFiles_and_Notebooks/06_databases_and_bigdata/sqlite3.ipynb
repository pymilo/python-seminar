{
 "cells": [
  {
   "cell_type": "code",
   "execution_count": 113,
   "metadata": {},
   "outputs": [
    {
     "data": {
      "text/html": [
       "<style>\n",
       "\n",
       ".rendered_html\n",
       "{\n",
       "  color: #2C5494;\n",
       "  font-family: Ubuntu;\n",
       "  font-size: 140%;\n",
       "  line-height: 1.1;\n",
       "  margin: 0.5em 0;\n",
       "  }\n",
       "\n",
       ".talk_title\n",
       "{\n",
       "  color: #498AF3;\n",
       "  font-size: 250%;\n",
       "  font-weight:bold;\n",
       "  line-height: 1.2; \n",
       "  margin: 10px 50px 10px;\n",
       "  }\n",
       "\n",
       ".subtitle\n",
       "{\n",
       "  color: #386BBC;\n",
       "  font-size: 180%;\n",
       "  font-weight:bold;\n",
       "  line-height: 1.2; \n",
       "  margin: 20px 50px 20px;\n",
       "  }\n",
       "\n",
       ".slide-header, p.slide-header\n",
       "{\n",
       "  color: #498AF3;\n",
       "  font-size: 200%;\n",
       "  font-weight:bold;\n",
       "  margin: 0px 20px 10px;\n",
       "  page-break-before: always;\n",
       "  text-align: center;\n",
       "  }\n",
       "\n",
       ".rendered_html h1\n",
       "{\n",
       "  color: #498AF3;\n",
       "  line-height: 1.2; \n",
       "  margin: 0.15em 0em 0.5em;\n",
       "  page-break-before: always;\n",
       "  text-align: center;\n",
       "  }\n",
       "\n",
       "\n",
       ".rendered_html h2\n",
       "{ \n",
       "  color: #386BBC;\n",
       "  line-height: 1.2;\n",
       "  margin: 1.1em 0em 0.5em;\n",
       "  }\n",
       "\n",
       ".rendered_html h3\n",
       "{ \n",
       "  font-size: 100%;\n",
       "  line-height: 1.2;\n",
       "  margin: 1.1em 0em 0.5em;\n",
       "  }\n",
       "\n",
       ".rendered_html li\n",
       "{\n",
       "  line-height: 1.8;\n",
       "  }\n",
       "\n",
       ".input_prompt, .CodeMirror-lines, .output_area\n",
       "{\n",
       "  font-family: Consolas;\n",
       "  font-size: 120%;\n",
       "  }\n",
       "\n",
       ".gap-above\n",
       "{\n",
       "  padding-top: 200px;\n",
       "  }\n",
       "\n",
       ".gap01\n",
       "{\n",
       "  padding-top: 10px;\n",
       "  }\n",
       "\n",
       ".gap05\n",
       "{\n",
       "  padding-top: 50px;\n",
       "  }\n",
       "\n",
       ".gap1\n",
       "{\n",
       "  padding-top: 100px;\n",
       "  }\n",
       "\n",
       ".gap2\n",
       "{\n",
       "  padding-top: 200px;\n",
       "  }\n",
       "\n",
       ".gap3\n",
       "{\n",
       "  padding-top: 300px;\n",
       "  }\n",
       "\n",
       ".emph\n",
       "{\n",
       "  color: #386BBC;\n",
       "  }\n",
       "\n",
       ".warn\n",
       "{\n",
       "  color: red;\n",
       "  }\n",
       "\n",
       ".center\n",
       "{\n",
       "  text-align: center;\n",
       "  }\n",
       "\n",
       ".nb_link\n",
       "{\n",
       "    padding-bottom: 0.5em;\n",
       "}\n",
       "\n",
       "</style>"
      ],
      "text/plain": [
       "<IPython.core.display.HTML object>"
      ]
     },
     "metadata": {},
     "output_type": "display_data"
    },
    {
     "data": {
      "text/plain": [
       "<matplotlib.figure.Figure at 0x1a22d50a20>"
      ]
     },
     "metadata": {},
     "output_type": "display_data"
    }
   ],
   "source": [
    "%run ../00_AdvancedPythonConcepts/talktools.py"
   ]
  },
  {
   "cell_type": "markdown",
   "metadata": {},
   "source": [
    "# sqlite3 interface through Python\n",
    "\n",
    "UC Berkeley Python class (AY250; 2013—2018)\n",
    "\n",
    "First, we show simple database creation."
   ]
  },
  {
   "cell_type": "code",
   "execution_count": null,
   "metadata": {},
   "outputs": [],
   "source": [
    "import sqlite3\n",
    "\n",
    "connection = sqlite3.connect(\"/tmp/example2.db\")\n",
    "\n",
    "cursor = connection.cursor()\n",
    "\n",
    "sql_cmd = \"\"\"CREATE TABLE dan_aykroyd (id INTEGER PRIMARY KEY AUTOINCREMENT,\n",
    "    skit_title TEXT, air_date DATE, season INT, ep INT, role TEXT)\"\"\"\n",
    "\n",
    "cursor.execute(sql_cmd)"
   ]
  },
  {
   "cell_type": "markdown",
   "metadata": {},
   "source": [
    "Then, we insert some data."
   ]
  },
  {
   "cell_type": "code",
   "execution_count": null,
   "metadata": {
    "collapsed": true
   },
   "outputs": [],
   "source": [
    "skit_data = [\n",
    "    (\"Trojan Horse Home Security\", \"10/11/75\", 1, 1, \"Kenny Vorstrather\"), \n",
    "    (\"E. Buzz Miller's Animal Kingdom\", \"2/25/78\", 3, 12, \"E. Buzz Miller\"), \n",
    "    (\"The Coneheads at Home\", \"10/21/78\", 4, 3, \"Beldar Conehead\")]\n",
    "\n",
    "for role in skit_data:\n",
    "    sql_cmd = (\"INSERT INTO dan_aykroyd (skit_title, air_date, season, \" +     \n",
    "        \"ep, role) VALUES \" + str(role))\n",
    "    cursor.execute(sql_cmd)"
   ]
  },
  {
   "cell_type": "markdown",
   "metadata": {},
   "source": [
    "Lastly, we run a simple query on the database we just made."
   ]
  },
  {
   "cell_type": "code",
   "execution_count": null,
   "metadata": {},
   "outputs": [],
   "source": [
    "sql_cmd = \"SELECT * FROM dan_aykroyd WHERE air_date > '10/12/75'\"\n",
    "cursor.execute(sql_cmd)\n",
    "\n",
    "db_info = cursor.fetchall()\n",
    "for entry in db_info: \n",
    "    print(entry)\n",
    "    \n",
    "connection.commit()\n",
    "connection.close()"
   ]
  },
  {
   "cell_type": "markdown",
   "metadata": {},
   "source": [
    "Create another table, enter data, run simple join on columns using both tables."
   ]
  },
  {
   "cell_type": "code",
   "execution_count": null,
   "metadata": {},
   "outputs": [],
   "source": [
    "connection = sqlite3.connect(\"/tmp/example2.db\")\n",
    "\n",
    "cursor = connection.cursor()\n",
    "sql_cmd = \"\"\"CREATE TABLE jane_curtin (id INTEGER PRIMARY KEY AUTOINCREMENT,\n",
    "    skit_title TEXT, air_date DATE, season INT, ep INT, role TEXT)\"\"\"\n",
    "\n",
    "cursor.execute(sql_cmd)\n",
    "\n",
    "skit_data = [\n",
    "    (\"Teen Talk\", \"7/24/76\", 1, 23, \"Jane\"), \n",
    "    (\"The Snakehandling O'Sheas\", \"9/25/76\", 2, 2, \"Jane O'Shea\"), \n",
    "    (\"The Coneheads at Home\", \"10/21/78\", 4, 3, \"Prymaat Conehead\")]\n",
    "\n",
    "for role in skit_data:\n",
    "    sql_cmd = (\"INSERT INTO jane_curtin (skit_title, air_date, season, \" +     \n",
    "        \"ep, role) VALUES \" + str(role))\n",
    "    cursor.execute(sql_cmd)\n",
    "\n",
    "# Our query is to find which skits featured both Dan Aykroyd and Jane Curtin.\n",
    "sql_cmd = \"\"\"SELECT dan_aykroyd.skit_title, dan_aykroyd.air_date, \n",
    "    dan_aykroyd.season, dan_aykroyd.ep, dan_aykroyd.role, jane_curtin.role\n",
    "    FROM dan_aykroyd, jane_curtin WHERE \n",
    "    dan_aykroyd.skit_title = jane_curtin.skit_title AND \n",
    "    dan_aykroyd.air_date = jane_curtin.air_date\"\"\"\n",
    "cursor.execute(sql_cmd)\n",
    "db_info = cursor.fetchall()\n",
    "for entry in db_info: \n",
    "    print(entry)"
   ]
  },
  {
   "cell_type": "markdown",
   "metadata": {},
   "source": [
    "We can also run a left join."
   ]
  },
  {
   "cell_type": "code",
   "execution_count": null,
   "metadata": {},
   "outputs": [],
   "source": [
    "connection = sqlite3.connect(\"/tmp/example2.db\")\n",
    "\n",
    "cursor = connection.cursor()\n",
    "\n",
    "sql_cmd = \"\"\"SELECT dan_aykroyd.skit_title, dan_aykroyd.air_date, \n",
    "    dan_aykroyd.season, dan_aykroyd.ep, dan_aykroyd.role, jane_curtin.role\n",
    "    FROM dan_aykroyd LEFT JOIN jane_curtin ON \n",
    "    dan_aykroyd.skit_title = jane_curtin.skit_title AND \n",
    "    dan_aykroyd.air_date = jane_curtin.air_date\"\"\"\n",
    "\n",
    "cursor.execute(sql_cmd)\n",
    "db_info = cursor.fetchall()\n",
    "for entry in db_info: \n",
    "    print(entry)\n",
    "    \n",
    "connection.close()"
   ]
  },
  {
   "cell_type": "markdown",
   "metadata": {},
   "source": [
    "<img src=\"https://upload.wikimedia.org/wikipedia/commons/thumb/9/9d/SQL_Joins.svg/2000px-SQL_Joins.svg.png\">\n",
    "\n",
    "See also: https://en.wikipedia.org/wiki/Join_(SQL)"
   ]
  },
  {
   "cell_type": "markdown",
   "metadata": {},
   "source": [
    "# Example with Plotting\n",
    "Emphasis on data retrieval"
   ]
  },
  {
   "cell_type": "code",
   "execution_count": null,
   "metadata": {
    "collapsed": true
   },
   "outputs": [],
   "source": [
    "%matplotlib inline\n",
    "import matplotlib.pyplot as plt\n",
    "import seaborn as sns\n",
    "sns.set_context(\"poster\")"
   ]
  },
  {
   "cell_type": "code",
   "execution_count": null,
   "metadata": {
    "collapsed": true
   },
   "outputs": [],
   "source": [
    "from urllib.request import urlopen"
   ]
  },
  {
   "cell_type": "code",
   "execution_count": null,
   "metadata": {},
   "outputs": [],
   "source": [
    "import sqlite3, datetime\n",
    "import pandas as pd\n",
    "import os\n",
    "\n",
    "try:\n",
    "    # For Python 3.0 and later\n",
    "    from urllib.request import urlopen\n",
    "except ImportError:\n",
    "    # Fall back to Python 2's urllib2\n",
    "    from urllib2 import urlopen\n",
    "    \n",
    "\n",
    "def get_stock_data(stock_symbol):\n",
    "    \n",
    "    fout = f\"{stock_symbol}.csv\"\n",
    "    if not os.path.exists(fout):\n",
    "        response = urlopen(f\"https://www.quandl.com/api/v1/datasets/WIKI/\" + \n",
    "                           f\"{stock_symbol}.csv?api_key={secret}&sort_order=asc\")\n",
    "        df =  pd.read_csv(response)\n",
    "        df.to_csv(fout)\n",
    "    else:\n",
    "        df = pd.read_csv(fout)\n",
    "    \n",
    "    return df"
   ]
  },
  {
   "cell_type": "code",
   "execution_count": null,
   "metadata": {},
   "outputs": [],
   "source": [
    "df = get_stock_data(\"GOOG\")\n",
    "df"
   ]
  },
  {
   "cell_type": "markdown",
   "metadata": {},
   "source": [
    "Here we create a table, download the stock data, and populate the table with the data."
   ]
  },
  {
   "cell_type": "code",
   "execution_count": null,
   "metadata": {},
   "outputs": [],
   "source": [
    "connection = sqlite3.connect(\":memory:\")\n",
    "\n",
    "cursor = connection.cursor()\n",
    "sql_cmd = \"\"\"CREATE TABLE stocks (id INTEGER PRIMARY KEY AUTOINCREMENT,\n",
    "    symbol TEXT, day INT, open FLOAT, high FLOAT, low FLOAT, close FLOAT,\n",
    "    volume FLOAT, adj_close FLOAT)\"\"\"\n",
    "cursor.execute(sql_cmd)\n",
    "\n",
    "stock_symbols = [\"AAPL\" ,\"TSLA\",\"MSFT\"]\n",
    "\n",
    "ref_date = datetime.date(2015, 1, 1)\n",
    "\n",
    "for stock_symbol in stock_symbols:\n",
    "    \n",
    "    data = get_stock_data(stock_symbol)\n",
    "    print(f\"Inserting {stock_symbol} data:\", end=\" \")\n",
    "    for i, row in data.iterrows():\n",
    "        \n",
    "        year = int(row[\"Date\"].split(\"-\")[0])\n",
    "        month = int(row[\"Date\"].split(\"-\")[1])\n",
    "        day = int(row[\"Date\"].split(\"-\")[2])\n",
    "        \n",
    "        stock_date = datetime.date(year, month, day)\n",
    "        \n",
    "        sql_cmd = \"INSERT INTO stocks\" + \\\n",
    "                  \"(symbol, day, open, high, low, close,volume, adj_close)\" + \\\n",
    "                 f\" VALUES ('{stock_symbol}',{(stock_date - ref_date).days},\" + \\\n",
    "                 f\"\"\"{row[\"Open\"]},{row[\"High\"]},{row[\"Low\"]},{row[\"Close\"]},\"\"\"  + \\\n",
    "                 f\"\"\"{row[\"Volume\"]},{row[\"Adj. Close\"]})\"\"\"\n",
    "        cursor.execute(sql_cmd)\n",
    "    print(\"done.\")\n",
    "    connection.commit()"
   ]
  },
  {
   "cell_type": "markdown",
   "metadata": {},
   "source": [
    "We can plot from the table easily, using the query to select out only the data we want to visualize."
   ]
  },
  {
   "cell_type": "code",
   "execution_count": null,
   "metadata": {},
   "outputs": [],
   "source": [
    "f, ax = plt.subplots(figsize=(10,7))\n",
    "\n",
    "for ss in stock_symbols:\n",
    "    sql_cmd = \"SELECT day, adj_close FROM stocks WHERE symbol == '\" + ss + \"'\"\n",
    "    cursor.execute(sql_cmd)\n",
    "    db_info = array(cursor.fetchall())\n",
    "    ax.plot(db_info[:, 0], db_info[:, 1], label=ss)\n",
    "\n",
    "ax.legend(loc=2)\n",
    "ax.set_xlabel(\"Days since 1/1/2015\")\n",
    "ax.set_ylabel(\"Stock Price ($)\")\n",
    "f.suptitle(\"Stock Performance\")"
   ]
  },
  {
   "cell_type": "markdown",
   "metadata": {},
   "source": [
    "## Pandas can work with SQLite Directly"
   ]
  },
  {
   "cell_type": "code",
   "execution_count": null,
   "metadata": {},
   "outputs": [],
   "source": [
    "import pandas as pd\n",
    "\n",
    "df = pd.read_sql_query(\"SELECT symbol, day, adj_close FROM stocks;\", connection)\n",
    "df = df.pivot(index='day', columns='symbol', values='adj_close')"
   ]
  },
  {
   "cell_type": "code",
   "execution_count": null,
   "metadata": {},
   "outputs": [],
   "source": [
    "df.plot(figsize=(10,7))"
   ]
  },
  {
   "cell_type": "code",
   "execution_count": null,
   "metadata": {
    "collapsed": true
   },
   "outputs": [],
   "source": []
  }
 ],
 "metadata": {
  "kernelspec": {
   "display_name": "Python 3",
   "language": "python",
   "name": "python3"
  },
  "language_info": {
   "codemirror_mode": {
    "name": "ipython",
    "version": 3
   },
   "file_extension": ".py",
   "mimetype": "text/x-python",
   "name": "python",
   "nbconvert_exporter": "python",
   "pygments_lexer": "ipython3",
   "version": "3.6.3"
  }
 },
 "nbformat": 4,
 "nbformat_minor": 1
}
