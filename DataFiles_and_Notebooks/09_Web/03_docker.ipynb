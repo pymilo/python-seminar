{
 "cells": [
  {
   "cell_type": "markdown",
   "metadata": {},
   "source": [
    "# Serving to the World\n",
    "\n",
    "We already saw how to interact locally with http servers and how to tunnel a world-accessible URL back to your local server. But what if you want to set something up (e.g., in the cloud) and let others interact with the server, persistently?"
   ]
  },
  {
   "cell_type": "markdown",
   "metadata": {},
   "source": [
    "## Python Serverless Microframework for AWS\n",
    "\n",
    "https://github.com/awslabs/chalice"
   ]
  },
  {
   "cell_type": "code",
   "execution_count": 15,
   "metadata": {},
   "outputs": [],
   "source": [
    "# !pip install chalice"
   ]
  },
  {
   "cell_type": "code",
   "execution_count": 8,
   "metadata": {},
   "outputs": [
    {
     "name": "stdout",
     "output_type": "stream",
     "text": [
      "Directory already exists: helloworld\r\n",
      "Aborted!\r\n"
     ]
    }
   ],
   "source": [
    "!chalice new-project helloworld"
   ]
  },
  {
   "cell_type": "code",
   "execution_count": 9,
   "metadata": {},
   "outputs": [
    {
     "name": "stdout",
     "output_type": "stream",
     "text": [
      "/Users/jbloom/Classes/python-seminar/DataFiles_and_Notebooks/09_Web/helloworld\n"
     ]
    }
   ],
   "source": [
    "cd helloworld"
   ]
  },
  {
   "cell_type": "code",
   "execution_count": 10,
   "metadata": {},
   "outputs": [
    {
     "name": "stdout",
     "output_type": "stream",
     "text": [
      "Overwriting app.py\n"
     ]
    }
   ],
   "source": [
    "%%writefile app.py\n",
    "\n",
    "from chalice import Chalice\n",
    "\n",
    "app = Chalice(app_name=\"helloworld\")\n",
    "\n",
    "@app.route(\"/\")\n",
    "def index():\n",
    "    return {\"hello\": \"world\"}"
   ]
  },
  {
   "cell_type": "markdown",
   "metadata": {},
   "source": [
    "Deploy. You'll need to have set up your (free) [AWS credentials](https://aws.amazon.com/free/)."
   ]
  },
  {
   "cell_type": "code",
   "execution_count": 12,
   "metadata": {},
   "outputs": [
    {
     "name": "stdout",
     "output_type": "stream",
     "text": [
      "Creating deployment package.\n",
      "Creating IAM role: helloworld-dev\n",
      "Creating lambda function: helloworld-dev\n",
      "Creating Rest API\n",
      "Resources deployed:\n",
      "  - Lambda ARN: arn:aws:lambda:us-west-1:053013463530:function:helloworld-dev\n",
      "  - Rest API URL: https://zup4cihk3e.execute-api.us-west-1.amazonaws.com/api/\n"
     ]
    }
   ],
   "source": [
    "!AWS_DEFAULT_REGION=us-west-1 chalice deploy"
   ]
  },
  {
   "cell_type": "code",
   "execution_count": 14,
   "metadata": {},
   "outputs": [
    {
     "name": "stdout",
     "output_type": "stream",
     "text": [
      "Deleting Rest API: zup4cihk3e\n",
      "Deleting function: arn:aws:lambda:us-west-1:053013463530:function:helloworld-dev\n",
      "Deleting IAM role: helloworld-dev\n"
     ]
    }
   ],
   "source": [
    "!AWS_DEFAULT_REGION=us-west-1 chalice delete"
   ]
  },
  {
   "cell_type": "markdown",
   "metadata": {},
   "source": [
    "# Containerized Application"
   ]
  },
  {
   "cell_type": "markdown",
   "metadata": {},
   "source": [
    "If you want to package your code AND other non-python files/executables, you need to ship a description of what it takes to get a system to a state with all the dependencies.\n",
    "\n",
    "Docker is a way to specify the precise steps taken to install what you need to run your program. See http://containertutorials.com/index.html"
   ]
  },
  {
   "cell_type": "code",
   "execution_count": 16,
   "metadata": {},
   "outputs": [
    {
     "name": "stdout",
     "output_type": "stream",
     "text": [
      "\r\n",
      "Usage:\tdocker COMMAND\r\n",
      "\r\n",
      "A self-sufficient runtime for containers\r\n",
      "\r\n",
      "Options:\r\n",
      "      --config string      Location of client config files (default\r\n",
      "                           \"/Users/jbloom/.docker\")\r\n",
      "  -D, --debug              Enable debug mode\r\n",
      "  -H, --host list          Daemon socket(s) to connect to\r\n",
      "  -l, --log-level string   Set the logging level\r\n",
      "                           (\"debug\"|\"info\"|\"warn\"|\"error\"|\"fatal\")\r\n",
      "                           (default \"info\")\r\n",
      "      --tls                Use TLS; implied by --tlsverify\r\n",
      "      --tlscacert string   Trust certs signed only by this CA (default\r\n",
      "                           \"/Users/jbloom/.docker/ca.pem\")\r\n",
      "      --tlscert string     Path to TLS certificate file (default\r\n",
      "                           \"/Users/jbloom/.docker/cert.pem\")\r\n",
      "      --tlskey string      Path to TLS key file (default\r\n",
      "                           \"/Users/jbloom/.docker/key.pem\")\r\n",
      "      --tlsverify          Use TLS and verify the remote\r\n",
      "  -v, --version            Print version information and quit\r\n",
      "\r\n",
      "Management Commands:\r\n",
      "  checkpoint  Manage checkpoints\r\n",
      "  config      Manage Docker configs\r\n",
      "  container   Manage containers\r\n",
      "  image       Manage images\r\n",
      "  network     Manage networks\r\n",
      "  node        Manage Swarm nodes\r\n",
      "  plugin      Manage plugins\r\n",
      "  secret      Manage Docker secrets\r\n",
      "  service     Manage services\r\n",
      "  swarm       Manage Swarm\r\n",
      "  system      Manage Docker\r\n",
      "  trust       Manage trust on Docker images\r\n",
      "  volume      Manage volumes\r\n",
      "\r\n",
      "Commands:\r\n",
      "  attach      Attach local standard input, output, and error streams to a running container\r\n",
      "  build       Build an image from a Dockerfile\r\n",
      "  commit      Create a new image from a container's changes\r\n",
      "  cp          Copy files/folders between a container and the local filesystem\r\n",
      "  create      Create a new container\r\n",
      "  deploy      Deploy a new stack or update an existing stack\r\n",
      "  diff        Inspect changes to files or directories on a container's filesystem\r\n",
      "  events      Get real time events from the server\r\n",
      "  exec        Run a command in a running container\r\n",
      "  export      Export a container's filesystem as a tar archive\r\n",
      "  history     Show the history of an image\r\n",
      "  images      List images\r\n",
      "  import      Import the contents from a tarball to create a filesystem image\r\n",
      "  info        Display system-wide information\r\n",
      "  inspect     Return low-level information on Docker objects\r\n",
      "  kill        Kill one or more running containers\r\n",
      "  load        Load an image from a tar archive or STDIN\r\n",
      "  login       Log in to a Docker registry\r\n",
      "  logout      Log out from a Docker registry\r\n",
      "  logs        Fetch the logs of a container\r\n",
      "  pause       Pause all processes within one or more containers\r\n",
      "  port        List port mappings or a specific mapping for the container\r\n",
      "  ps          List containers\r\n",
      "  pull        Pull an image or a repository from a registry\r\n",
      "  push        Push an image or a repository to a registry\r\n",
      "  rename      Rename a container\r\n",
      "  restart     Restart one or more containers\r\n",
      "  rm          Remove one or more containers\r\n",
      "  rmi         Remove one or more images\r\n",
      "  run         Run a command in a new container\r\n",
      "  save        Save one or more images to a tar archive (streamed to STDOUT by default)\r\n",
      "  search      Search the Docker Hub for images\r\n",
      "  start       Start one or more stopped containers\r\n",
      "  stats       Display a live stream of container(s) resource usage statistics\r\n",
      "  stop        Stop one or more running containers\r\n",
      "  tag         Create a tag TARGET_IMAGE that refers to SOURCE_IMAGE\r\n",
      "  top         Display the running processes of a container\r\n",
      "  unpause     Unpause all processes within one or more containers\r\n",
      "  update      Update configuration of one or more containers\r\n",
      "  version     Show the Docker version information\r\n",
      "  wait        Block until one or more containers stop, then print their exit codes\r\n",
      "\r\n",
      "Run 'docker COMMAND --help' for more information on a command.\r\n"
     ]
    }
   ],
   "source": [
    "!docker --help"
   ]
  },
  {
   "cell_type": "code",
   "execution_count": 1,
   "metadata": {},
   "outputs": [
    {
     "name": "stdout",
     "output_type": "stream",
     "text": [
      "Cloning into 'pydocker'...\n",
      "remote: Counting objects: 8, done.\u001b[K\n",
      "remote: Total 8 (delta 0), reused 0 (delta 0), pack-reused 8\u001b[K\n",
      "Unpacking objects: 100% (8/8), done.\n"
     ]
    }
   ],
   "source": [
    "!git clone https://github.com/profjsb/pydocker.git"
   ]
  },
  {
   "cell_type": "code",
   "execution_count": 2,
   "metadata": {},
   "outputs": [
    {
     "name": "stdout",
     "output_type": "stream",
     "text": [
      "/Users/jbloom/Classes/python-seminar/DataFiles_and_Notebooks/09_Web/pydocker\n"
     ]
    }
   ],
   "source": [
    "cd pydocker/"
   ]
  },
  {
   "cell_type": "code",
   "execution_count": 3,
   "metadata": {},
   "outputs": [
    {
     "name": "stdout",
     "output_type": "stream",
     "text": [
      "Dockerfile       Makefile         app.py\r\n",
      "LICENSE.txt      README.md        requirements.txt\r\n"
     ]
    }
   ],
   "source": [
    "!ls"
   ]
  },
  {
   "cell_type": "code",
   "execution_count": 4,
   "metadata": {},
   "outputs": [
    {
     "name": "stdout",
     "output_type": "stream",
     "text": [
      "FROM python:3.5-alpine\r\n",
      "\r\n",
      "MAINTAINER Josh Bloom \"profjsb@gmail.com\"\r\n",
      "\r\n",
      "## Uncomment this if you want to add numpy, cython etc.\r\n",
      "#RUN apk add --update curl gcc g++ \\\r\n",
      "#    && rm -rf /var/cache/apk/*\r\n",
      "#RUN ln -s /usr/include/locale.h /usr/include/xlocale.h\r\n",
      "#RUN pip install numpy\r\n",
      "\r\n",
      "# Uncomment this if you want bash\r\n",
      "# RUN apk add --update bash && rm -rf /var/cache/apk/*\r\n",
      "\r\n",
      "COPY . /app\r\n",
      "WORKDIR /app\r\n",
      "\r\n",
      "RUN pip install -r requirements.txt\r\n",
      "\r\n",
      "ENTRYPOINT [\"python\"]\r\n",
      "CMD [\"app.py\"]"
     ]
    }
   ],
   "source": [
    "!cat Dockerfile"
   ]
  },
  {
   "cell_type": "code",
   "execution_count": 5,
   "metadata": {},
   "outputs": [
    {
     "name": "stdout",
     "output_type": "stream",
     "text": [
      "from flask import Flask\r\n",
      "\r\n",
      "app = Flask(__name__)\r\n",
      "\r\n",
      "@app.route(\"/\")\r\n",
      "def hello():\r\n",
      "    return \"Running python/flask inside Docker. W00t!\"\r\n",
      "\r\n",
      "\r\n",
      "if __name__ == \"__main__\":\r\n",
      "    app.run(debug=True,host='0.0.0.0')\r\n"
     ]
    }
   ],
   "source": [
    "!cat app.py"
   ]
  },
  {
   "cell_type": "code",
   "execution_count": 22,
   "metadata": {},
   "outputs": [
    {
     "name": "stdout",
     "output_type": "stream",
     "text": [
      "# see http://www.itnotes.de/docker/development/tools/2014/08/31/speed-up-your-docker-workflow-with-a-makefile/\r\n",
      "\r\n",
      "NS = pyseminar\r\n",
      "VERSION = latest\r\n",
      "NAME = mydocker\r\n",
      "REPO = pydocker\r\n",
      "PORTS = -p 5000:5000\r\n",
      "INSTANCE = default\r\n",
      "VOLUMES = -v /tmp/docker:/var/log\r\n",
      "\r\n",
      "build:\r\n",
      "\tdocker build -t $(NS)/$(REPO):$(VERSION) .\r\n",
      "\r\n",
      "run:\r\n",
      "\t#docker rm $(NAME)-$(INSTANCE) \r\n",
      "\tdocker run -d --name $(NAME)-$(INSTANCE) $(PORTS) $(VOLUMES) $(ENV) $(NS)/$(REPO):$(VERSION)\r\n",
      "\r\n",
      "shell: run\r\n",
      "\tdocker exec -it $(NAME)-$(INSTANCE) /bin/sh\r\n",
      "\r\n",
      "default: build\r\n"
     ]
    }
   ],
   "source": [
    "!cat Makefile"
   ]
  },
  {
   "cell_type": "code",
   "execution_count": 23,
   "metadata": {},
   "outputs": [
    {
     "name": "stdout",
     "output_type": "stream",
     "text": [
      "docker build -t pyseminar/pydocker:latest .\n",
      "Sending build context to Docker daemon   68.1kB\n",
      "Step 1/7 : FROM python:3.5-alpine\n",
      "3.5-alpine: Pulling from library/python\n",
      "\n",
      "\u001b[1B3e7c1d6a: Pulling fs layer \n",
      "\u001b[1B101706a6: Pulling fs layer \n",
      "\u001b[1Bba670115: Pulling fs layer \n",
      "\u001b[1B9997bdb0: Pulling fs layer \n",
      "\u001b[1BDigest: sha256:844ea0f63b41f4480c6c0768856696175154306b57be3f8b3734491ec0810dbe\u001b[K\u001b[5A\u001b[1K\u001b[K\u001b[3A\u001b[1K\u001b[K\u001b[3A\u001b[1K\u001b[K\u001b[3A\u001b[1K\u001b[K\u001b[3A\u001b[1K\u001b[K\u001b[3A\u001b[1K\u001b[K\u001b[3A\u001b[1K\u001b[K\u001b[1A\u001b[1K\u001b[K\u001b[3A\u001b[1K\u001b[K\u001b[3A\u001b[1K\u001b[K\u001b[1A\u001b[1K\u001b[K\u001b[3A\u001b[1K\u001b[K\u001b[1A\u001b[1K\u001b[K\u001b[3A\u001b[1K\u001b[K\u001b[3A\u001b[1K\u001b[K\u001b[3A\u001b[1K\u001b[K\u001b[3A\u001b[1K\u001b[K\u001b[3A\u001b[1K\u001b[K\u001b[3A\u001b[1K\u001b[K\u001b[3A\u001b[1K\u001b[K\u001b[3A\u001b[1K\u001b[K\u001b[3A\u001b[1K\u001b[K\u001b[3A\u001b[1K\u001b[K\u001b[3A\u001b[1K\u001b[K\u001b[3A\u001b[1K\u001b[K\u001b[3A\u001b[1K\u001b[K\u001b[3A\u001b[1K\u001b[K\u001b[3A\u001b[1K\u001b[K\u001b[2A\u001b[1K\u001b[K\u001b[1A\u001b[1K\u001b[K\u001b[1A\u001b[1K\u001b[K\u001b[1A\u001b[1K\u001b[K\n",
      "Status: Downloaded newer image for python:3.5-alpine\n",
      " ---> bb059eb157e6\n",
      "Step 2/7 : MAINTAINER Josh Bloom \"profjsb@gmail.com\"\n",
      " ---> Running in 1e0e5739dc32\n",
      "Removing intermediate container 1e0e5739dc32\n",
      " ---> ebcad51fd778\n",
      "Step 3/7 : COPY . /app\n",
      " ---> b0e0210a6060\n",
      "Step 4/7 : WORKDIR /app\n",
      "Removing intermediate container 1de0714c3aed\n",
      " ---> c80348aaf192\n",
      "Step 5/7 : RUN pip install -r requirements.txt\n",
      " ---> Running in 36b3d5a7f448\n",
      "Collecting flask (from -r requirements.txt (line 1))\n",
      "  Downloading Flask-0.12.2-py2.py3-none-any.whl (83kB)\n",
      "Collecting click>=2.0 (from flask->-r requirements.txt (line 1))\n",
      "  Downloading click-6.7-py2.py3-none-any.whl (71kB)\n",
      "Collecting itsdangerous>=0.21 (from flask->-r requirements.txt (line 1))\n",
      "  Downloading itsdangerous-0.24.tar.gz (46kB)\n",
      "Collecting Jinja2>=2.4 (from flask->-r requirements.txt (line 1))\n",
      "  Downloading Jinja2-2.10-py2.py3-none-any.whl (126kB)\n",
      "Collecting Werkzeug>=0.7 (from flask->-r requirements.txt (line 1))\n",
      "  Downloading Werkzeug-0.14.1-py2.py3-none-any.whl (322kB)\n",
      "Collecting MarkupSafe>=0.23 (from Jinja2>=2.4->flask->-r requirements.txt (line 1))\n",
      "  Downloading MarkupSafe-1.0.tar.gz\n",
      "Building wheels for collected packages: itsdangerous, MarkupSafe\n",
      "  Running setup.py bdist_wheel for itsdangerous: started\n",
      "  Running setup.py bdist_wheel for itsdangerous: finished with status 'done'\n",
      "  Stored in directory: /root/.cache/pip/wheels/fc/a8/66/24d655233c757e178d45dea2de22a04c6d92766abfb741129a\n",
      "  Running setup.py bdist_wheel for MarkupSafe: started\n",
      "  Running setup.py bdist_wheel for MarkupSafe: finished with status 'done'\n",
      "  Stored in directory: /root/.cache/pip/wheels/88/a7/30/e39a54a87bcbe25308fa3ca64e8ddc75d9b3e5afa21ee32d57\n",
      "Successfully built itsdangerous MarkupSafe\n",
      "Installing collected packages: click, itsdangerous, MarkupSafe, Jinja2, Werkzeug, flask\n",
      "Successfully installed Jinja2-2.10 MarkupSafe-1.0 Werkzeug-0.14.1 click-6.7 flask-0.12.2 itsdangerous-0.24\n",
      "Removing intermediate container 36b3d5a7f448\n",
      " ---> ed637741bbe7\n",
      "Step 6/7 : ENTRYPOINT [\"python\"]\n",
      " ---> Running in 58aaa972abb5\n",
      "Removing intermediate container 58aaa972abb5\n",
      " ---> a2f876d885bc\n",
      "Step 7/7 : CMD [\"app.py\"]\n",
      " ---> Running in 28e149642214\n",
      "Removing intermediate container 28e149642214\n",
      " ---> ae8d9d818601\n",
      "Successfully built ae8d9d818601\n",
      "Successfully tagged pyseminar/pydocker:latest\n"
     ]
    }
   ],
   "source": [
    "!make build"
   ]
  },
  {
   "cell_type": "code",
   "execution_count": 24,
   "metadata": {},
   "outputs": [
    {
     "name": "stdout",
     "output_type": "stream",
     "text": [
      "#docker rm mydocker-default \n",
      "docker run -d --name mydocker-default -p 5000:5000 -v /tmp/docker:/var/log  pyseminar/pydocker:latest\n",
      "b4e3d5e6791b5520b202413a22e44fadb0a03f97e9a1cfb69b4223b4385eff62\n"
     ]
    }
   ],
   "source": [
    "!make run"
   ]
  },
  {
   "cell_type": "markdown",
   "metadata": {},
   "source": [
    "Now, check out http://localhost:5000"
   ]
  },
  {
   "cell_type": "code",
   "execution_count": 29,
   "metadata": {},
   "outputs": [
    {
     "name": "stdout",
     "output_type": "stream",
     "text": [
      "CONTAINER ID        IMAGE                       COMMAND             CREATED              STATUS              PORTS                    NAMES\r\n",
      "b4e3d5e6791b        pyseminar/pydocker:latest   \"python app.py\"     About a minute ago   Up About a minute   0.0.0.0:5000->5000/tcp   mydocker-default\r\n"
     ]
    }
   ],
   "source": [
    "!docker ps"
   ]
  },
  {
   "cell_type": "code",
   "execution_count": 30,
   "metadata": {},
   "outputs": [
    {
     "name": "stdout",
     "output_type": "stream",
     "text": [
      " * Running on http://0.0.0.0:5000/ (Press CTRL+C to quit)\r\n",
      " * Restarting with stat\r\n",
      " * Debugger is active!\r\n",
      " * Debugger PIN: 217-954-581\r\n",
      "172.17.0.1 - - [09/Apr/2018 02:37:04] \"GET / HTTP/1.1\" 200 -\r\n",
      "172.17.0.1 - - [09/Apr/2018 02:37:04] \"GET /favicon.ico HTTP/1.1\" 404 -\r\n"
     ]
    }
   ],
   "source": [
    "!docker logs mydocker-default"
   ]
  },
  {
   "cell_type": "code",
   "execution_count": 33,
   "metadata": {},
   "outputs": [
    {
     "name": "stdout",
     "output_type": "stream",
     "text": [
      "mydocker-default\r\n"
     ]
    }
   ],
   "source": [
    "!docker rm -f mydocker-default"
   ]
  },
  {
   "cell_type": "code",
   "execution_count": 36,
   "metadata": {},
   "outputs": [
    {
     "name": "stdout",
     "output_type": "stream",
     "text": [
      "Login with your Docker ID to push and pull images from Docker Hub. If you don't have a Docker ID, head over to https://hub.docker.com to create one.\n",
      "Username (profjsb): ^C\n"
     ]
    }
   ],
   "source": [
    "!docker login"
   ]
  },
  {
   "cell_type": "code",
   "execution_count": 35,
   "metadata": {},
   "outputs": [
    {
     "name": "stdout",
     "output_type": "stream",
     "text": [
      "The push refers to repository [docker.io/pyseminar/pydocker]\n",
      "\n",
      "\u001b[1B3d962d89: Preparing \n",
      "\u001b[1Bb764a1b2: Preparing \n",
      "\u001b[1B193ebcf2: Preparing \n",
      "\u001b[1Badb00d23: Preparing \n",
      "\u001b[1Be8a129be: Preparing \n",
      "\u001b[1B3ea16e81: Preparing \n",
      "\u001b[1B74215d12: Waiting g denied: requested access to the resource is denied\n"
     ]
    }
   ],
   "source": [
    "!docker push pyseminar/pydocker:latest"
   ]
  },
  {
   "cell_type": "code",
   "execution_count": null,
   "metadata": {},
   "outputs": [],
   "source": []
  }
 ],
 "metadata": {
  "kernelspec": {
   "display_name": "Python 3",
   "language": "python",
   "name": "python3"
  },
  "language_info": {
   "codemirror_mode": {
    "name": "ipython",
    "version": 3
   },
   "file_extension": ".py",
   "mimetype": "text/x-python",
   "name": "python",
   "nbconvert_exporter": "python",
   "pygments_lexer": "ipython3",
   "version": "3.6.4"
  }
 },
 "nbformat": 4,
 "nbformat_minor": 2
}
