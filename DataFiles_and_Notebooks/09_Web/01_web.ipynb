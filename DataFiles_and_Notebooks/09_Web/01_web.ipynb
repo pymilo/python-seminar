{
 "cells": [
  {
   "cell_type": "markdown",
   "metadata": {},
   "source": [
    "# Web Development with Python\n",
    "\n",
    "AY250 Spring 2018\n",
    "\n",
    "```\n",
    "git pull; pip install flask cherrypy\n",
    "```\n",
    "\n",
    "<img src=\"http://www.opensourceforu.com/wp-content/uploads/temp-uploads/2010/06/Python-bite.jpg\">\n",
    "\n",
    "http://www.linuxforu.com/how-to/django-when-python-bites-the-web/"
   ]
  },
  {
   "attachments": {},
   "cell_type": "markdown",
   "metadata": {},
   "source": [
    "<img src=\"imgs/droppedimage.png\">"
   ]
  },
  {
   "attachments": {},
   "cell_type": "markdown",
   "metadata": {},
   "source": [
    "## Overview \n",
    "\n",
    "1. The web paradigm\n",
    "\n",
    "2. Using Python for the Web\n",
    "\n",
    "   - Basic Python servers\n",
    "\n",
    "   - Frameworks and using Flask\n"
   ]
  },
  {
   "cell_type": "markdown",
   "metadata": {},
   "source": [
    "## Web Interactions\n",
    "\n",
    "We already saw this in the Interaction Lecture:\n",
    "\n",
    "\n",
    "<img src=\"https://docstore.mik.ua/orelly/apache_mod/03fig01.gif\">\n",
    "\n"
   ]
  },
  {
   "cell_type": "markdown",
   "metadata": {},
   "source": [
    " https://www.khanacademy.org/computing/computer-programming/html-css\n",
    " <img src=\"imgs/khan.png\">"
   ]
  },
  {
   "cell_type": "markdown",
   "metadata": {},
   "source": [
    "## Browser stuff\n",
    "\n",
    "<img src=\"imgs/browser.png\">\n",
    "\n",
    "- Python helps generate the (html) content.\n",
    "- In general, you work on CSS and JS separately.\n",
    "- Finally, use Python to serve all of this media to the user."
   ]
  },
  {
   "cell_type": "markdown",
   "metadata": {},
   "source": [
    "\n",
    "`http` is a package that collects several modules for working with the HyperText Transfer Protocol:\n",
    "\n",
    "  - http.client is a low-level HTTP protocol client; for high-level URL opening use urllib.request\n",
    "  - http.server contains basic HTTP server classes based on socketserver\n",
    "  - http.cookies has utilities for implementing state management with cookies\n",
    "  - http.cookiejar provides persistence of cookies"
   ]
  },
  {
   "cell_type": "markdown",
   "metadata": {},
   "source": [
    "## Simple Servers\n",
    "\n",
    "Recall the XML/RPC Server...a webserver just responds to a different request protocol"
   ]
  },
  {
   "cell_type": "code",
   "execution_count": 9,
   "metadata": {},
   "outputs": [
    {
     "name": "stdout",
     "output_type": "stream",
     "text": [
      "Serving HTTP on 0.0.0.0 port 8000 (http://0.0.0.0:8000/) ...\n",
      "^C\n",
      "\n",
      "Keyboard interrupt received, exiting.\n"
     ]
    }
   ],
   "source": [
    "!python3 -m http.server"
   ]
  },
  {
   "cell_type": "code",
   "execution_count": 11,
   "metadata": {},
   "outputs": [
    {
     "name": "stdout",
     "output_type": "stream",
     "text": [
      "Overwriting hello.py\n"
     ]
    }
   ],
   "source": [
    "%%writefile hello.py\n",
    "\n",
    "from http.server import BaseHTTPRequestHandler, HTTPServer\n",
    "\n",
    "HOST = \"localhost\"\n",
    "PORT = 8080\n",
    "\n",
    "class Simpleserver(BaseHTTPRequestHandler):\n",
    "    def do_GET(self):\n",
    "        self.send_response(200)\n",
    "        self.send_header(\"Content-type\", \"text/html\")\n",
    "        self.end_headers()\n",
    "        self.wfile.write(bytes(\"<body>Hello!</body>\", \"utf-8\"))\n",
    "\n",
    "myServer = HTTPServer((HOST, PORT), Simpleserver)\n",
    "\n",
    "try:\n",
    "    Simpleserver.serve_forever()\n",
    "except KeyboardInterrupt:\n",
    "    pass\n",
    "\n",
    "Simpleserver.server_close()"
   ]
  },
  {
   "cell_type": "code",
   "execution_count": 6,
   "metadata": {},
   "outputs": [
    {
     "ename": "OSError",
     "evalue": "[Errno 48] Address already in use",
     "output_type": "error",
     "traceback": [
      "\u001b[0;31m---------------------------------------------------------------------------\u001b[0m",
      "\u001b[0;31mOSError\u001b[0m                                   Traceback (most recent call last)",
      "\u001b[0;32m~/Classes/python-seminar/DataFiles_and_Notebooks/09_Web/hello.py\u001b[0m in \u001b[0;36m<module>\u001b[0;34m()\u001b[0m\n\u001b[1;32m      5\u001b[0m        \u001b[0ms\u001b[0m\u001b[0;34m.\u001b[0m\u001b[0mwfile\u001b[0m\u001b[0;34m.\u001b[0m\u001b[0mwrite\u001b[0m\u001b[0;34m(\u001b[0m\u001b[0;34m\"<body>Hello!</body>\"\u001b[0m\u001b[0;34m.\u001b[0m\u001b[0mencode\u001b[0m\u001b[0;34m(\u001b[0m\u001b[0;34m\"UTF-8\"\u001b[0m\u001b[0;34m)\u001b[0m\u001b[0;34m)\u001b[0m\u001b[0;34m\u001b[0m\u001b[0m\n\u001b[1;32m      6\u001b[0m \u001b[0;34m\u001b[0m\u001b[0m\n\u001b[0;32m----> 7\u001b[0;31m \u001b[0mhttpd\u001b[0m \u001b[0;34m=\u001b[0m \u001b[0mhttp\u001b[0m\u001b[0;34m.\u001b[0m\u001b[0mserver\u001b[0m\u001b[0;34m.\u001b[0m\u001b[0mHTTPServer\u001b[0m\u001b[0;34m(\u001b[0m\u001b[0;34m(\u001b[0m\u001b[0;34m\"localhost\"\u001b[0m\u001b[0;34m,\u001b[0m \u001b[0;36m8085\u001b[0m\u001b[0;34m)\u001b[0m\u001b[0;34m,\u001b[0m \u001b[0mmyresponse\u001b[0m\u001b[0;34m)\u001b[0m\u001b[0;34m\u001b[0m\u001b[0m\n\u001b[0m\u001b[1;32m      8\u001b[0m \u001b[0mhttpd\u001b[0m\u001b[0;34m.\u001b[0m\u001b[0mserve_forever\u001b[0m\u001b[0;34m(\u001b[0m\u001b[0;34m)\u001b[0m\u001b[0;34m\u001b[0m\u001b[0m\n",
      "\u001b[0;32m~/anaconda3/lib/python3.6/socketserver.py\u001b[0m in \u001b[0;36m__init__\u001b[0;34m(self, server_address, RequestHandlerClass, bind_and_activate)\u001b[0m\n\u001b[1;32m    451\u001b[0m         \u001b[0;32mif\u001b[0m \u001b[0mbind_and_activate\u001b[0m\u001b[0;34m:\u001b[0m\u001b[0;34m\u001b[0m\u001b[0m\n\u001b[1;32m    452\u001b[0m             \u001b[0;32mtry\u001b[0m\u001b[0;34m:\u001b[0m\u001b[0;34m\u001b[0m\u001b[0m\n\u001b[0;32m--> 453\u001b[0;31m                 \u001b[0mself\u001b[0m\u001b[0;34m.\u001b[0m\u001b[0mserver_bind\u001b[0m\u001b[0;34m(\u001b[0m\u001b[0;34m)\u001b[0m\u001b[0;34m\u001b[0m\u001b[0m\n\u001b[0m\u001b[1;32m    454\u001b[0m                 \u001b[0mself\u001b[0m\u001b[0;34m.\u001b[0m\u001b[0mserver_activate\u001b[0m\u001b[0;34m(\u001b[0m\u001b[0;34m)\u001b[0m\u001b[0;34m\u001b[0m\u001b[0m\n\u001b[1;32m    455\u001b[0m             \u001b[0;32mexcept\u001b[0m\u001b[0;34m:\u001b[0m\u001b[0;34m\u001b[0m\u001b[0m\n",
      "\u001b[0;32m~/anaconda3/lib/python3.6/http/server.py\u001b[0m in \u001b[0;36mserver_bind\u001b[0;34m(self)\u001b[0m\n\u001b[1;32m    134\u001b[0m     \u001b[0;32mdef\u001b[0m \u001b[0mserver_bind\u001b[0m\u001b[0;34m(\u001b[0m\u001b[0mself\u001b[0m\u001b[0;34m)\u001b[0m\u001b[0;34m:\u001b[0m\u001b[0;34m\u001b[0m\u001b[0m\n\u001b[1;32m    135\u001b[0m         \u001b[0;34m\"\"\"Override server_bind to store the server name.\"\"\"\u001b[0m\u001b[0;34m\u001b[0m\u001b[0m\n\u001b[0;32m--> 136\u001b[0;31m         \u001b[0msocketserver\u001b[0m\u001b[0;34m.\u001b[0m\u001b[0mTCPServer\u001b[0m\u001b[0;34m.\u001b[0m\u001b[0mserver_bind\u001b[0m\u001b[0;34m(\u001b[0m\u001b[0mself\u001b[0m\u001b[0;34m)\u001b[0m\u001b[0;34m\u001b[0m\u001b[0m\n\u001b[0m\u001b[1;32m    137\u001b[0m         \u001b[0mhost\u001b[0m\u001b[0;34m,\u001b[0m \u001b[0mport\u001b[0m \u001b[0;34m=\u001b[0m \u001b[0mself\u001b[0m\u001b[0;34m.\u001b[0m\u001b[0mserver_address\u001b[0m\u001b[0;34m[\u001b[0m\u001b[0;34m:\u001b[0m\u001b[0;36m2\u001b[0m\u001b[0;34m]\u001b[0m\u001b[0;34m\u001b[0m\u001b[0m\n\u001b[1;32m    138\u001b[0m         \u001b[0mself\u001b[0m\u001b[0;34m.\u001b[0m\u001b[0mserver_name\u001b[0m \u001b[0;34m=\u001b[0m \u001b[0msocket\u001b[0m\u001b[0;34m.\u001b[0m\u001b[0mgetfqdn\u001b[0m\u001b[0;34m(\u001b[0m\u001b[0mhost\u001b[0m\u001b[0;34m)\u001b[0m\u001b[0;34m\u001b[0m\u001b[0m\n",
      "\u001b[0;32m~/anaconda3/lib/python3.6/socketserver.py\u001b[0m in \u001b[0;36mserver_bind\u001b[0;34m(self)\u001b[0m\n\u001b[1;32m    465\u001b[0m         \u001b[0;32mif\u001b[0m \u001b[0mself\u001b[0m\u001b[0;34m.\u001b[0m\u001b[0mallow_reuse_address\u001b[0m\u001b[0;34m:\u001b[0m\u001b[0;34m\u001b[0m\u001b[0m\n\u001b[1;32m    466\u001b[0m             \u001b[0mself\u001b[0m\u001b[0;34m.\u001b[0m\u001b[0msocket\u001b[0m\u001b[0;34m.\u001b[0m\u001b[0msetsockopt\u001b[0m\u001b[0;34m(\u001b[0m\u001b[0msocket\u001b[0m\u001b[0;34m.\u001b[0m\u001b[0mSOL_SOCKET\u001b[0m\u001b[0;34m,\u001b[0m \u001b[0msocket\u001b[0m\u001b[0;34m.\u001b[0m\u001b[0mSO_REUSEADDR\u001b[0m\u001b[0;34m,\u001b[0m \u001b[0;36m1\u001b[0m\u001b[0;34m)\u001b[0m\u001b[0;34m\u001b[0m\u001b[0m\n\u001b[0;32m--> 467\u001b[0;31m         \u001b[0mself\u001b[0m\u001b[0;34m.\u001b[0m\u001b[0msocket\u001b[0m\u001b[0;34m.\u001b[0m\u001b[0mbind\u001b[0m\u001b[0;34m(\u001b[0m\u001b[0mself\u001b[0m\u001b[0;34m.\u001b[0m\u001b[0mserver_address\u001b[0m\u001b[0;34m)\u001b[0m\u001b[0;34m\u001b[0m\u001b[0m\n\u001b[0m\u001b[1;32m    468\u001b[0m         \u001b[0mself\u001b[0m\u001b[0;34m.\u001b[0m\u001b[0mserver_address\u001b[0m \u001b[0;34m=\u001b[0m \u001b[0mself\u001b[0m\u001b[0;34m.\u001b[0m\u001b[0msocket\u001b[0m\u001b[0;34m.\u001b[0m\u001b[0mgetsockname\u001b[0m\u001b[0;34m(\u001b[0m\u001b[0;34m)\u001b[0m\u001b[0;34m\u001b[0m\u001b[0m\n\u001b[1;32m    469\u001b[0m \u001b[0;34m\u001b[0m\u001b[0m\n",
      "\u001b[0;31mOSError\u001b[0m: [Errno 48] Address already in use"
     ]
    }
   ],
   "source": [
    "%run hello.py"
   ]
  },
  {
   "cell_type": "markdown",
   "metadata": {},
   "source": [
    "**note: HTTPServer is not threaded**"
   ]
  },
  {
   "cell_type": "code",
   "execution_count": 12,
   "metadata": {},
   "outputs": [
    {
     "name": "stdout",
     "output_type": "stream",
     "text": [
      "Overwriting httpd.py\n"
     ]
    }
   ],
   "source": [
    "%%writefile httpd.py\n",
    "import time\n",
    "import http.server\n",
    "\n",
    "HOST_NAME = 'localhost' #\n",
    "PORT_NUMBER = 8091 # Maybe set this to 9000.\n",
    "\n",
    "def s2b(s):\n",
    "    return bytes(s, 'utf-8')\n",
    "\n",
    "class MyHandler(http.server.SimpleHTTPRequestHandler):\n",
    "    def do_HEAD(s):\n",
    "        s.send_response(200)\n",
    "        s.send_header(s2b(\"Content-type\"), s2b(\"text/html\"))\n",
    "        s.end_headers()\n",
    "\n",
    "    def do_GET(s):\n",
    "        \"\"\"Respond to a GET request.\"\"\"\n",
    "        s.send_response(200)\n",
    "        s.send_header(s2b(\"Content-type\"), s2b(\"text/html\"))\n",
    "        s.end_headers()\n",
    "        s.wfile.write(s2b(\"<html><head><title>Title goes here.</title></head>\"))\n",
    "        s.wfile.write(s2b(\"<body><p>This is a <i>test.</i></p>\"))\n",
    "        # If someone went to \"http://something.somewhere.net/foo/bar/\",\n",
    "        # then s.path equals \"/foo/bar/\".\n",
    "        s.wfile.write(s2b(\"<p>You accessed path: %s</p>\" % s.path))\n",
    "        s.wfile.write(s2b(\"</body></html>\"))\n",
    "\n",
    "if __name__ == '__main__':\n",
    "    server_class = http.server.HTTPServer\n",
    "    httpd = server_class((HOST_NAME, PORT_NUMBER), MyHandler)\n",
    "    print(time.asctime()), \"Server Starts - %s:%s\" % (HOST_NAME, PORT_NUMBER)\n",
    "    httpd.serve_forever()\n",
    "    #except KeyboardInterrupt:\n",
    "    #    pass\n",
    "    httpd.server_close()\n",
    "    print(time.asctime()), \"Server Stops - %s:%s\" % (HOST_NAME, PORT_NUMBER)"
   ]
  },
  {
   "cell_type": "code",
   "execution_count": 13,
   "metadata": {},
   "outputs": [
    {
     "name": "stdout",
     "output_type": "stream",
     "text": [
      "Sun Apr  8 15:13:34 2018\n"
     ]
    },
    {
     "name": "stderr",
     "output_type": "stream",
     "text": [
      "127.0.0.1 - - [08/Apr/2018 15:13:50] \"GET / HTTP/1.1\" 200 -\n",
      "127.0.0.1 - - [08/Apr/2018 15:13:50] \"GET /favicon.ico HTTP/1.1\" 200 -\n",
      "127.0.0.1 - - [08/Apr/2018 15:13:53] \"GET /hi HTTP/1.1\" 200 -\n",
      "127.0.0.1 - - [08/Apr/2018 15:13:54] \"GET /favicon.ico HTTP/1.1\" 200 -\n"
     ]
    },
    {
     "ename": "KeyboardInterrupt",
     "evalue": "",
     "output_type": "error",
     "traceback": [
      "\u001b[0;31m---------------------------------------------------------------------------\u001b[0m",
      "\u001b[0;31mKeyboardInterrupt\u001b[0m                         Traceback (most recent call last)",
      "\u001b[0;32m~/Classes/python-seminar/DataFiles_and_Notebooks/09_Web/httpd.py\u001b[0m in \u001b[0;36m<module>\u001b[0;34m()\u001b[0m\n\u001b[1;32m     30\u001b[0m     \u001b[0mhttpd\u001b[0m \u001b[0;34m=\u001b[0m \u001b[0mserver_class\u001b[0m\u001b[0;34m(\u001b[0m\u001b[0;34m(\u001b[0m\u001b[0mHOST_NAME\u001b[0m\u001b[0;34m,\u001b[0m \u001b[0mPORT_NUMBER\u001b[0m\u001b[0;34m)\u001b[0m\u001b[0;34m,\u001b[0m \u001b[0mMyHandler\u001b[0m\u001b[0;34m)\u001b[0m\u001b[0;34m\u001b[0m\u001b[0m\n\u001b[1;32m     31\u001b[0m     \u001b[0mprint\u001b[0m\u001b[0;34m(\u001b[0m\u001b[0mtime\u001b[0m\u001b[0;34m.\u001b[0m\u001b[0masctime\u001b[0m\u001b[0;34m(\u001b[0m\u001b[0;34m)\u001b[0m\u001b[0;34m)\u001b[0m\u001b[0;34m,\u001b[0m \u001b[0;34m\"Server Starts - %s:%s\"\u001b[0m \u001b[0;34m%\u001b[0m \u001b[0;34m(\u001b[0m\u001b[0mHOST_NAME\u001b[0m\u001b[0;34m,\u001b[0m \u001b[0mPORT_NUMBER\u001b[0m\u001b[0;34m)\u001b[0m\u001b[0;34m\u001b[0m\u001b[0m\n\u001b[0;32m---> 32\u001b[0;31m     \u001b[0mhttpd\u001b[0m\u001b[0;34m.\u001b[0m\u001b[0mserve_forever\u001b[0m\u001b[0;34m(\u001b[0m\u001b[0;34m)\u001b[0m\u001b[0;34m\u001b[0m\u001b[0m\n\u001b[0m\u001b[1;32m     33\u001b[0m     \u001b[0;31m#except KeyboardInterrupt:\u001b[0m\u001b[0;34m\u001b[0m\u001b[0;34m\u001b[0m\u001b[0m\n\u001b[1;32m     34\u001b[0m     \u001b[0;31m#    pass\u001b[0m\u001b[0;34m\u001b[0m\u001b[0;34m\u001b[0m\u001b[0m\n",
      "\u001b[0;32m~/anaconda3/lib/python3.6/socketserver.py\u001b[0m in \u001b[0;36mserve_forever\u001b[0;34m(self, poll_interval)\u001b[0m\n\u001b[1;32m    234\u001b[0m \u001b[0;34m\u001b[0m\u001b[0m\n\u001b[1;32m    235\u001b[0m                 \u001b[0;32mwhile\u001b[0m \u001b[0;32mnot\u001b[0m \u001b[0mself\u001b[0m\u001b[0;34m.\u001b[0m\u001b[0m__shutdown_request\u001b[0m\u001b[0;34m:\u001b[0m\u001b[0;34m\u001b[0m\u001b[0m\n\u001b[0;32m--> 236\u001b[0;31m                     \u001b[0mready\u001b[0m \u001b[0;34m=\u001b[0m \u001b[0mselector\u001b[0m\u001b[0;34m.\u001b[0m\u001b[0mselect\u001b[0m\u001b[0;34m(\u001b[0m\u001b[0mpoll_interval\u001b[0m\u001b[0;34m)\u001b[0m\u001b[0;34m\u001b[0m\u001b[0m\n\u001b[0m\u001b[1;32m    237\u001b[0m                     \u001b[0;32mif\u001b[0m \u001b[0mready\u001b[0m\u001b[0;34m:\u001b[0m\u001b[0;34m\u001b[0m\u001b[0m\n\u001b[1;32m    238\u001b[0m                         \u001b[0mself\u001b[0m\u001b[0;34m.\u001b[0m\u001b[0m_handle_request_noblock\u001b[0m\u001b[0;34m(\u001b[0m\u001b[0;34m)\u001b[0m\u001b[0;34m\u001b[0m\u001b[0m\n",
      "\u001b[0;32m~/anaconda3/lib/python3.6/selectors.py\u001b[0m in \u001b[0;36mselect\u001b[0;34m(self, timeout)\u001b[0m\n\u001b[1;32m    374\u001b[0m             \u001b[0mready\u001b[0m \u001b[0;34m=\u001b[0m \u001b[0;34m[\u001b[0m\u001b[0;34m]\u001b[0m\u001b[0;34m\u001b[0m\u001b[0m\n\u001b[1;32m    375\u001b[0m             \u001b[0;32mtry\u001b[0m\u001b[0;34m:\u001b[0m\u001b[0;34m\u001b[0m\u001b[0m\n\u001b[0;32m--> 376\u001b[0;31m                 \u001b[0mfd_event_list\u001b[0m \u001b[0;34m=\u001b[0m \u001b[0mself\u001b[0m\u001b[0;34m.\u001b[0m\u001b[0m_poll\u001b[0m\u001b[0;34m.\u001b[0m\u001b[0mpoll\u001b[0m\u001b[0;34m(\u001b[0m\u001b[0mtimeout\u001b[0m\u001b[0;34m)\u001b[0m\u001b[0;34m\u001b[0m\u001b[0m\n\u001b[0m\u001b[1;32m    377\u001b[0m             \u001b[0;32mexcept\u001b[0m \u001b[0mInterruptedError\u001b[0m\u001b[0;34m:\u001b[0m\u001b[0;34m\u001b[0m\u001b[0m\n\u001b[1;32m    378\u001b[0m                 \u001b[0;32mreturn\u001b[0m \u001b[0mready\u001b[0m\u001b[0;34m\u001b[0m\u001b[0m\n",
      "\u001b[0;31mKeyboardInterrupt\u001b[0m: "
     ]
    }
   ],
   "source": [
    "%run httpd.py"
   ]
  },
  {
   "cell_type": "markdown",
   "metadata": {},
   "source": [
    "### Cherrypy \n",
    "\n",
    "<img width=\"100\" src=\"http://docs.cherrypy.org/en/latest/_static/images/cherrypy_logo_big.png\" >\n",
    "\n",
    "http://cherrypy.org/: \"pythonic, object-oriented web framework\"\n",
    "```\n",
    "pip install cherrypy\n",
    "```"
   ]
  },
  {
   "cell_type": "code",
   "execution_count": 14,
   "metadata": {},
   "outputs": [
    {
     "name": "stdout",
     "output_type": "stream",
     "text": [
      "Overwriting cp1.py\n"
     ]
    }
   ],
   "source": [
    "%%writefile cp1.py\n",
    "import cherrypy\n",
    "\n",
    "PORTNUM = 8093\n",
    "\n",
    "class WelcomePage:\n",
    "    def greetUser(self, name = None):\n",
    "        if name:\n",
    "            # Greet the user!\n",
    "            return \"Hey %s, what's up?\" % name\n",
    "        else:\n",
    "            return 'call me like <i>http://localhost:{}/greetUser?name=Josh</i>'.format(PORTNUM)\n",
    "    greetUser.exposed = True\n",
    "\n",
    "cherrypy.config.update({\"server.socket_port\": PORTNUM})\n",
    "\n",
    "cherrypy.quickstart(WelcomePage())"
   ]
  },
  {
   "cell_type": "code",
   "execution_count": null,
   "metadata": {},
   "outputs": [
    {
     "name": "stderr",
     "output_type": "stream",
     "text": [
      "[08/Apr/2018:15:18:17] ENGINE Listening for SIGTERM.\n",
      "[08/Apr/2018:15:18:17] ENGINE Listening for SIGHUP.\n",
      "[08/Apr/2018:15:18:17] ENGINE Listening for SIGUSR1.\n",
      "[08/Apr/2018:15:18:17] ENGINE Bus STARTING\n",
      "CherryPy Checker:\n",
      "The Application mounted at '' has an empty config.\n",
      "\n",
      "[08/Apr/2018:15:18:17] ENGINE Started monitor thread 'Autoreloader'.\n",
      "[08/Apr/2018:15:18:17] ENGINE Serving on http://127.0.0.1:8093\n",
      "[08/Apr/2018:15:18:17] ENGINE Bus STARTED\n"
     ]
    },
    {
     "name": "stdout",
     "output_type": "stream",
     "text": [
      "127.0.0.1 - - [08/Apr/2018:15:18:22] \"GET / HTTP/1.1\" 404 1394 \"http://localhost:8888/notebooks/09_Web/web.ipynb\" \"Mozilla/5.0 (Macintosh; Intel Mac OS X 10_13_3) AppleWebKit/537.36 (KHTML, like Gecko) Chrome/65.0.3325.181 Safari/537.36\"\n",
      "127.0.0.1 - - [08/Apr/2018:15:18:22] \"GET /favicon.ico HTTP/1.1\" 200 1406 \"http://127.0.0.1:8093/\" \"Mozilla/5.0 (Macintosh; Intel Mac OS X 10_13_3) AppleWebKit/537.36 (KHTML, like Gecko) Chrome/65.0.3325.181 Safari/537.36\"\n",
      "127.0.0.1 - - [08/Apr/2018:15:18:29] \"GET /greetuser HTTP/1.1\" 404 1412 \"\" \"Mozilla/5.0 (Macintosh; Intel Mac OS X 10_13_3) AppleWebKit/537.36 (KHTML, like Gecko) Chrome/65.0.3325.181 Safari/537.36\"\n",
      "127.0.0.1 - - [08/Apr/2018:15:18:40] \"GET /greetUser HTTP/1.1\" 200 61 \"\" \"Mozilla/5.0 (Macintosh; Intel Mac OS X 10_13_3) AppleWebKit/537.36 (KHTML, like Gecko) Chrome/65.0.3325.181 Safari/537.36\"\n"
     ]
    },
    {
     "name": "stderr",
     "output_type": "stream",
     "text": [
      "[08/Apr/2018:15:18:45] ENGINE Keyboard Interrupt: shutting down bus\n",
      "[08/Apr/2018:15:18:45] ENGINE Bus STOPPING\n",
      "[08/Apr/2018:15:18:50] ENGINE HTTP Server cherrypy._cpwsgi_server.CPWSGIServer(('127.0.0.1', 8093)) shut down\n",
      "[08/Apr/2018:15:18:50] ENGINE Stopped thread 'Autoreloader'.\n",
      "[08/Apr/2018:15:18:50] ENGINE Bus STOPPED\n",
      "[08/Apr/2018:15:18:50] ENGINE Bus EXITING\n",
      "[08/Apr/2018:15:18:50] ENGINE Bus EXITED\n",
      "[08/Apr/2018:15:18:50] ENGINE Waiting for child threads to terminate...\n"
     ]
    }
   ],
   "source": [
    "%run cp1.py"
   ]
  },
  {
   "cell_type": "code",
   "execution_count": 28,
   "metadata": {},
   "outputs": [
    {
     "name": "stdout",
     "output_type": "stream",
     "text": [
      "Overwriting cp2.py\n"
     ]
    }
   ],
   "source": [
    "%%writefile cp2.py\n",
    "\"\"\"\n",
    "Tutorial - Passing variables\n",
    "\n",
    "This tutorial shows you how to pass GET/POST variables to methods.\n",
    "\"\"\"\n",
    "import os\n",
    "import cherrypy\n",
    "\n",
    "class WelcomePage:\n",
    "\n",
    "    @cherrypy.expose\n",
    "    def index(self):\n",
    "        # Ask for the user's name.\n",
    "        return '''\n",
    "            <form action=\"greetUser\" method=\"GET\">\n",
    "            What is your name?\n",
    "            <input type=\"text\" name=\"name\" />\n",
    "            <input type=\"submit\" />\n",
    "            </form>'''\n",
    "    \n",
    "    @cherrypy.expose\n",
    "    def greetUser(self, name = None):\n",
    "        # CherryPy passes all GET and POST variables as method parameters.\n",
    "        # It doesn't make a difference where the variables come from, how\n",
    "        # large their contents are, and so on.\n",
    "        #\n",
    "        # You can define default parameter values as usual. In this\n",
    "        # example, the \"name\" parameter defaults to None so we can check\n",
    "        # if a name was actually specified.\n",
    "        \n",
    "        if name:\n",
    "            # Greet the user!\n",
    "            return \"Hey %s, what's up?\" % name\n",
    "        else:\n",
    "            if name is None:\n",
    "                # No name was specified\n",
    "                return 'Please enter your name <a href=\"./\">here</a>.'\n",
    "            else:\n",
    "                return 'No, really, enter your name <a href=\"./\">here</a>.'\n",
    "        \n",
    "    def secret(self):\n",
    "        return \"here's my password: blah!\"\n",
    "\n",
    "if __name__ == '__main__':\n",
    "    # CherryPy always starts with app.root when trying to map request URIs\n",
    "    # to objects, so we need to mount a request handler root. A request\n",
    "    # to '/' will be mapped to HelloWorld().index().\n",
    "    cherrypy.config.update({\"server.socket_port\": 9020})\n",
    "\n",
    "    cherrypy.quickstart(WelcomePage())\n",
    "else:\n",
    "    # This branch is for the test suite; you can ignore it.\n",
    "    cherrypy.tree.mount(WelcomePage())\n"
   ]
  },
  {
   "cell_type": "markdown",
   "metadata": {},
   "source": [
    "You can share your running webserver using `localtunnel` (https://localtunnel.github.io/www/)\n",
    "\n",
    "```\n",
    "brew install npm # on mac\n",
    "npm install -g localtunnel\n",
    "lt --port 8083\n",
    "```"
   ]
  },
  {
   "cell_type": "markdown",
   "metadata": {},
   "source": [
    "# Small exercise:\n",
    "\n",
    "modify cp2.py so that it asks the user for their name and their favorite color. Then greet them with that color...\n",
    "\n",
    "hint: `<font color=\"red\">output</font>`\n",
    "\n",
    "<img src=\"imgs/form1.png\">\n",
    "\n",
    "<img src=\"imgs/form2.png\">\n"
   ]
  },
  {
   "cell_type": "code",
   "execution_count": null,
   "metadata": {
    "collapsed": true
   },
   "outputs": [],
   "source": []
  }
 ],
 "metadata": {
  "kernelspec": {
   "display_name": "Python 3",
   "language": "python",
   "name": "python3"
  },
  "language_info": {
   "codemirror_mode": {
    "name": "ipython",
    "version": 3
   },
   "file_extension": ".py",
   "mimetype": "text/x-python",
   "name": "python",
   "nbconvert_exporter": "python",
   "pygments_lexer": "ipython3",
   "version": "3.6.4"
  }
 },
 "nbformat": 4,
 "nbformat_minor": 1
}
