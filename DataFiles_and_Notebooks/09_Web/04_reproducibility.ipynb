{
 "cells": [
  {
   "cell_type": "markdown",
   "metadata": {},
   "source": [
    "# Reproducibility & Continuous Integration\n",
    "\n",
    "## Notebooks \n",
    "\n",
    "Notebooks offer a fairly self contained approach to reproducibility (see recent paper \"The Scientific Paper Is Obsolete\" https://www.theatlantic.com/science/archive/2018/04/the-scientific-paper-is-obsolete/556676/).\n",
    "\n",
    "When the first gravitational wave detections were announced in 2016, Jupyter notebooks were front and center, allowing the public to (basically) reproduce the results from raw data.\n",
    "\n",
    "https://losc.ligo.org/s/events/GW150914/LOSC_Event_tutorial_GW150914.html"
   ]
  },
  {
   "cell_type": "markdown",
   "metadata": {},
   "source": [
    "## Binder \n",
    "\n",
    "Allowing people to not just download your notebooks, but also interact with them is a good step. \n",
    "\n",
    "Mybinder (https://mybinder.org/) is a hosted (via UC Berkeley) executation layer for your public notebooks.\n",
    "\n",
    "<img src=\"imgs/binder.png\">\n",
    "\n",
    "You then add something like this to your README:\n",
    "\n",
    "```markdown\n",
    "[![Binder](https://mybinder.org/badge.svg)](https://mybinder.org/v2/gh/profjsb/python-seminar/master)\n",
    "```"
   ]
  },
  {
   "cell_type": "markdown",
   "metadata": {},
   "source": [
    "Note that we often need to add dependencies (`environment.yml`)"
   ]
  },
  {
   "cell_type": "code",
   "execution_count": null,
   "metadata": {},
   "outputs": [],
   "source": [
    "# %load https://raw.githubusercontent.com/profjsb/python-seminar/master/environment.yml\n",
    "channels:\n",
    "  - conda-forge\n",
    "  - defaults\n",
    "dependencies:\n",
    "  - matplotlib\n",
    "  - scipy\n",
    "  - numpy\n",
    "  - pandas\n",
    "  - numexpr\n",
    "  - bokeh\n",
    "  - datashader\n",
    "  - seaborn\n",
    "  - pillow\n",
    "  - ipywidgets\n",
    "  - altair\n",
    "  - plotly\n",
    "  - bqplot\n",
    "  - pip:\n",
    "    - sphinx-gallery\n",
    "    - pdvega\n",
    "    - vega3\n",
    "\n"
   ]
  },
  {
   "cell_type": "markdown",
   "metadata": {},
   "source": [
    "And execute a post build script (`postBuild`). Put these in your top level directory as needed."
   ]
  },
  {
   "cell_type": "code",
   "execution_count": null,
   "metadata": {},
   "outputs": [],
   "source": [
    "# %load https://raw.githubusercontent.com/profjsb/python-seminar/master/postBuild\n",
    "#!/bin/bash\n",
    "jupyter nbextension install --sys-prefix --py vega3\n",
    "jupyter nbextension enable vega --py --sys-prefix\n",
    "jupyter nbextension enable vega3 --py --sys-prefix\n"
   ]
  },
  {
   "cell_type": "markdown",
   "metadata": {},
   "source": [
    "## Packaging and Testing"
   ]
  },
  {
   "cell_type": "code",
   "execution_count": 30,
   "metadata": {},
   "outputs": [
    {
     "name": "stdout",
     "output_type": "stream",
     "text": [
      "Cloning into 'PyAdder'...\n",
      "remote: Counting objects: 80, done.\u001b[K\n",
      "remote: Compressing objects: 100% (18/18), done.\u001b[K\n",
      "remote: Total 80 (delta 6), reused 19 (delta 3), pack-reused 55\u001b[K\n",
      "Unpacking objects: 100% (80/80), done.\n"
     ]
    }
   ],
   "source": [
    "!git clone https://github.com/profjsb/PyAdder"
   ]
  },
  {
   "cell_type": "code",
   "execution_count": null,
   "metadata": {},
   "outputs": [],
   "source": [
    "!brew install tree"
   ]
  },
  {
   "cell_type": "code",
   "execution_count": 32,
   "metadata": {},
   "outputs": [
    {
     "name": "stdout",
     "output_type": "stream",
     "text": [
      "\u001b[01;34mPyAdder/\u001b[00m\r\n",
      "├── .coveragerc\r\n",
      "├── .gitignore\r\n",
      "├── \u001b[01;34m.travis\u001b[00m\r\n",
      "│   └── \u001b[01;32mrun.sh\u001b[00m\r\n",
      "├── .travis.yml\r\n",
      "├── CHANGES.txt\r\n",
      "├── LICENSE.txt\r\n",
      "├── MANIFEST.in\r\n",
      "├── README.md\r\n",
      "├── \u001b[01;34madder\u001b[00m\r\n",
      "│   ├── __init__.py\r\n",
      "│   └── \u001b[01;34mtests\u001b[00m\r\n",
      "│       ├── __init__.py\r\n",
      "│       └── test_one_number.py\r\n",
      "├── requirements.txt\r\n",
      "├── setup.cfg\r\n",
      "└── setup.py\r\n"
     ]
    }
   ],
   "source": [
    "!tree PyAdder/ -a -T PyAdder -C --noreport -I \".git|*.pyc\""
   ]
  },
  {
   "cell_type": "markdown",
   "metadata": {},
   "source": [
    "See package management: https://packaging.python.org/ for more about the structure of this and the 02 lecture in `01_Versioning_Application_Building`. The meat of this python package is `adder/__init__.py`:\n",
    "\n",
    "```python\n",
    "__version__ = \"0.0.3\"\n",
    "__author__ = \"Josh!\"\n",
    "\n",
    "from numpy import array\n",
    "\n",
    "def run(*args):\n",
    "    return array(args).sum()\n",
    "```\n"
   ]
  },
  {
   "cell_type": "code",
   "execution_count": 33,
   "metadata": {},
   "outputs": [
    {
     "name": "stdout",
     "output_type": "stream",
     "text": [
      "/Users/jbloom/Classes/python-seminar/DataFiles_and_Notebooks/09_Web/PyAdder\n"
     ]
    }
   ],
   "source": [
    "cd PyAdder/"
   ]
  },
  {
   "cell_type": "code",
   "execution_count": 34,
   "metadata": {},
   "outputs": [
    {
     "name": "stdout",
     "output_type": "stream",
     "text": [
      "running sdist\n",
      "running egg_info\n",
      "creating PyAdder.egg-info\n",
      "writing PyAdder.egg-info/PKG-INFO\n",
      "writing dependency_links to PyAdder.egg-info/dependency_links.txt\n",
      "writing top-level names to PyAdder.egg-info/top_level.txt\n",
      "writing manifest file 'PyAdder.egg-info/SOURCES.txt'\n",
      "reading manifest file 'PyAdder.egg-info/SOURCES.txt'\n",
      "reading manifest template 'MANIFEST.in'\n",
      "writing manifest file 'PyAdder.egg-info/SOURCES.txt'\n",
      "running check\n",
      "creating PyAdder-0.0.3\n",
      "creating PyAdder-0.0.3/PyAdder.egg-info\n",
      "creating PyAdder-0.0.3/adder\n",
      "creating PyAdder-0.0.3/adder/tests\n",
      "copying files to PyAdder-0.0.3...\n",
      "copying CHANGES.txt -> PyAdder-0.0.3\n",
      "copying LICENSE.txt -> PyAdder-0.0.3\n",
      "copying MANIFEST.in -> PyAdder-0.0.3\n",
      "copying README.md -> PyAdder-0.0.3\n",
      "copying requirements.txt -> PyAdder-0.0.3\n",
      "copying setup.cfg -> PyAdder-0.0.3\n",
      "copying setup.py -> PyAdder-0.0.3\n",
      "copying PyAdder.egg-info/PKG-INFO -> PyAdder-0.0.3/PyAdder.egg-info\n",
      "copying PyAdder.egg-info/SOURCES.txt -> PyAdder-0.0.3/PyAdder.egg-info\n",
      "copying PyAdder.egg-info/dependency_links.txt -> PyAdder-0.0.3/PyAdder.egg-info\n",
      "copying PyAdder.egg-info/top_level.txt -> PyAdder-0.0.3/PyAdder.egg-info\n",
      "copying adder/__init__.py -> PyAdder-0.0.3/adder\n",
      "copying adder/tests/__init__.py -> PyAdder-0.0.3/adder/tests\n",
      "copying adder/tests/test_one_number.py -> PyAdder-0.0.3/adder/tests\n",
      "Writing PyAdder-0.0.3/setup.cfg\n",
      "creating dist\n",
      "Creating tar archive\n",
      "removing 'PyAdder-0.0.3' (and everything under it)\n",
      "running bdist_wheel\n",
      "running build\n",
      "running build_py\n",
      "creating build\n",
      "creating build/lib\n",
      "creating build/lib/adder\n",
      "copying adder/__init__.py -> build/lib/adder\n",
      "creating build/lib/adder/tests\n",
      "copying adder/tests/__init__.py -> build/lib/adder/tests\n",
      "copying adder/tests/test_one_number.py -> build/lib/adder/tests\n",
      "installing to build/bdist.macosx-10.7-x86_64/wheel\n",
      "running install\n",
      "running install_lib\n",
      "creating build/bdist.macosx-10.7-x86_64\n",
      "creating build/bdist.macosx-10.7-x86_64/wheel\n",
      "creating build/bdist.macosx-10.7-x86_64/wheel/adder\n",
      "creating build/bdist.macosx-10.7-x86_64/wheel/adder/tests\n",
      "copying build/lib/adder/tests/__init__.py -> build/bdist.macosx-10.7-x86_64/wheel/adder/tests\n",
      "copying build/lib/adder/tests/test_one_number.py -> build/bdist.macosx-10.7-x86_64/wheel/adder/tests\n",
      "copying build/lib/adder/__init__.py -> build/bdist.macosx-10.7-x86_64/wheel/adder\n",
      "running install_egg_info\n",
      "Copying PyAdder.egg-info to build/bdist.macosx-10.7-x86_64/wheel/PyAdder-0.0.3-py3.6.egg-info\n",
      "running install_scripts\n",
      "creating build/bdist.macosx-10.7-x86_64/wheel/PyAdder-0.0.3.dist-info/WHEEL\n",
      "creating '/Users/jbloom/Classes/python-seminar/DataFiles_and_Notebooks/09_Web/PyAdder/dist/PyAdder-0.0.3-py3-none-any.whl' and adding '.' to it\n",
      "adding 'adder/__init__.py'\n",
      "adding 'adder/tests/__init__.py'\n",
      "adding 'adder/tests/test_one_number.py'\n",
      "adding 'PyAdder-0.0.3.dist-info/DESCRIPTION.rst'\n",
      "adding 'PyAdder-0.0.3.dist-info/metadata.json'\n",
      "adding 'PyAdder-0.0.3.dist-info/top_level.txt'\n",
      "adding 'PyAdder-0.0.3.dist-info/WHEEL'\n",
      "adding 'PyAdder-0.0.3.dist-info/METADATA'\n",
      "adding 'PyAdder-0.0.3.dist-info/RECORD'\n"
     ]
    }
   ],
   "source": [
    "!python setup.py sdist bdist_wheel"
   ]
  },
  {
   "cell_type": "code",
   "execution_count": 35,
   "metadata": {},
   "outputs": [
    {
     "name": "stdout",
     "output_type": "stream",
     "text": [
      "PyAdder-0.0.3-py3-none-any.whl  PyAdder-0.0.3.tar.gz\r\n"
     ]
    }
   ],
   "source": [
    "ls dist/"
   ]
  },
  {
   "cell_type": "code",
   "execution_count": 36,
   "metadata": {},
   "outputs": [
    {
     "name": "stdout",
     "output_type": "stream",
     "text": [
      "Processing ./dist/PyAdder-0.0.3-py3-none-any.whl\n",
      "Installing collected packages: PyAdder\n",
      "  Found existing installation: PyAdder 0.0.1\n",
      "    Uninstalling PyAdder-0.0.1:\n",
      "      Successfully uninstalled PyAdder-0.0.1\n",
      "Successfully installed PyAdder-0.0.3\n"
     ]
    }
   ],
   "source": [
    "!pip install dist/PyAdder-0.0.3-py3-none-any.whl"
   ]
  },
  {
   "cell_type": "code",
   "execution_count": 38,
   "metadata": {},
   "outputs": [
    {
     "name": "stdout",
     "output_type": "stream",
     "text": [
      "version: 0.0.2\n"
     ]
    },
    {
     "data": {
      "text/plain": [
       "42"
      ]
     },
     "execution_count": 38,
     "metadata": {},
     "output_type": "execute_result"
    }
   ],
   "source": [
    "import adder\n",
    "print(f\"version: {adder.__version__}\")\n",
    "adder.run(1,2,10,-1,30)"
   ]
  },
  {
   "cell_type": "markdown",
   "metadata": {},
   "source": [
    "## Tests\n",
    "\n",
    "We'd like to know if our code is working before we deploy. Locally we can run `py.test` or:"
   ]
  },
  {
   "cell_type": "code",
   "execution_count": 39,
   "metadata": {},
   "outputs": [
    {
     "name": "stdout",
     "output_type": "stream",
     "text": [
      "running pytest\n",
      "running egg_info\n",
      "writing PyAdder.egg-info/PKG-INFO\n",
      "writing dependency_links to PyAdder.egg-info/dependency_links.txt\n",
      "writing top-level names to PyAdder.egg-info/top_level.txt\n",
      "reading manifest file 'PyAdder.egg-info/SOURCES.txt'\n",
      "reading manifest template 'MANIFEST.in'\n",
      "writing manifest file 'PyAdder.egg-info/SOURCES.txt'\n",
      "running build_ext\n",
      "\u001b[1m============================= test session starts ==============================\u001b[0m\n",
      "platform darwin -- Python 3.6.4, pytest-3.3.2, py-1.5.2, pluggy-0.6.0 -- /Users/jbloom/anaconda3/bin/python\n",
      "cachedir: .cache\n",
      "rootdir: /Users/jbloom/Classes/python-seminar/DataFiles_and_Notebooks/09_Web/PyAdder, inifile: setup.cfg\n",
      "plugins: cov-2.5.1\n",
      "collected 3 items                                                              \u001b[0m\u001b[1m\n",
      "\n",
      "adder/tests/test_one_number.py::TestOneNumber::test_deplorables \u001b[32mPASSED\u001b[0m\u001b[36m   [ 33%]\u001b[0m\n",
      "adder/tests/test_one_number.py::TestOneNumber::test_floats \u001b[32mPASSED\u001b[0m\u001b[36m        [ 66%]\u001b[0m\n",
      "adder/tests/test_one_number.py::TestOneNumber::test_ints \u001b[32mPASSED\u001b[0m\u001b[36m          [100%]\u001b[0m\n",
      "\n",
      "\u001b[32m\u001b[1m=========================== 3 passed in 0.09 seconds ===========================\u001b[0m\n"
     ]
    }
   ],
   "source": [
    "!python setup.py test"
   ]
  },
  {
   "cell_type": "code",
   "execution_count": 40,
   "metadata": {},
   "outputs": [],
   "source": [
    "# %load adder/tests/test_one_number.py\n",
    "from unittest import TestCase\n",
    "import math\n",
    "from numpy import inf, isinf, nan, isnan\n",
    "import adder\n",
    "\n",
    "class TestOneNumber(TestCase):\n",
    "\n",
    "    def test_floats(self):\n",
    "        for num in [1617161771.7650001, math.pi, math.pi**100,\n",
    "                    math.pi**-100, 3.1]:\n",
    "            self.assertEqual(adder.run(num), num)\n",
    "\n",
    "    def test_ints(self):\n",
    "        for num in [-1,0,1]:\n",
    "            self.assertEqual(adder.run(num), num)\n",
    "\n",
    "    def test_deplorables(self):\n",
    "        self.assertTrue(isinf(adder.run(inf)))\n",
    "        self.assertTrue(isnan(adder.run(nan)))\n",
    "\n"
   ]
  },
  {
   "cell_type": "markdown",
   "metadata": {},
   "source": [
    "# Continuous Integration\n",
    "\n",
    "\"Continuous Integration is a software development practice where members of a team integrate their work frequently, usually each person integrates at least daily - leading to multiple integrations per day. Each integration is verified by an automated build (including test) to detect integration errors as quickly as possible. Many teams find that this approach leads to significantly reduced integration problems and allows a team to develop cohesive software more rapidly.\"\n",
    "\n",
    "http://docs.python-guide.org/en/latest/scenarios/ci/\n",
    "\n",
    "**Travis-CI** is a distributed CI server which builds tests for open source projects for free. It provides multiple workers to run Python tests on and seamlessly integrates with GitHub. You can even have it comment on your Pull Requests whether this particular changeset breaks the build or not. So if you are hosting your code on GitHub, travis-ci is a great and easy way to get started with Continuous Integration. See https://docs.travis-ci.com/\n",
    "\n",
    "If we're maintaining a repo, ideally we'd like to know if our tests are passing before accepting pull requests.\n",
    "\n",
    "Let's look at the Travis CI interface: https://travis-ci.org/profjsb/PyAdder"
   ]
  },
  {
   "cell_type": "markdown",
   "metadata": {},
   "source": [
    "<img src=\"https://www.evernote.com/l/AUUiuc2SSGNHk63FpxmZrYb2w4nSuzUry9UB/image.png\">"
   ]
  },
  {
   "cell_type": "markdown",
   "metadata": {},
   "source": [
    "We can add \n",
    "```html\n",
    "<img src=\"https://travis-ci.org/profjsb/PyAdder.svg?branch=master\" data-pin-nopin=\"true\">\n",
    "```\n",
    "\n",
    "to our `README.md` to get a green badge:\n",
    "\n",
    "<img src=\"https://travis-ci.org/profjsb/PyAdder.svg?branch=master\" data-pin-nopin=\"true\">"
   ]
  },
  {
   "cell_type": "markdown",
   "metadata": {},
   "source": [
    "## code coverage\n",
    "\n",
    "When tests are run, we can see what part of our code is touched (\"covered\")."
   ]
  },
  {
   "cell_type": "code",
   "execution_count": 44,
   "metadata": {},
   "outputs": [
    {
     "name": "stdout",
     "output_type": "stream",
     "text": [
      "Requirement already satisfied: pytest-cov in /Users/jbloom/anaconda3/lib/python3.6/site-packages\r\n",
      "Requirement already satisfied: coverage>=3.7.1 in /Users/jbloom/anaconda3/lib/python3.6/site-packages (from pytest-cov)\r\n",
      "Requirement already satisfied: pytest>=2.6.0 in /Users/jbloom/anaconda3/lib/python3.6/site-packages (from pytest-cov)\r\n",
      "Requirement already satisfied: py>=1.5.0 in /Users/jbloom/anaconda3/lib/python3.6/site-packages (from pytest>=2.6.0->pytest-cov)\r\n",
      "Requirement already satisfied: six>=1.10.0 in /Users/jbloom/anaconda3/lib/python3.6/site-packages (from pytest>=2.6.0->pytest-cov)\r\n",
      "Requirement already satisfied: setuptools in /Users/jbloom/anaconda3/lib/python3.6/site-packages (from pytest>=2.6.0->pytest-cov)\r\n",
      "Requirement already satisfied: attrs>=17.2.0 in /Users/jbloom/anaconda3/lib/python3.6/site-packages (from pytest>=2.6.0->pytest-cov)\r\n",
      "Requirement already satisfied: pluggy<0.7,>=0.5 in /Users/jbloom/anaconda3/lib/python3.6/site-packages (from pytest>=2.6.0->pytest-cov)\r\n"
     ]
    }
   ],
   "source": [
    "!pip install pytest-cov"
   ]
  },
  {
   "cell_type": "code",
   "execution_count": 48,
   "metadata": {},
   "outputs": [
    {
     "name": "stdout",
     "output_type": "stream",
     "text": [
      "\u001b[1m============================= test session starts ==============================\u001b[0m\n",
      "platform darwin -- Python 3.6.4, pytest-3.3.2, py-1.5.2, pluggy-0.6.0 -- /Users/jbloom/anaconda3/bin/python\n",
      "cachedir: .cache\n",
      "rootdir: /Users/jbloom/Classes/python-seminar/DataFiles_and_Notebooks/09_Web/PyAdder, inifile: setup.cfg\n",
      "plugins: cov-2.5.1\n",
      "collected 3 items                                                              \u001b[0m\u001b[1m\n",
      "\n",
      "adder/tests/test_one_number.py::TestOneNumber::test_deplorables \u001b[32mPASSED\u001b[0m\u001b[36m   [ 33%]\u001b[0m\n",
      "adder/tests/test_one_number.py::TestOneNumber::test_floats \u001b[32mPASSED\u001b[0m\u001b[36m        [ 66%]\u001b[0m\n",
      "adder/tests/test_one_number.py::TestOneNumber::test_ints \u001b[32mPASSED\u001b[0m\u001b[36m          [100%]\u001b[0m\n",
      "\n",
      "---------- coverage: platform darwin, python 3.6.4-final-0 -----------\n",
      "Name                Stmts   Miss Branch BrPart  Cover   Missing\n",
      "---------------------------------------------------------------\n",
      "adder/__init__.py       7      1      0      0    86%   10\n",
      "Coverage HTML written to dir htmlcov\n",
      "\n",
      "\n",
      "\u001b[32m\u001b[1m=========================== 3 passed in 0.15 seconds ===========================\u001b[0m\n"
     ]
    }
   ],
   "source": [
    "!py.test --cov-report html --cov-report term-missing --cov=./"
   ]
  },
  {
   "cell_type": "code",
   "execution_count": 49,
   "metadata": {},
   "outputs": [],
   "source": [
    "!open htmlcov/index.html"
   ]
  },
  {
   "cell_type": "markdown",
   "metadata": {},
   "source": [
    "We can keep track of code coverage using codecov and Travis (https://docs.codecov.io/docs/about-code-coverage)\n",
    "\n",
    "see https://codecov.io/gh/profjsb/PyAdder"
   ]
  },
  {
   "cell_type": "markdown",
   "metadata": {},
   "source": [
    "# Making Code Citeable\n",
    "\n",
    "http://ivory.idyll.org/blog/2016-using-zenodo-to-archive-github.html\n",
    "\n",
    "https://guides.github.com/activities/citable-code/\n",
    "\n",
    "<img src=\"https://www.evernote.com/l/AUVFhdB6uhFC7IAz3uSz5K-L74xYniPLyQUB/image.png\">\n"
   ]
  },
  {
   "cell_type": "code",
   "execution_count": null,
   "metadata": {},
   "outputs": [],
   "source": []
  }
 ],
 "metadata": {
  "kernelspec": {
   "display_name": "Python 3",
   "language": "python",
   "name": "python3"
  },
  "language_info": {
   "codemirror_mode": {
    "name": "ipython",
    "version": 3
   },
   "file_extension": ".py",
   "mimetype": "text/x-python",
   "name": "python",
   "nbconvert_exporter": "python",
   "pygments_lexer": "ipython3",
   "version": "3.6.4"
  }
 },
 "nbformat": 4,
 "nbformat_minor": 2
}
