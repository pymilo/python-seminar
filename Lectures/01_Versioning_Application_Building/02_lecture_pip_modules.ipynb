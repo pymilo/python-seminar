{
 "cells": [
  {
   "cell_type": "markdown",
   "metadata": {},
   "source": [
    "<center>\n",
    "<h1>Python Application Building and Version Control</h1>\n",
    "<img src=\"http://i.imgur.com/91PUPZA.png\" width=20%>\n",
    "</center>\n",
    "\n",
    "<center>\n",
    "AY 250, Spring 2013; Josh Bloom\n",
    "</center>"
   ]
  },
  {
   "cell_type": "markdown",
   "metadata": {},
   "source": [
    "<h2>Important reminders</h2>\n",
    "<h3>Contact</h3>\n",
    "- email us: `ucbpythonclass+seminar@gmail.com`\n",
    "- Piazza: https://piazza.com/berkeley/fall2013/ay250/home\n",
    "<h3>Keeping up to Date</h3>\n",
    " Keep updated with the git repository:\n",
    "\n",
    "```bash\n",
    "git clone http://github.com/python-seminar.git\n",
    "# and keep updated by pulling often\n",
    "git pull\n",
    "```\n",
    "*We’ll talk more about git later today*\n",
    "\n",
    "<h3>Help</h3>\n",
    " Monday help sessions will are 10am - noon, Evans 481\n"
   ]
  },
  {
   "cell_type": "markdown",
   "metadata": {},
   "source": [
    "<center><h1>Outline</h1></center>"
   ]
  },
  {
   "cell_type": "markdown",
   "metadata": {},
   "source": [
    "* Managing Packages - `pip`, `setup.py`, `virtualenv`, `conda`, ...\n",
    "* Command Line Parsing - `argparse`\n",
    "* Building Modules & Packages\n",
    "* Breakout\n",
    "* Version Control - `git` \n",
    "* Debugging & Testing - `pdb`, `ipy`, `%debug`, `pylint`, `pep8`, `nose`\n",
    "* Distribution - `distutils2`"
   ]
  },
  {
   "cell_type": "markdown",
   "metadata": {},
   "source": [
    "<h1>Getting Packages - `pip`</h1>\n",
    "\n",
    "* `pip` is a package manager for Python, similar to apt-get for Ubuntu or MacPorts/Homebrew for OSX \n",
    "* `easy_install` is the outdated version - still works, but is being phased out\n",
    "* These are all run from the command line (not within Python), it is automatically associated with your Python installation\n",
    "* Downloads packages from the official PyPI - the Python Package Index\n",
    "* May have to install `pip` using: `easy_install pip`)\n",
    "\n",
    "<h3>Enthought/Continuum Package Managers</h3>\n",
    "\n",
    "* The package manager for Anaconda is `conda`; `enpkg` is the manager for Enthought\n",
    "\n",
    "** In general, you should do `conda` before doing `pip` but the interactions between these two package managers shouldn't be too painful **"
   ]
  },
  {
   "cell_type": "markdown",
   "metadata": {},
   "source": [
    "## Installing a package ##\n",
    "\n",
    "One these *should* work for you (try in this order) on the command line:\n",
    "\n",
    "     conda install <pkg>  # or enpkg install simplejson\n",
    "     pip install <pkg>\n",
    "     sudo pip install <pkg>\n",
    "     easy_install <pkg>"
   ]
  },
  {
   "cell_type": "code",
   "execution_count": null,
   "metadata": {
    "collapsed": false
   },
   "outputs": [],
   "source": [
    "!conda install simplejson"
   ]
  },
  {
   "cell_type": "code",
   "execution_count": null,
   "metadata": {
    "collapsed": false
   },
   "outputs": [],
   "source": [
    "!pip install simplejson"
   ]
  },
  {
   "cell_type": "markdown",
   "metadata": {},
   "source": [
    "## upgrading ##\n",
    "\n",
    "    conda upgrade <pkg>\n",
    "    pip install --upgrade <pkg>\n",
    "    sudo pip install --upgrade <pkg>\n"
   ]
  },
  {
   "cell_type": "code",
   "execution_count": null,
   "metadata": {
    "collapsed": false
   },
   "outputs": [],
   "source": [
    "!pip install --upgrade simplejson"
   ]
  },
  {
   "cell_type": "markdown",
   "metadata": {},
   "source": [
    "## uninstalling ##\n",
    "\n",
    "    conda remove <pkg>\n",
    "    pip uninstall <pkg>\n",
    "    sudo pip uninstall <pkg>"
   ]
  },
  {
   "cell_type": "code",
   "execution_count": null,
   "metadata": {
    "collapsed": false
   },
   "outputs": [],
   "source": [
    "!conda remove simplejson"
   ]
  },
  {
   "cell_type": "code",
   "execution_count": null,
   "metadata": {
    "collapsed": false
   },
   "outputs": [],
   "source": [
    "!pip uninstall simplejson"
   ]
  },
  {
   "cell_type": "markdown",
   "metadata": {},
   "source": [
    "Both `pip` and `conda` have a pretty rich command set and useful interface:\n",
    "\n",
    "    pip --help\n",
    "    pip install --help\n",
    "    pip search sator\n",
    "    \n",
    "    http://docs.continuum.io/conda/index.html\n",
    "    conda install ~/redis-py-2.7.2-py27_0.tar.bz2\n",
    "    conda install matplotlib=1.2"
   ]
  },
  {
   "cell_type": "code",
   "execution_count": null,
   "metadata": {
    "collapsed": false
   },
   "outputs": [],
   "source": [
    "!conda --help"
   ]
  },
  {
   "cell_type": "markdown",
   "metadata": {},
   "source": [
    "<center>What if you don’t have superuser privileges?   Maybe on a department computer?  You can install packages to your own folder, and include them by modifying your `.bashrc` or `.profile` file.</center>\n",
    "\n",
    "    pip install <pkg> --target=<my_choice>"
   ]
  },
  {
   "cell_type": "code",
   "execution_count": null,
   "metadata": {
    "collapsed": false
   },
   "outputs": [],
   "source": [
    "!pip install simplejson --target=/tmp/"
   ]
  },
  {
   "cell_type": "code",
   "execution_count": null,
   "metadata": {
    "collapsed": false
   },
   "outputs": [],
   "source": [
    "!ls /tmp/simple*"
   ]
  },
  {
   "cell_type": "markdown",
   "metadata": {},
   "source": [
    "[EGG files are like .jar files: self-contained packages with code and metadata. Have a look at http://mrtopf.de/blog/en/a-small-introduction-to-python-eggs/]"
   ]
  },
  {
   "cell_type": "markdown",
   "metadata": {},
   "source": [
    "Now, you can have Python know about your special installation directory by modifying your `PYTHONPATH` environment variable in your .bashrc, .cshrc, or .tcshrc file:\n",
    "```bash\n",
    "#BASH Style: \n",
    "export PYTHONPATH=/tmp/simplejson:$PYTHONPATH\n",
    "#CSH Style:\n",
    "setenv PYTHONPATH /path/to/my_choice:$PYTHONPATH\n",
    "```"
   ]
  },
  {
   "cell_type": "markdown",
   "metadata": {},
   "source": [
    "# Getting and Installing Packages with `setup.py` #\n",
    "\n",
    "Sometimes `conda` and `pip` cannot find a codebase you're trying to install. In this case you'll need to do it yourself using a tarball and a `setup.py` file. This is the most straightforward way to get packages: download them from the developer’s website and hope that they’ve followed the standard conventions.\n",
    "\n",
    "There is a standard Python package distribution scheme using `distutils2` and `setup.py` files...more on that later.\n",
    "\n",
    "Basic workflow of installing a package with `setup.py`:\n",
    "```bash\n",
    "$ cd [folder with package and setup.py file]\n",
    "$ sudo python setup.py install\n",
    "   # [ progress report ... ]\n",
    "$ Finished processing dependencies for [package]\n",
    "   # [if you want more info, there are several options to modify]\n",
    "$ python setup.py --help install\n",
    "```\n"
   ]
  },
  {
   "cell_type": "markdown",
   "metadata": {},
   "source": [
    "To do a custom installation directory (if you dont have sudo, e.g.):\n",
    "```bash\n",
    "# {-- on unix --}\n",
    "$ python setup.py install --home <my_choice>\n",
    "\n",
    "# {-- on windows --}\n",
    "$ python setup.py install --prefix “my_choice”\n",
    "```"
   ]
  },
  {
   "cell_type": "markdown",
   "metadata": {},
   "source": [
    "# Managing Packages - `virtualenv`/`conda` environments #\n",
    "\n",
    "* Open Source software is constantly changing - how do you protect working code against future updates?\n",
    "* Or, what if there is a beta release of a package you want to try, but you don’t want to fully commit yet?\n",
    "* `virtualenv` and `conda -n` creates a local, self-contained, and totally separate python installation.\n",
    "* Use it to create a local Python ecosystem, separate from your computer’s main system, so that you can do what you want in one without affecting the other."
   ]
  },
  {
   "cell_type": "markdown",
   "metadata": {},
   "source": [
    "# `virtualenv` #\n",
    "\n",
    "installing:"
   ]
  },
  {
   "cell_type": "code",
   "execution_count": null,
   "metadata": {
    "collapsed": false
   },
   "outputs": [],
   "source": [
    "!pip install --upgrade virtualenv"
   ]
  },
  {
   "cell_type": "markdown",
   "metadata": {},
   "source": [
    "Creating a new environment:"
   ]
  },
  {
   "cell_type": "code",
   "execution_count": null,
   "metadata": {
    "collapsed": false
   },
   "outputs": [],
   "source": [
    "!virtualenv --no-setuptools LocalPython"
   ]
  },
  {
   "cell_type": "code",
   "execution_count": null,
   "metadata": {
    "collapsed": false
   },
   "outputs": [],
   "source": [
    "!virtualenv --no-setuptools --system-site-packages Test1"
   ]
  },
  {
   "cell_type": "markdown",
   "metadata": {},
   "source": [
    "During a shell session, you can source this environment so that it runs as the default:\n",
    "\n",
    "```bash\n",
    "$ source LocalPython/bin/activate\n",
    "(LocalPython)$\n",
    "#[ pip and python commands now point to new environment ]\n",
    "(LocalPython)$ which python\n",
    "LocalPython/bin/python\n",
    "```\n",
    "\n",
    "We can get out of the enviroment:\n",
    "\n",
    "```bash\n",
    " deactivate LocalPython\n",
    "```\n",
    "Just delete to remove environment:\n",
    "\n",
    "```bash\n",
    "rm -r LocalPython\n",
    "```"
   ]
  },
  {
   "cell_type": "markdown",
   "metadata": {},
   "source": [
    "# conda -n #\n",
    "http://www.continuum.io/blog/conda"
   ]
  },
  {
   "cell_type": "code",
   "execution_count": null,
   "metadata": {
    "collapsed": false
   },
   "outputs": [],
   "source": [
    "!conda info"
   ]
  },
  {
   "cell_type": "code",
   "execution_count": null,
   "metadata": {
    "collapsed": false
   },
   "outputs": [],
   "source": [
    "!conda info -e"
   ]
  },
  {
   "cell_type": "code",
   "execution_count": null,
   "metadata": {
    "collapsed": false
   },
   "outputs": [],
   "source": [
    "!conda search numpy"
   ]
  },
  {
   "cell_type": "markdown",
   "metadata": {},
   "source": [
    "```bash\n",
    "Py4DS> conda create -n numpy15 numpy=1.5.1\n",
    "\n",
    "Package plan for creating environment at /Users/jbloom/anaconda/envs/numpy15:\n",
    "\n",
    "The following packages will be downloaded:\n",
    "\n",
    "    package                    |            build\n",
    "    ---------------------------|-----------------\n",
    "    numpy-1.5.1                |           py27_4         2.3 MB\n",
    "\n",
    "The following packages will be linked:\n",
    "\n",
    "    package                    |            build\n",
    "    ---------------------------|-----------------\n",
    "    numpy-1.5.1                |           py27_4\n",
    "    python-2.7.5               |                2\n",
    "    readline-6.2               |                1\n",
    "    sqlite-3.7.13              |                1\n",
    "    tk-8.5.13                  |                1\n",
    "    zlib-1.2.7                 |                1\n",
    "\n",
    "Proceed ([y]/n)? y\n",
    "\n",
    "Fetching packages ...\n",
    "numpy-1.5.1-py27_4.tar.bz2 100% |####################| Time: 0:00:02 816.17 kB/s\n",
    "Extracting packages ...\n",
    "[      COMPLETE      ] |##################################################| 100%\n",
    "Linking packages ...\n",
    "[      COMPLETE      ] |##################################################| 100%\n",
    "#\n",
    "# To activate this environment, use:\n",
    "# $ source activate numpy15\n",
    "#\n",
    "# To deactivate this environment, use:\n",
    "# $ source deactivate\n",
    "```"
   ]
  },
  {
   "cell_type": "code",
   "execution_count": null,
   "metadata": {
    "collapsed": false
   },
   "outputs": [],
   "source": [
    "!conda info -e"
   ]
  },
  {
   "cell_type": "code",
   "execution_count": null,
   "metadata": {
    "collapsed": false
   },
   "outputs": [],
   "source": [
    "!ls /Users/jbloom/anaconda/envs/numpy15/bin"
   ]
  },
  {
   "cell_type": "markdown",
   "metadata": {},
   "source": [
    "We could make this environment the default if we want to:\n",
    "```bash\n",
    "export PATH=~/anaconda/envs/numpy15/bin:$PATH\n",
    "```\n",
    "And if we want to remove that environment:\n",
    "```bash\n",
    "conda remove -n numpy15 --all\n",
    "```"
   ]
  },
  {
   "cell_type": "markdown",
   "metadata": {},
   "source": [
    "<center><h1> Command Line Parsing</h1></center>\n",
    "\n",
    "<center>`python myawesomeprogram.py -o option1 -p parameter2 -Q -R`</center>\n",
    "<p>\n",
    " **Goal**: build a command-line 'standalone' codebase in Python, w/ CL options & keywords\n",
    " \n",
    " **Solution**: argparse, which has been built in to Python 2.7 & above (if you don’t have it, you can get it with `pip argparse`)\n",
    " \n",
    "* Allows for  user-friendly command line interfaces, and leaves it up to the code to determine what it was the user wanted.\n",
    "\n",
    "* Also automatically generates help & usage messages and issues errors when invalid arguments are provided.\n",
    "\n",
    "(Note on optparse: being replaced in favor of argparse)\n"
   ]
  },
  {
   "cell_type": "code",
   "execution_count": null,
   "metadata": {
    "collapsed": false
   },
   "outputs": [],
   "source": [
    "import argparse"
   ]
  },
  {
   "cell_type": "markdown",
   "metadata": {},
   "source": [
    "# Setting up a parser #\n",
    "\n",
    "\n",
    "* First step for `argparse`: create parser object & tell it what arguments to expect. \n",
    "* It can then be used to process the command line arguments on runtime\n",
    "* Parser class: `ArgumentParser`. Takes several arguments to set up the description used in the help text for the program & other global behaviors \n",
    "   \n",
    " <p>\n",
    "See  http://www.doughellmann.com/PyMOTW/argparse/\n",
    "</p>"
   ]
  },
  {
   "cell_type": "code",
   "execution_count": null,
   "metadata": {
    "collapsed": false
   },
   "outputs": [],
   "source": [
    "!cat myfile.py"
   ]
  },
  {
   "cell_type": "code",
   "execution_count": null,
   "metadata": {
    "collapsed": false
   },
   "outputs": [],
   "source": [
    "parser = argparse.ArgumentParser(description='Sample Application')\n",
    "print \"hi\""
   ]
  },
  {
   "cell_type": "markdown",
   "metadata": {},
   "source": [
    "# Defining Arguments & Parsing"
   ]
  },
  {
   "cell_type": "markdown",
   "metadata": {},
   "source": [
    "* Arguments can trigger different actions, specified by the action argument to add_argument(). \n",
    "* Several supported actions (next slide).\n",
    "* Once all of the arguments are defined, you can parse the command line by passing a sequence of argument strings to parse_args(). \n",
    "* By default, arguments are taken from `sys.argv[1:]`, but you can also pass your own list."
   ]
  },
  {
   "cell_type": "code",
   "execution_count": null,
   "metadata": {
    "collapsed": false
   },
   "outputs": [],
   "source": [
    "%%file argparse_action.py\n",
    "import argparse\n",
    "parser = argparse.ArgumentParser(description='Sample Application')\n",
    "parser.add_argument('required_arg_1', help='This positional argument is required')\n",
    "parser.add_argument('required_arg_2', help='This positional argument is also required')\n",
    "parser.add_argument('-s', action='store', dest='simple_value',\n",
    "                    help='Store a simple value')\n",
    "parser.add_argument('-c', action='store_const', dest='constant_value',\n",
    "                    const='value-to-store',\n",
    "                    help='Store a constant value')\n",
    "parser.add_argument('-t', action='store_true', default=False,\n",
    "                    dest='boolean_switch',\n",
    "                    help='Set a switch to true')\n",
    "parser.add_argument('-a', action='append', dest='collection',\n",
    "                    default=[],\n",
    "                    help='Add repeated values to a list',\n",
    "                    )\n",
    "parser.add_argument('-A', action='append_const', dest='const_collection',\n",
    "                    const='value-1-to-append',\n",
    "                    default=[],\n",
    "                    help='Add different values to list')\n",
    "parser.add_argument('-B', action='append_const', dest='const_collection',\n",
    "                    const='value-2-to-append',\n",
    "                    help='Add different values to list')\n",
    "parser.add_argument('--version', action='version', version='%(prog)s 1.0')\n",
    "\n",
    "results = parser.parse_args()\n",
    "print 'required_args    =', results.required_arg_1, results.required_arg_2\n",
    "print 'simple_value     =', results.simple_value\n",
    "print 'constant_value   =', results.constant_value\n",
    "print 'boolean_switch   =', results.boolean_switch\n",
    "print 'collection       =', results.collection\n",
    "print 'const_collection =', results.const_collection"
   ]
  },
  {
   "cell_type": "markdown",
   "metadata": {},
   "source": [
    "* store: Save the value, after optionally converting it to a different type (default)\n",
    "* store_const: Save the value as defined as part of the argument specification, rather than a value that comes from the arguments being parsed\n",
    "* store_true/store_false: Save the appropriate boolean value\n",
    "* append: Save the value to a list.  Multiple values are saved if the argument is repeated\n",
    "* append_const: Save a value defined in the argument specification to a list\n",
    "* version: Prints version details about the program and then exits"
   ]
  },
  {
   "cell_type": "markdown",
   "metadata": {},
   "source": [
    "<center><h2>Modules and Packages</h2></center>\n",
    "\n",
    "* As code gets more involved, it becomes unwieldy & unnatural to keep everything in the same file, or even the same folder\n",
    "\n",
    "* Functions from other codes made for different reasons might be useful elsewhere\n",
    "\n",
    "* Useful to break up code into modules and packages  - used like ‘package.module’\n",
    "\n",
    "* **Module**: file containing defined functions & variables. **It must have a .py extension.**\n",
    "\n",
    "* **Package**: a properly-organized folder containing modules (packages Numpy are well-developed examples - you can make your own) "
   ]
  },
  {
   "cell_type": "code",
   "execution_count": null,
   "metadata": {
    "collapsed": false
   },
   "outputs": [],
   "source": [
    "!ls /Users/jbloom/Dev/Anaconda/lib/python2.7/site-packages"
   ]
  },
  {
   "cell_type": "code",
   "execution_count": null,
   "metadata": {
    "collapsed": false
   },
   "outputs": [],
   "source": [
    "!ls /Users/jbloom/Dev/Anaconda/lib/python2.7/site-packages/numpy"
   ]
  },
  {
   "cell_type": "markdown",
   "metadata": {},
   "source": [
    "<p><h2>Modules: Setting up your path</h2></p>\n",
    "`PYTHONPATH`\n",
    "Augment the default search path for module files. The format is the same as the shell’s PATH: one or more directory pathnames separated by os.pathsep (e.g. colons on Unix or semicolons on Windows). Non-existent directories are silently ignored.\n",
    "\n",
    "In addition to normal directories, individual PYTHONPATH entries may refer to zipfiles containing pure Python modules (in either source or compiled form). Extension modules cannot be imported from zipfiles.\n",
    "The default search path is installation dependent, but generally begins with prefix/lib/pythonversion (see PYTHONHOME above). It is always appended to PYTHONPATH.\n",
    "\n",
    "An additional directory will be inserted in the search path in front of PYTHONPATH as described above under Interface options. The search path can be manipulated from within a Python program as the variable sys.path.\n",
    "\n",
    "Add to your .bashrc, .cshrc, or .tcshrc file:\n",
    "```bash\n",
    "#BASH Style: \n",
    "export PYTHONPATH=/path/to/your/code\n",
    "#CSH Style: \n",
    "setenv PYTHONPATH /path/to/your/code\n",
    "```"
   ]
  },
  {
   "cell_type": "markdown",
   "metadata": {},
   "source": [
    "<p><h3>Modules: More Path Stuff</h3></p>"
   ]
  },
  {
   "cell_type": "code",
   "execution_count": null,
   "metadata": {
    "collapsed": false
   },
   "outputs": [],
   "source": [
    "import sys\n",
    "# Get a list of all paths python is looking at with sys.path\n",
    "print sys.path[-4:]   # only look at the first 4 to save space\n",
    "# Can append to this list:\n",
    "# sys.path.append(“/new/software/path/”)"
   ]
  },
  {
   "cell_type": "markdown",
   "metadata": {},
   "source": [
    "New paths appended will not be preserved upon exiting python. \n",
    "For long-term path appending, use PYTHONPATH environment variable defined in previous slide."
   ]
  },
  {
   "cell_type": "markdown",
   "metadata": {},
   "source": [
    "<p><h2> Packages</h2></p>\n",
    "\n",
    "* If path is set correctly, code can be broken up into reasonable folders and imported as necessary, either by importing entire modules (.py files) or functions/classes within the modules.\n",
    "\n",
    "* Put an `__init__.py` file in each folder you want to be able to import from.\n",
    "\n",
    "* Code in `__init__.py` is run when the package, or any derivative of it, is imported.  Usually `__init__`.py is an empty file."
   ]
  },
  {
   "cell_type": "code",
   "execution_count": null,
   "metadata": {
    "collapsed": false
   },
   "outputs": [],
   "source": [
    "!ls /Users/jbloom/Classes/python-seminar/Breakouts/01_Versioning_Application_Building"
   ]
  },
  {
   "cell_type": "markdown",
   "metadata": {},
   "source": [
    "# Breakout! #\n",
    "\n",
    "* Go to the breakout folder in: `../Breakouts/01_Versioning_Application_Building/`\n",
    "\n",
    "* Work on the file `breakout1.py`.  Do not move or modify the other files, in the other folders, but you will need to use them.  (You may add files to these directories, if necessary)\n",
    "\n",
    "* Build up a command line parser which allows the user to specify:\n",
    " - how many datapoints to generate\n",
    " - whether to plot with a filled in histogram or an outlined one\n",
    " - the title of the plot\n",
    " - And then have the plot be generated.\n",
    "\n",
    "* We want to be able to run a command like:\n",
    "\n",
    "```bash\n",
    "python breakout1.py -t -n 200 -T \"My Awesome Title\"\n",
    "```"
   ]
  },
  {
   "cell_type": "code",
   "execution_count": null,
   "metadata": {
    "collapsed": false
   },
   "outputs": [],
   "source": []
  },
  {
   "cell_type": "code",
   "execution_count": null,
   "metadata": {
    "collapsed": false
   },
   "outputs": [],
   "source": [
    "ls"
   ]
  },
  {
   "cell_type": "code",
   "execution_count": null,
   "metadata": {
    "collapsed": false
   },
   "outputs": [],
   "source": [
    "%run breakout1_solution.py -t"
   ]
  },
  {
   "cell_type": "code",
   "execution_count": null,
   "metadata": {
    "collapsed": false
   },
   "outputs": [],
   "source": [
    "%run breakout1_solution.py -n 200 -T \"My Awesome Title\""
   ]
  },
  {
   "cell_type": "code",
   "execution_count": null,
   "metadata": {
    "collapsed": false
   },
   "outputs": [],
   "source": [
    "%run breakout1_solution.py -n 2000 -T \"2000!\""
   ]
  },
  {
   "cell_type": "code",
   "execution_count": null,
   "metadata": {
    "collapsed": false
   },
   "outputs": [],
   "source": []
  },
  {
   "cell_type": "code",
   "execution_count": null,
   "metadata": {
    "collapsed": true
   },
   "outputs": [],
   "source": []
  }
 ],
 "metadata": {
  "kernelspec": {
   "display_name": "Python 3",
   "language": "python",
   "name": "python3"
  },
  "language_info": {
   "codemirror_mode": {
    "name": "ipython",
    "version": 3
   },
   "file_extension": ".py",
   "mimetype": "text/x-python",
   "name": "python",
   "nbconvert_exporter": "python",
   "pygments_lexer": "ipython3",
   "version": "3.5.2"
  }
 },
 "nbformat": 4,
 "nbformat_minor": 0
}
