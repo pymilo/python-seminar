{
 "cells": [
  {
   "cell_type": "code",
   "execution_count": 96,
   "metadata": {},
   "outputs": [
    {
     "data": {
      "text/html": [
       "<style>\n",
       "\n",
       ".rendered_html\n",
       "{\n",
       "  color: #2C5494;\n",
       "  font-family: Ubuntu;\n",
       "  font-size: 140%;\n",
       "  line-height: 1.1;\n",
       "  margin: 0.5em 0;\n",
       "  }\n",
       "\n",
       ".talk_title\n",
       "{\n",
       "  color: #498AF3;\n",
       "  font-size: 250%;\n",
       "  font-weight:bold;\n",
       "  line-height: 1.2; \n",
       "  margin: 10px 50px 10px;\n",
       "  }\n",
       "\n",
       ".subtitle\n",
       "{\n",
       "  color: #386BBC;\n",
       "  font-size: 180%;\n",
       "  font-weight:bold;\n",
       "  line-height: 1.2; \n",
       "  margin: 20px 50px 20px;\n",
       "  }\n",
       "\n",
       ".slide-header, p.slide-header\n",
       "{\n",
       "  color: #498AF3;\n",
       "  font-size: 200%;\n",
       "  font-weight:bold;\n",
       "  margin: 0px 20px 10px;\n",
       "  page-break-before: always;\n",
       "  text-align: center;\n",
       "  }\n",
       "\n",
       ".rendered_html h1\n",
       "{\n",
       "  color: #498AF3;\n",
       "  line-height: 1.2; \n",
       "  margin: 0.15em 0em 0.5em;\n",
       "  page-break-before: always;\n",
       "  text-align: center;\n",
       "  }\n",
       "\n",
       "\n",
       ".rendered_html h2\n",
       "{ \n",
       "  color: #386BBC;\n",
       "  line-height: 1.2;\n",
       "  margin: 1.1em 0em 0.5em;\n",
       "  }\n",
       "\n",
       ".rendered_html h3\n",
       "{ \n",
       "  font-size: 100%;\n",
       "  line-height: 1.2;\n",
       "  margin: 1.1em 0em 0.5em;\n",
       "  }\n",
       "\n",
       ".rendered_html li\n",
       "{\n",
       "  line-height: 1.8;\n",
       "  }\n",
       "\n",
       ".input_prompt, .CodeMirror-lines, .output_area\n",
       "{\n",
       "  font-family: Consolas;\n",
       "  font-size: 120%;\n",
       "  }\n",
       "\n",
       ".gap-above\n",
       "{\n",
       "  padding-top: 200px;\n",
       "  }\n",
       "\n",
       ".gap01\n",
       "{\n",
       "  padding-top: 10px;\n",
       "  }\n",
       "\n",
       ".gap05\n",
       "{\n",
       "  padding-top: 50px;\n",
       "  }\n",
       "\n",
       ".gap1\n",
       "{\n",
       "  padding-top: 100px;\n",
       "  }\n",
       "\n",
       ".gap2\n",
       "{\n",
       "  padding-top: 200px;\n",
       "  }\n",
       "\n",
       ".gap3\n",
       "{\n",
       "  padding-top: 300px;\n",
       "  }\n",
       "\n",
       ".emph\n",
       "{\n",
       "  color: #386BBC;\n",
       "  }\n",
       "\n",
       ".warn\n",
       "{\n",
       "  color: red;\n",
       "  }\n",
       "\n",
       ".center\n",
       "{\n",
       "  text-align: center;\n",
       "  }\n",
       "\n",
       ".nb_link\n",
       "{\n",
       "    padding-bottom: 0.5em;\n",
       "}\n",
       "\n",
       "</style>"
      ],
      "text/plain": [
       "<IPython.core.display.HTML object>"
      ]
     },
     "metadata": {},
     "output_type": "display_data"
    }
   ],
   "source": [
    "%run ./../DataFiles_and_Notebooks/00_AdvancedPythonConcepts/talktools.py"
   ]
  },
  {
   "cell_type": "markdown",
   "metadata": {},
   "source": [
    "# Making Python Faster\n",
    "\n",
    "<img src=\"slides/warp1.jpg\">\n",
    "\n",
    "\n",
    "<h2> ... and using legacy code</h2>\n",
    "\n",
    "- we've already seen `numexpr`, parallelization, etc.\n",
    "\n",
    "- Python is _slow_ ... it's interpreted on the fly\n",
    "\n",
    "- no static typing ... even integers are objects (bulky memory!)\n",
    "\n",
    "- what if we want to write Python, but use it as a *glue* to fast C-code?"
   ]
  },
  {
   "cell_type": "markdown",
   "metadata": {},
   "source": [
    "<pre>\n",
    "Premature optimization is the root of all evil \n",
    "   -- Donald Knuth\n",
    "</pre>\n",
    "\n",
    "<pre>\n",
    "C is premature optimization\n",
    "   -- Kanye West\n",
    "</pre>\n"
   ]
  },
  {
   "cell_type": "markdown",
   "metadata": {},
   "source": [
    "## Profiling ##"
   ]
  },
  {
   "cell_type": "markdown",
   "metadata": {},
   "source": [
    "You already know that Python comes with batteries include, and performance profiling is no exception.\n",
    "\n",
    "You can keep track of how much time each *function* is taking up using tools from the standard library.\n",
    "\n",
    "Here's the [documentation of `profile` and `cProfile`](http://docs.python.org/3/library/profile.html), but you probably won't need to use them directly.  A profile is a set of statistics that describes how often and for how long various parts of the program executed. These statistics can be formatted into reports via the pstats module."
   ]
  },
  {
   "cell_type": "code",
   "execution_count": null,
   "metadata": {},
   "outputs": [],
   "source": [
    "import cProfile\n",
    "import re\n",
    "cProfile.run('re.compile(\"fizz|buzz\")') # run a piece of code"
   ]
  },
  {
   "cell_type": "code",
   "execution_count": null,
   "metadata": {},
   "outputs": [],
   "source": [
    "import cProfile, pstats, io\n",
    "pr = cProfile.Profile()\n",
    "pr.enable()\n",
    "\n",
    "# here's the code you want to profile\n",
    "def waste_of_time(n=1000):\n",
    "    [x for x in range(n)]\n",
    "[waste_of_time(y) for y in range(10000)]\n",
    "## end of code you want to profile\n",
    "\n",
    "pr.disable()\n",
    "s = io.StringIO()\n",
    "sortby = 'cumulative'\n",
    "ps = pstats.Stats(pr, stream=s).sort_stats(sortby)\n",
    "ps.print_stats()\n",
    "print(s.getvalue())"
   ]
  },
  {
   "cell_type": "markdown",
   "metadata": {},
   "source": [
    "## There's a magic for that!\n",
    "\n",
    "### `%timeit` to learn how long it takes a chunk of code to run\n",
    "\n",
    "### `%prun` for function-by-function breakdown of code in your namespace\n",
    "\n",
    "### `%run -p` for function-by-function breakdown of running a whole file"
   ]
  },
  {
   "cell_type": "code",
   "execution_count": null,
   "metadata": {},
   "outputs": [],
   "source": [
    "cd demos/profile"
   ]
  },
  {
   "cell_type": "code",
   "execution_count": null,
   "metadata": {},
   "outputs": [],
   "source": [
    "!cat sometask.py"
   ]
  },
  {
   "cell_type": "code",
   "execution_count": null,
   "metadata": {},
   "outputs": [],
   "source": [
    "import sometask"
   ]
  },
  {
   "cell_type": "code",
   "execution_count": null,
   "metadata": {},
   "outputs": [],
   "source": [
    "%prun sometask.execute()"
   ]
  },
  {
   "cell_type": "code",
   "execution_count": null,
   "metadata": {},
   "outputs": [],
   "source": [
    "%run -p sometask.py"
   ]
  },
  {
   "cell_type": "markdown",
   "metadata": {},
   "source": [
    "With the `-D` flag, you can dump the profile to binary file that external tools can use.\n",
    "\n",
    "\n",
    "You  can also produce this .profile without Jupyter using:\n",
    "\n",
    "```bash\n",
    "    python -m cProfile -o sometask.profile sometask.py\n",
    "```"
   ]
  },
  {
   "cell_type": "code",
   "execution_count": null,
   "metadata": {},
   "outputs": [],
   "source": [
    "%run -p -D sometask.profile sometask.py"
   ]
  },
  {
   "cell_type": "code",
   "execution_count": null,
   "metadata": {},
   "outputs": [],
   "source": [
    "!head sometask.profile"
   ]
  },
  {
   "cell_type": "code",
   "execution_count": null,
   "metadata": {},
   "outputs": [],
   "source": [
    "!pip install snakeviz"
   ]
  },
  {
   "cell_type": "code",
   "execution_count": null,
   "metadata": {},
   "outputs": [],
   "source": [
    "!snakeviz sometask.profile"
   ]
  },
  {
   "cell_type": "code",
   "execution_count": null,
   "metadata": {},
   "outputs": [],
   "source": [
    "%load_ext snakeviz"
   ]
  },
  {
   "cell_type": "code",
   "execution_count": null,
   "metadata": {},
   "outputs": [],
   "source": [
    "%%snakeviz\n",
    "sometask.execute()"
   ]
  },
  {
   "cell_type": "markdown",
   "metadata": {},
   "source": [
    "## Profiling line-by-line\n",
    "\n",
    "    %lprun\n",
    "    \n",
    "This magic is not built into Jupyter, it is provided by the [line_profiler package by Robert Kern](http://pythonhosted.org/line_profiler/)."
   ]
  },
  {
   "cell_type": "code",
   "execution_count": null,
   "metadata": {},
   "outputs": [],
   "source": [
    "!conda install line_profiler -y"
   ]
  },
  {
   "cell_type": "code",
   "execution_count": null,
   "metadata": {},
   "outputs": [],
   "source": [
    "%load_ext line_profiler"
   ]
  },
  {
   "cell_type": "markdown",
   "metadata": {},
   "source": [
    "Run the code, but only run the line profiler on the function `square()`"
   ]
  },
  {
   "cell_type": "code",
   "execution_count": null,
   "metadata": {},
   "outputs": [],
   "source": [
    "import sometask"
   ]
  },
  {
   "cell_type": "code",
   "execution_count": null,
   "metadata": {},
   "outputs": [],
   "source": [
    "!cat sometask.py"
   ]
  },
  {
   "cell_type": "code",
   "execution_count": null,
   "metadata": {},
   "outputs": [],
   "source": [
    "%lprun -f sometask.square sometask.execute()"
   ]
  },
  {
   "cell_type": "markdown",
   "metadata": {},
   "source": [
    "## Profiling memory usage (line-by-line)\n",
    "\n",
    "    %mprun\n",
    "    \n",
    "        \n",
    "This magic is not built into Jupyter, it is provided by the [memory_profiler package by Fabian Pedregosa](https://pypi.python.org/pypi/memory_profiler)."
   ]
  },
  {
   "cell_type": "code",
   "execution_count": null,
   "metadata": {},
   "outputs": [],
   "source": [
    "!pip install  -U memory_profiler"
   ]
  },
  {
   "cell_type": "code",
   "execution_count": null,
   "metadata": {},
   "outputs": [],
   "source": [
    "%load_ext memory_profiler"
   ]
  },
  {
   "cell_type": "code",
   "execution_count": null,
   "metadata": {},
   "outputs": [],
   "source": [
    "%mprun?"
   ]
  },
  {
   "cell_type": "code",
   "execution_count": null,
   "metadata": {},
   "outputs": [],
   "source": [
    "cd demos/profile/"
   ]
  },
  {
   "cell_type": "code",
   "execution_count": null,
   "metadata": {},
   "outputs": [],
   "source": [
    "import sometask"
   ]
  },
  {
   "cell_type": "code",
   "execution_count": null,
   "metadata": {},
   "outputs": [],
   "source": [
    "!cat sometask.py"
   ]
  },
  {
   "cell_type": "code",
   "execution_count": null,
   "metadata": {},
   "outputs": [],
   "source": [
    "%mprun -f sometask.square sometask.execute()"
   ]
  },
  {
   "cell_type": "markdown",
   "metadata": {},
   "source": [
    "# Other tools for profiling:\n",
    "\n",
    "[gprof](http://en.wikipedia.org/wiki/Gprof) -- command line profiling tool for C code. [GNU Gprof documentation](https://sourceware.org/binutils/docs/gprof/) is pretty good.\n",
    "\n",
    "[valgrind](http://valgrind.org/docs/manual/cl-manual.html) -- very complex suite for analyzing callgrind and kcachegrind. \"*Valgrind is an instrumentation framework for building dynamic analysis tools. There are Valgrind tools that can automatically detect many memory management and threading bugs, and profile your programs in detail.*\""
   ]
  },
  {
   "cell_type": "markdown",
   "metadata": {},
   "source": [
    "[Timing and Profiling in IPython](http://pynash.org/2013/03/06/timing-and-profiling/) : Blogpost at the PyNash"
   ]
  },
  {
   "cell_type": "markdown",
   "metadata": {},
   "source": [
    "Calculate the variance\n",
    "\n",
    "$$\\sigma^2 = \\frac {\\sum_{i=1}^N (x_i - \\sum_{j=1}^N x_j/N)^2}{N - 1}. $$\n",
    "\n",
    "problem here is that you must first pass over all the data (to get the mean) then pass over the data again.  There's a bunch of Pythonic ways to do this. Here's a few..."
   ]
  },
  {
   "cell_type": "code",
   "execution_count": null,
   "metadata": {},
   "outputs": [],
   "source": [
    "#%%writefile var.py\n",
    "def variance(data):\n",
    "    sample_mean = 0.0\n",
    "    \n",
    "    # 1st loop\n",
    "    for x in data:\n",
    "        sample_mean += float(x)\n",
    "    \n",
    "    sample_mean /= len(data)\n",
    "    \n",
    "    # second loop\n",
    "    sum_of_squared_errors = 0.0\n",
    "    for x in data:\n",
    "        sum_of_squared_errors += (float(x) - sample_mean) ** 2\n",
    "    \n",
    "    return sum_of_squared_errors / (float(len(data)) - 1.0)\n",
    "    \n",
    "def variance0(data):\n",
    "    sample_mean = sum(data) / len(data) # loop 1\n",
    "    sum_of_squared_errors = sum((i - sample_mean) ** 2 for i in data) # loop 2\n",
    "    return sum_of_squared_errors / (len(data) - 1)\n",
    "\n",
    "import functools\n",
    "def variance1(data):\n",
    "    mean = float(functools.reduce(lambda x,y : x+y, data)) / len(data)\n",
    "    return functools.reduce(lambda x,y: x+y, map(lambda xi: (xi-mean)**2, data))/ (len(data) - 1)\n",
    "\n",
    "def execute():\n",
    "    variance(range(100000))\n",
    "    \n",
    "def execute1():\n",
    "    variance1(range(100000))"
   ]
  },
  {
   "cell_type": "code",
   "execution_count": null,
   "metadata": {},
   "outputs": [],
   "source": [
    "%timeit variance(range(100000))"
   ]
  },
  {
   "cell_type": "code",
   "execution_count": null,
   "metadata": {},
   "outputs": [],
   "source": [
    "%timeit variance0(range(100000))"
   ]
  },
  {
   "cell_type": "code",
   "execution_count": null,
   "metadata": {},
   "outputs": [],
   "source": [
    "%timeit variance1(range(100000))"
   ]
  },
  {
   "cell_type": "markdown",
   "metadata": {},
   "source": [
    "We'd like to do this with just one pass over the data. Have a look at Welford's Method (1962):"
   ]
  },
  {
   "cell_type": "code",
   "execution_count": null,
   "metadata": {},
   "outputs": [],
   "source": [
    "def online_variance(data):\n",
    "    mean,M2= 0.,0.\n",
    "    for n,d in enumerate(data):\n",
    "        delta = d - mean\n",
    "        mean += delta/(n + 1)\n",
    "        M2 += delta*(d - mean)  \n",
    "    return M2/n"
   ]
  },
  {
   "cell_type": "code",
   "execution_count": null,
   "metadata": {},
   "outputs": [],
   "source": [
    "%timeit online_variance(range(100000))"
   ]
  },
  {
   "cell_type": "code",
   "execution_count": null,
   "metadata": {},
   "outputs": [],
   "source": [
    "import var\n",
    "import importlib\n",
    "importlib.reload(var)"
   ]
  },
  {
   "cell_type": "code",
   "execution_count": null,
   "metadata": {},
   "outputs": [],
   "source": [
    "%load_ext line_profiler"
   ]
  },
  {
   "cell_type": "code",
   "execution_count": null,
   "metadata": {},
   "outputs": [],
   "source": [
    "%lprun -f var.variance1 var.execute1()"
   ]
  },
  {
   "cell_type": "markdown",
   "metadata": {},
   "source": [
    "## Numba  ##\n",
    "\n",
    "LLVM compiler for python (brought to you by Continuum). In short: Python code can be converted to highly efficient compiled code in real-time. \n",
    "\n",
    "Should be on everyone's conda installation already. But you might want to update (it's been changed recently):\n",
    "\n",
    "   `conda update numba`\n",
    "\n",
    "Docs: http://numba.pydata.org/numba-doc/0.29.0/index.html"
   ]
  },
  {
   "cell_type": "code",
   "execution_count": null,
   "metadata": {},
   "outputs": [],
   "source": [
    "!conda install numba -y"
   ]
  },
  {
   "cell_type": "code",
   "execution_count": null,
   "metadata": {},
   "outputs": [],
   "source": [
    "import numba\n",
    "numba.__version__"
   ]
  },
  {
   "cell_type": "markdown",
   "metadata": {},
   "source": [
    "How compilers usually work:\n",
    "\n",
    "<img src=\"http://www.aosabook.org/images/llvm/SimpleCompiler.png\">\n",
    "\n",
    "How LLVM works:\n",
    "\n",
    "<img src=\"http://www.aosabook.org/images/llvm/RetargetableCompiler.png\">\n",
    "\n",
    "Credit: http://www.aosabook.org/en/llvm.html"
   ]
  },
  {
   "cell_type": "markdown",
   "metadata": {},
   "source": [
    "(Via http://nbviewer.ipython.org/urls/raw.github.com/aterrel/HPCPythonSC2012/master/02_Speeding_Python.ipynb)"
   ]
  },
  {
   "cell_type": "code",
   "execution_count": null,
   "metadata": {},
   "outputs": [],
   "source": [
    "from numba import int32, float32\n",
    "print(int32[:])           # 1D int32 array\n",
    "print(float32[:,:])       # 2D float32 array\n",
    "print(int32[:,:,:,:])     # 4D int32 array"
   ]
  },
  {
   "cell_type": "markdown",
   "metadata": {},
   "source": [
    "Function types are created from \"calling\" a Numba type object."
   ]
  },
  {
   "cell_type": "code",
   "execution_count": null,
   "metadata": {},
   "outputs": [],
   "source": [
    "from numba import void, int32, float32, complex64\n",
    "print(complex64(int32, float32, complex64))\n",
    "print(float32())                             # no arguments\n",
    "print(void(float32))                         # return nothing\n",
    "print(void(float32[:], int32[:]))"
   ]
  },
  {
   "cell_type": "markdown",
   "metadata": {},
   "source": [
    "The `@jit` decorator returns a compiled version of the function using the input types and the output types of the function. You can specify the type using out_type(in_type, ...) syntax. Array inputs can be specified using `[:,:]` appended to the type."
   ]
  },
  {
   "cell_type": "code",
   "execution_count": null,
   "metadata": {
    "scrolled": true
   },
   "outputs": [],
   "source": [
    "from numba import jit, int32, float32, complex64, autojit\n",
    "\n",
    "@jit(complex64(int32, float32, complex64))\n",
    "def bar(a, b, c):\n",
    "    return a + b  * c\n",
    "\n",
    "@jit(complex64(int32, float32, complex64))\n",
    "def foo(a, b, c):\n",
    "    return a + b  * c\n",
    "\n",
    "print(foo)\n",
    "print(foo(1, 2.0, 3.0j))"
   ]
  },
  {
   "cell_type": "code",
   "execution_count": null,
   "metadata": {},
   "outputs": [],
   "source": [
    "import math\n",
    "a = math.sqrt((1+2j).real**2 + (1+2j).imag**2)\n",
    "\n",
    "foo(2,a,0j)"
   ]
  },
  {
   "cell_type": "code",
   "execution_count": null,
   "metadata": {},
   "outputs": [],
   "source": [
    "import math\n",
    "\n",
    "@jit\n",
    "def square(x):\n",
    "    return x ** 2\n",
    "\n",
    "@jit\n",
    "def hypot(x, y):\n",
    "    return math.sqrt(square(x) + square(y))"
   ]
  },
  {
   "cell_type": "code",
   "execution_count": null,
   "metadata": {},
   "outputs": [],
   "source": [
    "hypot(4,5)"
   ]
  },
  {
   "cell_type": "markdown",
   "metadata": {},
   "source": [
    "The `@autojit` decorator does not require you to specify any types. It watches for what types you call the function with and infers the type of the return. If there is a previously compiled version of the code available it uses it, if not it generates machine code for the function and then executes that code."
   ]
  },
  {
   "cell_type": "code",
   "execution_count": null,
   "metadata": {},
   "outputs": [],
   "source": [
    "@autojit\n",
    "def f2(x,y):\n",
    "    return x + y\n",
    "\n",
    "print(f2(\"a\",\"b\"))\n",
    "print(f2(1,1+0j))"
   ]
  },
  {
   "cell_type": "code",
   "execution_count": null,
   "metadata": {},
   "outputs": [],
   "source": [
    "from numba import autojit\n",
    "\n",
    "@autojit\n",
    "def n_variance(data):\n",
    "    sample_mean = 0.0\n",
    "    \n",
    "    # 1st loop\n",
    "    for x in data:\n",
    "        sample_mean =  sample_mean + float(x)\n",
    "    \n",
    "    sample_mean = sample_mean / len(data)\n",
    "    \n",
    "    # second loop\n",
    "    sum_of_squared_errors = 0.0\n",
    "    for x in data:\n",
    "        sum_of_squared_errors += (float(x) - sample_mean) ** 2\n",
    "    \n",
    "    ret =  sum_of_squared_errors / (float(len(data)) - 1.0)\n",
    "    return ret"
   ]
  },
  {
   "cell_type": "code",
   "execution_count": null,
   "metadata": {},
   "outputs": [],
   "source": [
    "%timeit n_variance(list(range(100000)))"
   ]
  },
  {
   "cell_type": "code",
   "execution_count": null,
   "metadata": {},
   "outputs": [],
   "source": [
    "n_ovariance = autojit(online_variance)"
   ]
  },
  {
   "cell_type": "code",
   "execution_count": null,
   "metadata": {},
   "outputs": [],
   "source": [
    "%timeit n_ovariance(list(range(100000)))"
   ]
  },
  {
   "cell_type": "markdown",
   "metadata": {},
   "source": [
    "List comprehension and other fancy Python tricks are not supported yet in numba"
   ]
  },
  {
   "cell_type": "code",
   "execution_count": null,
   "metadata": {},
   "outputs": [],
   "source": [
    "n_variance0 = autojit(variance0)\n",
    "n_variance0(list(range(1000)))"
   ]
  },
  {
   "cell_type": "code",
   "execution_count": null,
   "metadata": {},
   "outputs": [],
   "source": [
    "import numpy\n",
    "\n",
    "def filter2d(image, filt):\n",
    "    M, N = image.shape\n",
    "    Mf, Nf = filt.shape\n",
    "    Mf2 = Mf // 2\n",
    "    Nf2 = Nf // 2\n",
    "    result = numpy.zeros_like(image)\n",
    "    for i in range(Mf2, M - Mf2):\n",
    "        for j in range(Nf2, N - Nf2):\n",
    "            num = 0.0\n",
    "            for ii in range(Mf):\n",
    "                for jj in range(Nf):\n",
    "                    num += (filt[Mf-1-ii, Nf-1-jj] * image[i-Mf2+ii, j-Nf2+jj])\n",
    "            result[i, j] = num\n",
    "    return result"
   ]
  },
  {
   "cell_type": "markdown",
   "metadata": {},
   "source": [
    "That kind of quadruply-nested for-loop is going to be quite slow.\n",
    "Using Numba we can compile this code to LLVM which then gets\n",
    "compiled to machine code:"
   ]
  },
  {
   "cell_type": "code",
   "execution_count": null,
   "metadata": {},
   "outputs": [],
   "source": [
    "from numba import double, jit\n",
    "\n",
    "numbafilter_2d = jit(double[:,:](double[:,:], double[:,:]))(filter2d)\n",
    "\n",
    "# Now fastfilter_2d runs at speeds as if you had first translated\n",
    "# it to C, compiled the code and wrapped it with Python\n",
    "image = numpy.random.random((100, 100))\n",
    "filt = numpy.random.random((10, 10))\n",
    "res = numbafilter_2d(image, filt)"
   ]
  },
  {
   "cell_type": "code",
   "execution_count": null,
   "metadata": {},
   "outputs": [],
   "source": [
    "%timeit numbafilter_2d(image, filt)"
   ]
  },
  {
   "cell_type": "code",
   "execution_count": null,
   "metadata": {},
   "outputs": [],
   "source": [
    "%timeit filter2d(image, filt)"
   ]
  },
  {
   "cell_type": "code",
   "execution_count": null,
   "metadata": {},
   "outputs": [],
   "source": [
    "%matplotlib inline\n",
    "import matplotlib.pyplot as plt"
   ]
  },
  {
   "cell_type": "code",
   "execution_count": null,
   "metadata": {},
   "outputs": [],
   "source": [
    "plt.imshow(res)"
   ]
  },
  {
   "cell_type": "code",
   "execution_count": null,
   "metadata": {},
   "outputs": [],
   "source": [
    "plt.imshow(image)"
   ]
  },
  {
   "cell_type": "markdown",
   "metadata": {},
   "source": [
    "Numba can also compile for GPUs. See http://numba.pydata.org/numba-doc/0.37.0/cuda/index.html"
   ]
  },
  {
   "cell_type": "markdown",
   "metadata": {},
   "source": [
    "<img src=\"http://pypy.org/image/pypy-logo.png\">\n",
    "\n",
    "Python interpreter and C/JIT compiler. See http://pypy.org/\n",
    "\n",
    "*“If you want your code to run faster, you should probably just use PyPy.”*\n",
    "   — Guido van Rossum (creator of Python)\n"
   ]
  },
  {
   "cell_type": "markdown",
   "metadata": {},
   "source": [
    "# Breakout\n",
    "\n",
    "a. Write a nested for loop that does elementwize array multiplication (on `A` and `B`) and prints the results. "
   ]
  },
  {
   "cell_type": "code",
   "execution_count": null,
   "metadata": {},
   "outputs": [],
   "source": []
  },
  {
   "cell_type": "markdown",
   "metadata": {},
   "source": [
    "b. Get the runtime speed for A.shape = (30,50) and B.shape = (50,15)"
   ]
  },
  {
   "cell_type": "code",
   "execution_count": null,
   "metadata": {},
   "outputs": [],
   "source": []
  },
  {
   "cell_type": "markdown",
   "metadata": {},
   "source": [
    "c. Try using numba to make it faster."
   ]
  },
  {
   "cell_type": "code",
   "execution_count": null,
   "metadata": {},
   "outputs": [],
   "source": []
  },
  {
   "cell_type": "markdown",
   "metadata": {},
   "source": [
    "d. How does the numba speed compare to the native matrix multiplication in numpy (`numpy.dot`)?"
   ]
  },
  {
   "cell_type": "code",
   "execution_count": null,
   "metadata": {},
   "outputs": [],
   "source": []
  },
  {
   "cell_type": "markdown",
   "metadata": {},
   "source": [
    "## Ctypes ##\n",
    "\n",
    "ctypes is a foreign function library for Python. It provides C compatible data types, and allows calling functions in DLLs or shared libraries. It can be used to wrap these libraries in pure Python.\n",
    "\n",
    "https://docs.python.org/3/library/ctypes.html"
   ]
  },
  {
   "cell_type": "code",
   "execution_count": null,
   "metadata": {},
   "outputs": [],
   "source": [
    "from ctypes import *"
   ]
  },
  {
   "cell_type": "code",
   "execution_count": null,
   "metadata": {},
   "outputs": [],
   "source": [
    "p = create_string_buffer(b\"Hello\", 10)  # create a 10 byte buffer"
   ]
  },
  {
   "cell_type": "code",
   "execution_count": null,
   "metadata": {},
   "outputs": [],
   "source": [
    "p"
   ]
  },
  {
   "cell_type": "code",
   "execution_count": null,
   "metadata": {},
   "outputs": [],
   "source": [
    "p.value"
   ]
  },
  {
   "cell_type": "code",
   "execution_count": null,
   "metadata": {},
   "outputs": [],
   "source": [
    "print(sizeof(p)) ; repr(p.raw)"
   ]
  },
  {
   "cell_type": "code",
   "execution_count": null,
   "metadata": {},
   "outputs": [],
   "source": [
    "repr(p.raw)"
   ]
  },
  {
   "cell_type": "code",
   "execution_count": null,
   "metadata": {},
   "outputs": [],
   "source": [
    "p.value = b\"Bye.\""
   ]
  },
  {
   "cell_type": "code",
   "execution_count": null,
   "metadata": {},
   "outputs": [],
   "source": [
    "print(sizeof(p)) ; repr(p.raw)"
   ]
  },
  {
   "cell_type": "markdown",
   "metadata": {},
   "source": [
    "<table border=\"1\" class=\"docutils\">\n",
    "<colgroup>\n",
    "<col width=\"24%\" />\n",
    "<col width=\"46%\" />\n",
    "<col width=\"30%\" />\n",
    "</colgroup>\n",
    "<thead valign=\"bottom\">\n",
    "<tr><th class=\"head\">ctypes type</th>\n",
    "<th class=\"head\">C type</th>\n",
    "<th class=\"head\">Python type</th>\n",
    "</tr>\n",
    "</thead>\n",
    "<tbody valign=\"top\">\n",
    "<tr><td><a class=\"reference internal\" href=\"#ctypes.c_bool\" title=\"ctypes.c_bool\"><tt class=\"xref py py-class docutils literal\"><span class=\"pre\">c_bool</span></tt></a></td>\n",
    "<td><tt class=\"xref c c-type docutils literal\"><span class=\"pre\">_Bool</span></tt></td>\n",
    "<td>bool (1)</td>\n",
    "</tr>\n",
    "<tr><td><a class=\"reference internal\" href=\"#ctypes.c_char\" title=\"ctypes.c_char\"><tt class=\"xref py py-class docutils literal\"><span class=\"pre\">c_char</span></tt></a></td>\n",
    "<td><tt class=\"xref c c-type docutils literal\"><span class=\"pre\">char</span></tt></td>\n",
    "<td>1-character string</td>\n",
    "</tr>\n",
    "<tr><td><a class=\"reference internal\" href=\"#ctypes.c_wchar\" title=\"ctypes.c_wchar\"><tt class=\"xref py py-class docutils literal\"><span class=\"pre\">c_wchar</span></tt></a></td>\n",
    "<td><tt class=\"xref c c-type docutils literal\"><span class=\"pre\">wchar_t</span></tt></td>\n",
    "<td>1-character unicode string</td>\n",
    "</tr>\n",
    "<tr><td><a class=\"reference internal\" href=\"#ctypes.c_byte\" title=\"ctypes.c_byte\"><tt class=\"xref py py-class docutils literal\"><span class=\"pre\">c_byte</span></tt></a></td>\n",
    "<td><tt class=\"xref c c-type docutils literal\"><span class=\"pre\">char</span></tt></td>\n",
    "<td>int/long</td>\n",
    "</tr>\n",
    "<tr><td><a class=\"reference internal\" href=\"#ctypes.c_ubyte\" title=\"ctypes.c_ubyte\"><tt class=\"xref py py-class docutils literal\"><span class=\"pre\">c_ubyte</span></tt></a></td>\n",
    "<td><tt class=\"xref c c-type docutils literal\"><span class=\"pre\">unsigned</span> <span class=\"pre\">char</span></tt></td>\n",
    "<td>int/long</td>\n",
    "</tr>\n",
    "<tr><td><a class=\"reference internal\" href=\"#ctypes.c_short\" title=\"ctypes.c_short\"><tt class=\"xref py py-class docutils literal\"><span class=\"pre\">c_short</span></tt></a></td>\n",
    "<td><tt class=\"xref c c-type docutils literal\"><span class=\"pre\">short</span></tt></td>\n",
    "<td>int/long</td>\n",
    "</tr>\n",
    "<tr><td><a class=\"reference internal\" href=\"#ctypes.c_ushort\" title=\"ctypes.c_ushort\"><tt class=\"xref py py-class docutils literal\"><span class=\"pre\">c_ushort</span></tt></a></td>\n",
    "<td><tt class=\"xref c c-type docutils literal\"><span class=\"pre\">unsigned</span> <span class=\"pre\">short</span></tt></td>\n",
    "<td>int/long</td>\n",
    "</tr>\n",
    "<tr><td><a class=\"reference internal\" href=\"#ctypes.c_int\" title=\"ctypes.c_int\"><tt class=\"xref py py-class docutils literal\"><span class=\"pre\">c_int</span></tt></a></td>\n",
    "<td><tt class=\"xref c c-type docutils literal\"><span class=\"pre\">int</span></tt></td>\n",
    "<td>int/long</td>\n",
    "</tr>\n",
    "<tr><td><a class=\"reference internal\" href=\"#ctypes.c_uint\" title=\"ctypes.c_uint\"><tt class=\"xref py py-class docutils literal\"><span class=\"pre\">c_uint</span></tt></a></td>\n",
    "<td><tt class=\"xref c c-type docutils literal\"><span class=\"pre\">unsigned</span> <span class=\"pre\">int</span></tt></td>\n",
    "<td>int/long</td>\n",
    "</tr>\n",
    "<tr><td><a class=\"reference internal\" href=\"#ctypes.c_long\" title=\"ctypes.c_long\"><tt class=\"xref py py-class docutils literal\"><span class=\"pre\">c_long</span></tt></a></td>\n",
    "<td><tt class=\"xref c c-type docutils literal\"><span class=\"pre\">long</span></tt></td>\n",
    "<td>int/long</td>\n",
    "</tr>\n",
    "<tr><td><a class=\"reference internal\" href=\"#ctypes.c_ulong\" title=\"ctypes.c_ulong\"><tt class=\"xref py py-class docutils literal\"><span class=\"pre\">c_ulong</span></tt></a></td>\n",
    "<td><tt class=\"xref c c-type docutils literal\"><span class=\"pre\">unsigned</span> <span class=\"pre\">long</span></tt></td>\n",
    "<td>int/long</td>\n",
    "</tr>\n",
    "<tr><td><a class=\"reference internal\" href=\"#ctypes.c_longlong\" title=\"ctypes.c_longlong\"><tt class=\"xref py py-class docutils literal\"><span class=\"pre\">c_longlong</span></tt></a></td>\n",
    "<td><tt class=\"xref c c-type docutils literal\"><span class=\"pre\">__int64</span></tt> or <tt class=\"xref c c-type docutils literal\"><span class=\"pre\">long</span> <span class=\"pre\">long</span></tt></td>\n",
    "<td>int/long</td>\n",
    "</tr>\n",
    "<tr><td><a class=\"reference internal\" href=\"#ctypes.c_ulonglong\" title=\"ctypes.c_ulonglong\"><tt class=\"xref py py-class docutils literal\"><span class=\"pre\">c_ulonglong</span></tt></a></td>\n",
    "<td><tt class=\"xref c c-type docutils literal\"><span class=\"pre\">unsigned</span> <span class=\"pre\">__int64</span></tt> or\n",
    "<tt class=\"xref c c-type docutils literal\"><span class=\"pre\">unsigned</span> <span class=\"pre\">long</span> <span class=\"pre\">long</span></tt></td>\n",
    "<td>int/long</td>\n",
    "</tr>\n",
    "<tr><td><a class=\"reference internal\" href=\"#ctypes.c_float\" title=\"ctypes.c_float\"><tt class=\"xref py py-class docutils literal\"><span class=\"pre\">c_float</span></tt></a></td>\n",
    "<td><tt class=\"xref c c-type docutils literal\"><span class=\"pre\">float</span></tt></td>\n",
    "<td>float</td>\n",
    "</tr>\n",
    "<tr><td><a class=\"reference internal\" href=\"#ctypes.c_double\" title=\"ctypes.c_double\"><tt class=\"xref py py-class docutils literal\"><span class=\"pre\">c_double</span></tt></a></td>\n",
    "<td><tt class=\"xref c c-type docutils literal\"><span class=\"pre\">double</span></tt></td>\n",
    "<td>float</td>\n",
    "</tr>\n",
    "<tr><td><a class=\"reference internal\" href=\"#ctypes.c_longdouble\" title=\"ctypes.c_longdouble\"><tt class=\"xref py py-class docutils literal\"><span class=\"pre\">c_longdouble</span></tt></a></td>\n",
    "<td><tt class=\"xref c c-type docutils literal\"><span class=\"pre\">long</span> <span class=\"pre\">double</span></tt></td>\n",
    "<td>float</td>\n",
    "</tr>\n",
    "<tr><td><a class=\"reference internal\" href=\"#ctypes.c_char_p\" title=\"ctypes.c_char_p\"><tt class=\"xref py py-class docutils literal\"><span class=\"pre\">c_char_p</span></tt></a></td>\n",
    "<td><tt class=\"xref c c-type docutils literal\"><span class=\"pre\">char</span> <span class=\"pre\">*</span></tt> (NUL terminated)</td>\n",
    "<td>string or <tt class=\"xref docutils literal\"><span class=\"pre\">None</span></tt></td>\n",
    "</tr>\n",
    "<tr><td><a class=\"reference internal\" href=\"#ctypes.c_wchar_p\" title=\"ctypes.c_wchar_p\"><tt class=\"xref py py-class docutils literal\"><span class=\"pre\">c_wchar_p</span></tt></a></td>\n",
    "<td><tt class=\"xref c c-type docutils literal\"><span class=\"pre\">wchar_t</span> <span class=\"pre\">*</span></tt> (NUL terminated)</td>\n",
    "<td>unicode or <tt class=\"xref docutils literal\"><span class=\"pre\">None</span></tt></td>\n",
    "</tr>\n",
    "<tr><td><a class=\"reference internal\" href=\"#ctypes.c_void_p\" title=\"ctypes.c_void_p\"><tt class=\"xref py py-class docutils literal\"><span class=\"pre\">c_void_p</span></tt></a></td>\n",
    "<td><tt class=\"xref c c-type docutils literal\"><span class=\"pre\">void</span> <span class=\"pre\">*</span></tt></td>\n",
    "<td>int/long or <tt class=\"xref docutils literal\"><span class=\"pre\">None</span></tt></td>\n",
    "</tr>\n",
    "</tbody>\n",
    "</table>"
   ]
  },
  {
   "cell_type": "code",
   "execution_count": null,
   "metadata": {},
   "outputs": [],
   "source": [
    "x = c_int(100)"
   ]
  },
  {
   "cell_type": "code",
   "execution_count": null,
   "metadata": {},
   "outputs": [],
   "source": [
    "print(x)"
   ]
  },
  {
   "cell_type": "code",
   "execution_count": null,
   "metadata": {},
   "outputs": [],
   "source": [
    "type(x.value)"
   ]
  },
  {
   "cell_type": "code",
   "execution_count": null,
   "metadata": {},
   "outputs": [],
   "source": [
    "sizeof(x)"
   ]
  },
  {
   "cell_type": "code",
   "execution_count": null,
   "metadata": {},
   "outputs": [],
   "source": [
    "y = 100"
   ]
  },
  {
   "cell_type": "code",
   "execution_count": null,
   "metadata": {},
   "outputs": [],
   "source": [
    "import sys\n",
    "sys.getsizeof(y)"
   ]
  },
  {
   "cell_type": "code",
   "execution_count": null,
   "metadata": {},
   "outputs": [],
   "source": [
    "sys.getsizeof(x)"
   ]
  },
  {
   "cell_type": "code",
   "execution_count": null,
   "metadata": {},
   "outputs": [],
   "source": [
    "%%file test.c\n",
    "#include <stdio.h>\n",
    "\n",
    "void myprint(void);\n",
    "\n",
    "void myprint()\n",
    "{\n",
    "    printf(\"hello world\\n\");\n",
    "}"
   ]
  },
  {
   "cell_type": "code",
   "execution_count": null,
   "metadata": {},
   "outputs": [],
   "source": [
    "!cat test.c"
   ]
  },
  {
   "cell_type": "code",
   "execution_count": null,
   "metadata": {},
   "outputs": [],
   "source": [
    "# linux\n",
    "#!gcc -shared -Wl,-soname,test -o test.so -fPIC test.c\n",
    "\n",
    "# or... for Mac OS X \n",
    "!gcc -shared -Wl,-install_name,testlib.so -o test.so -fPIC test.c"
   ]
  },
  {
   "cell_type": "code",
   "execution_count": null,
   "metadata": {},
   "outputs": [],
   "source": [
    "!ls -lat |head"
   ]
  },
  {
   "cell_type": "code",
   "execution_count": null,
   "metadata": {},
   "outputs": [],
   "source": [
    "%%file myctest.py\n",
    "import ctypes\n",
    "myctest = ctypes.CDLL('./test.so')\n",
    "myctest.myprint()"
   ]
  },
  {
   "cell_type": "code",
   "execution_count": null,
   "metadata": {},
   "outputs": [],
   "source": [
    "import ctypes\n",
    "myctest = ctypes.CDLL('./test.so')\n",
    "myctest.myprint()"
   ]
  },
  {
   "cell_type": "code",
   "execution_count": null,
   "metadata": {},
   "outputs": [],
   "source": [
    "%%file test1.c\n",
    "int add(int a, int b);\n",
    "\n",
    "int add(int a, int b)\n",
    "{\n",
    "    return(a+b);\n",
    "}"
   ]
  },
  {
   "cell_type": "code",
   "execution_count": null,
   "metadata": {},
   "outputs": [],
   "source": [
    "!gcc -shared -Wl,-install_name,test1lib.so -o test1.so -fPIC test1.c"
   ]
  },
  {
   "cell_type": "code",
   "execution_count": null,
   "metadata": {},
   "outputs": [],
   "source": [
    "from ctypes import *\n",
    "\n",
    "# load the shared object\n",
    "libtest = cdll.LoadLibrary('./test1.so')\n",
    "\n",
    "# call the function, yes it is as simple as that!\n",
    "print(libtest.add(100, 200))"
   ]
  },
  {
   "cell_type": "code",
   "execution_count": null,
   "metadata": {},
   "outputs": [],
   "source": [
    "%timeit libtest.add(10,20)"
   ]
  },
  {
   "cell_type": "code",
   "execution_count": null,
   "metadata": {},
   "outputs": [],
   "source": [
    "%timeit sum([10,20])"
   ]
  },
  {
   "cell_type": "code",
   "execution_count": null,
   "metadata": {},
   "outputs": [],
   "source": [
    "sum?"
   ]
  },
  {
   "cell_type": "code",
   "execution_count": null,
   "metadata": {},
   "outputs": [],
   "source": [
    "%timeit 10 + 20"
   ]
  },
  {
   "cell_type": "markdown",
   "metadata": {},
   "source": [
    "For a whole lot of timing comparisons, see \n",
    "http://nbviewer.ipython.org/url/jakevdp.github.io/downloads/notebooks/NumbaCython.ipynb"
   ]
  },
  {
   "cell_type": "markdown",
   "metadata": {},
   "source": [
    "## f2py \n",
    "\n",
    "<pre>\n",
    "...automatically construct an extension module that interfaces to routines in Fortran 77/90/95 code. It has the ability to parse Fortran 77/90/95 code and automatically generate Python signatures for the subroutines it encounters, or you can guide how the subroutine interfaces with Python by constructing an interface-definition-file (or modifying the f2py-produced one).\n",
    "</pre>\n",
    "\n",
    "It's part of numpy!\n",
    "\n",
    "(http://docs.scipy.org/doc/numpy/user/c-info.python-as-glue.html#f2py)"
   ]
  },
  {
   "cell_type": "code",
   "execution_count": null,
   "metadata": {},
   "outputs": [],
   "source": [
    "%%file pairwise_fort.f\n",
    "\n",
    "      subroutine pairwise_fort(X,D,m,n)\n",
    "          integer :: n,m\n",
    "          double precision, intent(in) :: X(m,n)\n",
    "          double precision, intent(out) :: D(m,m) \n",
    "          integer :: i,j,k\n",
    "          double precision :: r \n",
    "          do i = 1,m \n",
    "              do j = 1,m \n",
    "                  r = 0\n",
    "                  do k = 1,n \n",
    "                      r = r + (X(i,k) - X(j,k)) * (X(i,k) - X(j,k)) \n",
    "                  end do \n",
    "                  D(i,j) = sqrt(r) \n",
    "              end do \n",
    "          end do \n",
    "      end subroutine pairwise_fort"
   ]
  },
  {
   "cell_type": "code",
   "execution_count": null,
   "metadata": {},
   "outputs": [],
   "source": [
    "!f2py -c pairwise_fort.f -m pairwise_fort > /dev/null"
   ]
  },
  {
   "cell_type": "code",
   "execution_count": null,
   "metadata": {},
   "outputs": [],
   "source": [
    "import numpy as np\n",
    "X = np.random.random((1000, 3))\n",
    "from pairwise_fort import pairwise_fort\n",
    "XF = np.asarray(X, order='F')\n",
    "%timeit pairwise_fort(XF)"
   ]
  }
 ],
 "metadata": {
  "kernelspec": {
   "display_name": "Python 3",
   "language": "python",
   "name": "python3"
  },
  "language_info": {
   "codemirror_mode": {
    "name": "ipython",
    "version": 3
   },
   "file_extension": ".py",
   "mimetype": "text/x-python",
   "name": "python",
   "nbconvert_exporter": "python",
   "pygments_lexer": "ipython3",
   "version": "3.6.4"
  }
 },
 "nbformat": 4,
 "nbformat_minor": 1
}
