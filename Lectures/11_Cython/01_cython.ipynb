{
 "cells": [
  {
   "cell_type": "code",
   "execution_count": 43,
   "metadata": {},
   "outputs": [
    {
     "data": {
      "text/html": [
       "<style>\n",
       "\n",
       ".rendered_html\n",
       "{\n",
       "  color: #2C5494;\n",
       "  font-family: Ubuntu;\n",
       "  font-size: 140%;\n",
       "  line-height: 1.1;\n",
       "  margin: 0.5em 0;\n",
       "  }\n",
       "\n",
       ".talk_title\n",
       "{\n",
       "  color: #498AF3;\n",
       "  font-size: 250%;\n",
       "  font-weight:bold;\n",
       "  line-height: 1.2; \n",
       "  margin: 10px 50px 10px;\n",
       "  }\n",
       "\n",
       ".subtitle\n",
       "{\n",
       "  color: #386BBC;\n",
       "  font-size: 180%;\n",
       "  font-weight:bold;\n",
       "  line-height: 1.2; \n",
       "  margin: 20px 50px 20px;\n",
       "  }\n",
       "\n",
       ".slide-header, p.slide-header\n",
       "{\n",
       "  color: #498AF3;\n",
       "  font-size: 200%;\n",
       "  font-weight:bold;\n",
       "  margin: 0px 20px 10px;\n",
       "  page-break-before: always;\n",
       "  text-align: center;\n",
       "  }\n",
       "\n",
       ".rendered_html h1\n",
       "{\n",
       "  color: #498AF3;\n",
       "  line-height: 1.2; \n",
       "  margin: 0.15em 0em 0.5em;\n",
       "  page-break-before: always;\n",
       "  text-align: center;\n",
       "  }\n",
       "\n",
       "\n",
       ".rendered_html h2\n",
       "{ \n",
       "  color: #386BBC;\n",
       "  line-height: 1.2;\n",
       "  margin: 1.1em 0em 0.5em;\n",
       "  }\n",
       "\n",
       ".rendered_html h3\n",
       "{ \n",
       "  font-size: 100%;\n",
       "  line-height: 1.2;\n",
       "  margin: 1.1em 0em 0.5em;\n",
       "  }\n",
       "\n",
       ".rendered_html li\n",
       "{\n",
       "  line-height: 1.8;\n",
       "  }\n",
       "\n",
       ".input_prompt, .CodeMirror-lines, .output_area\n",
       "{\n",
       "  font-family: Consolas;\n",
       "  font-size: 120%;\n",
       "  }\n",
       "\n",
       ".gap-above\n",
       "{\n",
       "  padding-top: 200px;\n",
       "  }\n",
       "\n",
       ".gap01\n",
       "{\n",
       "  padding-top: 10px;\n",
       "  }\n",
       "\n",
       ".gap05\n",
       "{\n",
       "  padding-top: 50px;\n",
       "  }\n",
       "\n",
       ".gap1\n",
       "{\n",
       "  padding-top: 100px;\n",
       "  }\n",
       "\n",
       ".gap2\n",
       "{\n",
       "  padding-top: 200px;\n",
       "  }\n",
       "\n",
       ".gap3\n",
       "{\n",
       "  padding-top: 300px;\n",
       "  }\n",
       "\n",
       ".emph\n",
       "{\n",
       "  color: #386BBC;\n",
       "  }\n",
       "\n",
       ".warn\n",
       "{\n",
       "  color: red;\n",
       "  }\n",
       "\n",
       ".center\n",
       "{\n",
       "  text-align: center;\n",
       "  }\n",
       "\n",
       ".nb_link\n",
       "{\n",
       "    padding-bottom: 0.5em;\n",
       "}\n",
       "\n",
       "</style>"
      ],
      "text/plain": [
       "<IPython.core.display.HTML object>"
      ]
     },
     "metadata": {},
     "output_type": "display_data"
    }
   ],
   "source": [
    "%run ../../DataFiles_and_Notebooks/00_AdvancedPythonConcepts/talktools.py"
   ]
  },
  {
   "cell_type": "markdown",
   "metadata": {},
   "source": [
    "# Speeding up scientific Python code using Cython\n",
    "\n",
    "### [UC Berkeley AY 250 'Python Computing for Data Science'](https://github.com/profjsb/python-seminar)\n",
    "\n",
    "materials prepared by [Paul Ivanov](http://pirsquared.org/blog) (2013-11-21); Stefan van der Walt; JBloom  "
   ]
  },
  {
   "cell_type": "markdown",
   "metadata": {},
   "source": [
    "## Motivation \n",
    "\n",
    "<img src=\"sketse/lang_speed.png\">\n",
    "\n",
    "Cython allows us to cross the gap\n"
   ]
  },
  {
   "cell_type": "markdown",
   "metadata": {},
   "source": [
    "## [Cython](http://docs.cython.org/)\n",
    "\n",
    "\n",
    "Cython is good for two things:\n",
    "\n",
    "1. Wrapping legacy code\n",
    "2. Making your python code go faster\n",
    "\n",
    "This is good news because\n",
    "   - we get to keep coding in Python (or, at least, a superset)\n",
    "   - but with the speed advantage of C\n",
    "   - You can’t have your cake and eat it. Or can you?\n",
    "   - Conditions / loops approx. 2–8x speed increase, 30% overall; with\n",
    "annotations: hundreds of times faster\n",
    " "
   ]
  },
  {
   "cell_type": "markdown",
   "metadata": {},
   "source": [
    "# Let's take a step back...\n",
    "\n",
    "Python is a C program (yes, there are other implementations, but CPython is the dominant one)\n",
    "\n",
    "- you can write \"C extensions\" that can be imported as python modules"
   ]
  },
  {
   "cell_type": "code",
   "execution_count": null,
   "metadata": {},
   "outputs": [],
   "source": [
    "import math\n",
    "math??"
   ]
  },
  {
   "cell_type": "markdown",
   "metadata": {},
   "source": [
    "Deep introspection of `math` will not show us the source code, because it is actually implemented in C, compiled in a special way using the Python C API, and exposed to us (mere mortals) using a python interface."
   ]
  },
  {
   "cell_type": "code",
   "execution_count": null,
   "metadata": {},
   "outputs": [],
   "source": [
    "import os\n",
    "os.path??"
   ]
  },
  {
   "cell_type": "markdown",
   "metadata": {},
   "source": [
    "`os.path` on the other hand, is written in pure Python, so we can see the sourcecode"
   ]
  },
  {
   "cell_type": "code",
   "execution_count": null,
   "metadata": {},
   "outputs": [],
   "source": [
    "!cython --version"
   ]
  },
  {
   "cell_type": "markdown",
   "metadata": {},
   "source": [
    "## What's Cython?\n",
    "\n",
    "*Cython \n",
    "is a programming language that makes writing C extensions for the Python language as easy as Python itself.*\n",
    "\n",
    "Cython is a superset of Python (i.e. all Python programs are valid Cython programs).\n",
    "\n",
    "Cython allows you to:\n",
    "\n",
    "   1. get convenient handles on C libraries, objects, and functions using in your Python code.\n",
    "   2. \"sprinkle in\" type annotations into Python code to get speedups\n",
    "\n",
    "### Use Cases \n",
    "\n",
    " - Optimize execution of Python code (profile, if possible! – demo)\n",
    " - Wrap existing C and C++ code\n",
    " - Breaking out of the Global Interpreter Lock; openmp\n",
    " - Mixing C and Python, but without the pain of the Python C API"
   ]
  },
  {
   "cell_type": "markdown",
   "metadata": {},
   "source": [
    "## Overview \n",
    "\n",
    "For this  introduction, we’ll take the following approach:\n",
    "\n",
    "   1. Take a piece of pure Python code and benchmark (we’ll find that it is too slow)\n",
    "   2. Run the code through Cython, compile and benchmark (we’ll find that it is somewhat faster)\n",
    "   3. Annotate the types and benchmark (we’ll find that it is much faster)\n",
    "\n",
    "Then we’ll look at how Cython allows us to\n",
    "  - Work with NumPy arrays\n",
    "  - Use multiple threads from Python\n",
    "  - Wrap native C libraries"
   ]
  },
  {
   "cell_type": "markdown",
   "metadata": {},
   "source": [
    "## Benchmark Python Code\n",
    "\n",
    "We want to approximate the integral:\n",
    "$$\n",
    "\\int_a^b f(x) dx\n",
    "$$\n",
    "\n",
    "<img src=\"sketse/LeftRiemann2.png\" width=\"50%\">\n",
    "\n",
    "Or more a finer grid...\n",
    "\n",
    "<img src=\"sketse/LeftRiemann.png\" width=\"50%\">\n"
   ]
  },
  {
   "cell_type": "code",
   "execution_count": null,
   "metadata": {},
   "outputs": [],
   "source": [
    "cd demos/integrate"
   ]
  },
  {
   "cell_type": "code",
   "execution_count": null,
   "metadata": {},
   "outputs": [],
   "source": [
    "# %load integrate.py\n",
    "from __future__ import division\n",
    "\n",
    "def f(x):\n",
    "    return x**4 - 3 * x\n",
    "\n",
    "def integrate_f(a, b, N):\n",
    "    \"\"\"Rectangle integration of a function.\n",
    "\n",
    "    Parameters\n",
    "    ----------\n",
    "    a, b : ints\n",
    "        Interval over which to integrate.\n",
    "    N : int\n",
    "        Number of intervals to use in the discretisation.\n",
    "\n",
    "    \"\"\"\n",
    "    s = 0\n",
    "    dx = (b - a) / N\n",
    "    for i in range(N):\n",
    "        s += f(a + i * dx)\n",
    "    return s * dx"
   ]
  },
  {
   "cell_type": "code",
   "execution_count": null,
   "metadata": {},
   "outputs": [],
   "source": [
    "import integrate"
   ]
  },
  {
   "cell_type": "code",
   "execution_count": null,
   "metadata": {},
   "outputs": [],
   "source": [
    "integrate.integrate_f(1,10,100000)"
   ]
  },
  {
   "cell_type": "code",
   "execution_count": null,
   "metadata": {},
   "outputs": [],
   "source": [
    "%timeit integrate.integrate_f(1,10,100000)"
   ]
  },
  {
   "cell_type": "markdown",
   "metadata": {},
   "source": [
    "Let's compile the code with Cython\n",
    "\n",
    "```bash\n",
    "cython filename.[py|pyx]\n",
    "```"
   ]
  },
  {
   "cell_type": "code",
   "execution_count": null,
   "metadata": {},
   "outputs": [],
   "source": [
    "!cython integrate.py"
   ]
  },
  {
   "cell_type": "code",
   "execution_count": null,
   "metadata": {},
   "outputs": [],
   "source": [
    "!ls -lat | head"
   ]
  },
  {
   "cell_type": "markdown",
   "metadata": {},
   "source": [
    "What is happening behind the scenes? \n",
    "\n",
    "Cython translates Python to C, using the Python C API (let’s have a look)"
   ]
  },
  {
   "cell_type": "code",
   "execution_count": null,
   "metadata": {},
   "outputs": [],
   "source": [
    "!cat integrate.c"
   ]
  },
  {
   "cell_type": "markdown",
   "metadata": {},
   "source": [
    "Three ways of making use of Cython \n",
    "\n",
    "**1. Compiling**\n",
    "\n",
    "This C code can be compiled directly (e.g. using gcc) requiring the right library paths. We can also use a `setup.py` file to help us.\n",
    "\n",
    "I copied `integrate.py` to `integrate_compiled.pyx` just to make a distinction between the compiled version and the pure python version."
   ]
  },
  {
   "cell_type": "code",
   "execution_count": null,
   "metadata": {},
   "outputs": [],
   "source": [
    "%%writefile setup.py\n",
    "from distutils.core import setup\n",
    "from Cython.Build import cythonize\n",
    "from distutils.extension import Extension\n",
    "\n",
    "setup(\n",
    "    ext_modules=cythonize(\n",
    "       [Extension(\"integrate_compiled\", [\"integrate_compiled.pyx\"])], \n",
    "        compiler_directives={'language_level': 3}\n",
    "    )\n",
    ")"
   ]
  },
  {
   "cell_type": "code",
   "execution_count": null,
   "metadata": {},
   "outputs": [],
   "source": [
    "!python setup.py build_ext --inplace"
   ]
  },
  {
   "cell_type": "code",
   "execution_count": null,
   "metadata": {},
   "outputs": [],
   "source": [
    "!ls integrate_compiled*"
   ]
  },
  {
   "cell_type": "code",
   "execution_count": null,
   "metadata": {},
   "outputs": [],
   "source": [
    "import integrate_compiled\n",
    "integrate_compiled.integrate_f(1,10,10000)"
   ]
  },
  {
   "cell_type": "code",
   "execution_count": null,
   "metadata": {},
   "outputs": [],
   "source": [
    "%timeit integrate_compiled.integrate_f(1,10,10000)"
   ]
  },
  {
   "cell_type": "code",
   "execution_count": null,
   "metadata": {},
   "outputs": [],
   "source": [
    "!rm integrate_compiled.*.so"
   ]
  },
  {
   "cell_type": "markdown",
   "metadata": {},
   "source": [
    "### 2. pyximport\n",
    "\n",
    "A little bit magical, it will grab and compile .pyx files the first time they are imported, if a compilation is necessary."
   ]
  },
  {
   "cell_type": "code",
   "execution_count": null,
   "metadata": {},
   "outputs": [],
   "source": [
    "import pyximport\n",
    "pyximport.install()\n",
    "\n",
    "import integrate_compiled"
   ]
  },
  {
   "cell_type": "code",
   "execution_count": null,
   "metadata": {},
   "outputs": [],
   "source": [
    "integrate_compiled.integrate_f(1,10,10000)"
   ]
  },
  {
   "cell_type": "markdown",
   "metadata": {},
   "source": [
    "Benchmark the new code"
   ]
  },
  {
   "cell_type": "code",
   "execution_count": null,
   "metadata": {},
   "outputs": [],
   "source": [
    "%timeit integrate_compiled.integrate_f(1,10,100000)"
   ]
  },
  {
   "cell_type": "code",
   "execution_count": null,
   "metadata": {},
   "outputs": [],
   "source": [
    "import integrate"
   ]
  },
  {
   "cell_type": "code",
   "execution_count": null,
   "metadata": {},
   "outputs": [],
   "source": [
    "%timeit integrate.integrate_f(1,10,100000)"
   ]
  },
  {
   "cell_type": "markdown",
   "metadata": {},
   "source": [
    "**caveat emptor!**  C extensions **cannot** be reloaded in Python, see [this bug marked as WON'T FIX](http://bugs.python.org/issue1144263), so you have to either *restart the kernel* (i.e. quit python and start it again), or you could use the `%cython` magic..."
   ]
  },
  {
   "cell_type": "markdown",
   "metadata": {},
   "source": [
    "### 3. %cython magic\n",
    "\n",
    "The most magical of all"
   ]
  },
  {
   "cell_type": "code",
   "execution_count": null,
   "metadata": {},
   "outputs": [],
   "source": [
    "%load_ext Cython"
   ]
  },
  {
   "cell_type": "code",
   "execution_count": null,
   "metadata": {},
   "outputs": [],
   "source": [
    "%%cython\n",
    "\n",
    "from __future__ import division\n",
    "\n",
    "def f(x):\n",
    "    return x**4 - 3 * x\n",
    "\n",
    "def inline_integrate_f(a, b, N):\n",
    "    \"\"\"Rectangle integration of a function.\n",
    "\n",
    "    Parameters\n",
    "    ----------\n",
    "    a, b : ints\n",
    "        Interval over which to integrate.\n",
    "    N : int\n",
    "        Number of intervals to use in the discretisation.\n",
    "\n",
    "    \"\"\"\n",
    "    s = 0\n",
    "    dx = (b - a) / N\n",
    "    for i in range(N):\n",
    "        s += f(a + i * dx)\n",
    "    return s * dx"
   ]
  },
  {
   "cell_type": "code",
   "execution_count": null,
   "metadata": {},
   "outputs": [],
   "source": [
    "inline_integrate_f(1,10,1000)"
   ]
  },
  {
   "cell_type": "markdown",
   "metadata": {},
   "source": [
    "Slight speed increase (≈ 1.4×) probably not worth it.\n",
    "\n",
    "- Can we help Cython to do even better?\n",
    "  - Yes—by giving it some clues.\n",
    "  - Cython has a basic type inferencing engine, but it is very\n",
    "conservative for safety reasons.\n",
    "- Why does type information allow such vast speed increases?\n"
   ]
  },
  {
   "cell_type": "markdown",
   "metadata": {},
   "source": [
    "# Python is great, but slow at some things...\n",
    "\n",
    "Slow things worth knowing about:\n",
    "\n",
    "1. for loops\n",
    "2. function calls"
   ]
  },
  {
   "cell_type": "markdown",
   "metadata": {},
   "source": [
    "## Making your code go faster\n",
    "\n",
    "### \"Premature optimization is the root of all evil\" -- *Don Knuth*\n",
    "\n",
    "0. Use version control and have a test suite\n",
    "0. Profile code (don't just add type declarations everwhere)\n",
    "0. Sprinkle in optimizations (refacoring code as necessary)"
   ]
  },
  {
   "cell_type": "markdown",
   "metadata": {},
   "source": [
    "Let's tell Cython about the types..."
   ]
  },
  {
   "cell_type": "code",
   "execution_count": null,
   "metadata": {},
   "outputs": [],
   "source": [
    "%%writefile integrate_types.pyx\n",
    "from __future__ import division\n",
    "\n",
    "def f(double x):\n",
    "    return x**4 - 3 * x\n",
    "\n",
    "def types_integrate_f(double a, double b, int N):\n",
    "    \"\"\"Rectangle integration of a function.\n",
    "\n",
    "    Parameters\n",
    "    ----------\n",
    "    a, b : ints\n",
    "        Interval over which to integrate.\n",
    "    N : int\n",
    "        Number of intervals to use in the discretisation.\n",
    "\n",
    "    \"\"\"\n",
    "    cdef:\n",
    "        double s = 0\n",
    "        double dx = (b - a) / N\n",
    "        int i\n",
    "\n",
    "    s = 0\n",
    "    dx = (b - a) / N\n",
    "    for i in range(N):\n",
    "        s += f(a + i * dx)\n",
    "    return s * dx"
   ]
  },
  {
   "cell_type": "code",
   "execution_count": null,
   "metadata": {},
   "outputs": [],
   "source": [
    "%%cython\n",
    "\n",
    "def f(double x):\n",
    "    return x**4 - 3 * x\n",
    "\n",
    "def types_integrate_f(double a, double b, int N):\n",
    "    \"\"\"Rectangle integration of a function.\n",
    "\n",
    "    Parameters\n",
    "    ----------\n",
    "    a, b : ints\n",
    "        Interval over which to integrate.\n",
    "    N : int\n",
    "        Number of intervals to use in the discretisation.\n",
    "\n",
    "    \"\"\"\n",
    "    cdef:\n",
    "        double s = 0\n",
    "        double dx = (b - a) / N\n",
    "        int i\n",
    "\n",
    "    s = 0\n",
    "    dx = (b - a) / N\n",
    "    for i in range(N):\n",
    "        s += f(a + i * dx)\n",
    "    return s * dx"
   ]
  },
  {
   "cell_type": "code",
   "execution_count": null,
   "metadata": {},
   "outputs": [],
   "source": [
    "%timeit types_integrate_f(1,10,100000)"
   ]
  },
  {
   "cell_type": "code",
   "execution_count": null,
   "metadata": {},
   "outputs": [],
   "source": [
    "%timeit integrate_compiled.integrate_f(1,10,100000)"
   ]
  },
  {
   "cell_type": "code",
   "execution_count": null,
   "metadata": {},
   "outputs": [],
   "source": [
    "%timeit integrate.integrate_f(1,10,100000)"
   ]
  },
  {
   "cell_type": "markdown",
   "metadata": {},
   "source": [
    "There's even more bottlenecks:\n",
    "<img src=\"sketse/code_flow_python_vs_C.png\" width=\"70%\">\n",
    "We need to define `f(x)` as a C function."
   ]
  },
  {
   "cell_type": "code",
   "execution_count": null,
   "metadata": {},
   "outputs": [],
   "source": [
    "%%cython \n",
    "\n",
    "# %load integrate_cy.pyx\n",
    "# cython: cdivision=True\n",
    "\n",
    "# ^^^ Could also use @cython.cdivision(True) decorator\n",
    "\n",
    "\n",
    "cdef double f(double x):\n",
    "    return x*x*x*x - 3 * x\n",
    "\n",
    "def integrate_f(double a, double b, int N):\n",
    "    cdef:\n",
    "        double s = 0\n",
    "        double dx = (b - a) / N\n",
    "        size_t i\n",
    "\n",
    "    for i in range(N):\n",
    "        s += f(a + i * dx)\n",
    "\n",
    "    return s * dx\n"
   ]
  },
  {
   "cell_type": "code",
   "execution_count": null,
   "metadata": {},
   "outputs": [],
   "source": [
    "%%cython\n",
    "# cython: cdivision=True\n",
    "\n",
    "# ^^^ Could also use @cython.cdivision(True) decorator\n",
    "\n",
    "cdef double f(double x):\n",
    "    return x*x*x*x - 3 * x\n",
    "\n",
    "def cy_integrate_f(double a, double b, int N):\n",
    "    cdef:\n",
    "        double s = 0\n",
    "        double dx = (b - a) / N\n",
    "        size_t i\n",
    "\n",
    "    for i in range(N):\n",
    "        s += f(a + i * dx)\n",
    "\n",
    "    return s * dx"
   ]
  },
  {
   "cell_type": "code",
   "execution_count": null,
   "metadata": {},
   "outputs": [],
   "source": [
    "%timeit cy_integrate_f(1,10,100000)"
   ]
  },
  {
   "cell_type": "code",
   "execution_count": null,
   "metadata": {},
   "outputs": [],
   "source": [
    "%timeit integrate.integrate_f(1,10,100000)"
   ]
  },
  {
   "cell_type": "code",
   "execution_count": null,
   "metadata": {},
   "outputs": [],
   "source": [
    "26.4/0.183"
   ]
  },
  {
   "cell_type": "markdown",
   "metadata": {},
   "source": [
    "With annotations, Cython gives us a nice path to find bottlenecks. Use the `-a`."
   ]
  },
  {
   "cell_type": "code",
   "execution_count": null,
   "metadata": {},
   "outputs": [],
   "source": [
    "%load_ext Cython"
   ]
  },
  {
   "cell_type": "code",
   "execution_count": null,
   "metadata": {},
   "outputs": [],
   "source": [
    "%%cython -a\n",
    "\n",
    "def omg(c):\n",
    "    cdef wtf = 0\n",
    "    for a in range(c):\n",
    "        wtf += a\n",
    "        \n",
    "    return wtf\n",
    "\n",
    "def lol(x):\n",
    "    for i in range(x):\n",
    "        omg(x*2)"
   ]
  },
  {
   "cell_type": "markdown",
   "metadata": {},
   "source": [
    "The color allows us to see the density of the C code generated for a given line of Python. These lines will take longer to run, but we need not eliminate all of the unoptimized lines in order to get performance. We'll talk about profiling soon to help us find which lines are worth it."
   ]
  },
  {
   "cell_type": "code",
   "execution_count": null,
   "metadata": {},
   "outputs": [],
   "source": [
    "%timeit lol(5000)"
   ]
  },
  {
   "cell_type": "code",
   "execution_count": null,
   "metadata": {},
   "outputs": [],
   "source": [
    "%%cython --annotate\n",
    "\n",
    "cdef int new_omg(int c):\n",
    "    cdef int wtf = 0\n",
    "    cdef int a\n",
    "    for a in range(c):\n",
    "        wtf += a\n",
    "        \n",
    "    return wtf\n",
    "\n",
    "cdef void new_lol(int x):\n",
    "    cdef i\n",
    "    for i in range(x):\n",
    "        new_omg(x*2)"
   ]
  },
  {
   "cell_type": "code",
   "execution_count": null,
   "metadata": {},
   "outputs": [],
   "source": [
    "new_lol(1)"
   ]
  },
  {
   "cell_type": "markdown",
   "metadata": {},
   "source": [
    "Pure Python: http://cython.readthedocs.io/en/latest/src/tutorial/pure.html"
   ]
  },
  {
   "cell_type": "code",
   "execution_count": null,
   "metadata": {},
   "outputs": [],
   "source": [
    "%%cython --annotate\n",
    "\n",
    "cdef int new_omg(int c):\n",
    "    cdef int wtf = 0\n",
    "    cdef int a\n",
    "    for a in range(c):\n",
    "        wtf += a\n",
    "        \n",
    "    return wtf\n",
    "\n",
    "cpdef void new_lol(int x):\n",
    "    cdef i\n",
    "    for i in range(x):\n",
    "        new_omg(x*2)"
   ]
  },
  {
   "cell_type": "code",
   "execution_count": null,
   "metadata": {},
   "outputs": [],
   "source": [
    "%timeit new_lol(5000)"
   ]
  },
  {
   "cell_type": "markdown",
   "metadata": {},
   "source": [
    "### Exercise\n",
    "\n",
    "1. Here's a python function that performs an elementwise computations:\n",
    "\n",
    "   $y_i = x_i^3 - 4x_i + 2$\n",
    "   \n",
    "2. Write a Cython equivalent. "
   ]
  },
  {
   "cell_type": "code",
   "execution_count": null,
   "metadata": {},
   "outputs": [],
   "source": [
    "%%cython\n",
    "import numpy as np\n",
    "\n",
    "cdef my_poly(double [:] x):\n",
    "    out = np.zeros_like(x)\n",
    "    L = x.shape[0]\n",
    "\n",
    "    for i in range(L):\n",
    "        out[i] = x[i] * x[i] * x[i] - 4 * x[i] + 2\n",
    "\n",
    "    return np.asarray(out)\n",
    "\n",
    "def other_poly(x):\n",
    "    return my_poly(x)\n",
    "\n",
    "cpdef c_other_poly(x):\n",
    "    return my_poly(x)"
   ]
  },
  {
   "cell_type": "code",
   "execution_count": null,
   "metadata": {},
   "outputs": [],
   "source": [
    "import numpy as np\n",
    "x = np.linspace(-10,10,100000)\n",
    "%timeit c_other_poly(x)"
   ]
  },
  {
   "cell_type": "code",
   "execution_count": null,
   "metadata": {},
   "outputs": [],
   "source": [
    "%%cython -a\n",
    "import numpy as np\n",
    "\n",
    "def blah(float y):\n",
    "    return y * y * y - 4 * y + 2\n",
    "    \n",
    "cpdef my_poly(x):\n",
    "    out = np.zeros_like(x)\n",
    "    L = x.shape[0]\n",
    "\n",
    "    for i in range(L):\n",
    "        out[i] = blah(x[i])\n",
    "\n",
    "    return np.asarray(out)"
   ]
  },
  {
   "cell_type": "code",
   "execution_count": null,
   "metadata": {},
   "outputs": [],
   "source": [
    "import numpy as np\n",
    "x = np.linspace(-10,10,100000)\n",
    "%timeit my_poly(x)"
   ]
  },
  {
   "cell_type": "markdown",
   "metadata": {},
   "source": [
    "<!-- \n",
    "%load /home/pi/cur/python-seminar/Lectures/11_Cython/problems/fast_poly/fast_poly.pyx\n",
    "-->"
   ]
  },
  {
   "cell_type": "markdown",
   "metadata": {},
   "source": [
    "## Exercise\n",
    "\n",
    "1. With a partner, have one of you log into Github, fork [this gist](http://git.io/Pq37pQ)\n",
    "\n",
    "1. modify it together so that all functions perform some computation, but the whole thing doesn't take too long to run (1-5 second). \n",
    "\n",
    "   * You can use numpy in some of them, if you'd like, but be sure to include some for loops, as well. \n",
    "   * The template is there just to get you started, feel free to modify the parameters, or add new functions as you see fit.\n",
    "\n",
    "1. Update your gist with this new code, and hand it off to another pair (who will give you theirs).\n",
    "\n",
    "1. Fork and clone the other pair's program.\n",
    "\n",
    "1. Now, without looking at the code, profile this code to identify the bottleneck. \n",
    "\n",
    "1. Put a comment next to the function that eats up the most time. \n",
    "\n",
    "1. Time permitting, numpy-fy and Cython-ize the offending function\n",
    "\n",
    "1. Time permitting, change the parameters used in main to make a *different* function the bottleneck.\n",
    "\n"
   ]
  },
  {
   "cell_type": "markdown",
   "metadata": {},
   "source": [
    "### Now you know enough about how to wrap C code\n",
    "\n",
    "See also [Calling C functions](http://docs.cython.org/src/tutorial/external.html) and [Using C Libraries](http://docs.cython.org/src/tutorial/clibraries.html) in the Cython documentation.\n",
    "\n",
    "### What about Fortran?\n",
    "\n",
    "[Export the Fortran code to C](http://fortran90.org/src/best-practices.html#interfacing-with-c) and then [tell Cython to pretend it's calling C code](http://fortran90.org/src/best-practices.html#interfacing-with-python):\n",
    "\n",
    "*Notice that we didn’t write any C code — we only told fortran to use the C calling convention when producing the \".o\" files, and then we pretended in Cython, that the function is implemented in C, but in fact, it is linked in from Fortran directly*"
   ]
  },
  {
   "cell_type": "markdown",
   "metadata": {},
   "source": [
    "# References:\n",
    "\n",
    "[Cython Profiling Tutorial](http://docs.cython.org/src/tutorial/profiling_tutorial.html) : from Cython's official docs\n"
   ]
  },
  {
   "cell_type": "markdown",
   "metadata": {
    "collapsed": true
   },
   "source": [
    "https://course-evaluations.berkeley.edu"
   ]
  },
  {
   "cell_type": "code",
   "execution_count": null,
   "metadata": {},
   "outputs": [],
   "source": []
  }
 ],
 "metadata": {
  "kernelspec": {
   "display_name": "Python 3",
   "language": "python",
   "name": "python3"
  },
  "language_info": {
   "codemirror_mode": {
    "name": "ipython",
    "version": 3
   },
   "file_extension": ".py",
   "mimetype": "text/x-python",
   "name": "python",
   "nbconvert_exporter": "python",
   "pygments_lexer": "ipython3",
   "version": "3.6.4"
  }
 },
 "nbformat": 4,
 "nbformat_minor": 1
}
