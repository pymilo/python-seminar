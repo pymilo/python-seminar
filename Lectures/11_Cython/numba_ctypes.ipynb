{
 "cells": [
  {
   "cell_type": "markdown",
   "metadata": {},
   "source": [
    "# Making Python Faster\n",
    "\n",
    "<img src=\"slides/warp1.jpg\">\n",
    "\n",
    "\n",
    "<h2> ... and using legacy code</h2>\n",
    "\n",
    "- we've already seen `numexpr`, parallelization, etc.\n",
    "\n",
    "- Python is _slow_ ... it's interpreted on the fly\n",
    "\n",
    "- no static typing ... even integers are objects (bulky memory!)\n",
    "\n",
    "- what if we want to write Python, but use it as a *glue* to fast C-code?"
   ]
  },
  {
   "cell_type": "markdown",
   "metadata": {},
   "source": [
    "<pre>\n",
    "Premature optimization is the root of all evil \n",
    "   -- Donald Knuth\n",
    "</pre>\n",
    "\n",
    "<pre>\n",
    "C is premature optimization\n",
    "   -- Kanye West\n",
    "</pre>\n"
   ]
  },
  {
   "cell_type": "markdown",
   "metadata": {},
   "source": [
    "## Profiling ##"
   ]
  },
  {
   "cell_type": "markdown",
   "metadata": {},
   "source": [
    "You already know that Python comes with batteries include, and performance profiling is no exception.\n",
    "\n",
    "You can keep track of how much time each *function* is taking up using tools from the standard library.\n",
    "\n",
    "Here's the [documentation of `profile` and `cProfile`](http://docs.python.org/3/library/profile.html), but you probably won't need to use them directly.  A profile is a set of statistics that describes how often and for how long various parts of the program executed. These statistics can be formatted into reports via the pstats module."
   ]
  },
  {
   "cell_type": "code",
   "execution_count": 262,
   "metadata": {
    "collapsed": false
   },
   "outputs": [
    {
     "name": "stdout",
     "output_type": "stream",
     "text": [
      "         5 function calls in 0.000 seconds\n",
      "\n",
      "   Ordered by: standard name\n",
      "\n",
      "   ncalls  tottime  percall  cumtime  percall filename:lineno(function)\n",
      "        1    0.000    0.000    0.000    0.000 <string>:1(<module>)\n",
      "        1    0.000    0.000    0.000    0.000 re.py:222(compile)\n",
      "        1    0.000    0.000    0.000    0.000 re.py:278(_compile)\n",
      "        1    0.000    0.000    0.000    0.000 {built-in method builtins.exec}\n",
      "        1    0.000    0.000    0.000    0.000 {method 'disable' of '_lsprof.Profiler' objects}\n",
      "\n",
      "\n"
     ]
    }
   ],
   "source": [
    "import cProfile\n",
    "import re\n",
    "cProfile.run('re.compile(\"foo|bar\")') # run a piece of code"
   ]
  },
  {
   "cell_type": "code",
   "execution_count": 263,
   "metadata": {
    "collapsed": false
   },
   "outputs": [
    {
     "name": "stdout",
     "output_type": "stream",
     "text": [
      "         20029 function calls in 2.379 seconds\n",
      "\n",
      "   Ordered by: cumulative time\n",
      "\n",
      "   ncalls  tottime  percall  cumtime  percall filename:lineno(function)\n",
      "        3    0.000    0.000    2.379    0.793 /Users/jbloom/anaconda/envs/seminar/lib/python3.5/site-packages/IPython/core/interactiveshell.py:2851(run_code)\n",
      "        3    0.000    0.000    2.379    0.793 {built-in method builtins.exec}\n",
      "        1    0.000    0.000    2.379    2.379 <ipython-input-263-2723f51d898d>:8(<module>)\n",
      "        1    0.010    0.010    2.379    2.379 <ipython-input-263-2723f51d898d>:8(<listcomp>)\n",
      "    10000    0.414    0.000    2.369    0.000 <ipython-input-263-2723f51d898d>:6(waste_of_time)\n",
      "    10000    1.956    0.000    1.956    0.000 <ipython-input-263-2723f51d898d>:7(<listcomp>)\n",
      "        3    0.000    0.000    0.000    0.000 /Users/jbloom/anaconda/envs/seminar/lib/python3.5/codeop.py:132(__call__)\n",
      "        3    0.000    0.000    0.000    0.000 {built-in method builtins.compile}\n",
      "        1    0.000    0.000    0.000    0.000 <ipython-input-263-2723f51d898d>:6(<module>)\n",
      "        3    0.000    0.000    0.000    0.000 /Users/jbloom/anaconda/envs/seminar/lib/python3.5/site-packages/IPython/core/hooks.py:139(__call__)\n",
      "        3    0.000    0.000    0.000    0.000 /Users/jbloom/anaconda/envs/seminar/lib/python3.5/site-packages/IPython/utils/ipstruct.py:125(__getattr__)\n",
      "        1    0.000    0.000    0.000    0.000 <ipython-input-263-2723f51d898d>:11(<module>)\n",
      "        3    0.000    0.000    0.000    0.000 /Users/jbloom/anaconda/envs/seminar/lib/python3.5/site-packages/IPython/core/interactiveshell.py:1065(user_global_ns)\n",
      "        1    0.000    0.000    0.000    0.000 {method 'disable' of '_lsprof.Profiler' objects}\n",
      "        3    0.000    0.000    0.000    0.000 /Users/jbloom/anaconda/envs/seminar/lib/python3.5/site-packages/IPython/core/hooks.py:204(pre_run_code_hook)\n",
      "\n",
      "\n",
      "\n"
     ]
    }
   ],
   "source": [
    "import cProfile, pstats, io\n",
    "pr = cProfile.Profile()\n",
    "pr.enable()\n",
    "\n",
    "# here's the code you want to profile\n",
    "def waste_of_time(n=1000):\n",
    "    [x for x in range(n)]\n",
    "[waste_of_time(y) for y in range(10000)]\n",
    "## end of code you want to profile\n",
    "\n",
    "pr.disable()\n",
    "s = io.StringIO()\n",
    "sortby = 'cumulative'\n",
    "ps = pstats.Stats(pr, stream=s).sort_stats(sortby)\n",
    "ps.print_stats()\n",
    "print(s.getvalue())"
   ]
  },
  {
   "cell_type": "markdown",
   "metadata": {},
   "source": [
    "## There's a magic for that!\n",
    "\n",
    "### `%timeit` to learn how long it takes a chunk of code to run\n",
    "\n",
    "### `%prun` for function-by-function breakdown of code in your namespace\n",
    "\n",
    "### `%run -p` for function-by-function breakdown of running a whole file"
   ]
  },
  {
   "cell_type": "code",
   "execution_count": 267,
   "metadata": {
    "collapsed": false
   },
   "outputs": [
    {
     "data": {
      "text/plain": [
       "'/Users/jbloom/Classes/python-seminar/Lectures/11_Cython/demos/profile'"
      ]
     },
     "execution_count": 267,
     "metadata": {},
     "output_type": "execute_result"
    }
   ],
   "source": [
    "pwd "
   ]
  },
  {
   "cell_type": "code",
   "execution_count": 268,
   "metadata": {
    "collapsed": false
   },
   "outputs": [
    {
     "name": "stdout",
     "output_type": "stream",
     "text": [
      "import numpy as np\r\n",
      "\r\n",
      "def expensive_square(x):\r\n",
      "    x = x.copy()\r\n",
      "    for i in range(x.size):\r\n",
      "        x[i] = x[i] ** 2\r\n",
      "\r\n",
      "    return x\r\n",
      "\r\n",
      "def cheap_square(x):\r\n",
      "    return x**2\r\n",
      "\r\n",
      "square = expensive_square\r\n",
      "#square = cheap_square\r\n",
      "\r\n",
      "def execute():\r\n",
      "    print(\"Squaring some numbers...\")\r\n",
      "    x = np.arange((500000))\r\n",
      "    y = square(x)\r\n",
      "\r\n",
      "#    np.testing.assert_equal(x**2, y)\r\n",
      "\r\n",
      "if __name__ == \"__main__\":\r\n",
      "    execute()\r\n"
     ]
    }
   ],
   "source": [
    "!cat sometask.py"
   ]
  },
  {
   "cell_type": "code",
   "execution_count": 269,
   "metadata": {
    "collapsed": true
   },
   "outputs": [],
   "source": [
    "import sometask"
   ]
  },
  {
   "cell_type": "code",
   "execution_count": 270,
   "metadata": {
    "collapsed": false
   },
   "outputs": [
    {
     "name": "stdout",
     "output_type": "stream",
     "text": [
      "Squaring some numbers...\n",
      " "
     ]
    }
   ],
   "source": [
    "%prun sometask.execute()"
   ]
  },
  {
   "cell_type": "code",
   "execution_count": 271,
   "metadata": {
    "collapsed": false
   },
   "outputs": [
    {
     "name": "stdout",
     "output_type": "stream",
     "text": [
      "Squaring some numbers...\n",
      " "
     ]
    }
   ],
   "source": [
    "%run -p sometask.py"
   ]
  },
  {
   "cell_type": "markdown",
   "metadata": {},
   "source": [
    "With the `-D` flag, you can dump the profile to binary file that external tools can use.\n",
    "\n",
    "\n",
    "You  can also produce this .profile without Jupyter using:\n",
    "\n",
    "```bash\n",
    "    python -m cProfile -o sometask.profile sometask.py\n",
    "```"
   ]
  },
  {
   "cell_type": "code",
   "execution_count": 272,
   "metadata": {
    "collapsed": false
   },
   "outputs": [
    {
     "name": "stdout",
     "output_type": "stream",
     "text": [
      "Squaring some numbers...\n",
      " \n",
      "*** Profile stats marshalled to file 'sometask.profile'. \n"
     ]
    }
   ],
   "source": [
    "%run -p -D sometask.profile sometask.py"
   ]
  },
  {
   "cell_type": "code",
   "execution_count": 274,
   "metadata": {
    "collapsed": false
   },
   "outputs": [
    {
     "name": "stdout",
     "output_type": "stream",
     "text": [
      "�)\u0003�\u0001~�\u0000\u0000\u0000\u0000�\u0019<built-in method io.open>)\u0005�\u0002\u0000\u0000\u0000r\u0004\u0000\u0000\u0000g�\u00003��O\u001c",
      "?g��Z\r\n",
      "H�\u001f?{�\u0003�`/Users/jbloom/anaconda/envs/seminar/lib/python3.5/site-packages/IPython/core/interactiveshell.pyi\t\u0000\u0000�\r",
      "safe_execfile)\u0004�\u0001\u0000\u0000\u0000r\b\u0000\u0000\u0000g:�`���\u0014?g1]��\u001fa\u0018?�\u0003�Z/Users/jbloom/anaconda/envs/seminar/lib/python3.5/site-packages/IPython/utils/py3compat.py�\u0000\u0000\u0000�\bexecfile)\u0004r\b\u0000\u0000\u0000r\b\u0000\u0000\u0000g��IӠh�>g��IӠh�>0)\u0003r\u0001\u0000\u0000\u0000r\u0002\u0000\u0000\u0000�!<method 'split' of 'str' objects>)\u0005r\b\u0000\u0000\u0000r\b\u0000\u0000\u0000g�������>g�������>{�\u0003�>/Users/jbloom/anaconda/envs/seminar/lib/python3.5/posixpath.pyi>\u0001\u0000\u0000�\bnormpath)\u0004r\b\u0000\u0000\u0000r\b\u0000\u0000\u0000g�������>g�������>0)\u0003r\u000f\u0000\u0000\u0000ic\u0001\u0000\u0000�\u0007abspath)\u0005r\b\u0000\u0000\u0000r\b\u0000\u0000\u0000gT�\u0010qs*�>g�y�Cn�+?{r\u0005\u0000\u0000\u0000)\u0004r\b\u0000\u0000\u0000r\b\u0000\u0000\u0000gT�\u0010qs*�>g�y�Cn�+?0)\u0003r\u0001\u0000\u0000\u0000r\u0002\u0000\u0000\u0000�#<method 'remove' of 'list' objects>)\u0005r\b\u0000\u0000\u0000r\b\u0000\u0000\u0000g�����ư>g�����ư>{)\u0003�_/Users/jbloom/anaconda/envs/seminar/lib/python3.5/site-packages/IPython/utils/syspathcontext.py�@\u0000\u0000\u0000�\b__exit__)\u0004r\b\u0000\u0000\u0000r\b\u0000\u0000\u0000g�����ư>g�����ư>0)\u0003r\u0001\u0000\u0000\u0000r\u0002\u0000\u0000\u0000�!<method 'rfind' of 'str' objects>)\u0005r\b\u0000\u0000\u0000r\b\u0000\u0000\u0000g�����ư>g�����ư>{�\u0003r\u000f\u0000\u0000\u0000�\u0000\u0000\u0000�\u0007dirname)\u0004r\b\u0000\u0000\u0000r\b\u0000\u0000\u0000g�����ư>g�����ư>0)\u0003r\u0001\u0000\u0000\u0000r\u0002\u0000\u0000\u0000�\"<built-in method builtins.compile>)\u0005r\b\u0000\u0000\u0000r\b\u0000\u0000\u0000g�q4GV~9?g�q4GV~9?{r\t\u0000\u0000\u0000)\u0004r\b\u0000\u0000\u0000r\b\u0000\u0000\u0000g�q4GV~9?g�q4GV~9?0)\u0003r\u000f\u0000\u0000\u0000��\u0000\u0000\u0000�\r\n",
      "expanduser)\u0005r\b\u0000\u0000\u0000r\b\u0000\u0000\u0000g�h㈵��>g�_>Y1\\�>{r\u0005\u0000\u0000\u0000)\u0004r\b\u0000\u0000\u0000r\b\u0000\u0000\u0000g�h㈵��>g�_>Y1\\�>0)\u0003�\b<string>r\b\u0000\u0000\u0000�\b<module>)\u0005r\b\u0000\u0000\u0000r\b\u0000\u0000\u0000g�������>gF@�#H��?{�\u0003r\u0001\u0000\u0000\u0000r\u0002\u0000\u0000\u0000�\u001f<built-in method builtins.exec>)\u0004r\b\u0000\u0000\u0000r\b\u0000\u0000\u0000g�������>gF@�#H��?0)\u0003r\u0013\u0000\u0000\u0000r\u0014\u0000\u0000\u0000r\u0015\u0000\u0000\u0000)\u0005r\b\u0000\u0000\u0000r\b\u0000\u0000\u0000g?�̔���>g�h㈵��>{r\u0005\u0000\u0000\u0000)\u0004r\b\u0000\u0000\u0000r\b\u0000\u0000\u0000g?�̔���>g�h㈵��>0)\u0003r\u0001\u0000\u0000\u0000r\u0002\u0000\u0000\u0000�\"<method 'rstrip' of 'str' objects>)\u0005r\b\u0000\u0000\u0000r\b\u0000\u0000\u0000g�����ư>g�����ư>{r\u0017\u0000\u0000\u0000)\u0004r\b\u0000\u0000\u0000r\b\u0000\u0000\u0000g�����ư>g�����ư>0)\u0003r\u0001\u0000\u0000\u0000r\u0002\u0000\u0000\u0000�*<method 'copy' of 'numpy.ndarray' objects>)\u0005r\b\u0000\u0000\u0000r\b\u0000\u0000\u0000g\u001f��+,�O?g\u001f��+,�O?{)\u0003�Q/Users/jbloom/Classes/python-seminar/Lectures/11_Cython/demos/profile/sometask.py�\u0003\u0000\u0000\u0000�\u0010expensive_square)\u0004r\b\u0000\u0000\u0000r\b\u0000\u0000\u0000g\u001f��+,�O?g\u001f��+,�O?0)\u0003r\u0001\u0000\u0000\u0000r\u0002\u0000\u0000\u0000�*<method 'write' of '_io.StringIO' objects>)\u0005r\u0004\u0000\u0000\u0000r\u0004\u0000\u0000\u0000gT�\u0010qs*�>gT�\u0010qs*�>{�\u0003�U/Users/jbloom/anaconda/envs/seminar/lib/python3.5/site-packages/ipykernel/iostream.pyi3\u0001\u0000\u0000�\u0005write)\u0004r\u0004\u0000\u0000\u0000r\u0004\u0000\u0000\u0000gT�\u0010qs*�>gT�\u0010qs*�>0)\u0003�\\/Users/jbloom/anaconda/envs/seminar/lib/python3.5/site-packages/IPython/core/builtin_trap.py�J\u0000\u0000\u0000r\u0015\u0000\u0000\u0000)\u0005r\b\u0000\u0000\u0000r\b\u0000\u0000\u0000gT�\u0010qs*�>gT�\u0010qs*�>{r\u0005\u0000\u0000\u0000)\u0004r\b\u0000\u0000\u0000r\b\u0000\u0000\u0000gT�\u0010qs*�>gT�\u0010qs*�>0)\u0003r#\u0000\u0000\u0000r\b\u0000\u0000\u0000r\u001e",
      "\u0000\u0000\u0000)\u0005r\b\u0000\u0000\u0000r\b\u0000\u0000\u0000g�\u0004�N�j@?g+Kt�Y��?{r\u001f\u0000\u0000\u0000)\u0004r\b\u0000\u0000\u0000r\b\u0000\u0000\u0000g�\u0004�N�j@?g+Kt�Y��?0)\u0003r\u0006\u0000\u0000\u0000i\t\u0000\u0000r\u0007\u0000\u0000\u0000)\u0005r\b\u0000\u0000\u0000r\b\u0000\u0000\u0000g��Os�\"\u0013?g����&��?{)\u0003r\u001d",
      "\u0000\u0000\u0000r\b\u0000\u0000\u0000r\u001e",
      "\u0000\u0000\u0000)\u0004r\b\u0000\u0000\u0000r\b\u0000\u0000\u0000g��Os�\"\u0013?g����&��?0)\u0003r\u0001\u0000\u0000\u0000r\u0002\u0000\u0000\u0000�(<method 'write' of '_io.FileIO' objects>)\u0005r\b\u0000\u0000\u0000r\b\u0000\u0000\u0000gh\u001d",
      "UM\u0010u�>gh\u001d",
      "UM\u0010u�>{)\u0003�Y/Users/jbloom/anaconda/envs/seminar/lib/python3.5/site-packages/tornado/platform/posix.py�5\u0000\u0000\u0000�\u0004wake)\u0004r\b\u0000\u0000\u0000r\b\u0000\u0000\u0000gh\u001d",
      "UM\u0010u�>gh\u001d",
      "UM\u0010u�>0)\u0003r\u000f\u0000\u0000\u0000�'\u0000\u0000\u0000�\b_get_sep)\u0005r$\u0000\u0000\u0000r$\u0000\u0000\u0000g�h㈵��>gT�\u0010qs*�>{�\u0003r\u000f\u0000\u0000\u0000�G\u0000\u0000\u0000�\u0004join)\u0004r\b\u0000\u0000\u0000r\b\u0000\u0000\u0000g�����ư>g�������>�\u0003r\u000f\u0000\u0000\u0000�=\u0000\u0000\u0000�\u0005isabs)\u0004r\b\u0000\u0000\u0000r\b\u0000\u0000\u0000g�������>g�������>r\u0017\u0000\u0000\u0000)\u0004r\b\u0000\u0000\u0000r\b\u0000\u0000\u0000g�������>g�������>0)\u0003r\u0001\u0000\u0000\u0000r\u0002\u0000\u0000\u0000�%<built-in method builtins.isinstance>)\u0005�\b\u0000\u0000\u0000r9\u0000\u0000\u0000gT�\u0010qs*�>gT�\u0010qs*�>{�\u0003r\u000f\u0000\u0000\u0000ic\u0001\u0000\u0000r\u0011\u0000\u0000\u0000)\u0004r\b\u0000\u0000\u0000r\b\u0000\u0000\u0000g\u0000\u0000\u0000\u0000\u0000\u0000\u0000\u0000g\u0000\u0000\u0000\u0000\u0000\u0000\u0000\u0000r'\u0000\u0000\u0000)\u0004r\u0004\u0000\u0000\u0000r\u0004\u0000\u0000\u0000g�����ư>g�����ư>)\u0003r\u000f\u0000\u0000\u0000r0\u0000\u0000\u0000r1\u0000\u0000\u0000)\u0004r$\u0000\u0000\u0000r$\u0000\u0000\u0000g�����ư>g�����ư>r\u000e\u0000\u0000\u0000)\u0004r\b\u0000\u0000\u0000r\b\u0000\u0000\u0000g\u0000\u0000\u0000\u0000\u0000\u0000\u0000\u0000g\u0000\u0000\u0000\u0000\u0000\u0000\u0000\u0000�\u0003r\u000f\u0000\u0000\u0000r\u001b\u0000\u0000\u0000r\u001c",
      "\u0000\u0000\u0000)\u0004r\b\u0000\u0000\u0000r\b\u0000\u0000\u0000g�����ư>g�����ư>0)\u0003r\r\n",
      "\u0000\u0000\u0000r\u000b",
      "\u0000\u0000\u0000r\f",
      "\u0000\u0000\u0000)\u0005r\b\u0000\u0000\u0000r\b\u0000\u0000\u0000g��+ٱ!?g�Į���?{r\u0005\u0000\u0000\u0000)\u0004r\b\u0000\u0000\u0000r\b\u0000\u0000\u0000g��+ٱ!?g�Į���?0)\u0003�Q/Users/jbloom/anaconda/envs/seminar/lib/python3.5/site-packages/tornado/ioloop.pyi�\u0003\u0000\u0000�\f",
      "add_callback)\u0005r\b\u0000\u0000\u0000r\b\u0000\u0000\u0000gh\u001d",
      "UM\u0010u�>g��I���\u0012?{)\u0003r(\u0000\u0000\u0000��\u0000\u0000\u0000�\u000f_schedule_flush)\u0004r\b\u0000\u0000\u0000r\b\u0000\u0000\u0000gh\u001d",
      "UM\u0010u�>g��I���\u0012?0)\u0003�;/Users/jbloom/anaconda/envs/seminar/lib/python3.5/codecs.pyi4\u0001\u0000\u0000�\b__init__)\u0005r\b\u0000\u0000\u0000r\b\u0000\u0000\u0000g�������>g�������>{�\u0003r\u0001\u0000\u0000\u0000r\u0002\u0000\u0000\u0000r\u0003\u0000\u0000\u0000)\u0004r\b\u0000\u0000\u0000r\b\u0000\u0000\u0000g�������>g�������>0)\u0003r\u0001\u0000\u0000\u0000r\u0002\u0000\u0000\u0000�'<method 'setdefault' of 'dict' objects>)\u0005r$\u0000\u0000\u0000r$\u0000\u0000\u0000g�����ư>g�����ư>{r\u0005\u0000\u0000\u0000)\u0004r$\u0000\u0000\u0000r$\u0000\u0000\u0000g�����ư>g�����ư>0)\u0003r(\u0000\u0000\u0000r>\u0000\u0000\u0000r?\u0000\u0000\u0000)\u0005r\u0004\u0000\u0000\u0000r\u0004\u0000\u0000\u0000gfL�\u001ag��>g�&�|�\u0011\u0017?{r'\u0000\u0000\u0000)\u0004r\u0004\u0000\u0000\u0000r\u0004\u0000\u0000\u0000gfL�\u001ag��>g�&�|�\u0011\u0017?0)\u0003r\u000f\u0000\u0000\u0000r\u0018\u0000\u0000\u0000r\u0019\u0000\u0000\u0000)\u0005r\b\u0000\u0000\u0000r\b\u0000\u0000\u0000g�&�|�\u0011�>g�������>{r\u0005\u0000\u0000\u0000)\u0004r\b\u0000\u0000\u0000r\b\u0000\u0000\u0000g�&�|�\u0011�>g�������>0)\u0003r*\u0000\u0000\u0000�C\u0000\u0000\u0000�\t__enter__)\u0005r\b\u0000\u0000\u0000r\b\u0000\u0000\u0000g�������>g�������>{r\u0005\u0000\u0000\u0000)\u0004r\b\u0000\u0000\u0000r\b\u0000\u0000\u0000g�������>g�������>0)\u0003r\r\n",
      "\u0000\u0000\u0000�\r",
      "\u0000\u0000\u0000�\u0007no_code)\u0005r\b\u0000\u0000\u0000r\b\u0000\u0000\u0000g\u0000\u0000\u0000\u0000\u0000\u0000\u0000\u0000g\u0000\u0000\u0000\u0000\u0000\u0000\u0000\u0000{�\u0003r\u0013\u0000\u0000\u0000�6\u0000\u0000\u0000rA\u0000\u0000\u0000)\u0004r\b\u0000\u0000\u0000r\b\u0000\u0000\u0000g\u0000\u0000\u0000\u0000\u0000\u0000\u0000\u0000g\u0000\u0000\u0000\u0000\u0000\u0000\u0000\u00000)\u0003�V/Users/jbloom/anaconda/envs/seminar/lib/python3.5/site-packages/traitlets/traitlets.pyi�\u0001\u0000\u0000�\u0003get)\u0005r\b\u0000\u0000\u0000r\b\u0000\u0000\u0000g�����ư>g�����ư>{)\u0003rJ\u0000\u0000\u0000i\u0006\u0002\u0000\u0000�\u0007__get__)\u0004r\b\u0000\u0000\u0000r\b\u0000\u0000\u0000g�����ư>g�����ư>0)\u0003r\u0001\u0000\u0000\u0000r\u0002\u0000\u0000\u0000�0<method 'disable' of '_lsprof.Profiler' objects>)\u0005r\b\u0000\u0000\u0000r\b\u0000\u0000\u0000g\u0000\u0000\u0000\u0000\u0000\u0000\u0000\u0000g\u0000\u0000\u0000\u0000\u0000\u0000\u0000\u0000{0)\u0003r\u0001\u0000\u0000\u0000r\u0002\u0000\u0000\u0000�%<built-in method _locale.nl_langinfo>)\u0005r\b\u0000\u0000\u0000r\b\u0000\u0000\u0000g�������>g�������>{)\u0003�@/Users/jbloom/anaconda/envs/seminar/lib/python3.5/_bootlocale.py�\u0017\u0000\u0000\u0000�\u0014getpreferredencoding)\u0004r\b\u0000\u0000\u0000r\b\u0000\u0000\u0000g�������>g�������>0)\u0003r#\u0000\u0000\u0000r$\u0000\u0000\u0000r%\u0000\u0000\u0000)\u0005r\b\u0000\u0000\u0000r\b\u0000\u0000\u0000g$�@\u0011�\u0018�?g\u0019rl=C8�?{�\u0003r#\u0000\u0000\u0000�\u0010\u0000\u0000\u0000�\u0007execute)\u0004r\b\u0000\u0000\u0000r\b\u0000\u0000\u0000g$�@\u0011�\u0018�?g\u0019rl=C8�?0)\u0003r\u0001\u0000\u0000\u0000r\u0002\u0000\u0000\u0000�(<built-in method sys.getdefaultencoding>)\u0005r\b\u0000\u0000\u0000r\b\u0000\u0000\u0000g\u0000\u0000\u0000\u0000\u0000\u0000\u0000\u0000g\u0000\u0000\u0000\u0000\u0000\u0000\u0000\u0000{rH\u0000\u0000\u0000)\u0004r\b\u0000\u0000\u0000r\b\u0000\u0000\u0000g\u0000\u0000\u0000\u0000\u0000\u0000\u0000\u0000g\u0000\u0000\u0000\u0000\u0000\u0000\u0000\u00000)\u0003r\u0001\u0000\u0000\u0000r\u0002\u0000\u0000\u0000�.<built-in method numpy.core.multiarray.arange>)\u0005r\b\u0000\u0000\u0000r\b\u0000\u0000\u0000gԜ��\u0004�Z?gԜ��\u0004�Z?{rR\u0000\u0000\u0000)\u0004r\b\u0000\u0000\u0000r\b\u0000\u0000\u0000gԜ��\u0004�Z?gԜ��\u0004�Z?0)\u0003r\u0001\u0000\u0000\u0000r\u0002\u0000\u0000\u0000�$<method 'endswith' of 'str' objects>)\u0005r\b\u0000\u0000\u0000r\b\u0000\u0000\u0000g�����ư>g�����ư>{r2\u0000\u0000\u0000)\u0004r\b\u0000\u0000\u0000r\b\u0000\u0000\u0000g�����ư>g�����ư>0)\u0003r\u0013\u0000\u0000\u0000�9\u0000\u0000\u0000rE\u0000\u0000\u0000)\u0005r\b\u0000\u0000\u0000r\b\u0000\u0000\u0000g�_>Y1\\�>g�������>{r\u0005\u0000\u0000\u0000)\u0004r\b\u0000\u0000\u0000r\b\u0000\u0000\u0000g�_>Y1\\�>g�������>0)\u0003r\u000f\u0000\u0000\u0000r3\u0000\u0000\u0000r4\u0000\u0000\u0000)\u0005r\b\u0000\u0000\u0000r\b\u0000\u0000\u0000g�������>gT�\u0010qs*�>{r:\u0000\u0000\u0000)\u0004r\b\u0000\u0000\u0000r\b\u0000\u0000\u0000g�������>gT�\u0010qs*�>0)\u0003r\u0001\u0000\u0000\u0000r\u0002\u0000\u0000\u0000�\u001e",
      "<built-in method builtins.len>)\u0005r\b\u0000\u0000\u0000r\b\u0000\u0000\u0000g�����ư>g�����ư>{r\u0017\u0000\u0000\u0000)\u0004r\b\u0000\u0000\u0000r\b\u0000\u0000\u0000g�����ư>g�����ư>0)\u0003r(\u0000\u0000\u0000��\u0000\u0000\u0000�\u0012_is_master_process)\u0005r\u0004\u0000\u0000\u0000r\u0004\u0000\u0000\u0000gT�\u0010qs*�>gT�\u0010qs*�>{r'\u0000\u0000\u0000)\u0004r\u0004\u0000\u0000\u0000r\u0004\u0000\u0000\u0000gT�\u0010qs*�>gT�\u0010qs*�>0)\u0003rJ\u0000\u0000\u0000i\u0006\u0002\u0000\u0000rL\u0000\u0000\u0000)\u0005r\b\u0000\u0000\u0000r\b\u0000\u0000\u0000g�������>gT�\u0010qs*�>{r\u0005\u0000\u0000\u0000)\u0004r\b\u0000\u0000\u0000r\b\u0000\u0000\u0000g�������>gT�\u0010qs*�>0)\u0003r\u0013\u0000\u0000\u0000rI\u0000\u0000\u0000rA\u0000\u0000\u0000)\u0005r\b\u0000\u0000\u0000r\b\u0000\u0000\u0000g�������>g�������>{r\u0005\u0000\u0000\u0000)\u0004r\b\u0000\u0000\u0000r\b\u0000\u0000\u0000g�������>g�������>0)\u0003r#\u0000\u0000\u0000rS\u0000\u0000\u0000rT\u0000\u0000\u0000)\u0005r\b\u0000\u0000\u0000r\b\u0000\u0000\u0000g��IӠh�>g&�%��s�?{)\u0003r#\u0000\u0000\u0000r\b\u0000\u0000\u0000r\u001e",
      "\u0000\u0000\u0000)\u0004r\b\u0000\u0000\u0000r\b\u0000\u0000\u0000g��IӠh�>g&�%��s�?0)\u0003r\u000f\u0000\u0000\u0000r6\u0000\u0000\u0000r7\u0000\u0000\u0000)\u0005r\b\u0000\u0000\u0000r\b\u0000\u0000\u0000g�����ư>gT�\u0010qs*�>{r:\u0000\u0000\u0000)\u0004r\b\u0000\u0000\u0000r\b\u0000\u0000\u0000g�����ư>gT�\u0010qs*�>0)\u0003r\u0001\u0000\u0000\u0000r\u0002\u0000\u0000\u0000r \u0000\u0000\u0000)\u0005r\b\u0000\u0000\u0000r\u0004\u0000\u0000\u0000g\u0005�'eRC\u000b",
      "?g���\u0003ʦ�?{r\t\u0000\u0000\u0000)\u0004r\b\u0000\u0000\u0000r\b\u0000\u0000\u0000gT�\u0010qs*�>gM-[닄�?0)\u0003r\u0001\u0000\u0000\u0000r\u0002\u0000\u0000\u0000�\u001e",
      "<built-in method posix.getpid>)\u0005r\u0004\u0000\u0000\u0000r\u0004\u0000\u0000\u0000g\u0000\u0000\u0000\u0000\u0000\u0000\u0000\u0000g\u0000\u0000\u0000\u0000\u0000\u0000\u0000\u0000{)\u0003r(\u0000\u0000\u0000rZ\u0000\u0000\u0000r[\u0000\u0000\u0000)\u0004r\u0004\u0000\u0000\u0000r\u0004\u0000\u0000\u0000g\u0000\u0000\u0000\u0000\u0000\u0000\u0000\u0000g\u0000\u0000\u0000\u0000\u0000\u0000\u0000\u00000)\u0003r-\u0000\u0000\u0000r.\u0000\u0000\u0000r/\u0000\u0000\u0000)\u0005r\b\u0000\u0000\u0000r\b\u0000\u0000\u0000g�_>Y1\\�>g�&�|�\u0011�>{�\u0003r<\u0000\u0000\u0000i�\u0003\u0000\u0000r=\u0000\u0000\u0000)\u0004r\b\u0000\u0000\u0000r\b\u0000\u0000\u0000g�_>Y1\\�>g�&�|�\u0011�>0)\u0003r\u0001\u0000\u0000\u0000r\u0002\u0000\u0000\u0000�/<method 'read' of '_io.BufferedReader' objects>)\u0005r\b\u0000\u0000\u0000r\b\u0000\u0000\u0000g�������>g�������>{r\t\u0000\u0000\u0000)\u0004r\b\u0000\u0000\u0000r\b\u0000\u0000\u0000g�������>g�������>0)\u0003r\u0001\u0000\u0000\u0000r\u0002\u0000\u0000\u0000�#<method 'insert' of 'list' objects>)\u0005r\b\u0000\u0000\u0000r\b\u0000\u0000\u0000g�����ư>g�����ư>{)\u0003r\u0013\u0000\u0000\u0000rX\u0000\u0000\u0000rE\u0000\u0000\u0000)\u0004r\b\u0000\u0000\u0000r\b\u0000\u0000\u0000g�����ư>g�����ư>0)\u0003r\u0001\u0000\u0000\u0000r\u0002\u0000\u0000\u0000�\u001e",
      "<built-in method posix.getcwd>)\u0005r\b\u0000\u0000\u0000r\b\u0000\u0000\u0000g��t�i� ?g��t�i� ?{r:\u0000\u0000\u0000)\u0004r\b\u0000\u0000\u0000r\b\u0000\u0000\u0000g��t�i� ?g��t�i� ?0)\u0003r\u0001\u0000\u0000\u0000r\u0002\u0000\u0000\u0000�#<method 'append' of 'list' objects>)\u0005�\r\n",
      "\u0000\u0000\u0000rb\u0000\u0000\u0000g�������>g�������>{r\u000e\u0000\u0000\u0000)\u0004�\t\u0000\u0000\u0000rc\u0000\u0000\u0000gT�\u0010qs*�>gT�\u0010qs*�>r]\u0000\u0000\u0000)\u0004r\b\u0000\u0000\u0000r\b\u0000\u0000\u0000g�����ư>g�����ư>0)\u0003r\u0001\u0000\u0000\u0000r\u0002\u0000\u0000\u0000�&<method 'startswith' of 'str' objects>)\u0005�\u0005\u0000\u0000\u0000re\u0000\u0000\u0000gT�\u0010qs*�>gT�\u0010qs*�>{r2\u0000\u0000\u0000)\u0004r\b\u0000\u0000\u0000r\b\u0000\u0000\u0000g�����ư>g�����ư>r\u000e\u0000\u0000\u0000)\u0004r\u0004\u0000\u0000\u0000r\u0004\u0000\u0000\u0000g�����ư>g�����ư>r5\u0000\u0000\u0000)\u0004r\b\u0000\u0000\u0000r\b\u0000\u0000\u0000g\u0000\u0000\u0000\u0000\u0000\u0000\u0000\u0000g\u0000\u0000\u0000\u0000\u0000\u0000\u0000\u0000r;\u0000\u0000\u0000)\u0004r\b\u0000\u0000\u0000r\b\u0000\u0000\u0000g�����ư>g�����ư>0)\u0003rO\u0000\u0000\u0000rP\u0000\u0000\u0000rQ\u0000\u0000\u0000)\u0005r\b\u0000\u0000\u0000r\b\u0000\u0000\u0000gT�\u0010qs*�>g�h㈵��>{rB\u0000\u0000\u0000)\u0004r\b\u0000\u0000\u0000r\b\u0000\u0000\u0000gT�\u0010qs*�>g�h㈵��>0)\u0003r(\u0000\u0000\u0000i3\u0001\u0000\u0000r)\u0000\u0000\u0000)\u0005r\u0004\u0000\u0000\u0000r\u0004\u0000\u0000\u0000g�_>Y1\\�>g���]/M!?{)\u0003r\u0001\u0000\u0000\u0000r\u0002\u0000\u0000\u0000� <built-in method builtins.print>)\u0004r\u0004\u0000\u0000\u0000r\u0004\u0000\u0000\u0000g�_>Y1\\�>g���]/M!?0)\u0003r\u0001\u0000\u0000\u0000r\u0002\u0000\u0000\u0000�#<built-in method _thread.get_ident>)\u0005r\b\u0000\u0000\u0000r\b\u0000\u0000\u0000g�����ư>g�����ư>{r]\u0000\u0000\u0000)\u0004r\b\u0000\u0000\u0000r\b\u0000\u0000\u0000g�����ư>g�����ư>0)\u0003r\u0001\u0000\u0000\u0000r\u0002\u0000\u0000\u0000rf\u0000\u0000\u0000)\u0005r\b\u0000\u0000\u0000r\b\u0000\u0000\u0000g\u0005�'eRC�>g\u001a\u0017\u000e�d\u0001#?{rR\u0000\u0000\u0000)\u0004r\b\u0000\u0000\u0000r\b\u0000\u0000\u0000g\u0005�'eRC�>g\u001a\u0017\u000e�d\u0001#?0)\u0003r\u0001\u0000\u0000\u0000r\u0002\u0000\u0000\u0000�\"<built-in method builtins.hasattr>)\u0005r\b\u0000\u0000\u0000r\b\u0000\u0000\u0000g�������>g�������>{)\u0003�X/Users/jbloom/anaconda/envs/seminar/lib/python3.5/site-packages/tornado/stack_context.py��\u0000\u0000\u0000�\u0004wrap)\u0004r\b\u0000\u0000\u0000r\b\u0000\u0000\u0000g�������>g�������>0)\u0003ri\u0000\u0000\u0000rj\u0000\u0000\u0000rk\u0000\u0000\u0000)\u0005r\b\u0000\u0000\u0000r\b\u0000\u0000\u0000g\u0005�'eRC�>gfL�\u001ag��>{r]\u0000\u0000\u0000)\u0004r\b\u0000\u0000\u0000r\b\u0000\u0000\u0000g\u0005�'eRC�>gfL�\u001ag��>0)\u0003r\u0001\u0000\u0000\u0000r\u0002\u0000\u0000\u0000� <method 'join' of 'str' objects>)\u0005r\b\u0000\u0000\u0000r\b\u0000\u0000\u0000g�����ư>g�����ư>{r\u000e\u0000\u0000\u0000)\u0004r\b\u0000\u0000\u0000r\b\u0000\u0000\u0000g�����ư>g�����ư>0)\u0003r\u000f\u0000\u0000\u0000i>\u0001\u0000\u0000r\u0010\u0000\u0000\u0000)\u0005r\b\u0000\u0000\u0000r\b\u0000\u0000\u0000g�Z�Q\u000ef\u0003?g�&�|�\u0011\u0007?{r:\u0000\u0000\u0000)\u0004r\b\u0000\u0000\u0000r\b\u0000\u0000\u0000g�Z�Q\u000ef\u0003?g�&�|�\u0011\u0007?0)\u0003r@\u0000\u0000\u0000i\u0003\u0001\u0000\u0000rA\u0000\u0000\u0000)\u0005r\b\u0000\u0000\u0000r\b\u0000\u0000\u0000g�������>g�������>{)\u0003r@\u0000\u0000\u0000i4\u0001\u0000\u0000rA\u0000\u0000\u0000)\u0004r\b\u0000\u0000\u0000r\b\u0000\u0000\u0000g�������>g�������>00"
     ]
    }
   ],
   "source": [
    "!head sometask.profile"
   ]
  },
  {
   "cell_type": "code",
   "execution_count": null,
   "metadata": {
    "collapsed": true
   },
   "outputs": [],
   "source": [
    "#!pip install snakeviz"
   ]
  },
  {
   "cell_type": "code",
   "execution_count": 275,
   "metadata": {
    "collapsed": false
   },
   "outputs": [
    {
     "name": "stdout",
     "output_type": "stream",
     "text": [
      "snakeviz web server started on 127.0.0.1:8080; enter Ctrl-C to exit\n",
      "http://127.0.0.1:8080/snakeviz/%2FUsers%2Fjbloom%2FClasses%2Fpython-seminar%2FLectures%2F11_Cython%2Fdemos%2Fprofile%2Fsometask.profile\n",
      "^C\n",
      "Bye!\n",
      "\n"
     ]
    }
   ],
   "source": [
    "!snakeviz sometask.profile"
   ]
  },
  {
   "cell_type": "code",
   "execution_count": 276,
   "metadata": {
    "collapsed": false
   },
   "outputs": [
    {
     "name": "stdout",
     "output_type": "stream",
     "text": [
      "The snakeviz extension is already loaded. To reload it, use:\n",
      "  %reload_ext snakeviz\n"
     ]
    }
   ],
   "source": [
    "%load_ext snakeviz"
   ]
  },
  {
   "cell_type": "code",
   "execution_count": 277,
   "metadata": {
    "collapsed": false
   },
   "outputs": [
    {
     "name": "stdout",
     "output_type": "stream",
     "text": [
      "Squaring some numbers...\n",
      " \n",
      "*** Profile stats marshalled to file '/var/folders/dc/1sk9z_cx15s7g6895fqjlp7h0000gn/T/tmph4v3peci'. \n"
     ]
    }
   ],
   "source": [
    "%%snakeviz\n",
    "sometask.execute()"
   ]
  },
  {
   "cell_type": "markdown",
   "metadata": {},
   "source": [
    "## Profiling line-by-line\n",
    "\n",
    "    %lprun\n",
    "    \n",
    "This magic is not built into Jupyter, it is provided by the [line_profiler package by Robert Kern](http://pythonhosted.org/line_profiler/)."
   ]
  },
  {
   "cell_type": "code",
   "execution_count": 278,
   "metadata": {
    "collapsed": false
   },
   "outputs": [
    {
     "name": "stdout",
     "output_type": "stream",
     "text": [
      "Fetching package metadata ...SSL verification error: EOF occurred in violation of protocol (_ssl.c:590)\n",
      "SSL verification error: EOF occurred in violation of protocol (_ssl.c:590)\n",
      "SSL verification error: EOF occurred in violation of protocol (_ssl.c:590)\n",
      "SSL verification error: EOF occurred in violation of protocol (_ssl.c:590)\n",
      "....\n",
      "Solving package specifications: ..........\n",
      "\n",
      "# All requested packages already installed.\n",
      "# packages in environment at /Users/jbloom/anaconda/envs/seminar:\n",
      "#\n",
      "line_profiler             1.1                      py35_0  \n"
     ]
    }
   ],
   "source": [
    "!conda install line_profiler -y"
   ]
  },
  {
   "cell_type": "code",
   "execution_count": 17,
   "metadata": {
    "collapsed": false
   },
   "outputs": [],
   "source": [
    "%load_ext line_profiler"
   ]
  },
  {
   "cell_type": "markdown",
   "metadata": {},
   "source": [
    "Run the code, but only run the line profiler on the function `square()`"
   ]
  },
  {
   "cell_type": "code",
   "execution_count": 280,
   "metadata": {
    "collapsed": true
   },
   "outputs": [],
   "source": [
    "import sometask"
   ]
  },
  {
   "cell_type": "code",
   "execution_count": 282,
   "metadata": {
    "collapsed": false
   },
   "outputs": [
    {
     "name": "stdout",
     "output_type": "stream",
     "text": [
      "import numpy as np\r\n",
      "\r\n",
      "def expensive_square(x):\r\n",
      "    x = x.copy()\r\n",
      "    for i in range(x.size):\r\n",
      "        x[i] = x[i] ** 2\r\n",
      "\r\n",
      "    return x\r\n",
      "\r\n",
      "def cheap_square(x):\r\n",
      "    return x**2\r\n",
      "\r\n",
      "square = expensive_square\r\n",
      "#square = cheap_square\r\n",
      "\r\n",
      "def execute():\r\n",
      "    print(\"Squaring some numbers...\")\r\n",
      "    x = np.arange((500000))\r\n",
      "    y = square(x)\r\n",
      "\r\n",
      "#    np.testing.assert_equal(x**2, y)\r\n",
      "\r\n",
      "if __name__ == \"__main__\":\r\n",
      "    execute()\r\n"
     ]
    }
   ],
   "source": [
    "!cat sometask.py"
   ]
  },
  {
   "cell_type": "code",
   "execution_count": 281,
   "metadata": {
    "collapsed": false
   },
   "outputs": [
    {
     "name": "stdout",
     "output_type": "stream",
     "text": [
      "Squaring some numbers...\n"
     ]
    }
   ],
   "source": [
    "%lprun -f sometask.square sometask.execute()"
   ]
  },
  {
   "cell_type": "markdown",
   "metadata": {},
   "source": [
    "## Profiling memory usage (line-by-line)\n",
    "\n",
    "    %mprun\n",
    "    \n",
    "        \n",
    "This magic is not built into Jupyter, it is provided by the [memory_profiler package by Fabian Pedregosa](https://pypi.python.org/pypi/memory_profiler)."
   ]
  },
  {
   "cell_type": "code",
   "execution_count": 283,
   "metadata": {
    "collapsed": false
   },
   "outputs": [
    {
     "name": "stdout",
     "output_type": "stream",
     "text": [
      "Requirement already up-to-date: memory_profiler in /Users/jbloom/anaconda/envs/seminar/lib/python3.5/site-packages\r\n"
     ]
    }
   ],
   "source": [
    "!pip install --user  -U memory_profiler"
   ]
  },
  {
   "cell_type": "code",
   "execution_count": 1,
   "metadata": {
    "collapsed": false
   },
   "outputs": [],
   "source": [
    "%load_ext memory_profiler"
   ]
  },
  {
   "cell_type": "code",
   "execution_count": 285,
   "metadata": {
    "collapsed": true
   },
   "outputs": [],
   "source": [
    "%mprun?"
   ]
  },
  {
   "cell_type": "code",
   "execution_count": 3,
   "metadata": {
    "collapsed": false
   },
   "outputs": [
    {
     "name": "stdout",
     "output_type": "stream",
     "text": [
      "/Users/jbloom/Classes/python-seminar/Lectures/11_Cython/demos/profile\n"
     ]
    }
   ],
   "source": [
    "cd demos/profile/"
   ]
  },
  {
   "cell_type": "code",
   "execution_count": 4,
   "metadata": {
    "collapsed": false
   },
   "outputs": [],
   "source": [
    "import sometask"
   ]
  },
  {
   "cell_type": "code",
   "execution_count": 5,
   "metadata": {
    "collapsed": false
   },
   "outputs": [
    {
     "name": "stdout",
     "output_type": "stream",
     "text": [
      "import numpy as np\r\n",
      "\r\n",
      "def expensive_square(x):\r\n",
      "    x = x.copy()\r\n",
      "    y = x.copy()\r\n",
      "    for i in range(x.size):\r\n",
      "        x[i] = x[i] ** 2\r\n",
      "    \r\n",
      "    del y\r\n",
      "    return x\r\n",
      "\r\n",
      "def cheap_square(x):\r\n",
      "    return x**2\r\n",
      "\r\n",
      "square = expensive_square\r\n",
      "#square = cheap_square\r\n",
      "\r\n",
      "def execute():\r\n",
      "    print(\"Squaring some numbers...\")\r\n",
      "    x = np.arange((50000000))\r\n",
      "    y = square(x)\r\n",
      "\r\n",
      "#    np.testing.assert_equal(x**2, y)\r\n",
      "\r\n",
      "if __name__ == \"__main__\":\r\n",
      "    execute()\r\n"
     ]
    }
   ],
   "source": [
    "!cat sometask.py"
   ]
  },
  {
   "cell_type": "code",
   "execution_count": 6,
   "metadata": {
    "collapsed": false
   },
   "outputs": [
    {
     "name": "stdout",
     "output_type": "stream",
     "text": [
      "Squaring some numbers...\n",
      "*** KeyboardInterrupt exception caught in code being profiled.\n"
     ]
    }
   ],
   "source": [
    "%mprun -f sometask.square sometask.execute()"
   ]
  },
  {
   "cell_type": "markdown",
   "metadata": {},
   "source": [
    "# Other tools for profiling:\n",
    "\n",
    "[gprof](http://en.wikipedia.org/wiki/Gprof) -- command line profiling tool for C code. [GNU Gprof documentation](https://sourceware.org/binutils/docs/gprof/) is pretty good.\n",
    "\n",
    "[valgrind](http://valgrind.org/docs/manual/cl-manual.html) -- very complex suite for analyzing callgrind and kcachegrind. \"*Valgrind is an instrumentation framework for building dynamic analysis tools. There are Valgrind tools that can automatically detect many memory management and threading bugs, and profile your programs in detail.*\""
   ]
  },
  {
   "cell_type": "markdown",
   "metadata": {},
   "source": [
    "[Timing and Profiling in IPython](http://pynash.org/2013/03/06/timing-and-profiling/) : Blogpost at the PyNashville"
   ]
  },
  {
   "cell_type": "markdown",
   "metadata": {},
   "source": [
    "Calculate the variance\n",
    "\n",
    "$$\\sigma^2 = \\frac {\\sum_{i=1}^N (x_i - \\sum_{j=1}^N x_j/N)^2}{N - 1}. $$\n",
    "\n",
    "problem here is that you must first pass over all the data (to get the mean) then pass over the data again.  There's a bunch of Pythonic ways to do this. Here's a few..."
   ]
  },
  {
   "cell_type": "code",
   "execution_count": 8,
   "metadata": {
    "collapsed": false
   },
   "outputs": [
    {
     "name": "stdout",
     "output_type": "stream",
     "text": [
      "Overwriting var.py\n"
     ]
    }
   ],
   "source": [
    "#%%writefile var.py\n",
    "def variance(data):\n",
    "    sample_mean = 0.0\n",
    "    \n",
    "    # 1st loop\n",
    "    for x in data:\n",
    "        sample_mean += float(x)\n",
    "    \n",
    "    sample_mean /= len(data)\n",
    "    \n",
    "    # second loop\n",
    "    sum_of_squared_errors = 0.0\n",
    "    for x in data:\n",
    "        sum_of_squared_errors += (float(x) - sample_mean) ** 2\n",
    "    \n",
    "    return sum_of_squared_errors / (float(len(data)) - 1.0)\n",
    "    \n",
    "def variance0(data):\n",
    "   sample_mean = sum(data) / len(data) # loop 1\n",
    "   sum_of_squared_errors = sum((i - sample_mean) ** 2 for i in data) # loop 2\n",
    "   return sum_of_squared_errors / (len(data) - 1)\n",
    "\n",
    "import functools\n",
    "def variance1(data):\n",
    "    mean = float(functools.reduce(lambda x,y : x+y, data)) / len(data)\n",
    "    return functools.reduce(lambda x,y: x+y, map(lambda xi: (xi-mean)**2, data))/ (len(data) - 1)\n",
    "\n",
    "def execute():\n",
    "    variance(range(100000))\n",
    "    \n",
    "def execute1():\n",
    "    variance1(range(100000))"
   ]
  },
  {
   "cell_type": "code",
   "execution_count": 9,
   "metadata": {
    "collapsed": false
   },
   "outputs": [
    {
     "name": "stdout",
     "output_type": "stream",
     "text": [
      "10 loops, best of 3: 80.1 ms per loop\n"
     ]
    }
   ],
   "source": [
    "%timeit variance(range(100000))"
   ]
  },
  {
   "cell_type": "code",
   "execution_count": 10,
   "metadata": {
    "collapsed": false
   },
   "outputs": [
    {
     "name": "stdout",
     "output_type": "stream",
     "text": [
      "10 loops, best of 3: 30.1 ms per loop\n"
     ]
    }
   ],
   "source": [
    "%timeit variance0(range(100000))"
   ]
  },
  {
   "cell_type": "code",
   "execution_count": 11,
   "metadata": {
    "collapsed": false
   },
   "outputs": [
    {
     "name": "stdout",
     "output_type": "stream",
     "text": [
      "10 loops, best of 3: 71.2 ms per loop\n"
     ]
    }
   ],
   "source": [
    "%timeit variance1(range(100000))"
   ]
  },
  {
   "cell_type": "markdown",
   "metadata": {},
   "source": [
    "We'd like to do this with just one pass over the data. Have a look at Welford's Method (1962):"
   ]
  },
  {
   "cell_type": "code",
   "execution_count": 12,
   "metadata": {
    "collapsed": true
   },
   "outputs": [],
   "source": [
    "def online_variance(data):\n",
    "    mean,M2= 0.,0.\n",
    "    for n,d in enumerate(data):\n",
    "        delta = d - mean\n",
    "        mean += delta/(n + 1)\n",
    "        M2 += delta*(d - mean)  \n",
    "    return M2/n"
   ]
  },
  {
   "cell_type": "code",
   "execution_count": 13,
   "metadata": {
    "collapsed": false
   },
   "outputs": [
    {
     "name": "stdout",
     "output_type": "stream",
     "text": [
      "10 loops, best of 3: 44.8 ms per loop\n"
     ]
    }
   ],
   "source": [
    "%timeit online_variance(range(100000))"
   ]
  },
  {
   "cell_type": "code",
   "execution_count": 15,
   "metadata": {
    "collapsed": false
   },
   "outputs": [
    {
     "data": {
      "text/plain": [
       "<module 'var' from '/Users/jbloom/Classes/python-seminar/Lectures/11_Cython/demos/profile/var.py'>"
      ]
     },
     "execution_count": 15,
     "metadata": {},
     "output_type": "execute_result"
    }
   ],
   "source": [
    "import var\n",
    "import importlib\n",
    "importlib.reload(var)"
   ]
  },
  {
   "cell_type": "code",
   "execution_count": 21,
   "metadata": {
    "collapsed": false
   },
   "outputs": [],
   "source": [
    "%lprun -f var.variance1 var.execute1()"
   ]
  },
  {
   "cell_type": "markdown",
   "metadata": {},
   "source": [
    "## Numba  ##\n",
    "\n",
    "LLVM compiler for python (brought to you by Continuum). In short: Python code can be converted to highly efficient compiled code in real-time. \n",
    "\n",
    "Should be on everyone's conda installation already. But you might want to update (it's been changed recently):\n",
    "\n",
    "   `conda update numba`\n",
    "\n",
    "Docs: http://numba.pydata.org/numba-doc/0.29.0/index.html"
   ]
  },
  {
   "cell_type": "code",
   "execution_count": 22,
   "metadata": {
    "collapsed": false
   },
   "outputs": [
    {
     "name": "stdout",
     "output_type": "stream",
     "text": [
      "Fetching package metadata .......\n",
      "Solving package specifications: ..........\n",
      "\n",
      "# All requested packages already installed.\n",
      "# packages in environment at /Users/jbloom/anaconda/envs/seminar:\n",
      "#\n",
      "numba                     0.29.0              np111py35_0  \n"
     ]
    }
   ],
   "source": [
    "!conda install numba -y"
   ]
  },
  {
   "cell_type": "code",
   "execution_count": 23,
   "metadata": {
    "collapsed": false
   },
   "outputs": [
    {
     "data": {
      "text/plain": [
       "'0.29.0'"
      ]
     },
     "execution_count": 23,
     "metadata": {},
     "output_type": "execute_result"
    }
   ],
   "source": [
    "import numba\n",
    "numba.__version__"
   ]
  },
  {
   "cell_type": "markdown",
   "metadata": {},
   "source": [
    "How compilers usually work:\n",
    "\n",
    "<img src=\"http://www.aosabook.org/images/llvm/SimpleCompiler.png\">\n",
    "\n",
    "How LLVM works:\n",
    "\n",
    "<img src=\"http://www.aosabook.org/images/llvm/RetargetableCompiler.png\">\n",
    "\n",
    "Credit: http://www.aosabook.org/en/llvm.html"
   ]
  },
  {
   "cell_type": "markdown",
   "metadata": {},
   "source": [
    "(Via http://nbviewer.ipython.org/urls/raw.github.com/aterrel/HPCPythonSC2012/master/02_Speeding_Python.ipynb)"
   ]
  },
  {
   "cell_type": "code",
   "execution_count": 24,
   "metadata": {
    "collapsed": false
   },
   "outputs": [
    {
     "name": "stdout",
     "output_type": "stream",
     "text": [
      "array(int32, 1d, A)\n",
      "array(float32, 2d, A)\n",
      "array(int32, 4d, A)\n"
     ]
    }
   ],
   "source": [
    "from numba import int32, float32\n",
    "print(int32[:])           # 1D int32 array\n",
    "print(float32[:,:])       # 2D float32 array\n",
    "print(int32[:,:,:,:])     # 4D int32 array"
   ]
  },
  {
   "cell_type": "markdown",
   "metadata": {},
   "source": [
    "Function types are created from \"calling\" a Numba type object."
   ]
  },
  {
   "cell_type": "code",
   "execution_count": 25,
   "metadata": {
    "collapsed": false
   },
   "outputs": [
    {
     "name": "stdout",
     "output_type": "stream",
     "text": [
      "(int32, float32, complex64) -> complex64\n",
      "() -> float32\n",
      "(float32,) -> none\n",
      "(array(float32, 1d, A), array(int32, 1d, A)) -> none\n"
     ]
    }
   ],
   "source": [
    "from numba import void, int32, float32, complex64\n",
    "print(complex64(int32, float32, complex64))\n",
    "print(float32())                             # no arguments\n",
    "print(void(float32))                         # return nothing\n",
    "print(void(float32[:], int32[:]))"
   ]
  },
  {
   "cell_type": "markdown",
   "metadata": {},
   "source": [
    "The `@jit` decorator returns a compiled version of the function using the input types and the output types of the function. You can specify the type using out_type(in_type, ...) syntax. Array inputs can be specified using `[:,:]` appended to the type."
   ]
  },
  {
   "cell_type": "code",
   "execution_count": 41,
   "metadata": {
    "collapsed": false,
    "scrolled": true
   },
   "outputs": [
    {
     "name": "stdout",
     "output_type": "stream",
     "text": [
      "CPUDispatcher(<function foo at 0x106c6eb70>)\n",
      "(1+6j)\n"
     ]
    }
   ],
   "source": [
    "from numba import jit, int32, float32, complex64, autojit\n",
    "\n",
    "@jit(complex64(int32, float32, complex64))\n",
    "def bar(a, b, c):\n",
    "   return a + b  * c\n",
    "\n",
    "@jit(complex64(int32, float32, complex64))\n",
    "def foo(a, b, c):\n",
    "   return a + b  * c\n",
    "\n",
    "print(foo)\n",
    "print(foo(1, 2.0, 3.0j))"
   ]
  },
  {
   "cell_type": "code",
   "execution_count": 37,
   "metadata": {
    "collapsed": false
   },
   "outputs": [
    {
     "data": {
      "text/plain": [
       "(2+0j)"
      ]
     },
     "execution_count": 37,
     "metadata": {},
     "output_type": "execute_result"
    }
   ],
   "source": [
    "import math\n",
    "a = math.sqrt((1+2j).real**2 + (1+2j).imag**2)\n",
    "\n",
    "foo(2,a,0j)"
   ]
  },
  {
   "cell_type": "code",
   "execution_count": 38,
   "metadata": {
    "collapsed": true
   },
   "outputs": [],
   "source": [
    "import math\n",
    "\n",
    "@jit\n",
    "def square(x):\n",
    "    return x ** 2\n",
    "\n",
    "@jit\n",
    "def hypot(x, y):\n",
    "    return math.sqrt(square(x) + square(y))"
   ]
  },
  {
   "cell_type": "code",
   "execution_count": 39,
   "metadata": {
    "collapsed": false
   },
   "outputs": [
    {
     "data": {
      "text/plain": [
       "6.4031242374328485"
      ]
     },
     "execution_count": 39,
     "metadata": {},
     "output_type": "execute_result"
    }
   ],
   "source": [
    "hypot(4,5)"
   ]
  },
  {
   "cell_type": "markdown",
   "metadata": {},
   "source": [
    "The `@autojit` decorator does not require you to specify any types. It watches for what types you call the function with and infers the type of the return. If there is a previously compiled version of the code available it uses it, if not it generates machine code for the function and then executes that code."
   ]
  },
  {
   "cell_type": "code",
   "execution_count": 44,
   "metadata": {
    "collapsed": false
   },
   "outputs": [
    {
     "name": "stdout",
     "output_type": "stream",
     "text": [
      "ab\n",
      "(2+0j)\n"
     ]
    }
   ],
   "source": [
    "@autojit\n",
    "def f2(x,y):\n",
    "    return x + y\n",
    "\n",
    "print(f2(\"a\",\"b\"))\n",
    "print(f2(1,1+0j))"
   ]
  },
  {
   "cell_type": "code",
   "execution_count": 45,
   "metadata": {
    "collapsed": false
   },
   "outputs": [],
   "source": [
    "from numba import autojit\n",
    "\n",
    "@autojit\n",
    "def n_variance(data):\n",
    "    sample_mean = 0.0\n",
    "    \n",
    "    # 1st loop\n",
    "    for x in data:\n",
    "        sample_mean =  sample_mean + float(x)\n",
    "    \n",
    "    sample_mean = sample_mean / len(data)\n",
    "    \n",
    "    # second loop\n",
    "    sum_of_squared_errors = 0.0\n",
    "    for x in data:\n",
    "        sum_of_squared_errors += (float(x) - sample_mean) ** 2\n",
    "    \n",
    "    ret =  sum_of_squared_errors / (float(len(data)) - 1.0)\n",
    "    return ret"
   ]
  },
  {
   "cell_type": "code",
   "execution_count": 47,
   "metadata": {
    "collapsed": false
   },
   "outputs": [
    {
     "name": "stdout",
     "output_type": "stream",
     "text": [
      "100 loops, best of 3: 4.78 ms per loop\n"
     ]
    }
   ],
   "source": [
    "%timeit n_variance(list(range(100000)))"
   ]
  },
  {
   "cell_type": "code",
   "execution_count": 48,
   "metadata": {
    "collapsed": true
   },
   "outputs": [],
   "source": [
    "n_ovariance = autojit(online_variance)"
   ]
  },
  {
   "cell_type": "code",
   "execution_count": 49,
   "metadata": {
    "collapsed": false
   },
   "outputs": [
    {
     "name": "stdout",
     "output_type": "stream",
     "text": [
      "The slowest run took 23.31 times longer than the fastest. This could mean that an intermediate result is being cached.\n",
      "100 loops, best of 3: 6.59 ms per loop\n"
     ]
    }
   ],
   "source": [
    "%timeit n_ovariance(list(range(100000)))"
   ]
  },
  {
   "cell_type": "markdown",
   "metadata": {},
   "source": [
    "List comprehension and other fancy Python tricks are not supported yet in numba"
   ]
  },
  {
   "cell_type": "code",
   "execution_count": 50,
   "metadata": {
    "collapsed": false
   },
   "outputs": [
    {
     "ename": "AttributeError",
     "evalue": "Failed at object (analyzing bytecode)\n'DataFlowAnalysis' object has no attribute 'op_STORE_DEREF'",
     "output_type": "error",
     "traceback": [
      "\u001b[0;31m---------------------------------------------------------------------------\u001b[0m",
      "\u001b[0;31mAttributeError\u001b[0m                            Traceback (most recent call last)",
      "\u001b[0;32m<ipython-input-50-57872fa13af1>\u001b[0m in \u001b[0;36m<module>\u001b[0;34m()\u001b[0m\n\u001b[1;32m      1\u001b[0m \u001b[0mn_variance0\u001b[0m \u001b[0;34m=\u001b[0m \u001b[0mautojit\u001b[0m\u001b[0;34m(\u001b[0m\u001b[0mvariance0\u001b[0m\u001b[0;34m)\u001b[0m\u001b[0;34m\u001b[0m\u001b[0m\n\u001b[0;32m----> 2\u001b[0;31m \u001b[0mn_variance0\u001b[0m\u001b[0;34m(\u001b[0m\u001b[0mlist\u001b[0m\u001b[0;34m(\u001b[0m\u001b[0mrange\u001b[0m\u001b[0;34m(\u001b[0m\u001b[0;36m1000\u001b[0m\u001b[0;34m)\u001b[0m\u001b[0;34m)\u001b[0m\u001b[0;34m)\u001b[0m\u001b[0;34m\u001b[0m\u001b[0m\n\u001b[0m",
      "\u001b[0;32m/Users/jbloom/anaconda/envs/seminar/lib/python3.5/site-packages/numba/dispatcher.py\u001b[0m in \u001b[0;36m_compile_for_args\u001b[0;34m(self, *args, **kws)\u001b[0m\n\u001b[1;32m    284\u001b[0m                 \u001b[0margtypes\u001b[0m\u001b[0;34m.\u001b[0m\u001b[0mappend\u001b[0m\u001b[0;34m(\u001b[0m\u001b[0mself\u001b[0m\u001b[0;34m.\u001b[0m\u001b[0mtypeof_pyval\u001b[0m\u001b[0;34m(\u001b[0m\u001b[0ma\u001b[0m\u001b[0;34m)\u001b[0m\u001b[0;34m)\u001b[0m\u001b[0;34m\u001b[0m\u001b[0m\n\u001b[1;32m    285\u001b[0m         \u001b[0;32mtry\u001b[0m\u001b[0;34m:\u001b[0m\u001b[0;34m\u001b[0m\u001b[0m\n\u001b[0;32m--> 286\u001b[0;31m             \u001b[0;32mreturn\u001b[0m \u001b[0mself\u001b[0m\u001b[0;34m.\u001b[0m\u001b[0mcompile\u001b[0m\u001b[0;34m(\u001b[0m\u001b[0mtuple\u001b[0m\u001b[0;34m(\u001b[0m\u001b[0margtypes\u001b[0m\u001b[0;34m)\u001b[0m\u001b[0;34m)\u001b[0m\u001b[0;34m\u001b[0m\u001b[0m\n\u001b[0m\u001b[1;32m    287\u001b[0m         \u001b[0;32mexcept\u001b[0m \u001b[0merrors\u001b[0m\u001b[0;34m.\u001b[0m\u001b[0mTypingError\u001b[0m \u001b[0;32mas\u001b[0m \u001b[0me\u001b[0m\u001b[0;34m:\u001b[0m\u001b[0;34m\u001b[0m\u001b[0m\n\u001b[1;32m    288\u001b[0m             \u001b[0;31m# Intercept typing error that may be due to an argument\u001b[0m\u001b[0;34m\u001b[0m\u001b[0;34m\u001b[0m\u001b[0m\n",
      "\u001b[0;32m/Users/jbloom/anaconda/envs/seminar/lib/python3.5/site-packages/numba/dispatcher.py\u001b[0m in \u001b[0;36mcompile\u001b[0;34m(self, sig)\u001b[0m\n\u001b[1;32m    530\u001b[0m \u001b[0;34m\u001b[0m\u001b[0m\n\u001b[1;32m    531\u001b[0m             \u001b[0mself\u001b[0m\u001b[0;34m.\u001b[0m\u001b[0m_cache_misses\u001b[0m\u001b[0;34m[\u001b[0m\u001b[0msig\u001b[0m\u001b[0;34m]\u001b[0m \u001b[0;34m+=\u001b[0m \u001b[0;36m1\u001b[0m\u001b[0;34m\u001b[0m\u001b[0m\n\u001b[0;32m--> 532\u001b[0;31m             \u001b[0mcres\u001b[0m \u001b[0;34m=\u001b[0m \u001b[0mself\u001b[0m\u001b[0;34m.\u001b[0m\u001b[0m_compiler\u001b[0m\u001b[0;34m.\u001b[0m\u001b[0mcompile\u001b[0m\u001b[0;34m(\u001b[0m\u001b[0margs\u001b[0m\u001b[0;34m,\u001b[0m \u001b[0mreturn_type\u001b[0m\u001b[0;34m)\u001b[0m\u001b[0;34m\u001b[0m\u001b[0m\n\u001b[0m\u001b[1;32m    533\u001b[0m             \u001b[0mself\u001b[0m\u001b[0;34m.\u001b[0m\u001b[0madd_overload\u001b[0m\u001b[0;34m(\u001b[0m\u001b[0mcres\u001b[0m\u001b[0;34m)\u001b[0m\u001b[0;34m\u001b[0m\u001b[0m\n\u001b[1;32m    534\u001b[0m             \u001b[0mself\u001b[0m\u001b[0;34m.\u001b[0m\u001b[0m_cache\u001b[0m\u001b[0;34m.\u001b[0m\u001b[0msave_overload\u001b[0m\u001b[0;34m(\u001b[0m\u001b[0msig\u001b[0m\u001b[0;34m,\u001b[0m \u001b[0mcres\u001b[0m\u001b[0;34m)\u001b[0m\u001b[0;34m\u001b[0m\u001b[0m\n",
      "\u001b[0;32m/Users/jbloom/anaconda/envs/seminar/lib/python3.5/site-packages/numba/dispatcher.py\u001b[0m in \u001b[0;36mcompile\u001b[0;34m(self, args, return_type)\u001b[0m\n\u001b[1;32m     79\u001b[0m                                       \u001b[0mimpl\u001b[0m\u001b[0;34m,\u001b[0m\u001b[0;34m\u001b[0m\u001b[0m\n\u001b[1;32m     80\u001b[0m                                       \u001b[0margs\u001b[0m\u001b[0;34m=\u001b[0m\u001b[0margs\u001b[0m\u001b[0;34m,\u001b[0m \u001b[0mreturn_type\u001b[0m\u001b[0;34m=\u001b[0m\u001b[0mreturn_type\u001b[0m\u001b[0;34m,\u001b[0m\u001b[0;34m\u001b[0m\u001b[0m\n\u001b[0;32m---> 81\u001b[0;31m                                       flags=flags, locals=self.locals)\n\u001b[0m\u001b[1;32m     82\u001b[0m         \u001b[0;31m# Check typing error if object mode is used\u001b[0m\u001b[0;34m\u001b[0m\u001b[0;34m\u001b[0m\u001b[0m\n\u001b[1;32m     83\u001b[0m         \u001b[0;32mif\u001b[0m \u001b[0mcres\u001b[0m\u001b[0;34m.\u001b[0m\u001b[0mtyping_error\u001b[0m \u001b[0;32mis\u001b[0m \u001b[0;32mnot\u001b[0m \u001b[0;32mNone\u001b[0m \u001b[0;32mand\u001b[0m \u001b[0;32mnot\u001b[0m \u001b[0mflags\u001b[0m\u001b[0;34m.\u001b[0m\u001b[0menable_pyobject\u001b[0m\u001b[0;34m:\u001b[0m\u001b[0;34m\u001b[0m\u001b[0m\n",
      "\u001b[0;32m/Users/jbloom/anaconda/envs/seminar/lib/python3.5/site-packages/numba/compiler.py\u001b[0m in \u001b[0;36mcompile_extra\u001b[0;34m(typingctx, targetctx, func, args, return_type, flags, locals, library)\u001b[0m\n\u001b[1;32m    682\u001b[0m     pipeline = Pipeline(typingctx, targetctx, library,\n\u001b[1;32m    683\u001b[0m                         args, return_type, flags, locals)\n\u001b[0;32m--> 684\u001b[0;31m     \u001b[0;32mreturn\u001b[0m \u001b[0mpipeline\u001b[0m\u001b[0;34m.\u001b[0m\u001b[0mcompile_extra\u001b[0m\u001b[0;34m(\u001b[0m\u001b[0mfunc\u001b[0m\u001b[0;34m)\u001b[0m\u001b[0;34m\u001b[0m\u001b[0m\n\u001b[0m\u001b[1;32m    685\u001b[0m \u001b[0;34m\u001b[0m\u001b[0m\n\u001b[1;32m    686\u001b[0m \u001b[0;34m\u001b[0m\u001b[0m\n",
      "\u001b[0;32m/Users/jbloom/anaconda/envs/seminar/lib/python3.5/site-packages/numba/compiler.py\u001b[0m in \u001b[0;36mcompile_extra\u001b[0;34m(self, func)\u001b[0m\n\u001b[1;32m    346\u001b[0m         \u001b[0mself\u001b[0m\u001b[0;34m.\u001b[0m\u001b[0mlifted\u001b[0m \u001b[0;34m=\u001b[0m \u001b[0;34m(\u001b[0m\u001b[0;34m)\u001b[0m\u001b[0;34m\u001b[0m\u001b[0m\n\u001b[1;32m    347\u001b[0m         \u001b[0mself\u001b[0m\u001b[0;34m.\u001b[0m\u001b[0mlifted_from\u001b[0m \u001b[0;34m=\u001b[0m \u001b[0;32mNone\u001b[0m\u001b[0;34m\u001b[0m\u001b[0m\n\u001b[0;32m--> 348\u001b[0;31m         \u001b[0;32mreturn\u001b[0m \u001b[0mself\u001b[0m\u001b[0;34m.\u001b[0m\u001b[0m_compile_bytecode\u001b[0m\u001b[0;34m(\u001b[0m\u001b[0;34m)\u001b[0m\u001b[0;34m\u001b[0m\u001b[0m\n\u001b[0m\u001b[1;32m    349\u001b[0m \u001b[0;34m\u001b[0m\u001b[0m\n\u001b[1;32m    350\u001b[0m     \u001b[0;32mdef\u001b[0m \u001b[0mcompile_ir\u001b[0m\u001b[0;34m(\u001b[0m\u001b[0mself\u001b[0m\u001b[0;34m,\u001b[0m \u001b[0mfunc_ir\u001b[0m\u001b[0;34m,\u001b[0m \u001b[0mlifted\u001b[0m\u001b[0;34m=\u001b[0m\u001b[0;34m(\u001b[0m\u001b[0;34m)\u001b[0m\u001b[0;34m,\u001b[0m \u001b[0mlifted_from\u001b[0m\u001b[0;34m=\u001b[0m\u001b[0;32mNone\u001b[0m\u001b[0;34m)\u001b[0m\u001b[0;34m:\u001b[0m\u001b[0;34m\u001b[0m\u001b[0m\n",
      "\u001b[0;32m/Users/jbloom/anaconda/envs/seminar/lib/python3.5/site-packages/numba/compiler.py\u001b[0m in \u001b[0;36m_compile_bytecode\u001b[0;34m(self)\u001b[0m\n\u001b[1;32m    647\u001b[0m         \"\"\"\n\u001b[1;32m    648\u001b[0m         \u001b[0;32massert\u001b[0m \u001b[0mself\u001b[0m\u001b[0;34m.\u001b[0m\u001b[0mfunc_ir\u001b[0m \u001b[0;32mis\u001b[0m \u001b[0;32mNone\u001b[0m\u001b[0;34m\u001b[0m\u001b[0m\n\u001b[0;32m--> 649\u001b[0;31m         \u001b[0;32mreturn\u001b[0m \u001b[0mself\u001b[0m\u001b[0;34m.\u001b[0m\u001b[0m_compile_core\u001b[0m\u001b[0;34m(\u001b[0m\u001b[0;34m)\u001b[0m\u001b[0;34m\u001b[0m\u001b[0m\n\u001b[0m\u001b[1;32m    650\u001b[0m \u001b[0;34m\u001b[0m\u001b[0m\n\u001b[1;32m    651\u001b[0m     \u001b[0;32mdef\u001b[0m \u001b[0m_compile_ir\u001b[0m\u001b[0;34m(\u001b[0m\u001b[0mself\u001b[0m\u001b[0;34m)\u001b[0m\u001b[0;34m:\u001b[0m\u001b[0;34m\u001b[0m\u001b[0m\n",
      "\u001b[0;32m/Users/jbloom/anaconda/envs/seminar/lib/python3.5/site-packages/numba/compiler.py\u001b[0m in \u001b[0;36m_compile_core\u001b[0;34m(self)\u001b[0m\n\u001b[1;32m    634\u001b[0m \u001b[0;34m\u001b[0m\u001b[0m\n\u001b[1;32m    635\u001b[0m         \u001b[0mpm\u001b[0m\u001b[0;34m.\u001b[0m\u001b[0mfinalize\u001b[0m\u001b[0;34m(\u001b[0m\u001b[0;34m)\u001b[0m\u001b[0;34m\u001b[0m\u001b[0m\n\u001b[0;32m--> 636\u001b[0;31m         \u001b[0mres\u001b[0m \u001b[0;34m=\u001b[0m \u001b[0mpm\u001b[0m\u001b[0;34m.\u001b[0m\u001b[0mrun\u001b[0m\u001b[0;34m(\u001b[0m\u001b[0mself\u001b[0m\u001b[0;34m.\u001b[0m\u001b[0mstatus\u001b[0m\u001b[0;34m)\u001b[0m\u001b[0;34m\u001b[0m\u001b[0m\n\u001b[0m\u001b[1;32m    637\u001b[0m         \u001b[0;32mif\u001b[0m \u001b[0mres\u001b[0m \u001b[0;32mis\u001b[0m \u001b[0;32mnot\u001b[0m \u001b[0;32mNone\u001b[0m\u001b[0;34m:\u001b[0m\u001b[0;34m\u001b[0m\u001b[0m\n\u001b[1;32m    638\u001b[0m             \u001b[0;31m# Early pipeline completion\u001b[0m\u001b[0;34m\u001b[0m\u001b[0;34m\u001b[0m\u001b[0m\n",
      "\u001b[0;32m/Users/jbloom/anaconda/envs/seminar/lib/python3.5/site-packages/numba/compiler.py\u001b[0m in \u001b[0;36mrun\u001b[0;34m(self, status)\u001b[0m\n\u001b[1;32m    233\u001b[0m                     \u001b[0;31m# No more fallback pipelines?\u001b[0m\u001b[0;34m\u001b[0m\u001b[0;34m\u001b[0m\u001b[0m\n\u001b[1;32m    234\u001b[0m                     \u001b[0;32mif\u001b[0m \u001b[0mis_final_pipeline\u001b[0m\u001b[0;34m:\u001b[0m\u001b[0;34m\u001b[0m\u001b[0m\n\u001b[0;32m--> 235\u001b[0;31m                         \u001b[0;32mraise\u001b[0m \u001b[0mpatched_exception\u001b[0m\u001b[0;34m\u001b[0m\u001b[0m\n\u001b[0m\u001b[1;32m    236\u001b[0m                     \u001b[0;31m# Go to next fallback pipeline\u001b[0m\u001b[0;34m\u001b[0m\u001b[0;34m\u001b[0m\u001b[0m\n\u001b[1;32m    237\u001b[0m                     \u001b[0;32melse\u001b[0m\u001b[0;34m:\u001b[0m\u001b[0;34m\u001b[0m\u001b[0m\n",
      "\u001b[0;32m/Users/jbloom/anaconda/envs/seminar/lib/python3.5/site-packages/numba/compiler.py\u001b[0m in \u001b[0;36mrun\u001b[0;34m(self, status)\u001b[0m\n\u001b[1;32m    225\u001b[0m                 \u001b[0;32mtry\u001b[0m\u001b[0;34m:\u001b[0m\u001b[0;34m\u001b[0m\u001b[0m\n\u001b[1;32m    226\u001b[0m                     \u001b[0mevent\u001b[0m\u001b[0;34m(\u001b[0m\u001b[0mstage_name\u001b[0m\u001b[0;34m)\u001b[0m\u001b[0;34m\u001b[0m\u001b[0m\n\u001b[0;32m--> 227\u001b[0;31m                     \u001b[0mstage\u001b[0m\u001b[0;34m(\u001b[0m\u001b[0;34m)\u001b[0m\u001b[0;34m\u001b[0m\u001b[0m\n\u001b[0m\u001b[1;32m    228\u001b[0m                 \u001b[0;32mexcept\u001b[0m \u001b[0m_EarlyPipelineCompletion\u001b[0m \u001b[0;32mas\u001b[0m \u001b[0me\u001b[0m\u001b[0;34m:\u001b[0m\u001b[0;34m\u001b[0m\u001b[0m\n\u001b[1;32m    229\u001b[0m                     \u001b[0;32mreturn\u001b[0m \u001b[0me\u001b[0m\u001b[0;34m.\u001b[0m\u001b[0mresult\u001b[0m\u001b[0;34m\u001b[0m\u001b[0m\n",
      "\u001b[0;32m/Users/jbloom/anaconda/envs/seminar/lib/python3.5/site-packages/numba/compiler.py\u001b[0m in \u001b[0;36mstage_analyze_bytecode\u001b[0;34m(self)\u001b[0m\n\u001b[1;32m    360\u001b[0m         \u001b[0mAnalyze\u001b[0m \u001b[0mbytecode\u001b[0m \u001b[0;32mand\u001b[0m \u001b[0mtranslating\u001b[0m \u001b[0mto\u001b[0m \u001b[0mNumba\u001b[0m \u001b[0mIR\u001b[0m\u001b[0;34m\u001b[0m\u001b[0m\n\u001b[1;32m    361\u001b[0m         \"\"\"\n\u001b[0;32m--> 362\u001b[0;31m         \u001b[0mfunc_ir\u001b[0m \u001b[0;34m=\u001b[0m \u001b[0mtranslate_stage\u001b[0m\u001b[0;34m(\u001b[0m\u001b[0mself\u001b[0m\u001b[0;34m.\u001b[0m\u001b[0mfunc_id\u001b[0m\u001b[0;34m,\u001b[0m \u001b[0mself\u001b[0m\u001b[0;34m.\u001b[0m\u001b[0mbc\u001b[0m\u001b[0;34m)\u001b[0m\u001b[0;34m\u001b[0m\u001b[0m\n\u001b[0m\u001b[1;32m    363\u001b[0m         \u001b[0mself\u001b[0m\u001b[0;34m.\u001b[0m\u001b[0m_set_and_check_ir\u001b[0m\u001b[0;34m(\u001b[0m\u001b[0mfunc_ir\u001b[0m\u001b[0;34m)\u001b[0m\u001b[0;34m\u001b[0m\u001b[0m\n\u001b[1;32m    364\u001b[0m \u001b[0;34m\u001b[0m\u001b[0m\n",
      "\u001b[0;32m/Users/jbloom/anaconda/envs/seminar/lib/python3.5/site-packages/numba/compiler.py\u001b[0m in \u001b[0;36mtranslate_stage\u001b[0;34m(func_id, bytecode)\u001b[0m\n\u001b[1;32m    745\u001b[0m \u001b[0;32mdef\u001b[0m \u001b[0mtranslate_stage\u001b[0m\u001b[0;34m(\u001b[0m\u001b[0mfunc_id\u001b[0m\u001b[0;34m,\u001b[0m \u001b[0mbytecode\u001b[0m\u001b[0;34m)\u001b[0m\u001b[0;34m:\u001b[0m\u001b[0;34m\u001b[0m\u001b[0m\n\u001b[1;32m    746\u001b[0m     \u001b[0minterp\u001b[0m \u001b[0;34m=\u001b[0m \u001b[0minterpreter\u001b[0m\u001b[0;34m.\u001b[0m\u001b[0mInterpreter\u001b[0m\u001b[0;34m(\u001b[0m\u001b[0mfunc_id\u001b[0m\u001b[0;34m)\u001b[0m\u001b[0;34m\u001b[0m\u001b[0m\n\u001b[0;32m--> 747\u001b[0;31m     \u001b[0;32mreturn\u001b[0m \u001b[0minterp\u001b[0m\u001b[0;34m.\u001b[0m\u001b[0minterpret\u001b[0m\u001b[0;34m(\u001b[0m\u001b[0mbytecode\u001b[0m\u001b[0;34m)\u001b[0m\u001b[0;34m\u001b[0m\u001b[0m\n\u001b[0m\u001b[1;32m    748\u001b[0m \u001b[0;34m\u001b[0m\u001b[0m\n\u001b[1;32m    749\u001b[0m \u001b[0;34m\u001b[0m\u001b[0m\n",
      "\u001b[0;32m/Users/jbloom/anaconda/envs/seminar/lib/python3.5/site-packages/numba/interpreter.py\u001b[0m in \u001b[0;36minterpret\u001b[0;34m(self, bytecode)\u001b[0m\n\u001b[1;32m     95\u001b[0m         \u001b[0;31m# Data flow analysis\u001b[0m\u001b[0;34m\u001b[0m\u001b[0;34m\u001b[0m\u001b[0m\n\u001b[1;32m     96\u001b[0m         \u001b[0mself\u001b[0m\u001b[0;34m.\u001b[0m\u001b[0mdfa\u001b[0m \u001b[0;34m=\u001b[0m \u001b[0mdataflow\u001b[0m\u001b[0;34m.\u001b[0m\u001b[0mDataFlowAnalysis\u001b[0m\u001b[0;34m(\u001b[0m\u001b[0mself\u001b[0m\u001b[0;34m.\u001b[0m\u001b[0mcfa\u001b[0m\u001b[0;34m)\u001b[0m\u001b[0;34m\u001b[0m\u001b[0m\n\u001b[0;32m---> 97\u001b[0;31m         \u001b[0mself\u001b[0m\u001b[0;34m.\u001b[0m\u001b[0mdfa\u001b[0m\u001b[0;34m.\u001b[0m\u001b[0mrun\u001b[0m\u001b[0;34m(\u001b[0m\u001b[0;34m)\u001b[0m\u001b[0;34m\u001b[0m\u001b[0m\n\u001b[0m\u001b[1;32m     98\u001b[0m \u001b[0;34m\u001b[0m\u001b[0m\n\u001b[1;32m     99\u001b[0m         \u001b[0;31m# Temp states during interpretation\u001b[0m\u001b[0;34m\u001b[0m\u001b[0;34m\u001b[0m\u001b[0m\n",
      "\u001b[0;32m/Users/jbloom/anaconda/envs/seminar/lib/python3.5/site-packages/numba/dataflow.py\u001b[0m in \u001b[0;36mrun\u001b[0;34m(self)\u001b[0m\n\u001b[1;32m     25\u001b[0m     \u001b[0;32mdef\u001b[0m \u001b[0mrun\u001b[0m\u001b[0;34m(\u001b[0m\u001b[0mself\u001b[0m\u001b[0;34m)\u001b[0m\u001b[0;34m:\u001b[0m\u001b[0;34m\u001b[0m\u001b[0m\n\u001b[1;32m     26\u001b[0m         \u001b[0;32mfor\u001b[0m \u001b[0mblk\u001b[0m \u001b[0;32min\u001b[0m \u001b[0mself\u001b[0m\u001b[0;34m.\u001b[0m\u001b[0mcfa\u001b[0m\u001b[0;34m.\u001b[0m\u001b[0miterliveblocks\u001b[0m\u001b[0;34m(\u001b[0m\u001b[0;34m)\u001b[0m\u001b[0;34m:\u001b[0m\u001b[0;34m\u001b[0m\u001b[0m\n\u001b[0;32m---> 27\u001b[0;31m             \u001b[0mself\u001b[0m\u001b[0;34m.\u001b[0m\u001b[0minfos\u001b[0m\u001b[0;34m[\u001b[0m\u001b[0mblk\u001b[0m\u001b[0;34m.\u001b[0m\u001b[0moffset\u001b[0m\u001b[0;34m]\u001b[0m \u001b[0;34m=\u001b[0m \u001b[0mself\u001b[0m\u001b[0;34m.\u001b[0m\u001b[0mrun_on_block\u001b[0m\u001b[0;34m(\u001b[0m\u001b[0mblk\u001b[0m\u001b[0;34m)\u001b[0m\u001b[0;34m\u001b[0m\u001b[0m\n\u001b[0m\u001b[1;32m     28\u001b[0m \u001b[0;34m\u001b[0m\u001b[0m\n\u001b[1;32m     29\u001b[0m     \u001b[0;32mdef\u001b[0m \u001b[0mrun_on_block\u001b[0m\u001b[0;34m(\u001b[0m\u001b[0mself\u001b[0m\u001b[0;34m,\u001b[0m \u001b[0mblk\u001b[0m\u001b[0;34m)\u001b[0m\u001b[0;34m:\u001b[0m\u001b[0;34m\u001b[0m\u001b[0m\n",
      "\u001b[0;32m/Users/jbloom/anaconda/envs/seminar/lib/python3.5/site-packages/numba/dataflow.py\u001b[0m in \u001b[0;36mrun_on_block\u001b[0;34m(self, blk)\u001b[0m\n\u001b[1;32m     69\u001b[0m         \u001b[0;32mfor\u001b[0m \u001b[0moffset\u001b[0m \u001b[0;32min\u001b[0m \u001b[0mblk\u001b[0m\u001b[0;34m:\u001b[0m\u001b[0;34m\u001b[0m\u001b[0m\n\u001b[1;32m     70\u001b[0m             \u001b[0minst\u001b[0m \u001b[0;34m=\u001b[0m \u001b[0mself\u001b[0m\u001b[0;34m.\u001b[0m\u001b[0mbytecode\u001b[0m\u001b[0;34m[\u001b[0m\u001b[0moffset\u001b[0m\u001b[0;34m]\u001b[0m\u001b[0;34m\u001b[0m\u001b[0m\n\u001b[0;32m---> 71\u001b[0;31m             \u001b[0mself\u001b[0m\u001b[0;34m.\u001b[0m\u001b[0mdispatch\u001b[0m\u001b[0;34m(\u001b[0m\u001b[0minfo\u001b[0m\u001b[0;34m,\u001b[0m \u001b[0minst\u001b[0m\u001b[0;34m)\u001b[0m\u001b[0;34m\u001b[0m\u001b[0m\n\u001b[0m\u001b[1;32m     72\u001b[0m         \u001b[0;32mreturn\u001b[0m \u001b[0minfo\u001b[0m\u001b[0;34m\u001b[0m\u001b[0m\n\u001b[1;32m     73\u001b[0m \u001b[0;34m\u001b[0m\u001b[0m\n",
      "\u001b[0;32m/Users/jbloom/anaconda/envs/seminar/lib/python3.5/site-packages/numba/dataflow.py\u001b[0m in \u001b[0;36mdispatch\u001b[0;34m(self, info, inst)\u001b[0m\n\u001b[1;32m     78\u001b[0m     \u001b[0;32mdef\u001b[0m \u001b[0mdispatch\u001b[0m\u001b[0;34m(\u001b[0m\u001b[0mself\u001b[0m\u001b[0;34m,\u001b[0m \u001b[0minfo\u001b[0m\u001b[0;34m,\u001b[0m \u001b[0minst\u001b[0m\u001b[0;34m)\u001b[0m\u001b[0;34m:\u001b[0m\u001b[0;34m\u001b[0m\u001b[0m\n\u001b[1;32m     79\u001b[0m         \u001b[0mfname\u001b[0m \u001b[0;34m=\u001b[0m \u001b[0;34m\"op_%s\"\u001b[0m \u001b[0;34m%\u001b[0m \u001b[0minst\u001b[0m\u001b[0;34m.\u001b[0m\u001b[0mopname\u001b[0m\u001b[0;34m.\u001b[0m\u001b[0mreplace\u001b[0m\u001b[0;34m(\u001b[0m\u001b[0;34m'+'\u001b[0m\u001b[0;34m,\u001b[0m \u001b[0;34m'_'\u001b[0m\u001b[0;34m)\u001b[0m\u001b[0;34m\u001b[0m\u001b[0m\n\u001b[0;32m---> 80\u001b[0;31m         \u001b[0mfn\u001b[0m \u001b[0;34m=\u001b[0m \u001b[0mgetattr\u001b[0m\u001b[0;34m(\u001b[0m\u001b[0mself\u001b[0m\u001b[0;34m,\u001b[0m \u001b[0mfname\u001b[0m\u001b[0;34m)\u001b[0m\u001b[0;34m\u001b[0m\u001b[0m\n\u001b[0m\u001b[1;32m     81\u001b[0m         \u001b[0mfn\u001b[0m\u001b[0;34m(\u001b[0m\u001b[0minfo\u001b[0m\u001b[0;34m,\u001b[0m \u001b[0minst\u001b[0m\u001b[0;34m)\u001b[0m\u001b[0;34m\u001b[0m\u001b[0m\n\u001b[1;32m     82\u001b[0m \u001b[0;34m\u001b[0m\u001b[0m\n",
      "\u001b[0;31mAttributeError\u001b[0m: Failed at object (analyzing bytecode)\n'DataFlowAnalysis' object has no attribute 'op_STORE_DEREF'"
     ]
    }
   ],
   "source": [
    "n_variance0 = autojit(variance0)\n",
    "n_variance0(list(range(1000)))"
   ]
  },
  {
   "cell_type": "code",
   "execution_count": 51,
   "metadata": {
    "collapsed": true
   },
   "outputs": [],
   "source": [
    "import numpy\n",
    "\n",
    "def filter2d(image, filt):\n",
    "    M, N = image.shape\n",
    "    Mf, Nf = filt.shape\n",
    "    Mf2 = Mf // 2\n",
    "    Nf2 = Nf // 2\n",
    "    result = numpy.zeros_like(image)\n",
    "    for i in range(Mf2, M - Mf2):\n",
    "        for j in range(Nf2, N - Nf2):\n",
    "            num = 0.0\n",
    "            for ii in range(Mf):\n",
    "                for jj in range(Nf):\n",
    "                    num += (filt[Mf-1-ii, Nf-1-jj] * image[i-Mf2+ii, j-Nf2+jj])\n",
    "            result[i, j] = num\n",
    "    return result"
   ]
  },
  {
   "cell_type": "markdown",
   "metadata": {},
   "source": [
    "That kind of quadruply-nested for-loop is going to be quite slow.\n",
    "Using Numba we can compile this code to LLVM which then gets\n",
    "compiled to machine code:"
   ]
  },
  {
   "cell_type": "code",
   "execution_count": 52,
   "metadata": {
    "collapsed": true
   },
   "outputs": [],
   "source": [
    "from numba import double, jit\n",
    "\n",
    "numbafilter_2d = jit(double[:,:](double[:,:], double[:,:]))(filter2d)\n",
    "\n",
    "# Now fastfilter_2d runs at speeds as if you had first translated\n",
    "# it to C, compiled the code and wrapped it with Python\n",
    "image = numpy.random.random((100, 100))\n",
    "filt = numpy.random.random((10, 10))\n",
    "res = numbafilter_2d(image, filt)"
   ]
  },
  {
   "cell_type": "code",
   "execution_count": 57,
   "metadata": {
    "collapsed": false
   },
   "outputs": [
    {
     "name": "stdout",
     "output_type": "stream",
     "text": [
      "1000 loops, best of 3: 1.82 ms per loop\n"
     ]
    }
   ],
   "source": [
    "%timeit numbafilter_2d(image, filt)"
   ]
  },
  {
   "cell_type": "code",
   "execution_count": 56,
   "metadata": {
    "collapsed": false
   },
   "outputs": [
    {
     "name": "stdout",
     "output_type": "stream",
     "text": [
      "1 loop, best of 3: 637 ms per loop\n"
     ]
    }
   ],
   "source": [
    "%timeit filter2d(image, filt)"
   ]
  },
  {
   "cell_type": "code",
   "execution_count": 53,
   "metadata": {
    "collapsed": true
   },
   "outputs": [],
   "source": [
    "%matplotlib inline\n",
    "import matplotlib.pyplot as plt"
   ]
  },
  {
   "cell_type": "code",
   "execution_count": null,
   "metadata": {
    "collapsed": false
   },
   "outputs": [],
   "source": [
    "plt.imshow(res)"
   ]
  },
  {
   "cell_type": "code",
   "execution_count": 55,
   "metadata": {
    "collapsed": false
   },
   "outputs": [
    {
     "data": {
      "text/plain": [
       "<matplotlib.image.AxesImage at 0x108af4a58>"
      ]
     },
     "execution_count": 55,
     "metadata": {},
     "output_type": "execute_result"
    },
    {
     "data": {
      "image/png": "[encoded data removed]",
      "text/plain": [
       "<matplotlib.figure.Figure at 0x10744dba8>"
      ]
     },
     "metadata": {},
     "output_type": "display_data"
    }
   ],
   "source": [
    "plt.imshow(image)"
   ]
  },
  {
   "cell_type": "markdown",
   "metadata": {},
   "source": [
    "Numba can also compile for GPUs. See http://numba.pydata.org/numba-doc/0.29.0/cuda/index.html"
   ]
  },
  {
   "cell_type": "markdown",
   "metadata": {},
   "source": [
    "<img src=\"http://pypy.org/image/pypy-logo.png\">\n",
    "\n",
    "Python interpreter and C/JIT compiler. See http://pypy.org/\n",
    "\n",
    "*“If you want your code to run faster, you should probably just use PyPy.”*\n",
    "   — Guido van Rossum (creator of Python)\n"
   ]
  },
  {
   "cell_type": "markdown",
   "metadata": {},
   "source": [
    "# Breakout\n",
    "\n",
    "a. Write a nested for loop that does elementwize array multiplication (on `A` and `B`) and prints the results. "
   ]
  },
  {
   "cell_type": "code",
   "execution_count": null,
   "metadata": {
    "collapsed": true
   },
   "outputs": [],
   "source": []
  },
  {
   "cell_type": "markdown",
   "metadata": {},
   "source": [
    "b. Get the runtime speed for A.shape = (30,50) and B.shape = (50,15)"
   ]
  },
  {
   "cell_type": "code",
   "execution_count": null,
   "metadata": {
    "collapsed": true
   },
   "outputs": [],
   "source": []
  },
  {
   "cell_type": "markdown",
   "metadata": {},
   "source": [
    "c. Try using numba to make it faster."
   ]
  },
  {
   "cell_type": "code",
   "execution_count": null,
   "metadata": {
    "collapsed": true
   },
   "outputs": [],
   "source": []
  },
  {
   "cell_type": "markdown",
   "metadata": {},
   "source": [
    "d. How does the numba speed compare to the native matrix multiplication in numpy (`numpy.dot`)?"
   ]
  },
  {
   "cell_type": "code",
   "execution_count": null,
   "metadata": {
    "collapsed": true
   },
   "outputs": [],
   "source": []
  },
  {
   "cell_type": "markdown",
   "metadata": {},
   "source": [
    "## Ctypes ##\n",
    "\n",
    "ctypes is a foreign function library for Python. It provides C compatible data types, and allows calling functions in DLLs or shared libraries. It can be used to wrap these libraries in pure Python.\n",
    "\n",
    "https://docs.python.org/3/library/ctypes.html"
   ]
  },
  {
   "cell_type": "code",
   "execution_count": 58,
   "metadata": {
    "collapsed": true
   },
   "outputs": [],
   "source": [
    "from ctypes import *"
   ]
  },
  {
   "cell_type": "code",
   "execution_count": 59,
   "metadata": {
    "collapsed": true
   },
   "outputs": [],
   "source": [
    "p = create_string_buffer(b\"Hello\", 10)  # create a 10 byte buffer"
   ]
  },
  {
   "cell_type": "code",
   "execution_count": 60,
   "metadata": {
    "collapsed": false
   },
   "outputs": [
    {
     "data": {
      "text/plain": [
       "<ctypes.c_char_Array_10 at 0x108b0ef28>"
      ]
     },
     "execution_count": 60,
     "metadata": {},
     "output_type": "execute_result"
    }
   ],
   "source": [
    "p"
   ]
  },
  {
   "cell_type": "code",
   "execution_count": 61,
   "metadata": {
    "collapsed": false
   },
   "outputs": [
    {
     "data": {
      "text/plain": [
       "b'Hello'"
      ]
     },
     "execution_count": 61,
     "metadata": {},
     "output_type": "execute_result"
    }
   ],
   "source": [
    "p.value"
   ]
  },
  {
   "cell_type": "code",
   "execution_count": 62,
   "metadata": {
    "collapsed": false
   },
   "outputs": [
    {
     "name": "stdout",
     "output_type": "stream",
     "text": [
      "10\n"
     ]
    },
    {
     "data": {
      "text/plain": [
       "\"b'Hello\\\\x00\\\\x00\\\\x00\\\\x00\\\\x00'\""
      ]
     },
     "execution_count": 62,
     "metadata": {},
     "output_type": "execute_result"
    }
   ],
   "source": [
    "print(sizeof(p)) ; repr(p.raw)"
   ]
  },
  {
   "cell_type": "code",
   "execution_count": 65,
   "metadata": {
    "collapsed": false
   },
   "outputs": [
    {
     "data": {
      "text/plain": [
       "\"b'Bye.\\\\x00\\\\x00\\\\x00\\\\x00\\\\x00\\\\x00'\""
      ]
     },
     "execution_count": 65,
     "metadata": {},
     "output_type": "execute_result"
    }
   ],
   "source": [
    "repr(p.raw)"
   ]
  },
  {
   "cell_type": "code",
   "execution_count": 64,
   "metadata": {
    "collapsed": true
   },
   "outputs": [],
   "source": [
    "p.value = b\"Bye.\""
   ]
  },
  {
   "cell_type": "code",
   "execution_count": 66,
   "metadata": {
    "collapsed": false
   },
   "outputs": [
    {
     "name": "stdout",
     "output_type": "stream",
     "text": [
      "10\n"
     ]
    },
    {
     "data": {
      "text/plain": [
       "\"b'Bye.\\\\x00\\\\x00\\\\x00\\\\x00\\\\x00\\\\x00'\""
      ]
     },
     "execution_count": 66,
     "metadata": {},
     "output_type": "execute_result"
    }
   ],
   "source": [
    "print(sizeof(p)) ; repr(p.raw)"
   ]
  },
  {
   "cell_type": "markdown",
   "metadata": {},
   "source": [
    "<table border=\"1\" class=\"docutils\">\n",
    "<colgroup>\n",
    "<col width=\"24%\" />\n",
    "<col width=\"46%\" />\n",
    "<col width=\"30%\" />\n",
    "</colgroup>\n",
    "<thead valign=\"bottom\">\n",
    "<tr><th class=\"head\">ctypes type</th>\n",
    "<th class=\"head\">C type</th>\n",
    "<th class=\"head\">Python type</th>\n",
    "</tr>\n",
    "</thead>\n",
    "<tbody valign=\"top\">\n",
    "<tr><td><a class=\"reference internal\" href=\"#ctypes.c_bool\" title=\"ctypes.c_bool\"><tt class=\"xref py py-class docutils literal\"><span class=\"pre\">c_bool</span></tt></a></td>\n",
    "<td><tt class=\"xref c c-type docutils literal\"><span class=\"pre\">_Bool</span></tt></td>\n",
    "<td>bool (1)</td>\n",
    "</tr>\n",
    "<tr><td><a class=\"reference internal\" href=\"#ctypes.c_char\" title=\"ctypes.c_char\"><tt class=\"xref py py-class docutils literal\"><span class=\"pre\">c_char</span></tt></a></td>\n",
    "<td><tt class=\"xref c c-type docutils literal\"><span class=\"pre\">char</span></tt></td>\n",
    "<td>1-character string</td>\n",
    "</tr>\n",
    "<tr><td><a class=\"reference internal\" href=\"#ctypes.c_wchar\" title=\"ctypes.c_wchar\"><tt class=\"xref py py-class docutils literal\"><span class=\"pre\">c_wchar</span></tt></a></td>\n",
    "<td><tt class=\"xref c c-type docutils literal\"><span class=\"pre\">wchar_t</span></tt></td>\n",
    "<td>1-character unicode string</td>\n",
    "</tr>\n",
    "<tr><td><a class=\"reference internal\" href=\"#ctypes.c_byte\" title=\"ctypes.c_byte\"><tt class=\"xref py py-class docutils literal\"><span class=\"pre\">c_byte</span></tt></a></td>\n",
    "<td><tt class=\"xref c c-type docutils literal\"><span class=\"pre\">char</span></tt></td>\n",
    "<td>int/long</td>\n",
    "</tr>\n",
    "<tr><td><a class=\"reference internal\" href=\"#ctypes.c_ubyte\" title=\"ctypes.c_ubyte\"><tt class=\"xref py py-class docutils literal\"><span class=\"pre\">c_ubyte</span></tt></a></td>\n",
    "<td><tt class=\"xref c c-type docutils literal\"><span class=\"pre\">unsigned</span> <span class=\"pre\">char</span></tt></td>\n",
    "<td>int/long</td>\n",
    "</tr>\n",
    "<tr><td><a class=\"reference internal\" href=\"#ctypes.c_short\" title=\"ctypes.c_short\"><tt class=\"xref py py-class docutils literal\"><span class=\"pre\">c_short</span></tt></a></td>\n",
    "<td><tt class=\"xref c c-type docutils literal\"><span class=\"pre\">short</span></tt></td>\n",
    "<td>int/long</td>\n",
    "</tr>\n",
    "<tr><td><a class=\"reference internal\" href=\"#ctypes.c_ushort\" title=\"ctypes.c_ushort\"><tt class=\"xref py py-class docutils literal\"><span class=\"pre\">c_ushort</span></tt></a></td>\n",
    "<td><tt class=\"xref c c-type docutils literal\"><span class=\"pre\">unsigned</span> <span class=\"pre\">short</span></tt></td>\n",
    "<td>int/long</td>\n",
    "</tr>\n",
    "<tr><td><a class=\"reference internal\" href=\"#ctypes.c_int\" title=\"ctypes.c_int\"><tt class=\"xref py py-class docutils literal\"><span class=\"pre\">c_int</span></tt></a></td>\n",
    "<td><tt class=\"xref c c-type docutils literal\"><span class=\"pre\">int</span></tt></td>\n",
    "<td>int/long</td>\n",
    "</tr>\n",
    "<tr><td><a class=\"reference internal\" href=\"#ctypes.c_uint\" title=\"ctypes.c_uint\"><tt class=\"xref py py-class docutils literal\"><span class=\"pre\">c_uint</span></tt></a></td>\n",
    "<td><tt class=\"xref c c-type docutils literal\"><span class=\"pre\">unsigned</span> <span class=\"pre\">int</span></tt></td>\n",
    "<td>int/long</td>\n",
    "</tr>\n",
    "<tr><td><a class=\"reference internal\" href=\"#ctypes.c_long\" title=\"ctypes.c_long\"><tt class=\"xref py py-class docutils literal\"><span class=\"pre\">c_long</span></tt></a></td>\n",
    "<td><tt class=\"xref c c-type docutils literal\"><span class=\"pre\">long</span></tt></td>\n",
    "<td>int/long</td>\n",
    "</tr>\n",
    "<tr><td><a class=\"reference internal\" href=\"#ctypes.c_ulong\" title=\"ctypes.c_ulong\"><tt class=\"xref py py-class docutils literal\"><span class=\"pre\">c_ulong</span></tt></a></td>\n",
    "<td><tt class=\"xref c c-type docutils literal\"><span class=\"pre\">unsigned</span> <span class=\"pre\">long</span></tt></td>\n",
    "<td>int/long</td>\n",
    "</tr>\n",
    "<tr><td><a class=\"reference internal\" href=\"#ctypes.c_longlong\" title=\"ctypes.c_longlong\"><tt class=\"xref py py-class docutils literal\"><span class=\"pre\">c_longlong</span></tt></a></td>\n",
    "<td><tt class=\"xref c c-type docutils literal\"><span class=\"pre\">__int64</span></tt> or <tt class=\"xref c c-type docutils literal\"><span class=\"pre\">long</span> <span class=\"pre\">long</span></tt></td>\n",
    "<td>int/long</td>\n",
    "</tr>\n",
    "<tr><td><a class=\"reference internal\" href=\"#ctypes.c_ulonglong\" title=\"ctypes.c_ulonglong\"><tt class=\"xref py py-class docutils literal\"><span class=\"pre\">c_ulonglong</span></tt></a></td>\n",
    "<td><tt class=\"xref c c-type docutils literal\"><span class=\"pre\">unsigned</span> <span class=\"pre\">__int64</span></tt> or\n",
    "<tt class=\"xref c c-type docutils literal\"><span class=\"pre\">unsigned</span> <span class=\"pre\">long</span> <span class=\"pre\">long</span></tt></td>\n",
    "<td>int/long</td>\n",
    "</tr>\n",
    "<tr><td><a class=\"reference internal\" href=\"#ctypes.c_float\" title=\"ctypes.c_float\"><tt class=\"xref py py-class docutils literal\"><span class=\"pre\">c_float</span></tt></a></td>\n",
    "<td><tt class=\"xref c c-type docutils literal\"><span class=\"pre\">float</span></tt></td>\n",
    "<td>float</td>\n",
    "</tr>\n",
    "<tr><td><a class=\"reference internal\" href=\"#ctypes.c_double\" title=\"ctypes.c_double\"><tt class=\"xref py py-class docutils literal\"><span class=\"pre\">c_double</span></tt></a></td>\n",
    "<td><tt class=\"xref c c-type docutils literal\"><span class=\"pre\">double</span></tt></td>\n",
    "<td>float</td>\n",
    "</tr>\n",
    "<tr><td><a class=\"reference internal\" href=\"#ctypes.c_longdouble\" title=\"ctypes.c_longdouble\"><tt class=\"xref py py-class docutils literal\"><span class=\"pre\">c_longdouble</span></tt></a></td>\n",
    "<td><tt class=\"xref c c-type docutils literal\"><span class=\"pre\">long</span> <span class=\"pre\">double</span></tt></td>\n",
    "<td>float</td>\n",
    "</tr>\n",
    "<tr><td><a class=\"reference internal\" href=\"#ctypes.c_char_p\" title=\"ctypes.c_char_p\"><tt class=\"xref py py-class docutils literal\"><span class=\"pre\">c_char_p</span></tt></a></td>\n",
    "<td><tt class=\"xref c c-type docutils literal\"><span class=\"pre\">char</span> <span class=\"pre\">*</span></tt> (NUL terminated)</td>\n",
    "<td>string or <tt class=\"xref docutils literal\"><span class=\"pre\">None</span></tt></td>\n",
    "</tr>\n",
    "<tr><td><a class=\"reference internal\" href=\"#ctypes.c_wchar_p\" title=\"ctypes.c_wchar_p\"><tt class=\"xref py py-class docutils literal\"><span class=\"pre\">c_wchar_p</span></tt></a></td>\n",
    "<td><tt class=\"xref c c-type docutils literal\"><span class=\"pre\">wchar_t</span> <span class=\"pre\">*</span></tt> (NUL terminated)</td>\n",
    "<td>unicode or <tt class=\"xref docutils literal\"><span class=\"pre\">None</span></tt></td>\n",
    "</tr>\n",
    "<tr><td><a class=\"reference internal\" href=\"#ctypes.c_void_p\" title=\"ctypes.c_void_p\"><tt class=\"xref py py-class docutils literal\"><span class=\"pre\">c_void_p</span></tt></a></td>\n",
    "<td><tt class=\"xref c c-type docutils literal\"><span class=\"pre\">void</span> <span class=\"pre\">*</span></tt></td>\n",
    "<td>int/long or <tt class=\"xref docutils literal\"><span class=\"pre\">None</span></tt></td>\n",
    "</tr>\n",
    "</tbody>\n",
    "</table>"
   ]
  },
  {
   "cell_type": "code",
   "execution_count": 67,
   "metadata": {
    "collapsed": true
   },
   "outputs": [],
   "source": [
    "x = c_int(100)"
   ]
  },
  {
   "cell_type": "code",
   "execution_count": 68,
   "metadata": {
    "collapsed": false
   },
   "outputs": [
    {
     "name": "stdout",
     "output_type": "stream",
     "text": [
      "c_int(100)\n"
     ]
    }
   ],
   "source": [
    "print(x)"
   ]
  },
  {
   "cell_type": "code",
   "execution_count": 69,
   "metadata": {
    "collapsed": false
   },
   "outputs": [
    {
     "data": {
      "text/plain": [
       "int"
      ]
     },
     "execution_count": 69,
     "metadata": {},
     "output_type": "execute_result"
    }
   ],
   "source": [
    "type(x.value)"
   ]
  },
  {
   "cell_type": "code",
   "execution_count": 70,
   "metadata": {
    "collapsed": false
   },
   "outputs": [
    {
     "data": {
      "text/plain": [
       "4"
      ]
     },
     "execution_count": 70,
     "metadata": {},
     "output_type": "execute_result"
    }
   ],
   "source": [
    "sizeof(x)"
   ]
  },
  {
   "cell_type": "code",
   "execution_count": 71,
   "metadata": {
    "collapsed": true
   },
   "outputs": [],
   "source": [
    "y = 100"
   ]
  },
  {
   "cell_type": "code",
   "execution_count": 72,
   "metadata": {
    "collapsed": false
   },
   "outputs": [
    {
     "data": {
      "text/plain": [
       "28"
      ]
     },
     "execution_count": 72,
     "metadata": {},
     "output_type": "execute_result"
    }
   ],
   "source": [
    "import sys\n",
    "sys.getsizeof(y)"
   ]
  },
  {
   "cell_type": "code",
   "execution_count": 73,
   "metadata": {
    "collapsed": false
   },
   "outputs": [
    {
     "data": {
      "text/plain": [
       "136"
      ]
     },
     "execution_count": 73,
     "metadata": {},
     "output_type": "execute_result"
    }
   ],
   "source": [
    "sys.getsizeof(x)"
   ]
  },
  {
   "cell_type": "code",
   "execution_count": 74,
   "metadata": {
    "collapsed": false
   },
   "outputs": [
    {
     "data": {
      "text/plain": [
       "4297151696"
      ]
     },
     "execution_count": 74,
     "metadata": {},
     "output_type": "execute_result"
    }
   ],
   "source": [
    "id(y)"
   ]
  },
  {
   "cell_type": "code",
   "execution_count": 75,
   "metadata": {
    "collapsed": false
   },
   "outputs": [
    {
     "data": {
      "text/plain": [
       "4440780448"
      ]
     },
     "execution_count": 75,
     "metadata": {},
     "output_type": "execute_result"
    }
   ],
   "source": [
    "id(x)"
   ]
  },
  {
   "cell_type": "code",
   "execution_count": 76,
   "metadata": {
    "collapsed": false
   },
   "outputs": [
    {
     "data": {
      "text/plain": [
       "4297151696"
      ]
     },
     "execution_count": 76,
     "metadata": {},
     "output_type": "execute_result"
    }
   ],
   "source": [
    "id(100)"
   ]
  },
  {
   "cell_type": "code",
   "execution_count": 77,
   "metadata": {
    "collapsed": false
   },
   "outputs": [
    {
     "data": {
      "text/plain": [
       "4440683568"
      ]
     },
     "execution_count": 77,
     "metadata": {},
     "output_type": "execute_result"
    }
   ],
   "source": [
    "x = 300\n",
    "id(x)"
   ]
  },
  {
   "cell_type": "code",
   "execution_count": 78,
   "metadata": {
    "collapsed": false
   },
   "outputs": [
    {
     "data": {
      "text/plain": [
       "4440683696"
      ]
     },
     "execution_count": 78,
     "metadata": {},
     "output_type": "execute_result"
    }
   ],
   "source": [
    "id(300)"
   ]
  },
  {
   "cell_type": "code",
   "execution_count": 79,
   "metadata": {
    "collapsed": false
   },
   "outputs": [
    {
     "data": {
      "text/plain": [
       "True"
      ]
     },
     "execution_count": 79,
     "metadata": {},
     "output_type": "execute_result"
    }
   ],
   "source": [
    "1 is 1"
   ]
  },
  {
   "cell_type": "code",
   "execution_count": 80,
   "metadata": {
    "collapsed": false
   },
   "outputs": [
    {
     "data": {
      "text/plain": [
       "True"
      ]
     },
     "execution_count": 80,
     "metadata": {},
     "output_type": "execute_result"
    }
   ],
   "source": [
    "\"dog\" is \"dog\""
   ]
  },
  {
   "cell_type": "code",
   "execution_count": 81,
   "metadata": {
    "collapsed": false
   },
   "outputs": [
    {
     "data": {
      "text/plain": [
       "True"
      ]
     },
     "execution_count": 81,
     "metadata": {},
     "output_type": "execute_result"
    }
   ],
   "source": [
    "\"dog\" == \"dog\""
   ]
  },
  {
   "cell_type": "code",
   "execution_count": 82,
   "metadata": {
    "collapsed": false
   },
   "outputs": [
    {
     "data": {
      "text/plain": [
       "True"
      ]
     },
     "execution_count": 82,
     "metadata": {},
     "output_type": "execute_result"
    }
   ],
   "source": [
    "-5 is -5"
   ]
  },
  {
   "cell_type": "code",
   "execution_count": 85,
   "metadata": {
    "collapsed": false
   },
   "outputs": [
    {
     "name": "stdout",
     "output_type": "stream",
     "text": [
      "False\n"
     ]
    }
   ],
   "source": [
    "x = 10000\n",
    "y = 10000\n",
    "print(x is y)"
   ]
  },
  {
   "cell_type": "code",
   "execution_count": 86,
   "metadata": {
    "collapsed": false
   },
   "outputs": [
    {
     "name": "stdout",
     "output_type": "stream",
     "text": [
      "4440682992 4440683696\n"
     ]
    }
   ],
   "source": [
    "print(id(x), id(y))"
   ]
  },
  {
   "cell_type": "code",
   "execution_count": 87,
   "metadata": {
    "collapsed": false
   },
   "outputs": [
    {
     "name": "stdout",
     "output_type": "stream",
     "text": [
      "4440683696 4440683696\n"
     ]
    }
   ],
   "source": [
    "x = y\n",
    "print(id(x), id(y))"
   ]
  },
  {
   "cell_type": "code",
   "execution_count": 88,
   "metadata": {
    "collapsed": true
   },
   "outputs": [],
   "source": [
    "x = \"dog!\"\n",
    "y = \"dog!\""
   ]
  },
  {
   "cell_type": "code",
   "execution_count": 89,
   "metadata": {
    "collapsed": false
   },
   "outputs": [
    {
     "data": {
      "text/plain": [
       "4297151696"
      ]
     },
     "execution_count": 89,
     "metadata": {},
     "output_type": "execute_result"
    }
   ],
   "source": [
    "id(100)"
   ]
  },
  {
   "cell_type": "code",
   "execution_count": 90,
   "metadata": {
    "collapsed": false
   },
   "outputs": [
    {
     "data": {
      "text/plain": [
       "4297151696"
      ]
     },
     "execution_count": 90,
     "metadata": {},
     "output_type": "execute_result"
    }
   ],
   "source": [
    "id(100)"
   ]
  },
  {
   "cell_type": "code",
   "execution_count": 91,
   "metadata": {
    "collapsed": false
   },
   "outputs": [
    {
     "data": {
      "text/plain": [
       "4440683728"
      ]
     },
     "execution_count": 91,
     "metadata": {},
     "output_type": "execute_result"
    }
   ],
   "source": [
    "id(23452)"
   ]
  },
  {
   "cell_type": "code",
   "execution_count": 92,
   "metadata": {
    "collapsed": false
   },
   "outputs": [
    {
     "data": {
      "text/plain": [
       "4440683568"
      ]
     },
     "execution_count": 92,
     "metadata": {},
     "output_type": "execute_result"
    }
   ],
   "source": [
    "id(23452)"
   ]
  },
  {
   "cell_type": "code",
   "execution_count": 93,
   "metadata": {
    "collapsed": false
   },
   "outputs": [
    {
     "data": {
      "text/plain": [
       "True"
      ]
     },
     "execution_count": 93,
     "metadata": {},
     "output_type": "execute_result"
    }
   ],
   "source": [
    "x = \"dog\"\n",
    "y = \"dog\"\n",
    "x is y"
   ]
  },
  {
   "cell_type": "code",
   "execution_count": 94,
   "metadata": {
    "collapsed": false
   },
   "outputs": [
    {
     "data": {
      "text/plain": [
       "True"
      ]
     },
     "execution_count": 94,
     "metadata": {},
     "output_type": "execute_result"
    }
   ],
   "source": [
    "x = \"dog_\"\n",
    "y = \"dog_\"\n",
    "x is y"
   ]
  },
  {
   "cell_type": "code",
   "execution_count": 95,
   "metadata": {
    "collapsed": false
   },
   "outputs": [
    {
     "name": "stdout",
     "output_type": "stream",
     "text": [
      "Writing test.c\n"
     ]
    }
   ],
   "source": [
    "%%file test.c\n",
    "#include <stdio.h>\n",
    "\n",
    "void myprint(void);\n",
    "\n",
    "void myprint()\n",
    "{\n",
    "    printf(\"hello world\\n\");\n",
    "}"
   ]
  },
  {
   "cell_type": "code",
   "execution_count": 96,
   "metadata": {
    "collapsed": false
   },
   "outputs": [
    {
     "name": "stdout",
     "output_type": "stream",
     "text": [
      "#include <stdio.h>\r\n",
      "\r\n",
      "void myprint(void);\r\n",
      "\r\n",
      "void myprint()\r\n",
      "{\r\n",
      "    printf(\"hello world\\n\");\r\n",
      "}"
     ]
    }
   ],
   "source": [
    "!cat test.c"
   ]
  },
  {
   "cell_type": "code",
   "execution_count": 97,
   "metadata": {
    "collapsed": true
   },
   "outputs": [],
   "source": [
    "# linux\n",
    "#!gcc -shared -Wl,-soname,test -o test.so -fPIC test.c\n",
    "\n",
    "# or... for Mac OS X \n",
    "!gcc -shared -Wl,-install_name,testlib.so -o test.so -fPIC test.c"
   ]
  },
  {
   "cell_type": "code",
   "execution_count": 98,
   "metadata": {
    "collapsed": false
   },
   "outputs": [
    {
     "name": "stdout",
     "output_type": "stream",
     "text": [
      "\u001b[?1h\u001b=\r",
      "total 104\r\n",
      "drwxr-xr-x+ 13 jbloom  staff   442 Dec  2 14:23 .\r\n",
      "-rwxr-xr-x+  1 jbloom  staff  8376 Dec  2 14:23 test.so\r\n",
      "-rw-r--r--+  1 jbloom  staff    88 Dec  2 14:23 test.c\r\n",
      "drwxr-xr-x+  4 jbloom  staff   136 Dec  2 13:43 __pycache__\r\n",
      "-rw-r--r--+  1 jbloom  staff   852 Dec  2 13:41 var.py\r\n",
      "-rw-r--r--+  1 jbloom  staff   431 Dec  2 13:35 sometask.py\r\n",
      "-rw-r--r--+  1 jbloom  staff  7664 Dec  2 13:26 sometask.profile\r\n",
      "-rw-r--r--+  1 jbloom  staff   398 Nov 30 22:26 sometask.py~\r\n",
      "drwxr-xr-x+  9 jbloom  staff   306 Nov 29 18:19 ..\r\n",
      "-rwxr-xr-x+  1 jbloom  staff    80 Apr 10  2014 profile\r\n",
      "-rw-r--r--+  1 jbloom  staff    42 Apr 10  2014 profile.txt\r\n",
      "-rwxr-xr-x+  1 jbloom  staff    78 Apr 10  2014 snake.sh\r\n",
      "-rw-r--r--+  1 jbloom  staff   761 Nov 21  2013 sometask.pyc\r\n",
      "\r",
      "\u001b[K\u001b[?1l\u001b>"
     ]
    }
   ],
   "source": [
    "!ls -lat |more"
   ]
  },
  {
   "cell_type": "code",
   "execution_count": null,
   "metadata": {
    "collapsed": false
   },
   "outputs": [],
   "source": [
    "%%file myctest.py\n",
    "import ctypes\n",
    "myctest = ctypes.CDLL('./test.so')\n",
    "myctest.myprint()"
   ]
  },
  {
   "cell_type": "code",
   "execution_count": 101,
   "metadata": {
    "collapsed": false
   },
   "outputs": [
    {
     "data": {
      "text/plain": [
       "12"
      ]
     },
     "execution_count": 101,
     "metadata": {},
     "output_type": "execute_result"
    }
   ],
   "source": [
    "import ctypes\n",
    "myctest = ctypes.CDLL('./test.so')\n",
    "myctest.myprint()"
   ]
  },
  {
   "cell_type": "code",
   "execution_count": 102,
   "metadata": {
    "collapsed": false
   },
   "outputs": [
    {
     "name": "stdout",
     "output_type": "stream",
     "text": [
      "Writing test1.c\n"
     ]
    }
   ],
   "source": [
    "%%file test1.c\n",
    "int add(int a, int b);\n",
    "\n",
    "int add(int a, int b)\n",
    "{\n",
    "    return(a+b);\n",
    "}"
   ]
  },
  {
   "cell_type": "code",
   "execution_count": 103,
   "metadata": {
    "collapsed": true
   },
   "outputs": [],
   "source": [
    "!gcc -shared -Wl,-install_name,test1lib.so -o test1.so -fPIC test1.c"
   ]
  },
  {
   "cell_type": "code",
   "execution_count": 107,
   "metadata": {
    "collapsed": false
   },
   "outputs": [
    {
     "name": "stdout",
     "output_type": "stream",
     "text": [
      "300\n"
     ]
    }
   ],
   "source": [
    "from ctypes import *\n",
    "\n",
    "# load the shared object\n",
    "libtest = cdll.LoadLibrary('./test1.so')\n",
    "\n",
    "# call the function, yes it is as simple as that!\n",
    "print(libtest.add(100, 200))"
   ]
  },
  {
   "cell_type": "code",
   "execution_count": 110,
   "metadata": {
    "collapsed": false
   },
   "outputs": [
    {
     "name": "stdout",
     "output_type": "stream",
     "text": [
      "The slowest run took 40.77 times longer than the fastest. This could mean that an intermediate result is being cached.\n",
      "1000000 loops, best of 3: 469 ns per loop\n"
     ]
    }
   ],
   "source": [
    "%timeit libtest.add(10,20)"
   ]
  },
  {
   "cell_type": "code",
   "execution_count": 111,
   "metadata": {
    "collapsed": false
   },
   "outputs": [
    {
     "name": "stdout",
     "output_type": "stream",
     "text": [
      "The slowest run took 4.31 times longer than the fastest. This could mean that an intermediate result is being cached.\n",
      "1000000 loops, best of 3: 340 ns per loop\n"
     ]
    }
   ],
   "source": [
    "%timeit sum([10,20])"
   ]
  },
  {
   "cell_type": "code",
   "execution_count": null,
   "metadata": {
    "collapsed": true
   },
   "outputs": [],
   "source": [
    "sum?"
   ]
  },
  {
   "cell_type": "code",
   "execution_count": 112,
   "metadata": {
    "collapsed": false
   },
   "outputs": [
    {
     "name": "stdout",
     "output_type": "stream",
     "text": [
      "100000000 loops, best of 3: 17.7 ns per loop\n"
     ]
    }
   ],
   "source": [
    "%timeit 10 + 20"
   ]
  },
  {
   "cell_type": "markdown",
   "metadata": {},
   "source": [
    "For a whole lot of timing comparisons, see \n",
    "http://nbviewer.ipython.org/url/jakevdp.github.io/downloads/notebooks/NumbaCython.ipynb"
   ]
  },
  {
   "cell_type": "markdown",
   "metadata": {},
   "source": [
    "## f2py \n",
    "\n",
    "<pre>\n",
    "...automatically construct an extension module that interfaces to routines in Fortran 77/90/95 code. It has the ability to parse Fortran 77/90/95 code and automatically generate Python signatures for the subroutines it encounters, or you can guide how the subroutine interfaces with Python by constructing an interface-definition-file (or modifying the f2py-produced one).\n",
    "</pre>\n",
    "\n",
    "It's part of numpy!\n",
    "\n",
    "(http://docs.scipy.org/doc/numpy/user/c-info.python-as-glue.html#f2py)"
   ]
  },
  {
   "cell_type": "code",
   "execution_count": 113,
   "metadata": {
    "collapsed": false
   },
   "outputs": [
    {
     "name": "stdout",
     "output_type": "stream",
     "text": [
      "Writing pairwise_fort.f\n"
     ]
    }
   ],
   "source": [
    "%%file pairwise_fort.f\n",
    "\n",
    "      subroutine pairwise_fort(X,D,m,n)\n",
    "          integer :: n,m\n",
    "          double precision, intent(in) :: X(m,n)\n",
    "          double precision, intent(out) :: D(m,m) \n",
    "          integer :: i,j,k\n",
    "          double precision :: r \n",
    "          do i = 1,m \n",
    "              do j = 1,m \n",
    "                  r = 0\n",
    "                  do k = 1,n \n",
    "                      r = r + (X(i,k) - X(j,k)) * (X(i,k) - X(j,k)) \n",
    "                  end do \n",
    "                  D(i,j) = sqrt(r) \n",
    "              end do \n",
    "          end do \n",
    "      end subroutine pairwise_fort"
   ]
  },
  {
   "cell_type": "code",
   "execution_count": 114,
   "metadata": {
    "collapsed": true
   },
   "outputs": [],
   "source": [
    "!f2py -c pairwise_fort.f -m pairwise_fort > /dev/null"
   ]
  },
  {
   "cell_type": "code",
   "execution_count": 115,
   "metadata": {
    "collapsed": false
   },
   "outputs": [
    {
     "name": "stdout",
     "output_type": "stream",
     "text": [
      "100 loops, best of 3: 10.2 ms per loop\n"
     ]
    }
   ],
   "source": [
    "import numpy as np\n",
    "X = np.random.random((1000, 3))\n",
    "from pairwise_fort import pairwise_fort\n",
    "XF = np.asarray(X, order='F')\n",
    "%timeit pairwise_fort(XF)"
   ]
  },
  {
   "cell_type": "markdown",
   "metadata": {
    "collapsed": false
   },
   "source": []
  },
  {
   "cell_type": "code",
   "execution_count": null,
   "metadata": {
    "collapsed": true
   },
   "outputs": [],
   "source": []
  }
 ],
 "metadata": {
  "kernelspec": {
   "display_name": "Python 3",
   "language": "python",
   "name": "python3"
  },
  "language_info": {
   "codemirror_mode": {
    "name": "ipython",
    "version": 3
   },
   "file_extension": ".py",
   "mimetype": "text/x-python",
   "name": "python",
   "nbconvert_exporter": "python",
   "pygments_lexer": "ipython3",
   "version": "3.5.2"
  }
 },
 "nbformat": 4,
 "nbformat_minor": 0
}
