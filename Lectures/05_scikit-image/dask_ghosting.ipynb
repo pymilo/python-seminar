{
 "cells": [
  {
   "cell_type": "markdown",
   "metadata": {},
   "source": [
    "## This example from https://github.com/dask/dask-examples/blob/master/index.ipynb\n",
    "\n",
    "This is a simple demonstration of image processing using dask arrays with [ghost cells](http://dask.pydata.org/en/latest/array-ghost.html).\n",
    "\n",
    "We apply the Canny edge detection algorithm to our image. Which is suitable for ghosted arrays because it is relatively \"local\", that is each pixel depends on pixel only a small fixed distance away.\n",
    "\n",
    "The algorithm applies a Gaussian filter to the image and then takes the 2D gradient. Points where the gradient is larger than some threshold are \"edges\".\n",
    "\n",
    "So we create a dask array, then use it's `map_overlap` method to apply the edge detection function.\n",
    "\n",
    "For more on image processing with dask:\n",
    "\n",
    "- http://matthewrocklin.com/blog/work/2017/01/17/dask-images\n",
    "- https://dask-image.github.io (new library, still in alpha, subject to change)"
   ]
  },
  {
   "cell_type": "code",
   "execution_count": null,
   "metadata": {
    "scrolled": true
   },
   "outputs": [],
   "source": [
    "import numpy as np\n",
    "from skimage.feature import canny\n",
    "from skimage.color import rgb2gray\n",
    "from skimage.io import imread\n",
    "\n",
    "import dask.array as da\n",
    "from dask.diagnostics import ProgressBar\n",
    "\n",
    "%matplotlib inline\n",
    "import matplotlib.pyplot as plt\n",
    "import matplotlib\n",
    "\n",
    "matplotlib.rcParams['figure.figsize'] = (15, 10)"
   ]
  },
  {
   "cell_type": "code",
   "execution_count": null,
   "metadata": {
    "scrolled": true
   },
   "outputs": [],
   "source": [
    "! wget http://imgsrc.hubblesite.org/hu/db/images/hs-2004-07-a-full_jpg.jpg"
   ]
  },
  {
   "cell_type": "code",
   "execution_count": null,
   "metadata": {
    "scrolled": false
   },
   "outputs": [],
   "source": [
    "file_name = 'hs-2004-07-a-full_jpg.jpg' # hubble ultra deep field\n",
    "color_img = imread(file_name) # ~ 61MB"
   ]
  },
  {
   "cell_type": "code",
   "execution_count": null,
   "metadata": {
    "scrolled": true
   },
   "outputs": [],
   "source": [
    "color_img.shape, color_img.nbytes * 1e-6 # still in memory here"
   ]
  },
  {
   "cell_type": "code",
   "execution_count": null,
   "metadata": {
    "scrolled": false
   },
   "outputs": [],
   "source": [
    "# convert to greyscale\n",
    "img = rgb2gray(color_img)  # this reshapes the array, so it is 2D now.\n",
    "img.shape"
   ]
  },
  {
   "cell_type": "markdown",
   "metadata": {},
   "source": [
    "So we have the image in a numpy array. How does it look? We downsample this x100 so it does not crash the browser."
   ]
  },
  {
   "cell_type": "code",
   "execution_count": null,
   "metadata": {
    "scrolled": false
   },
   "outputs": [],
   "source": [
    "plt.imshow(img[::15, ::15], cmap='gray')"
   ]
  },
  {
   "cell_type": "markdown",
   "metadata": {},
   "source": [
    "So lets create a dask array with this Numpy array."
   ]
  },
  {
   "cell_type": "code",
   "execution_count": null,
   "metadata": {
    "scrolled": true
   },
   "outputs": [],
   "source": [
    "arr = da.from_array(img, chunks=(1000, 1000))\n",
    "arr.nbytes * 1e-6"
   ]
  },
  {
   "cell_type": "code",
   "execution_count": null,
   "metadata": {},
   "outputs": [],
   "source": [
    "arr"
   ]
  },
  {
   "cell_type": "markdown",
   "metadata": {},
   "source": [
    "We wrap the scikit image canny function so we can pass it to dask array."
   ]
  },
  {
   "cell_type": "code",
   "execution_count": null,
   "metadata": {
    "scrolled": true
   },
   "outputs": [],
   "source": [
    "def func(block):\n",
    "    return canny(block, sigma=1.2)"
   ]
  },
  {
   "cell_type": "markdown",
   "metadata": {},
   "source": [
    "Now we can add the padding. We choose 10 pixels. And the external boundary to be periodic."
   ]
  },
  {
   "cell_type": "code",
   "execution_count": null,
   "metadata": {
    "scrolled": true
   },
   "outputs": [],
   "source": [
    "padding = {0: 10, 1:10}\n",
    "boundary = {0: 'periodic', 1:'periodic'}\n",
    "canny_array = arr.map_overlap(func, depth=padding, boundary='periodic')"
   ]
  },
  {
   "cell_type": "code",
   "execution_count": null,
   "metadata": {
    "scrolled": true
   },
   "outputs": [],
   "source": [
    "with ProgressBar():\n",
    "    out = canny_array[4600:5400, 2400:3200].compute()"
   ]
  },
  {
   "cell_type": "markdown",
   "metadata": {},
   "source": [
    "We lets zoom in on an interesting section of this image. Loading the whole thing might crash the browser."
   ]
  },
  {
   "cell_type": "code",
   "execution_count": null,
   "metadata": {},
   "outputs": [],
   "source": [
    "f, (ax0, ax1) = plt.subplots(1, 2, figsize=(10, 10))\n",
    "ax0.imshow(color_img[4600:5400, 2400:3200, :])\n",
    "ax1.imshow(out, cmap='gray');"
   ]
  },
  {
   "cell_type": "markdown",
   "metadata": {},
   "source": [
    "If you need to compute the edges of the entire image, then skimage provides the shorthand `apply_parallel` function:"
   ]
  },
  {
   "cell_type": "code",
   "execution_count": null,
   "metadata": {},
   "outputs": [],
   "source": [
    "from skimage import util"
   ]
  },
  {
   "cell_type": "code",
   "execution_count": null,
   "metadata": {},
   "outputs": [],
   "source": [
    "edges = util.apply_parallel(func, img)\n",
    "plt.imshow(edges[4600:5400, 2400:3200], cmap='gray')"
   ]
  }
 ],
 "metadata": {
  "kernelspec": {
   "display_name": "Python 3",
   "language": "python",
   "name": "python3"
  },
  "language_info": {
   "codemirror_mode": {
    "name": "ipython",
    "version": 3
   },
   "file_extension": ".py",
   "mimetype": "text/x-python",
   "name": "python",
   "nbconvert_exporter": "python",
   "pygments_lexer": "ipython3",
   "version": "3.6.3"
  }
 },
 "nbformat": 4,
 "nbformat_minor": 1
}
