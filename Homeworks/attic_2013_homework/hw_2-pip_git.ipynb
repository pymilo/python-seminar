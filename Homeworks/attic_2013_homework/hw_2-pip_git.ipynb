{
 "cells": [
  {
   "cell_type": "markdown",
   "metadata": {},
   "source": [
    "### Due Wednesday, September 18th, 5:00pm, through an online git repository (see below) ###\n",
    "\n",
    "\n",
    "1) Get an account on GitHub or BitBucket (or some other equivalent service) and use Git to track your code, and push to this repository.\n",
    "\n",
    " - get a ‘private’ repository if you’d like, to keep the internet from sniffing you out \n",
    "       (free GitHub micro accounts are available for students with a .edu account, otherwise privacy costs $$. BitBucket, however, allows private repos for all free users.  Both allow public repos for free. )\n",
    "\n",
    " - if you have a private repo, find Adam and Josh on GitHub or BitBucket, and share your repo with them (account: qmorgan, profjsb)\n",
    "\n",
    " - while writing your solution, **make at least 5 separate commits** with real comments (we will check history)\n",
    "\n",
    " - push your final version before 5:00pm Wednesday, and send `ucbpythonclass+seminar@gmail.com` an email explaining exactly how to clone it\n",
    "\n",
    " - from here on out, log your homework in the same Git repo, and we will run a script that pulls the repository every Wednesday at 5:00.  This is how your future homeworks will be submitted!"
   ]
  },
  {
   "cell_type": "markdown",
   "metadata": {},
   "source": [
    "2) Write a module called ‘CalCalc’, with a method called ‘calculate’ that evaluates any string passed to it, and can be used from either the command line (using argparse with reasonable flags) or imported within Python. Feel free to use something like eval(), but be aware of some of the nasty things it can do, and make sure it doesn’t have too much power:  http://nedbatchelder.com/blog/201206/eval_really_is_dangerous.html\n",
    "\n",
    "EXAMPLE:\n",
    "```bash\n",
    "$ python CalCalc.py -s '34*28'\n",
    "$ 952\n",
    "```\n",
    " AND, from within Python\n",
    " \n",
    "```python\n",
    ">>> from CalCalc import calculate\n",
    ">>> calculate('34*20')\n",
    ">>> 952\n",
    "```\n",
    "2a) To make this more awesome, have your function interact with the Wolfram|Alpha API to ask it what it thinks of the difficult questions.  To make this work, experiment with urllib2 and a URL like this:\n",
    "'http://api.wolframalpha.com/v2/query?input=XXXXX&appid=UAGAWR-3X6Y8W777Q'\n",
    "where you replace the XXXXX with what you want to know.  NOTE: the ‘&appid=UAGAWR-3X6Y8W777Q’ part is vital; it is a W|A AppID I got for the class.  Feel free to use that one, or you can get your own and read more about the API, here:   http://products.wolframalpha.com/api/\n",
    "And you can explore how it works here:  http://products.wolframalpha.com/api/explorer.html\n",
    "\n",
    "EXAMPLE:\n",
    "```bash\n",
    "$ python CalCalc.py 'mass of the moon in kg'\n",
    "$  7.3459e+22\n",
    "```\n",
    "AND, from within Python\n",
    "```python\n",
    ">>> from CalCalc import calculate\n",
    ">>> calculate('mass of the moon in kg',  return_float=True) * 10\n",
    ">>> 7.3459e+23\n",
    "```"
   ]
  },
  {
   "cell_type": "markdown",
   "metadata": {},
   "source": [
    "3) Include a setup.py and turn your module into a proper Python Distribution, so that we can install it and use it.  (Test yourself, by creating a virtualenv and seeing if you can install and use it!)\n",
    "\n",
    "Example Folder Hierarchy:\n",
    "```bash\n",
    "Your_Homework1_Folder/CalCalc.py\n",
    "Your_Homework1_Folder/setup.py\n",
    "Your_Homework1_Folder/README.txt\n",
    "```\n",
    "Include at least 5 test functions in CalCalc.py, and test with nosetest, to make sure it behaves the way you think it should.\n",
    "\n",
    "EXAMPLE CalCalc.py:\n",
    "```python\n",
    "# ...\n",
    "def calculate([...]):\n",
    "    [...]\n",
    "\n",
    "def test_1():\n",
    "    assert abs(4. - calculate(‘2**2’)) < .001\n",
    "```\n",
    "\n",
    "When grading, we will create a virtual environment and attempt to install your module by running:\n",
    "\n",
    "```bash\n",
    "python setup.py install\n",
    "```\n",
    "\n",
    "And then we will test it using nosetest, and we will attempt to run it from the command line, and by importing it in Python.  Explain everything in your README.txt\n",
    "\n",
    "You will be graded on: Git usage, nosetest, packaging your code, and your code itself"
   ]
  },
  {
   "cell_type": "markdown",
   "metadata": {},
   "source": [
    "SOME SUGGESTIONS:\n",
    "\n",
    "\n",
    "1)  use  `if __name__ == '__main__':`\n",
    "\n",
    "    http://docs.python.org/tutorial/modules.html\n",
    "\n",
    "2)  regular expressions, though annoying at first, can be very powerful when parsing text:\n",
    "\n",
    "    http://docs.python.org/library/re.html\n",
    "\n",
    "3)  Though git is confusing at first, the effort is worth it.  Read more about git online, and learn how to manage your programming workflow:\n",
    "\n",
    "    http://www-cs-students.stanford.edu/~blynn/gitmagic/"
   ]
  },
  {
   "cell_type": "code",
   "execution_count": null,
   "metadata": {
    "collapsed": false
   },
   "outputs": [],
   "source": []
  }
 ],
 "metadata": {
  "kernelspec": {
   "display_name": "Python 3",
   "language": "python",
   "name": "python3"
  },
  "language_info": {
   "codemirror_mode": {
    "name": "ipython",
    "version": 3
   },
   "file_extension": ".py",
   "mimetype": "text/x-python",
   "name": "python",
   "nbconvert_exporter": "python",
   "pygments_lexer": "ipython3",
   "version": "3.5.2"
  }
 },
 "nbformat": 4,
 "nbformat_minor": 0
}
