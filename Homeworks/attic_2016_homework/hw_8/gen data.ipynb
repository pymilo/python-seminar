{
 "cells": [
  {
   "cell_type": "code",
   "execution_count": 1,
   "metadata": {
    "collapsed": true
   },
   "outputs": [],
   "source": [
    "import numpy as np"
   ]
  },
  {
   "cell_type": "code",
   "execution_count": 2,
   "metadata": {
    "collapsed": true
   },
   "outputs": [],
   "source": [
    "num_objects = 2"
   ]
  },
  {
   "cell_type": "code",
   "execution_count": 90,
   "metadata": {
    "collapsed": true
   },
   "outputs": [],
   "source": [
    "true_motion_parameters = [{\"loc_0\": (1.3, 1.0), \"vel\": (0.1,-0.8)},\n",
    "                          {\"loc_0\": (1.1, -1.3), \"vel\": (0.1,0.8)}]"
   ]
  },
  {
   "cell_type": "code",
   "execution_count": 91,
   "metadata": {
    "collapsed": true
   },
   "outputs": [],
   "source": [
    "observed_parameters = [{\"color\": \"red\", \"err\": 0.025},\n",
    "                       {\"color\": \"blue\", \"err\": 0.050}]\n",
    "n_obs = 500"
   ]
  },
  {
   "cell_type": "code",
   "execution_count": 92,
   "metadata": {
    "collapsed": true
   },
   "outputs": [],
   "source": [
    "%matplotlib inline\n",
    "import matplotlib.pyplot as plt"
   ]
  },
  {
   "cell_type": "code",
   "execution_count": 93,
   "metadata": {
    "collapsed": false
   },
   "outputs": [
    {
     "data": {
      "text/plain": [
       "array([  1.47149488,   3.47454651,   6.49998095,   8.51469084,\n",
       "        12.61412876,  14.23030525,  17.37624489,  22.71162391,\n",
       "        24.06702016,  27.11974962])"
      ]
     },
     "execution_count": 93,
     "metadata": {},
     "output_type": "execute_result"
    }
   ],
   "source": [
    "np.random.seed(42)\n",
    "s = np.random.standard_cauchy(n_obs) + np.random.normal(scale=0.05,size=n_obs)\n",
    "s = (s[(s>0) & (s<50)] + 1)\n",
    "delta_time = s\n",
    "times = delta_time.cumsum()\n",
    "times[:10]"
   ]
  },
  {
   "cell_type": "code",
   "execution_count": 94,
   "metadata": {
    "collapsed": false
   },
   "outputs": [],
   "source": [
    "true_positions = []\n",
    "obs_positions = []\n",
    "for obj, obs in zip(true_motion_parameters,observed_parameters):\n",
    "    x = times*obj[\"vel\"][0]/365.25 + obj[\"loc_0\"][0]\n",
    "    y = times*obj[\"vel\"][1]/365.25 + obj[\"loc_0\"][1]\n",
    "    true_positions.append((x,y))\n",
    "    obs_positions.append((x + np.random.normal(scale=obs[\"err\"],size=len(times)),y + np.random.normal(scale=obs[\"err\"],size=len(times))))"
   ]
  },
  {
   "cell_type": "code",
   "execution_count": 95,
   "metadata": {
    "collapsed": false
   },
   "outputs": [
    {
     "data": {
      "text/plain": [
       "<matplotlib.text.Text at 0x10ac0b710>"
      ]
     },
     "execution_count": 95,
     "metadata": {},
     "output_type": "execute_result"
    },
    {
     "data": {
      "image/png": "[encoded data removed]",
      "text/plain": [
       "<matplotlib.figure.Figure at 0x10acd6d68>"
      ]
     },
     "metadata": {},
     "output_type": "display_data"
    }
   ],
   "source": [
    "plt.scatter(obs_positions[0][0], obs_positions[0][1],c=observed_parameters[0][\"color\"])\n",
    "plt.scatter(obs_positions[1][0], obs_positions[1][1],c=observed_parameters[1][\"color\"])\n",
    "plt.xlabel(\"X position\")\n",
    "plt.ylabel(\"y position\")"
   ]
  },
  {
   "cell_type": "code",
   "execution_count": 97,
   "metadata": {
    "collapsed": false
   },
   "outputs": [],
   "source": [
    "import pandas as pd"
   ]
  },
  {
   "cell_type": "code",
   "execution_count": 105,
   "metadata": {
    "collapsed": true
   },
   "outputs": [],
   "source": [
    "df = pd.DataFrame()"
   ]
  },
  {
   "cell_type": "code",
   "execution_count": 113,
   "metadata": {
    "collapsed": false
   },
   "outputs": [],
   "source": [
    "df[\"red_pos_X\"] = obs_positions[0][0]\n",
    "df[\"red_pos_Y\"] = obs_positions[0][1]\n",
    "df[\"blue_pos_X\"] = obs_positions[1][0]\n",
    "df[\"blue_pos_Y\"] = obs_positions[1][1]\n",
    "df[\"t\"] = times\n",
    "df = df.set_index(\"t\")"
   ]
  },
  {
   "cell_type": "code",
   "execution_count": 114,
   "metadata": {
    "collapsed": false
   },
   "outputs": [],
   "source": [
    "df.to_csv(\"location_data_hw8.csv\",index_label=\"t\")"
   ]
  },
  {
   "cell_type": "code",
   "execution_count": 115,
   "metadata": {
    "collapsed": false
   },
   "outputs": [
    {
     "name": "stdout",
     "output_type": "stream",
     "text": [
      "t,red_pos_X,red_pos_Y,blue_pos_X,blue_pos_Y\r\n",
      "1.4714948760493265,1.3198619002446312,1.0205347030756173,1.156608509339766,-1.3202791206642532\r\n",
      "3.474546514932861,1.2871716360828702,1.0351551023858794,1.1483276020972264,-1.2790958565887287\r\n",
      "6.4999809511411915,1.281324625710785,0.9831519871658227,1.0631357144051623,-1.3075992044312892\r\n",
      "8.514690837655818,1.3022468338659323,0.9771298945105997,1.122683809657433,-1.2846570683216414\r\n",
      "12.614128760485363,1.299198944672465,0.9741228221931251,1.054870723508524,-1.1673854286569698\r\n",
      "14.230305253671522,1.2925653440108078,0.9978785956132891,1.034915137004543,-1.2811829230853842\r\n",
      "17.37624489044795,1.3221670427614893,0.9387573190446651,1.0734214953455732,-1.2798581550004906\r\n",
      "22.711623910316302,1.3301007339542537,0.9562143946484434,1.149337777359129,-1.2826322603618319\r\n",
      "24.06702015549202,1.3087993631649602,0.9716664126832504,1.1542454432764684,-1.2100768733636929\r\n"
     ]
    }
   ],
   "source": [
    "!head location_data_hw8.csv"
   ]
  },
  {
   "cell_type": "code",
   "execution_count": null,
   "metadata": {
    "collapsed": true
   },
   "outputs": [],
   "source": []
  }
 ],
 "metadata": {
  "kernelspec": {
   "display_name": "Python 3",
   "language": "python",
   "name": "python3"
  },
  "language_info": {
   "codemirror_mode": {
    "name": "ipython",
    "version": 3
   },
   "file_extension": ".py",
   "mimetype": "text/x-python",
   "name": "python",
   "nbconvert_exporter": "python",
   "pygments_lexer": "ipython3",
   "version": "3.5.2"
  }
 },
 "nbformat": 4,
 "nbformat_minor": 0
}
